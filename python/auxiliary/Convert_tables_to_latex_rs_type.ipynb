{
 "metadata": {
  "language_info": {
   "codemirror_mode": {
    "name": "ipython",
    "version": 3
   },
   "file_extension": ".py",
   "mimetype": "text/x-python",
   "name": "python",
   "nbconvert_exporter": "python",
   "pygments_lexer": "ipython3",
   "version": "3.6.3"
  },
  "orig_nbformat": 2,
  "kernelspec": {
   "name": "python363jvsc74a57bd005ece30799c2dcdac4c13b3af20453da19de8df0d9a1de52cff7e0b6e1e82bdd",
   "display_name": "Python 3.6.3 64-bit"
  }
 },
 "nbformat": 4,
 "nbformat_minor": 2,
 "cells": [
  {
   "cell_type": "code",
   "execution_count": 2,
   "metadata": {},
   "outputs": [],
   "source": [
    "import os\n",
    "import sys\n",
    "nb_dir = os.path.split(os.getcwd())[0]\n",
    "if nb_dir not in sys.path:\n",
    "    sys.path.append(nb_dir)\n",
    "\n",
    "import pandas as pd\n",
    "import util.utilities as util\n",
    "from collections import Counter"
   ]
  },
  {
   "cell_type": "code",
   "execution_count": 3,
   "metadata": {},
   "outputs": [
    {
     "output_type": "stream",
     "name": "stdout",
     "text": [
      "Arquivo ../../latex/mytable_q7_distribution.tex  gerado com sucesso!\n",
      "/Library/Frameworks/Python.framework/Versions/3.6/lib/python3.6/site-packages/pandas/core/indexing.py:190: SettingWithCopyWarning: \n",
      "A value is trying to be set on a copy of a slice from a DataFrame\n",
      "\n",
      "See the caveats in the documentation: http://pandas.pydata.org/pandas-docs/stable/indexing.html#indexing-view-versus-copy\n",
      "  self._setitem_with_indexer(indexer, value)\n"
     ]
    },
    {
     "output_type": "execute_result",
     "data": {
      "text/plain": [
       "               q7  count  \\\n",
       "0  Research Type   57      \n",
       "1  No              0       \n",
       "2  Not applicable  0       \n",
       "\n",
       "                                                                                                                                                                                                                                                                                                                                              sp  \n",
       "0  [SP1, SP2, SP3, SP4, SP5, SP6, SP7, SP8, SP9, SP10, SP11, SP12, SP13, SP14, SP15, SP16, SP17, SP18, SP19, SP20, SP21, SP22, SP23, SP24, SP25, SP26, SP27, SP28, SP29, SP30, SP31, SP32, SP33, SP34, SP35, SP36, SP37, SP38, SP39, SP40, SP41, SP42, SP43, SP44, SP45, SP46, SP47, SP48, SP49, SP50, SP51, SP52, SP53, SP54, SP55, SP56, SP57]  \n",
       "1  []                                                                                                                                                                                                                                                                                                                                             \n",
       "2  []                                                                                                                                                                                                                                                                                                                                             "
      ],
      "text/html": "<div>\n<style scoped>\n    .dataframe tbody tr th:only-of-type {\n        vertical-align: middle;\n    }\n\n    .dataframe tbody tr th {\n        vertical-align: top;\n    }\n\n    .dataframe thead th {\n        text-align: right;\n    }\n</style>\n<table border=\"1\" class=\"dataframe\">\n  <thead>\n    <tr style=\"text-align: right;\">\n      <th></th>\n      <th>q7</th>\n      <th>count</th>\n      <th>sp</th>\n    </tr>\n  </thead>\n  <tbody>\n    <tr>\n      <th>0</th>\n      <td>Research Type</td>\n      <td>57</td>\n      <td>[SP1, SP2, SP3, SP4, SP5, SP6, SP7, SP8, SP9, SP10, SP11, SP12, SP13, SP14, SP15, SP16, SP17, SP18, SP19, SP20, SP21, SP22, SP23, SP24, SP25, SP26, SP27, SP28, SP29, SP30, SP31, SP32, SP33, SP34, SP35, SP36, SP37, SP38, SP39, SP40, SP41, SP42, SP43, SP44, SP45, SP46, SP47, SP48, SP49, SP50, SP51, SP52, SP53, SP54, SP55, SP56, SP57]</td>\n    </tr>\n    <tr>\n      <th>1</th>\n      <td>No</td>\n      <td>0</td>\n      <td>[]</td>\n    </tr>\n    <tr>\n      <th>2</th>\n      <td>Not applicable</td>\n      <td>0</td>\n      <td>[]</td>\n    </tr>\n  </tbody>\n</table>\n</div>"
     },
     "metadata": {},
     "execution_count": 3
    }
   ],
   "source": [
    "df_sms_extraction = util.load_dataset(my_path='../../dataset/Extraction_form_basic.xlsx')\n",
    "df_sms_extraction = util.add_column_sp(df_sms_extraction)\n",
    "\n",
    "\n",
    "# Q7 - Research type\n",
    "\n",
    "## Papers grouped by Research Type\n",
    "\n",
    "dict_q7 = {}\n",
    "for item in zip( list(df_sms_extraction['Paper Id']), list(df_sms_extraction['Q7 Research Type (Evaluation Research, Validation Research, Solution Proposal, Philosophycal paper, Other)']) ):\n",
    "    id = item[0]\n",
    "    if (item[1] != ''):\n",
    "        q7 = str(item[1])\n",
    "        q7 = ' '.join(q7.split())\n",
    "        dict_q7[id] = q7.lower()\n",
    "\n",
    "pd.set_option('display.max_colwidth', -1)        \n",
    "\n",
    "df_distribution_q7 = util.view_question_distribution(my_dict=dict_q7, my_list=['Research Type', 'No', 'Not applicable'], my_question='q7')\n",
    "df_distribution_q7['sp'] = None\n",
    "\n",
    "df_distribution_q7 = util.view_question_distribution_update_sp(my_df_distribution=df_distribution_q7, my_df_data=df_sms_extraction, my_feature='Q7 Research Type (Evaluation Research, Validation Research, Solution Proposal, Philosophycal paper, Other)')\n",
    "\n",
    "util.create_latex_table(my_df=df_distribution_q7, my_path='../../latex', my_file_name='mytable_q7_distribution.tex')\n",
    "\n",
    "df_distribution_q7"
   ]
  },
  {
   "cell_type": "code",
   "execution_count": 4,
   "metadata": {},
   "outputs": [
    {
     "output_type": "execute_result",
     "data": {
      "text/plain": [
       "[('Validation Research', 22),\n",
       " ('Evaluation research', 21),\n",
       " ('Solution proposal', 10),\n",
       " ('Philosophycal paper', 4)]"
      ]
     },
     "metadata": {},
     "execution_count": 4
    }
   ],
   "source": [
    "list_of_q7 = []\n",
    "for item in list(df_sms_extraction['Q7 Research Type (Evaluation Research, Validation Research, Solution Proposal, Philosophycal paper, Other)']): \n",
    "    item = str(item)\n",
    "    item = ' '.join(item.split())\n",
    "    list_of_q7.append(item)\n",
    "list_of_q7.sort()\n",
    "\n",
    "list_of_most_common_q7 = Counter(list_of_q7).most_common()\n",
    "list_of_most_common_q7"
   ]
  },
  {
   "cell_type": "code",
   "execution_count": 7,
   "metadata": {},
   "outputs": [
    {
     "output_type": "stream",
     "name": "stdout",
     "text": [
      "Arquivo ../../latex/mytable_q7_distribution_detailed.tex  gerado com sucesso!\nArquivo ../../md/mytable_q7_distribution_detailed.md  gerado com sucesso!\n"
     ]
    },
    {
     "output_type": "execute_result",
     "data": {
      "text/plain": [
       "              research  count  \\\n",
       "0  Validation Research  22      \n",
       "1  Evaluation research  21      \n",
       "2  Solution proposal    10      \n",
       "3  Philosophycal paper  4       \n",
       "\n",
       "                                                                                                                           sp  \n",
       "0  [SP3, SP6, SP7, SP9, SP13, SP18, SP21, SP24, SP28, SP29, SP30, SP32, SP35, SP37, SP43, SP44, SP48, SP49, SP53, SP56, SP57]  \n",
       "1  [SP1, SP2, SP4, SP5, SP8, SP12, SP14, SP15, SP16, SP17, SP19, SP20, SP22, SP25, SP27, SP33, SP34, SP36, SP40, SP42, SP46]   \n",
       "2  [SP10, SP11, SP23, SP31, SP39, SP41, SP51, SP52, SP54, SP55]                                                                \n",
       "3  [SP26, SP45, SP47, SP50]                                                                                                    "
      ],
      "text/html": "<div>\n<style scoped>\n    .dataframe tbody tr th:only-of-type {\n        vertical-align: middle;\n    }\n\n    .dataframe tbody tr th {\n        vertical-align: top;\n    }\n\n    .dataframe thead th {\n        text-align: right;\n    }\n</style>\n<table border=\"1\" class=\"dataframe\">\n  <thead>\n    <tr style=\"text-align: right;\">\n      <th></th>\n      <th>research</th>\n      <th>count</th>\n      <th>sp</th>\n    </tr>\n  </thead>\n  <tbody>\n    <tr>\n      <th>0</th>\n      <td>Validation Research</td>\n      <td>22</td>\n      <td>[SP3, SP6, SP7, SP9, SP13, SP18, SP21, SP24, SP28, SP29, SP30, SP32, SP35, SP37, SP43, SP44, SP48, SP49, SP53, SP56, SP57]</td>\n    </tr>\n    <tr>\n      <th>1</th>\n      <td>Evaluation research</td>\n      <td>21</td>\n      <td>[SP1, SP2, SP4, SP5, SP8, SP12, SP14, SP15, SP16, SP17, SP19, SP20, SP22, SP25, SP27, SP33, SP34, SP36, SP40, SP42, SP46]</td>\n    </tr>\n    <tr>\n      <th>2</th>\n      <td>Solution proposal</td>\n      <td>10</td>\n      <td>[SP10, SP11, SP23, SP31, SP39, SP41, SP51, SP52, SP54, SP55]</td>\n    </tr>\n    <tr>\n      <th>3</th>\n      <td>Philosophycal paper</td>\n      <td>4</td>\n      <td>[SP26, SP45, SP47, SP50]</td>\n    </tr>\n  </tbody>\n</table>\n</div>"
     },
     "metadata": {},
     "execution_count": 7
    }
   ],
   "source": [
    "## Papers grouped by Kind of Research Type\n",
    "\n",
    "rs = []\n",
    "count_rs = []\n",
    "for each in list_of_most_common_q7: \n",
    "    rs.append(each[0])\n",
    "    count_rs.append(each[1])\n",
    "my_rs = {'research': rs, 'count':count_rs}\n",
    "my_rs\n",
    "\n",
    "my_rs_id = list(range(1,len(list_of_most_common_q7)+1))\n",
    "my_rs_id\n",
    "\n",
    "df_my_rs = pd.DataFrame(data=my_rs, index=my_rs_id)\n",
    "df_my_rs.reset_index(drop=True, inplace=True)\n",
    "df_my_rs\n",
    "\n",
    "df_my_rs['sp'] = None\n",
    "\n",
    "# Add new column with Selected Papers according grouped Venue\n",
    "i = 0\n",
    "for each in df_my_rs['research']:\n",
    "    list_sp_novo = []\n",
    "    j = 0\n",
    "    for item in df_sms_extraction['Q7 Research Type (Evaluation Research, Validation Research, Solution Proposal, Philosophycal paper, Other)']:\n",
    "        if str(each).lower() == str(item).lower(): \n",
    "            list_sp_novo.append(df_sms_extraction['sp'].iloc[j])\n",
    "        j = j + 1\n",
    "    df_my_rs['sp'].iloc[i] = list_sp_novo\n",
    "    i = i + 1\n",
    "\n",
    "df_distribution_detailed_q7 = df_my_rs\n",
    "util.create_latex_table(my_df=df_distribution_detailed_q7, my_path='../../latex', my_file_name='mytable_q7_distribution_detailed.tex')\n",
    "util.create_markdown_table(my_df=df_distribution_detailed_q7, my_path='../../md', my_file_name='mytable_q7_distribution_detailed.md')\n",
    "df_distribution_detailed_q7"
   ]
  },
  {
   "cell_type": "code",
   "execution_count": 8,
   "metadata": {},
   "outputs": [
    {
     "output_type": "stream",
     "name": "stdout",
     "text": [
      "Validation Research 22 0.386\nEvaluation research 21 0.368\nSolution proposal 10 0.175\nPhilosophycal paper 4 0.07\n"
     ]
    }
   ],
   "source": [
    "for each in df_distribution_detailed_q7.values:\n",
    "    print(each[0], each[1], round(each[1]/57, 3))"
   ]
  }
 ]
}