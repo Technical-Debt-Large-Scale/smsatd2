{
 "metadata": {
  "language_info": {
   "codemirror_mode": {
    "name": "ipython",
    "version": 3
   },
   "file_extension": ".py",
   "mimetype": "text/x-python",
   "name": "python",
   "nbconvert_exporter": "python",
   "pygments_lexer": "ipython3",
   "version": "3.6.3"
  },
  "orig_nbformat": 2,
  "kernelspec": {
   "name": "python3",
   "display_name": "Python 3.6.3 64-bit"
  },
  "interpreter": {
   "hash": "58bc13ec4dd135858b8220102d0ad3358f57eb64d131366ec25c4d4365eacf63"
  }
 },
 "nbformat": 4,
 "nbformat_minor": 2,
 "cells": [
  {
   "cell_type": "code",
   "execution_count": 1,
   "metadata": {},
   "outputs": [],
   "source": [
    "import os\n",
    "import sys\n",
    "nb_dir = os.path.split(os.getcwd())[0]\n",
    "if nb_dir not in sys.path:\n",
    "    sys.path.append(nb_dir)\n",
    "\n",
    "import pandas as pd\n",
    "import util.utilities as util\n",
    "from collections import Counter"
   ]
  },
  {
   "cell_type": "code",
   "execution_count": 2,
   "metadata": {},
   "outputs": [
    {
     "output_type": "stream",
     "name": "stderr",
     "text": [
      "/Library/Frameworks/Python.framework/Versions/3.6/lib/python3.6/site-packages/pandas/core/indexing.py:190: SettingWithCopyWarning: \n",
      "A value is trying to be set on a copy of a slice from a DataFrame\n",
      "\n",
      "See the caveats in the documentation: http://pandas.pydata.org/pandas-docs/stable/indexing.html#indexing-view-versus-copy\n",
      "  self._setitem_with_indexer(indexer, value)\n",
      "Arquivo ../../latex/mytable_venues.tex  gerado com sucesso!\n",
      "Arquivo ../../md/mytable_venues.md  gerado com sucesso!\n"
     ]
    },
    {
     "output_type": "execute_result",
     "data": {
      "text/plain": [
       "                                                                                               venue  \\\n",
       "0                             Euromicro Conference on Software Engineering and Advanced Applications   \n",
       "1                                              International Conference on Technical Debt (TechDebt)   \n",
       "2                                                       European Conference on Software Architecture   \n",
       "3                                                   International Conference on Software Engineering   \n",
       "4                                            International Workshop on Managing Technical Debt (MTD)   \n",
       "5                             International Conference on Software Maintenance and Evolution (ICSME)   \n",
       "6                                                         Journal of Software: Evolution and Process   \n",
       "7                                                       Asia Pacific Software Engineering Conference   \n",
       "8                                                                 Conference on Software Achitecture   \n",
       "9               Conference on Software Architecture and European Conference on Software Architecture   \n",
       "10                                                           EE Transactions on Software Engineering   \n",
       "11                                                                    Empirical Software Engineering   \n",
       "12                                                                                     IEEE Software   \n",
       "13                                                       Information and Software Technology Journal   \n",
       "14                                            International Conference on Agile Software Development   \n",
       "15                                  International Conference on Automated Software Engineering (ASE)   \n",
       "16  International Conference on Evaluation and Modeling Methods for Systems Analysis and Development   \n",
       "17                               International Conference on Mobile Software Engineering and Systems   \n",
       "18                        International Conference on Software Analysis, Evolution and Reengineering   \n",
       "19                International Conference on Software Analysis, Evolution and Reengineering (SANER)   \n",
       "20                              International Conference on Software Architecture Companion (ICSA-C)   \n",
       "21                               International Conference on Software Architecture Workshops (ICSAW)   \n",
       "22                                        International Conference on Software Engineering Companion   \n",
       "23                International Conference on Software Engineering: Software Engineering in Practice   \n",
       "24                                    International Conference on Software Maintenance and Evolution   \n",
       "25                                           International Conference on Software and System Process   \n",
       "26                                   International Conference on Systems, Man, and Cybernetics (SMC)   \n",
       "27                         International Symposium on Empirical Software Engineering and Measurement   \n",
       "28                                  International Workshop on Bringing Architectural Design Thinking   \n",
       "29                                                        Jornal Information and Software Technology   \n",
       "30                                                                   Journal of Systems and Software   \n",
       "31                                                            Pan-Hellenic Conference on Informatics   \n",
       "32                                                                          Software Quality Journal   \n",
       "33                                                                         Springer Nature Singapore   \n",
       "34                                                                    Symposium on Applied Computing   \n",
       "35                                                      TRANSACTIONS ON COMPUTATIONAL SOCIAL SYSTEMS   \n",
       "36                         international ACM Sigsoft conference on Quality of software architectures   \n",
       "\n",
       "    count                                         sp  \n",
       "0       7   [SP3, SP4, SP15, SP16, SP20, SP24, SP50]  \n",
       "1       7  [SP1, SP11, SP23, SP31, SP42, SP44, SP48]  \n",
       "2       3                         [SP17, SP29, SP47]  \n",
       "3       3                          [SP9, SP19, SP37]  \n",
       "4       3                         [SP25, SP26, SP33]  \n",
       "5       2                               [SP28, SP38]  \n",
       "6       2                               [SP12, SP55]  \n",
       "7       1                                     [SP34]  \n",
       "8       1                                     [SP14]  \n",
       "9       1                                     [SP22]  \n",
       "10      1                                     [SP30]  \n",
       "11      1                                     [SP57]  \n",
       "12      1                                     [SP40]  \n",
       "13      1                                     [SP36]  \n",
       "14      1                                     [SP53]  \n",
       "15      1                                      [SP6]  \n",
       "16      1                                     [SP54]  \n",
       "17      1                                     [SP10]  \n",
       "18      1                                     [SP43]  \n",
       "19      1                                     [SP52]  \n",
       "20      1                                     [SP21]  \n",
       "21      1                                     [SP45]  \n",
       "22      1                                      [SP8]  \n",
       "23      1                                      [SP5]  \n",
       "24      1                                     [SP32]  \n",
       "25      1                                     [SP35]  \n",
       "26      1                                     [SP39]  \n",
       "27      1                                     [SP49]  \n",
       "28      1                                     [SP18]  \n",
       "29      1                                      [SP2]  \n",
       "30      1                                     [SP27]  \n",
       "31      1                                     [SP51]  \n",
       "32      1                                     [SP56]  \n",
       "33      1                                     [SP41]  \n",
       "34      1                                     [SP13]  \n",
       "35      1                                     [SP46]  \n",
       "36      1                                      [SP7]  "
      ],
      "text/html": "<div>\n<style scoped>\n    .dataframe tbody tr th:only-of-type {\n        vertical-align: middle;\n    }\n\n    .dataframe tbody tr th {\n        vertical-align: top;\n    }\n\n    .dataframe thead th {\n        text-align: right;\n    }\n</style>\n<table border=\"1\" class=\"dataframe\">\n  <thead>\n    <tr style=\"text-align: right;\">\n      <th></th>\n      <th>venue</th>\n      <th>count</th>\n      <th>sp</th>\n    </tr>\n  </thead>\n  <tbody>\n    <tr>\n      <th>0</th>\n      <td>Euromicro Conference on Software Engineering and Advanced Applications</td>\n      <td>7</td>\n      <td>[SP3, SP4, SP15, SP16, SP20, SP24, SP50]</td>\n    </tr>\n    <tr>\n      <th>1</th>\n      <td>International Conference on Technical Debt (TechDebt)</td>\n      <td>7</td>\n      <td>[SP1, SP11, SP23, SP31, SP42, SP44, SP48]</td>\n    </tr>\n    <tr>\n      <th>2</th>\n      <td>European Conference on Software Architecture</td>\n      <td>3</td>\n      <td>[SP17, SP29, SP47]</td>\n    </tr>\n    <tr>\n      <th>3</th>\n      <td>International Conference on Software Engineering</td>\n      <td>3</td>\n      <td>[SP9, SP19, SP37]</td>\n    </tr>\n    <tr>\n      <th>4</th>\n      <td>International Workshop on Managing Technical Debt (MTD)</td>\n      <td>3</td>\n      <td>[SP25, SP26, SP33]</td>\n    </tr>\n    <tr>\n      <th>5</th>\n      <td>International Conference on Software Maintenance and Evolution (ICSME)</td>\n      <td>2</td>\n      <td>[SP28, SP38]</td>\n    </tr>\n    <tr>\n      <th>6</th>\n      <td>Journal of Software: Evolution and Process</td>\n      <td>2</td>\n      <td>[SP12, SP55]</td>\n    </tr>\n    <tr>\n      <th>7</th>\n      <td>Asia Pacific Software Engineering Conference</td>\n      <td>1</td>\n      <td>[SP34]</td>\n    </tr>\n    <tr>\n      <th>8</th>\n      <td>Conference on Software Achitecture</td>\n      <td>1</td>\n      <td>[SP14]</td>\n    </tr>\n    <tr>\n      <th>9</th>\n      <td>Conference on Software Architecture and European Conference on Software Architecture</td>\n      <td>1</td>\n      <td>[SP22]</td>\n    </tr>\n    <tr>\n      <th>10</th>\n      <td>EE Transactions on Software Engineering</td>\n      <td>1</td>\n      <td>[SP30]</td>\n    </tr>\n    <tr>\n      <th>11</th>\n      <td>Empirical Software Engineering</td>\n      <td>1</td>\n      <td>[SP57]</td>\n    </tr>\n    <tr>\n      <th>12</th>\n      <td>IEEE Software</td>\n      <td>1</td>\n      <td>[SP40]</td>\n    </tr>\n    <tr>\n      <th>13</th>\n      <td>Information and Software Technology Journal</td>\n      <td>1</td>\n      <td>[SP36]</td>\n    </tr>\n    <tr>\n      <th>14</th>\n      <td>International Conference on Agile Software Development</td>\n      <td>1</td>\n      <td>[SP53]</td>\n    </tr>\n    <tr>\n      <th>15</th>\n      <td>International Conference on Automated Software Engineering (ASE)</td>\n      <td>1</td>\n      <td>[SP6]</td>\n    </tr>\n    <tr>\n      <th>16</th>\n      <td>International Conference on Evaluation and Modeling Methods for Systems Analysis and Development</td>\n      <td>1</td>\n      <td>[SP54]</td>\n    </tr>\n    <tr>\n      <th>17</th>\n      <td>International Conference on Mobile Software Engineering and Systems</td>\n      <td>1</td>\n      <td>[SP10]</td>\n    </tr>\n    <tr>\n      <th>18</th>\n      <td>International Conference on Software Analysis, Evolution and Reengineering</td>\n      <td>1</td>\n      <td>[SP43]</td>\n    </tr>\n    <tr>\n      <th>19</th>\n      <td>International Conference on Software Analysis, Evolution and Reengineering (SANER)</td>\n      <td>1</td>\n      <td>[SP52]</td>\n    </tr>\n    <tr>\n      <th>20</th>\n      <td>International Conference on Software Architecture Companion (ICSA-C)</td>\n      <td>1</td>\n      <td>[SP21]</td>\n    </tr>\n    <tr>\n      <th>21</th>\n      <td>International Conference on Software Architecture Workshops (ICSAW)</td>\n      <td>1</td>\n      <td>[SP45]</td>\n    </tr>\n    <tr>\n      <th>22</th>\n      <td>International Conference on Software Engineering Companion</td>\n      <td>1</td>\n      <td>[SP8]</td>\n    </tr>\n    <tr>\n      <th>23</th>\n      <td>International Conference on Software Engineering: Software Engineering in Practice</td>\n      <td>1</td>\n      <td>[SP5]</td>\n    </tr>\n    <tr>\n      <th>24</th>\n      <td>International Conference on Software Maintenance and Evolution</td>\n      <td>1</td>\n      <td>[SP32]</td>\n    </tr>\n    <tr>\n      <th>25</th>\n      <td>International Conference on Software and System Process</td>\n      <td>1</td>\n      <td>[SP35]</td>\n    </tr>\n    <tr>\n      <th>26</th>\n      <td>International Conference on Systems, Man, and Cybernetics (SMC)</td>\n      <td>1</td>\n      <td>[SP39]</td>\n    </tr>\n    <tr>\n      <th>27</th>\n      <td>International Symposium on Empirical Software Engineering and Measurement</td>\n      <td>1</td>\n      <td>[SP49]</td>\n    </tr>\n    <tr>\n      <th>28</th>\n      <td>International Workshop on Bringing Architectural Design Thinking</td>\n      <td>1</td>\n      <td>[SP18]</td>\n    </tr>\n    <tr>\n      <th>29</th>\n      <td>Jornal Information and Software Technology</td>\n      <td>1</td>\n      <td>[SP2]</td>\n    </tr>\n    <tr>\n      <th>30</th>\n      <td>Journal of Systems and Software</td>\n      <td>1</td>\n      <td>[SP27]</td>\n    </tr>\n    <tr>\n      <th>31</th>\n      <td>Pan-Hellenic Conference on Informatics</td>\n      <td>1</td>\n      <td>[SP51]</td>\n    </tr>\n    <tr>\n      <th>32</th>\n      <td>Software Quality Journal</td>\n      <td>1</td>\n      <td>[SP56]</td>\n    </tr>\n    <tr>\n      <th>33</th>\n      <td>Springer Nature Singapore</td>\n      <td>1</td>\n      <td>[SP41]</td>\n    </tr>\n    <tr>\n      <th>34</th>\n      <td>Symposium on Applied Computing</td>\n      <td>1</td>\n      <td>[SP13]</td>\n    </tr>\n    <tr>\n      <th>35</th>\n      <td>TRANSACTIONS ON COMPUTATIONAL SOCIAL SYSTEMS</td>\n      <td>1</td>\n      <td>[SP46]</td>\n    </tr>\n    <tr>\n      <th>36</th>\n      <td>international ACM Sigsoft conference on Quality of software architectures</td>\n      <td>1</td>\n      <td>[SP7]</td>\n    </tr>\n  </tbody>\n</table>\n</div>"
     },
     "metadata": {},
     "execution_count": 2
    }
   ],
   "source": [
    "df_sms_extraction = util.load_dataset(my_path='../../dataset/Extraction_form_basic.xlsx')\n",
    "df_sms_extraction = util.add_column_sp(df_sms_extraction)\n",
    "\n",
    "# 3.1) List of Venues\n",
    "\n",
    "# Clean Name of Venue\n",
    "i = 0\n",
    "for each in df_sms_extraction['Name of Venue']: \n",
    "    temp = df_sms_extraction['Name of Venue'].iloc[i]\n",
    "    df_sms_extraction['Name of Venue'].iloc[i] = ' '.join(temp.split())\n",
    "    i = i + 1\n",
    "\n",
    "# Create a auxiliar Dataframe Name of Venue group by Name of Venue\n",
    "list_of_venues = []\n",
    "for item in list(df_sms_extraction['Name of Venue']): \n",
    "    item = ' '.join(item.split())\n",
    "    list_of_venues.append(item)\n",
    "list_of_venues.sort()\n",
    "\n",
    "list_of_most_common_venues = Counter(list_of_venues).most_common()\n",
    "\n",
    "venue = []\n",
    "count = []\n",
    "for each in list_of_most_common_venues: \n",
    "    venue.append(each[0])\n",
    "    count.append(each[1])\n",
    "my_venues = {'venue': venue, 'count':count}\n",
    "my_venues\n",
    "\n",
    "my_venue_id = list(range(1,len(list_of_most_common_venues)+1))\n",
    "my_venue_id\n",
    "\n",
    "df_my_venues = pd.DataFrame(data=my_venues, index=my_venue_id)\n",
    "df_my_venues.reset_index(drop=True, inplace=True)\n",
    "df_my_venues['sp'] = None\n",
    "\n",
    "# Add new column with Selected Papers according grouped Venue\n",
    "i = 0\n",
    "for each in df_my_venues['venue']:\n",
    "    list_sp_novo = []\n",
    "    j = 0\n",
    "    for item in df_sms_extraction['Name of Venue']:\n",
    "        if each == item: \n",
    "            list_sp_novo.append(df_sms_extraction['sp'].iloc[j])\n",
    "        j = j + 1\n",
    "    df_my_venues['sp'].iloc[i] = list_sp_novo\n",
    "    i = i + 1\n",
    "\n",
    "util.create_latex_table(my_df=df_my_venues, my_path='../../latex', my_file_name='mytable_venues.tex')\n",
    "\n",
    "util.create_markdown_table(my_df=df_my_venues, my_path='../../md', my_file_name='mytable_venues.md')\n",
    "\n",
    "df_my_venues"
   ]
  },
  {
   "cell_type": "code",
   "execution_count": 3,
   "metadata": {},
   "outputs": [
    {
     "output_type": "execute_result",
     "data": {
      "text/plain": [
       "                                                                    venue  \\\n",
       "0  Euromicro Conference on Software Engineering and Advanced Applications   \n",
       "1                   International Conference on Technical Debt (TechDebt)   \n",
       "2                            European Conference on Software Architecture   \n",
       "3                        International Conference on Software Engineering   \n",
       "4                 International Workshop on Managing Technical Debt (MTD)   \n",
       "\n",
       "   count                                         sp  \n",
       "0      7   [SP3, SP4, SP15, SP16, SP20, SP24, SP50]  \n",
       "1      7  [SP1, SP11, SP23, SP31, SP42, SP44, SP48]  \n",
       "2      3                         [SP17, SP29, SP47]  \n",
       "3      3                          [SP9, SP19, SP37]  \n",
       "4      3                         [SP25, SP26, SP33]  "
      ],
      "text/html": "<div>\n<style scoped>\n    .dataframe tbody tr th:only-of-type {\n        vertical-align: middle;\n    }\n\n    .dataframe tbody tr th {\n        vertical-align: top;\n    }\n\n    .dataframe thead th {\n        text-align: right;\n    }\n</style>\n<table border=\"1\" class=\"dataframe\">\n  <thead>\n    <tr style=\"text-align: right;\">\n      <th></th>\n      <th>venue</th>\n      <th>count</th>\n      <th>sp</th>\n    </tr>\n  </thead>\n  <tbody>\n    <tr>\n      <th>0</th>\n      <td>Euromicro Conference on Software Engineering and Advanced Applications</td>\n      <td>7</td>\n      <td>[SP3, SP4, SP15, SP16, SP20, SP24, SP50]</td>\n    </tr>\n    <tr>\n      <th>1</th>\n      <td>International Conference on Technical Debt (TechDebt)</td>\n      <td>7</td>\n      <td>[SP1, SP11, SP23, SP31, SP42, SP44, SP48]</td>\n    </tr>\n    <tr>\n      <th>2</th>\n      <td>European Conference on Software Architecture</td>\n      <td>3</td>\n      <td>[SP17, SP29, SP47]</td>\n    </tr>\n    <tr>\n      <th>3</th>\n      <td>International Conference on Software Engineering</td>\n      <td>3</td>\n      <td>[SP9, SP19, SP37]</td>\n    </tr>\n    <tr>\n      <th>4</th>\n      <td>International Workshop on Managing Technical Debt (MTD)</td>\n      <td>3</td>\n      <td>[SP25, SP26, SP33]</td>\n    </tr>\n  </tbody>\n</table>\n</div>"
     },
     "metadata": {},
     "execution_count": 3
    }
   ],
   "source": [
    "df_my_venues.query('count >= 3')"
   ]
  },
  {
   "source": [
    "## New requirements after Lincoln evaluation"
   ],
   "cell_type": "markdown",
   "metadata": {}
  },
  {
   "cell_type": "code",
   "execution_count": 4,
   "metadata": {},
   "outputs": [
    {
     "output_type": "stream",
     "name": "stdout",
     "text": [
      "Euromicro Conference on Software Engineering and Advanced Applications\nInternational Conference on Technical Debt (TechDebt)\nEuropean Conference on Software Architecture\nInternational Conference on Software Engineering\nInternational Workshop on Managing Technical Debt (MTD)\nInternational Conference on Software Maintenance and Evolution (ICSME)\nJournal of Software: Evolution and Process\nAsia Pacific Software Engineering Conference\nConference on Software Achitecture\nConference on Software Architecture and European Conference on Software Architecture\nEE Transactions on Software Engineering\nEmpirical Software Engineering\nIEEE Software\nInformation and Software Technology Journal\nInternational Conference on Agile Software Development\nInternational Conference on Automated Software Engineering (ASE)\nInternational Conference on Evaluation and Modeling Methods for Systems Analysis and Development\nInternational Conference on Mobile Software Engineering and Systems\nInternational Conference on Software Analysis, Evolution and Reengineering\nInternational Conference on Software Analysis, Evolution and Reengineering (SANER)\nInternational Conference on Software Architecture Companion (ICSA-C)\nInternational Conference on Software Architecture Workshops (ICSAW)\nInternational Conference on Software Engineering Companion\nInternational Conference on Software Engineering: Software Engineering in Practice\nInternational Conference on Software Maintenance and Evolution\nInternational Conference on Software and System Process\nInternational Conference on Systems, Man, and Cybernetics (SMC)\nInternational Symposium on Empirical Software Engineering and Measurement\nInternational Workshop on Bringing Architectural Design Thinking\nJornal Information and Software Technology\nJournal of Systems and Software\nPan-Hellenic Conference on Informatics\nSoftware Quality Journal\nSpringer Nature Singapore\nSymposium on Applied Computing\nTRANSACTIONS ON COMPUTATIONAL SOCIAL SYSTEMS\ninternational ACM Sigsoft conference on Quality of software architectures\n"
     ]
    }
   ],
   "source": [
    "for each in df_my_venues.venue:\n",
    "    print(each)"
   ]
  },
  {
   "cell_type": "code",
   "execution_count": 5,
   "metadata": {},
   "outputs": [],
   "source": [
    "df_my_venues.to_csv('mytable_venues.csv')"
   ]
  },
  {
   "cell_type": "code",
   "execution_count": 6,
   "metadata": {},
   "outputs": [],
   "source": [
    "df_my_venues2 = pd.read_csv('../../csv/mytable_venues2.csv', sep=';')\n",
    "df_my_venues2.sort_values(by=['count', 'type'], ascending=False, inplace=True)"
   ]
  },
  {
   "cell_type": "code",
   "execution_count": 7,
   "metadata": {},
   "outputs": [
    {
     "output_type": "stream",
     "name": "stdout",
     "text": [
      "Arquivo ../../latex/mytable_venues2.tex  gerado com sucesso!\nArquivo ../../md/mytable_venues2.md  gerado com sucesso!\n"
     ]
    }
   ],
   "source": [
    "\n",
    "util.create_latex_table(my_df=df_my_venues2, my_path='../../latex', my_file_name='mytable_venues2.tex')\n",
    "\n",
    "util.create_markdown_table(my_df=df_my_venues2, my_path='../../md', my_file_name='mytable_venues2.md')"
   ]
  },
  {
   "cell_type": "code",
   "execution_count": 8,
   "metadata": {},
   "outputs": [
    {
     "output_type": "execute_result",
     "data": {
      "text/plain": [
       "         type  \\\n",
       "0        Book   \n",
       "1  Conference   \n",
       "2     Journal   \n",
       "3   Symposium   \n",
       "4    Workshop   \n",
       "\n",
       "                                                                                                                                                                                                                                                               sp  \n",
       "0                                                                                                                                                                                                                                                        ['SP41']  \n",
       "1  ['SP3', 'SP4', 'SP15', 'SP16', 'SP20', 'SP24', 'SP50'],['SP1', 'SP11', 'SP23', 'SP31', 'SP42', 'SP44', 'SP48'],[‘SP5','SP9', 'SP19', 'SP37'],['SP17', 'SP29', 'SP47'],['SP28', 'SP32', ’SP38’],[‘SP14’, 'SP22'],[‘SP43’, 'SP52'],[‘SP8','SP21'],['SP34'],['...  \n",
       "2                                                                                                                                                                                  ['SP12', 'SP55'],['SP30'],['SP40'],['SP36'],['SP2'],['SP27'],['SP56'],['SP46']  \n",
       "3                                                                                                                                                                                                                                                [‘SP49’, 'SP57']  \n",
       "4                                                                                                                                                                                                                               ['SP25', 'SP26', 'SP33'],['SP18']  "
      ],
      "text/html": "<div>\n<style scoped>\n    .dataframe tbody tr th:only-of-type {\n        vertical-align: middle;\n    }\n\n    .dataframe tbody tr th {\n        vertical-align: top;\n    }\n\n    .dataframe thead th {\n        text-align: right;\n    }\n</style>\n<table border=\"1\" class=\"dataframe\">\n  <thead>\n    <tr style=\"text-align: right;\">\n      <th></th>\n      <th>type</th>\n      <th>sp</th>\n    </tr>\n  </thead>\n  <tbody>\n    <tr>\n      <th>0</th>\n      <td>Book</td>\n      <td>['SP41']</td>\n    </tr>\n    <tr>\n      <th>1</th>\n      <td>Conference</td>\n      <td>['SP3', 'SP4', 'SP15', 'SP16', 'SP20', 'SP24', 'SP50'],['SP1', 'SP11', 'SP23', 'SP31', 'SP42', 'SP44', 'SP48'],[‘SP5','SP9', 'SP19', 'SP37'],['SP17', 'SP29', 'SP47'],['SP28', 'SP32', ’SP38’],[‘SP14’, 'SP22'],[‘SP43’, 'SP52'],[‘SP8','SP21'],['SP34'],['...</td>\n    </tr>\n    <tr>\n      <th>2</th>\n      <td>Journal</td>\n      <td>['SP12', 'SP55'],['SP30'],['SP40'],['SP36'],['SP2'],['SP27'],['SP56'],['SP46']</td>\n    </tr>\n    <tr>\n      <th>3</th>\n      <td>Symposium</td>\n      <td>[‘SP49’, 'SP57']</td>\n    </tr>\n    <tr>\n      <th>4</th>\n      <td>Workshop</td>\n      <td>['SP25', 'SP26', 'SP33'],['SP18']</td>\n    </tr>\n  </tbody>\n</table>\n</div>"
     },
     "metadata": {},
     "execution_count": 8
    }
   ],
   "source": [
    "df_my_venues_groupby_type = df_my_venues2.groupby(['type'])['sp'].apply(lambda x: ','.join(x)).reset_index()\n",
    "df_my_venues_groupby_type"
   ]
  },
  {
   "cell_type": "code",
   "execution_count": 9,
   "metadata": {},
   "outputs": [],
   "source": [
    "def extract_special_characters(my_content):\n",
    "    list_temp = list()\n",
    "    for item in my_content.split(','):\n",
    "        item = ''.join(e for e in item if e.isalnum())\n",
    "        list_temp.append(item)\n",
    "    return list_temp"
   ]
  },
  {
   "cell_type": "code",
   "execution_count": 10,
   "metadata": {},
   "outputs": [
    {
     "output_type": "execute_result",
     "data": {
      "text/plain": [
       "0                                                                                                                                                                                                                                            [SP41]\n",
       "1    [SP3, SP4, SP15, SP16, SP20, SP24, SP50, SP1, SP11, SP23, SP31, SP42, SP44, SP48, SP5, SP9, SP19, SP37, SP17, SP29, SP47, SP28, SP32, SP38, SP14, SP22, SP43, SP52, SP8, SP21, SP34, SP53, SP6, SP54, SP10, SP45, SP35, SP39, SP51, SP13, SP7]\n",
       "2                                                                                                                                                                                             [SP12, SP55, SP30, SP40, SP36, SP2, SP27, SP56, SP46]\n",
       "3                                                                                                                                                                                                                                      [SP49, SP57]\n",
       "4                                                                                                                                                                                                                          [SP25, SP26, SP33, SP18]\n",
       "dtype: object"
      ]
     },
     "metadata": {},
     "execution_count": 10
    }
   ],
   "source": [
    "df_my_venues_groupby_type.apply(lambda row: extract_special_characters(row['sp']), axis=1)"
   ]
  },
  {
   "cell_type": "code",
   "execution_count": 11,
   "metadata": {},
   "outputs": [],
   "source": [
    "df_my_venues_groupby_type.sp = df_my_venues_groupby_type.apply(lambda row: extract_special_characters(row['sp']), axis=1)\n"
   ]
  },
  {
   "cell_type": "code",
   "execution_count": 12,
   "metadata": {},
   "outputs": [],
   "source": [
    "df_my_venues_groupby_type['count'] = df_my_venues_groupby_type.apply(lambda row: len(row['sp']), axis=1)"
   ]
  },
  {
   "cell_type": "code",
   "execution_count": 13,
   "metadata": {},
   "outputs": [],
   "source": [
    "df_my_venues_groupby_type.sort_values(by='count', ascending=False, inplace=True)"
   ]
  },
  {
   "cell_type": "code",
   "execution_count": 14,
   "metadata": {},
   "outputs": [
    {
     "output_type": "stream",
     "name": "stdout",
     "text": [
      "Arquivo ../../latex/mytable_venues_groupby_type.tex  gerado com sucesso!\nArquivo ../../md/mytable_venues_groupby_type.md  gerado com sucesso!\n"
     ]
    }
   ],
   "source": [
    "util.create_latex_table(my_df=df_my_venues2, my_path='../../latex', my_file_name='mytable_venues_groupby_type.tex')\n",
    "\n",
    "util.create_markdown_table(my_df=df_my_venues2, my_path='../../md', my_file_name='mytable_venues_groupby_type.md')"
   ]
  },
  {
   "cell_type": "code",
   "execution_count": 15,
   "metadata": {},
   "outputs": [],
   "source": [
    "df_my_venues_groupby_type.to_csv('../../csv/mytable_venues_groupby_type.csv', sep=';', index=False)"
   ]
  },
  {
   "cell_type": "code",
   "execution_count": 16,
   "metadata": {},
   "outputs": [
    {
     "output_type": "display_data",
     "data": {
      "text/plain": "<Figure size 432x288 with 1 Axes>",
      "image/svg+xml": "<?xml version=\"1.0\" encoding=\"utf-8\" standalone=\"no\"?>\n<!DOCTYPE svg PUBLIC \"-//W3C//DTD SVG 1.1//EN\"\n  \"http://www.w3.org/Graphics/SVG/1.1/DTD/svg11.dtd\">\n<!-- Created with matplotlib (https://matplotlib.org/) -->\n<svg height=\"319.078125pt\" version=\"1.1\" viewBox=\"0 0 466.125 319.078125\" width=\"466.125pt\" xmlns=\"http://www.w3.org/2000/svg\" xmlns:xlink=\"http://www.w3.org/1999/xlink\">\n <metadata>\n  <rdf:RDF xmlns:cc=\"http://creativecommons.org/ns#\" xmlns:dc=\"http://purl.org/dc/elements/1.1/\" xmlns:rdf=\"http://www.w3.org/1999/02/22-rdf-syntax-ns#\">\n   <cc:Work>\n    <dc:type rdf:resource=\"http://purl.org/dc/dcmitype/StillImage\"/>\n    <dc:date>2021-06-16T11:24:15.779010</dc:date>\n    <dc:format>image/svg+xml</dc:format>\n    <dc:creator>\n     <cc:Agent>\n      <dc:title>Matplotlib v3.3.3, https://matplotlib.org/</dc:title>\n     </cc:Agent>\n    </dc:creator>\n   </cc:Work>\n  </rdf:RDF>\n </metadata>\n <defs>\n  <style type=\"text/css\">*{stroke-linecap:butt;stroke-linejoin:round;}</style>\n </defs>\n <g id=\"figure_1\">\n  <g id=\"patch_1\">\n   <path d=\"M 0 319.078125 \nL 466.125 319.078125 \nL 466.125 0 \nL 0 0 \nz\n\" style=\"fill:none;\"/>\n  </g>\n  <g id=\"axes_1\">\n   <g id=\"patch_2\">\n    <path d=\"M 26.925 295.2 \nL 458.925 295.2 \nL 458.925 7.2 \nL 26.925 7.2 \nz\n\" style=\"fill:#ffffff;\"/>\n   </g>\n   <g id=\"patch_3\">\n    <path clip-path=\"url(#pf13331b929)\" d=\"M 46.561364 295.2 \nL 112.015909 295.2 \nL 112.015909 114.955102 \nL 46.561364 114.955102 \nz\n\" style=\"fill:#1f77b4;\"/>\n   </g>\n   <g id=\"patch_4\">\n    <path clip-path=\"url(#pf13331b929)\" d=\"M 128.379545 295.2 \nL 193.834091 295.2 \nL 193.834091 161.97551 \nL 128.379545 161.97551 \nz\n\" style=\"fill:#1f77b4;\"/>\n   </g>\n   <g id=\"patch_5\">\n    <path clip-path=\"url(#pf13331b929)\" d=\"M 210.197727 295.2 \nL 275.652273 295.2 \nL 275.652273 20.914286 \nL 210.197727 20.914286 \nz\n\" style=\"fill:#1f77b4;\"/>\n   </g>\n   <g id=\"patch_6\">\n    <path clip-path=\"url(#pf13331b929)\" d=\"M 292.015909 295.2 \nL 357.470455 295.2 \nL 357.470455 67.934694 \nL 292.015909 67.934694 \nz\n\" style=\"fill:#1f77b4;\"/>\n   </g>\n   <g id=\"patch_7\">\n    <path clip-path=\"url(#pf13331b929)\" d=\"M 373.834091 295.2 \nL 439.288636 295.2 \nL 439.288636 201.159184 \nL 373.834091 201.159184 \nz\n\" style=\"fill:#1f77b4;\"/>\n   </g>\n   <g id=\"matplotlib.axis_1\">\n    <g id=\"xtick_1\">\n     <g id=\"line2d_1\">\n      <defs>\n       <path d=\"M 0 0 \nL 0 3.5 \n\" id=\"m3345b8182d\" style=\"stroke:#000000;stroke-width:0.8;\"/>\n      </defs>\n      <g>\n       <use style=\"stroke:#000000;stroke-width:0.8;\" x=\"79.288636\" xlink:href=\"#m3345b8182d\" y=\"295.2\"/>\n      </g>\n     </g>\n     <g id=\"text_1\">\n      <!-- C -->\n      <g transform=\"translate(75.79723 309.798437)scale(0.1 -0.1)\">\n       <defs>\n        <path d=\"M 64.40625 67.28125 \nL 64.40625 56.890625 \nQ 59.421875 61.53125 53.78125 63.8125 \nQ 48.140625 66.109375 41.796875 66.109375 \nQ 29.296875 66.109375 22.65625 58.46875 \nQ 16.015625 50.828125 16.015625 36.375 \nQ 16.015625 21.96875 22.65625 14.328125 \nQ 29.296875 6.6875 41.796875 6.6875 \nQ 48.140625 6.6875 53.78125 8.984375 \nQ 59.421875 11.28125 64.40625 15.921875 \nL 64.40625 5.609375 \nQ 59.234375 2.09375 53.4375 0.328125 \nQ 47.65625 -1.421875 41.21875 -1.421875 \nQ 24.65625 -1.421875 15.125 8.703125 \nQ 5.609375 18.84375 5.609375 36.375 \nQ 5.609375 53.953125 15.125 64.078125 \nQ 24.65625 74.21875 41.21875 74.21875 \nQ 47.75 74.21875 53.53125 72.484375 \nQ 59.328125 70.75 64.40625 67.28125 \nz\n\" id=\"DejaVuSans-67\"/>\n       </defs>\n       <use xlink:href=\"#DejaVuSans-67\"/>\n      </g>\n     </g>\n    </g>\n    <g id=\"xtick_2\">\n     <g id=\"line2d_2\">\n      <g>\n       <use style=\"stroke:#000000;stroke-width:0.8;\" x=\"161.106818\" xlink:href=\"#m3345b8182d\" y=\"295.2\"/>\n      </g>\n     </g>\n     <g id=\"text_2\">\n      <!-- C++ -->\n      <g transform=\"translate(149.235724 309.798437)scale(0.1 -0.1)\">\n       <defs>\n        <path d=\"M 46 62.703125 \nL 46 35.5 \nL 73.1875 35.5 \nL 73.1875 27.203125 \nL 46 27.203125 \nL 46 0 \nL 37.796875 0 \nL 37.796875 27.203125 \nL 10.59375 27.203125 \nL 10.59375 35.5 \nL 37.796875 35.5 \nL 37.796875 62.703125 \nz\n\" id=\"DejaVuSans-43\"/>\n       </defs>\n       <use xlink:href=\"#DejaVuSans-67\"/>\n       <use x=\"69.824219\" xlink:href=\"#DejaVuSans-43\"/>\n       <use x=\"153.613281\" xlink:href=\"#DejaVuSans-43\"/>\n      </g>\n     </g>\n    </g>\n    <g id=\"xtick_3\">\n     <g id=\"line2d_3\">\n      <g>\n       <use style=\"stroke:#000000;stroke-width:0.8;\" x=\"242.925\" xlink:href=\"#m3345b8182d\" y=\"295.2\"/>\n      </g>\n     </g>\n     <g id=\"text_3\">\n      <!-- Java -->\n      <g transform=\"translate(232.3625 309.798437)scale(0.1 -0.1)\">\n       <defs>\n        <path d=\"M 9.8125 72.90625 \nL 19.671875 72.90625 \nL 19.671875 5.078125 \nQ 19.671875 -8.109375 14.671875 -14.0625 \nQ 9.671875 -20.015625 -1.421875 -20.015625 \nL -5.171875 -20.015625 \nL -5.171875 -11.71875 \nL -2.09375 -11.71875 \nQ 4.4375 -11.71875 7.125 -8.046875 \nQ 9.8125 -4.390625 9.8125 5.078125 \nz\n\" id=\"DejaVuSans-74\"/>\n        <path d=\"M 34.28125 27.484375 \nQ 23.390625 27.484375 19.1875 25 \nQ 14.984375 22.515625 14.984375 16.5 \nQ 14.984375 11.71875 18.140625 8.90625 \nQ 21.296875 6.109375 26.703125 6.109375 \nQ 34.1875 6.109375 38.703125 11.40625 \nQ 43.21875 16.703125 43.21875 25.484375 \nL 43.21875 27.484375 \nz\nM 52.203125 31.203125 \nL 52.203125 0 \nL 43.21875 0 \nL 43.21875 8.296875 \nQ 40.140625 3.328125 35.546875 0.953125 \nQ 30.953125 -1.421875 24.3125 -1.421875 \nQ 15.921875 -1.421875 10.953125 3.296875 \nQ 6 8.015625 6 15.921875 \nQ 6 25.140625 12.171875 29.828125 \nQ 18.359375 34.515625 30.609375 34.515625 \nL 43.21875 34.515625 \nL 43.21875 35.40625 \nQ 43.21875 41.609375 39.140625 45 \nQ 35.0625 48.390625 27.6875 48.390625 \nQ 23 48.390625 18.546875 47.265625 \nQ 14.109375 46.140625 10.015625 43.890625 \nL 10.015625 52.203125 \nQ 14.9375 54.109375 19.578125 55.046875 \nQ 24.21875 56 28.609375 56 \nQ 40.484375 56 46.34375 49.84375 \nQ 52.203125 43.703125 52.203125 31.203125 \nz\n\" id=\"DejaVuSans-97\"/>\n        <path d=\"M 2.984375 54.6875 \nL 12.5 54.6875 \nL 29.59375 8.796875 \nL 46.6875 54.6875 \nL 56.203125 54.6875 \nL 35.6875 0 \nL 23.484375 0 \nz\n\" id=\"DejaVuSans-118\"/>\n       </defs>\n       <use xlink:href=\"#DejaVuSans-74\"/>\n       <use x=\"29.492188\" xlink:href=\"#DejaVuSans-97\"/>\n       <use x=\"90.771484\" xlink:href=\"#DejaVuSans-118\"/>\n       <use x=\"149.951172\" xlink:href=\"#DejaVuSans-97\"/>\n      </g>\n     </g>\n    </g>\n    <g id=\"xtick_4\">\n     <g id=\"line2d_4\">\n      <g>\n       <use style=\"stroke:#000000;stroke-width:0.8;\" x=\"324.743182\" xlink:href=\"#m3345b8182d\" y=\"295.2\"/>\n      </g>\n     </g>\n     <g id=\"text_4\">\n      <!-- Python -->\n      <g transform=\"translate(307.411932 309.798437)scale(0.1 -0.1)\">\n       <defs>\n        <path d=\"M 19.671875 64.796875 \nL 19.671875 37.40625 \nL 32.078125 37.40625 \nQ 38.96875 37.40625 42.71875 40.96875 \nQ 46.484375 44.53125 46.484375 51.125 \nQ 46.484375 57.671875 42.71875 61.234375 \nQ 38.96875 64.796875 32.078125 64.796875 \nz\nM 9.8125 72.90625 \nL 32.078125 72.90625 \nQ 44.34375 72.90625 50.609375 67.359375 \nQ 56.890625 61.8125 56.890625 51.125 \nQ 56.890625 40.328125 50.609375 34.8125 \nQ 44.34375 29.296875 32.078125 29.296875 \nL 19.671875 29.296875 \nL 19.671875 0 \nL 9.8125 0 \nz\n\" id=\"DejaVuSans-80\"/>\n        <path d=\"M 32.171875 -5.078125 \nQ 28.375 -14.84375 24.75 -17.8125 \nQ 21.140625 -20.796875 15.09375 -20.796875 \nL 7.90625 -20.796875 \nL 7.90625 -13.28125 \nL 13.1875 -13.28125 \nQ 16.890625 -13.28125 18.9375 -11.515625 \nQ 21 -9.765625 23.484375 -3.21875 \nL 25.09375 0.875 \nL 2.984375 54.6875 \nL 12.5 54.6875 \nL 29.59375 11.921875 \nL 46.6875 54.6875 \nL 56.203125 54.6875 \nz\n\" id=\"DejaVuSans-121\"/>\n        <path d=\"M 18.3125 70.21875 \nL 18.3125 54.6875 \nL 36.8125 54.6875 \nL 36.8125 47.703125 \nL 18.3125 47.703125 \nL 18.3125 18.015625 \nQ 18.3125 11.328125 20.140625 9.421875 \nQ 21.96875 7.515625 27.59375 7.515625 \nL 36.8125 7.515625 \nL 36.8125 0 \nL 27.59375 0 \nQ 17.1875 0 13.234375 3.875 \nQ 9.28125 7.765625 9.28125 18.015625 \nL 9.28125 47.703125 \nL 2.6875 47.703125 \nL 2.6875 54.6875 \nL 9.28125 54.6875 \nL 9.28125 70.21875 \nz\n\" id=\"DejaVuSans-116\"/>\n        <path d=\"M 54.890625 33.015625 \nL 54.890625 0 \nL 45.90625 0 \nL 45.90625 32.71875 \nQ 45.90625 40.484375 42.875 44.328125 \nQ 39.84375 48.1875 33.796875 48.1875 \nQ 26.515625 48.1875 22.3125 43.546875 \nQ 18.109375 38.921875 18.109375 30.90625 \nL 18.109375 0 \nL 9.078125 0 \nL 9.078125 75.984375 \nL 18.109375 75.984375 \nL 18.109375 46.1875 \nQ 21.34375 51.125 25.703125 53.5625 \nQ 30.078125 56 35.796875 56 \nQ 45.21875 56 50.046875 50.171875 \nQ 54.890625 44.34375 54.890625 33.015625 \nz\n\" id=\"DejaVuSans-104\"/>\n        <path d=\"M 30.609375 48.390625 \nQ 23.390625 48.390625 19.1875 42.75 \nQ 14.984375 37.109375 14.984375 27.296875 \nQ 14.984375 17.484375 19.15625 11.84375 \nQ 23.34375 6.203125 30.609375 6.203125 \nQ 37.796875 6.203125 41.984375 11.859375 \nQ 46.1875 17.53125 46.1875 27.296875 \nQ 46.1875 37.015625 41.984375 42.703125 \nQ 37.796875 48.390625 30.609375 48.390625 \nz\nM 30.609375 56 \nQ 42.328125 56 49.015625 48.375 \nQ 55.71875 40.765625 55.71875 27.296875 \nQ 55.71875 13.875 49.015625 6.21875 \nQ 42.328125 -1.421875 30.609375 -1.421875 \nQ 18.84375 -1.421875 12.171875 6.21875 \nQ 5.515625 13.875 5.515625 27.296875 \nQ 5.515625 40.765625 12.171875 48.375 \nQ 18.84375 56 30.609375 56 \nz\n\" id=\"DejaVuSans-111\"/>\n        <path d=\"M 54.890625 33.015625 \nL 54.890625 0 \nL 45.90625 0 \nL 45.90625 32.71875 \nQ 45.90625 40.484375 42.875 44.328125 \nQ 39.84375 48.1875 33.796875 48.1875 \nQ 26.515625 48.1875 22.3125 43.546875 \nQ 18.109375 38.921875 18.109375 30.90625 \nL 18.109375 0 \nL 9.078125 0 \nL 9.078125 54.6875 \nL 18.109375 54.6875 \nL 18.109375 46.1875 \nQ 21.34375 51.125 25.703125 53.5625 \nQ 30.078125 56 35.796875 56 \nQ 45.21875 56 50.046875 50.171875 \nQ 54.890625 44.34375 54.890625 33.015625 \nz\n\" id=\"DejaVuSans-110\"/>\n       </defs>\n       <use xlink:href=\"#DejaVuSans-80\"/>\n       <use x=\"60.302734\" xlink:href=\"#DejaVuSans-121\"/>\n       <use x=\"119.482422\" xlink:href=\"#DejaVuSans-116\"/>\n       <use x=\"158.691406\" xlink:href=\"#DejaVuSans-104\"/>\n       <use x=\"222.070312\" xlink:href=\"#DejaVuSans-111\"/>\n       <use x=\"283.251953\" xlink:href=\"#DejaVuSans-110\"/>\n      </g>\n     </g>\n    </g>\n    <g id=\"xtick_5\">\n     <g id=\"line2d_5\">\n      <g>\n       <use style=\"stroke:#000000;stroke-width:0.8;\" x=\"406.561364\" xlink:href=\"#m3345b8182d\" y=\"295.2\"/>\n      </g>\n     </g>\n     <g id=\"text_5\">\n      <!-- PHP -->\n      <g transform=\"translate(396.77152 309.798437)scale(0.1 -0.1)\">\n       <defs>\n        <path d=\"M 9.8125 72.90625 \nL 19.671875 72.90625 \nL 19.671875 43.015625 \nL 55.515625 43.015625 \nL 55.515625 72.90625 \nL 65.375 72.90625 \nL 65.375 0 \nL 55.515625 0 \nL 55.515625 34.71875 \nL 19.671875 34.71875 \nL 19.671875 0 \nL 9.8125 0 \nz\n\" id=\"DejaVuSans-72\"/>\n       </defs>\n       <use xlink:href=\"#DejaVuSans-80\"/>\n       <use x=\"60.302734\" xlink:href=\"#DejaVuSans-72\"/>\n       <use x=\"135.498047\" xlink:href=\"#DejaVuSans-80\"/>\n      </g>\n     </g>\n    </g>\n   </g>\n   <g id=\"matplotlib.axis_2\">\n    <g id=\"ytick_1\">\n     <g id=\"line2d_6\">\n      <defs>\n       <path d=\"M 0 0 \nL -3.5 0 \n\" id=\"m6cb8779a7e\" style=\"stroke:#000000;stroke-width:0.8;\"/>\n      </defs>\n      <g>\n       <use style=\"stroke:#000000;stroke-width:0.8;\" x=\"26.925\" xlink:href=\"#m6cb8779a7e\" y=\"295.2\"/>\n      </g>\n     </g>\n     <g id=\"text_6\">\n      <!-- 0 -->\n      <g transform=\"translate(13.5625 298.999219)scale(0.1 -0.1)\">\n       <defs>\n        <path d=\"M 31.78125 66.40625 \nQ 24.171875 66.40625 20.328125 58.90625 \nQ 16.5 51.421875 16.5 36.375 \nQ 16.5 21.390625 20.328125 13.890625 \nQ 24.171875 6.390625 31.78125 6.390625 \nQ 39.453125 6.390625 43.28125 13.890625 \nQ 47.125 21.390625 47.125 36.375 \nQ 47.125 51.421875 43.28125 58.90625 \nQ 39.453125 66.40625 31.78125 66.40625 \nz\nM 31.78125 74.21875 \nQ 44.046875 74.21875 50.515625 64.515625 \nQ 56.984375 54.828125 56.984375 36.375 \nQ 56.984375 17.96875 50.515625 8.265625 \nQ 44.046875 -1.421875 31.78125 -1.421875 \nQ 19.53125 -1.421875 13.0625 8.265625 \nQ 6.59375 17.96875 6.59375 36.375 \nQ 6.59375 54.828125 13.0625 64.515625 \nQ 19.53125 74.21875 31.78125 74.21875 \nz\n\" id=\"DejaVuSans-48\"/>\n       </defs>\n       <use xlink:href=\"#DejaVuSans-48\"/>\n      </g>\n     </g>\n    </g>\n    <g id=\"ytick_2\">\n     <g id=\"line2d_7\">\n      <g>\n       <use style=\"stroke:#000000;stroke-width:0.8;\" x=\"26.925\" xlink:href=\"#m6cb8779a7e\" y=\"256.016327\"/>\n      </g>\n     </g>\n     <g id=\"text_7\">\n      <!-- 5 -->\n      <g transform=\"translate(13.5625 259.815545)scale(0.1 -0.1)\">\n       <defs>\n        <path d=\"M 10.796875 72.90625 \nL 49.515625 72.90625 \nL 49.515625 64.59375 \nL 19.828125 64.59375 \nL 19.828125 46.734375 \nQ 21.96875 47.46875 24.109375 47.828125 \nQ 26.265625 48.1875 28.421875 48.1875 \nQ 40.625 48.1875 47.75 41.5 \nQ 54.890625 34.8125 54.890625 23.390625 \nQ 54.890625 11.625 47.5625 5.09375 \nQ 40.234375 -1.421875 26.90625 -1.421875 \nQ 22.3125 -1.421875 17.546875 -0.640625 \nQ 12.796875 0.140625 7.71875 1.703125 \nL 7.71875 11.625 \nQ 12.109375 9.234375 16.796875 8.0625 \nQ 21.484375 6.890625 26.703125 6.890625 \nQ 35.15625 6.890625 40.078125 11.328125 \nQ 45.015625 15.765625 45.015625 23.390625 \nQ 45.015625 31 40.078125 35.4375 \nQ 35.15625 39.890625 26.703125 39.890625 \nQ 22.75 39.890625 18.8125 39.015625 \nQ 14.890625 38.140625 10.796875 36.28125 \nz\n\" id=\"DejaVuSans-53\"/>\n       </defs>\n       <use xlink:href=\"#DejaVuSans-53\"/>\n      </g>\n     </g>\n    </g>\n    <g id=\"ytick_3\">\n     <g id=\"line2d_8\">\n      <g>\n       <use style=\"stroke:#000000;stroke-width:0.8;\" x=\"26.925\" xlink:href=\"#m6cb8779a7e\" y=\"216.832653\"/>\n      </g>\n     </g>\n     <g id=\"text_8\">\n      <!-- 10 -->\n      <g transform=\"translate(7.2 220.631872)scale(0.1 -0.1)\">\n       <defs>\n        <path d=\"M 12.40625 8.296875 \nL 28.515625 8.296875 \nL 28.515625 63.921875 \nL 10.984375 60.40625 \nL 10.984375 69.390625 \nL 28.421875 72.90625 \nL 38.28125 72.90625 \nL 38.28125 8.296875 \nL 54.390625 8.296875 \nL 54.390625 0 \nL 12.40625 0 \nz\n\" id=\"DejaVuSans-49\"/>\n       </defs>\n       <use xlink:href=\"#DejaVuSans-49\"/>\n       <use x=\"63.623047\" xlink:href=\"#DejaVuSans-48\"/>\n      </g>\n     </g>\n    </g>\n    <g id=\"ytick_4\">\n     <g id=\"line2d_9\">\n      <g>\n       <use style=\"stroke:#000000;stroke-width:0.8;\" x=\"26.925\" xlink:href=\"#m6cb8779a7e\" y=\"177.64898\"/>\n      </g>\n     </g>\n     <g id=\"text_9\">\n      <!-- 15 -->\n      <g transform=\"translate(7.2 181.448198)scale(0.1 -0.1)\">\n       <use xlink:href=\"#DejaVuSans-49\"/>\n       <use x=\"63.623047\" xlink:href=\"#DejaVuSans-53\"/>\n      </g>\n     </g>\n    </g>\n    <g id=\"ytick_5\">\n     <g id=\"line2d_10\">\n      <g>\n       <use style=\"stroke:#000000;stroke-width:0.8;\" x=\"26.925\" xlink:href=\"#m6cb8779a7e\" y=\"138.465306\"/>\n      </g>\n     </g>\n     <g id=\"text_10\">\n      <!-- 20 -->\n      <g transform=\"translate(7.2 142.264525)scale(0.1 -0.1)\">\n       <defs>\n        <path d=\"M 19.1875 8.296875 \nL 53.609375 8.296875 \nL 53.609375 0 \nL 7.328125 0 \nL 7.328125 8.296875 \nQ 12.9375 14.109375 22.625 23.890625 \nQ 32.328125 33.6875 34.8125 36.53125 \nQ 39.546875 41.84375 41.421875 45.53125 \nQ 43.3125 49.21875 43.3125 52.78125 \nQ 43.3125 58.59375 39.234375 62.25 \nQ 35.15625 65.921875 28.609375 65.921875 \nQ 23.96875 65.921875 18.8125 64.3125 \nQ 13.671875 62.703125 7.8125 59.421875 \nL 7.8125 69.390625 \nQ 13.765625 71.78125 18.9375 73 \nQ 24.125 74.21875 28.421875 74.21875 \nQ 39.75 74.21875 46.484375 68.546875 \nQ 53.21875 62.890625 53.21875 53.421875 \nQ 53.21875 48.921875 51.53125 44.890625 \nQ 49.859375 40.875 45.40625 35.40625 \nQ 44.1875 33.984375 37.640625 27.21875 \nQ 31.109375 20.453125 19.1875 8.296875 \nz\n\" id=\"DejaVuSans-50\"/>\n       </defs>\n       <use xlink:href=\"#DejaVuSans-50\"/>\n       <use x=\"63.623047\" xlink:href=\"#DejaVuSans-48\"/>\n      </g>\n     </g>\n    </g>\n    <g id=\"ytick_6\">\n     <g id=\"line2d_11\">\n      <g>\n       <use style=\"stroke:#000000;stroke-width:0.8;\" x=\"26.925\" xlink:href=\"#m6cb8779a7e\" y=\"99.281633\"/>\n      </g>\n     </g>\n     <g id=\"text_11\">\n      <!-- 25 -->\n      <g transform=\"translate(7.2 103.080851)scale(0.1 -0.1)\">\n       <use xlink:href=\"#DejaVuSans-50\"/>\n       <use x=\"63.623047\" xlink:href=\"#DejaVuSans-53\"/>\n      </g>\n     </g>\n    </g>\n    <g id=\"ytick_7\">\n     <g id=\"line2d_12\">\n      <g>\n       <use style=\"stroke:#000000;stroke-width:0.8;\" x=\"26.925\" xlink:href=\"#m6cb8779a7e\" y=\"60.097959\"/>\n      </g>\n     </g>\n     <g id=\"text_12\">\n      <!-- 30 -->\n      <g transform=\"translate(7.2 63.897178)scale(0.1 -0.1)\">\n       <defs>\n        <path d=\"M 40.578125 39.3125 \nQ 47.65625 37.796875 51.625 33 \nQ 55.609375 28.21875 55.609375 21.1875 \nQ 55.609375 10.40625 48.1875 4.484375 \nQ 40.765625 -1.421875 27.09375 -1.421875 \nQ 22.515625 -1.421875 17.65625 -0.515625 \nQ 12.796875 0.390625 7.625 2.203125 \nL 7.625 11.71875 \nQ 11.71875 9.328125 16.59375 8.109375 \nQ 21.484375 6.890625 26.8125 6.890625 \nQ 36.078125 6.890625 40.9375 10.546875 \nQ 45.796875 14.203125 45.796875 21.1875 \nQ 45.796875 27.640625 41.28125 31.265625 \nQ 36.765625 34.90625 28.71875 34.90625 \nL 20.21875 34.90625 \nL 20.21875 43.015625 \nL 29.109375 43.015625 \nQ 36.375 43.015625 40.234375 45.921875 \nQ 44.09375 48.828125 44.09375 54.296875 \nQ 44.09375 59.90625 40.109375 62.90625 \nQ 36.140625 65.921875 28.71875 65.921875 \nQ 24.65625 65.921875 20.015625 65.03125 \nQ 15.375 64.15625 9.8125 62.3125 \nL 9.8125 71.09375 \nQ 15.4375 72.65625 20.34375 73.4375 \nQ 25.25 74.21875 29.59375 74.21875 \nQ 40.828125 74.21875 47.359375 69.109375 \nQ 53.90625 64.015625 53.90625 55.328125 \nQ 53.90625 49.265625 50.4375 45.09375 \nQ 46.96875 40.921875 40.578125 39.3125 \nz\n\" id=\"DejaVuSans-51\"/>\n       </defs>\n       <use xlink:href=\"#DejaVuSans-51\"/>\n       <use x=\"63.623047\" xlink:href=\"#DejaVuSans-48\"/>\n      </g>\n     </g>\n    </g>\n    <g id=\"ytick_8\">\n     <g id=\"line2d_13\">\n      <g>\n       <use style=\"stroke:#000000;stroke-width:0.8;\" x=\"26.925\" xlink:href=\"#m6cb8779a7e\" y=\"20.914286\"/>\n      </g>\n     </g>\n     <g id=\"text_13\">\n      <!-- 35 -->\n      <g transform=\"translate(7.2 24.713504)scale(0.1 -0.1)\">\n       <use xlink:href=\"#DejaVuSans-51\"/>\n       <use x=\"63.623047\" xlink:href=\"#DejaVuSans-53\"/>\n      </g>\n     </g>\n    </g>\n   </g>\n   <g id=\"patch_8\">\n    <path d=\"M 26.925 295.2 \nL 26.925 7.2 \n\" style=\"fill:none;stroke:#000000;stroke-linecap:square;stroke-linejoin:miter;stroke-width:0.8;\"/>\n   </g>\n   <g id=\"patch_9\">\n    <path d=\"M 458.925 295.2 \nL 458.925 7.2 \n\" style=\"fill:none;stroke:#000000;stroke-linecap:square;stroke-linejoin:miter;stroke-width:0.8;\"/>\n   </g>\n   <g id=\"patch_10\">\n    <path d=\"M 26.925 295.2 \nL 458.925 295.2 \n\" style=\"fill:none;stroke:#000000;stroke-linecap:square;stroke-linejoin:miter;stroke-width:0.8;\"/>\n   </g>\n   <g id=\"patch_11\">\n    <path d=\"M 26.925 7.2 \nL 458.925 7.2 \n\" style=\"fill:none;stroke:#000000;stroke-linecap:square;stroke-linejoin:miter;stroke-width:0.8;\"/>\n   </g>\n  </g>\n </g>\n <defs>\n  <clipPath id=\"pf13331b929\">\n   <rect height=\"288\" width=\"432\" x=\"26.925\" y=\"7.2\"/>\n  </clipPath>\n </defs>\n</svg>\n",
      "image/png": "[encoded data removed]"
     },
     "metadata": {
      "needs_background": "light"
     }
    }
   ],
   "source": [
    "import matplotlib.pyplot as plt\n",
    "\n",
    "fig = plt.figure()\n",
    "ax = fig.add_axes([0,0,1,1])\n",
    "\n",
    "langs = ['C', 'C++', 'Java', 'Python', 'PHP']\n",
    "students = [23,17,35,29,12]\n",
    "\n",
    "ax.bar(langs,students)\n",
    "plt.show()"
   ]
  },
  {
   "cell_type": "code",
   "execution_count": 17,
   "metadata": {},
   "outputs": [
    {
     "output_type": "execute_result",
     "data": {
      "text/plain": [
       "         type  \\\n",
       "1  Conference   \n",
       "2     Journal   \n",
       "4    Workshop   \n",
       "3   Symposium   \n",
       "0        Book   \n",
       "\n",
       "                                                                                                                                                                                                                                               sp  \\\n",
       "1  [SP3, SP4, SP15, SP16, SP20, SP24, SP50, SP1, SP11, SP23, SP31, SP42, SP44, SP48, SP5, SP9, SP19, SP37, SP17, SP29, SP47, SP28, SP32, SP38, SP14, SP22, SP43, SP52, SP8, SP21, SP34, SP53, SP6, SP54, SP10, SP45, SP35, SP39, SP51, SP13, SP7]   \n",
       "2                                                                                                                                                                                           [SP12, SP55, SP30, SP40, SP36, SP2, SP27, SP56, SP46]   \n",
       "4                                                                                                                                                                                                                        [SP25, SP26, SP33, SP18]   \n",
       "3                                                                                                                                                                                                                                    [SP49, SP57]   \n",
       "0                                                                                                                                                                                                                                          [SP41]   \n",
       "\n",
       "   count  \n",
       "1     41  \n",
       "2      9  \n",
       "4      4  \n",
       "3      2  \n",
       "0      1  "
      ],
      "text/html": "<div>\n<style scoped>\n    .dataframe tbody tr th:only-of-type {\n        vertical-align: middle;\n    }\n\n    .dataframe tbody tr th {\n        vertical-align: top;\n    }\n\n    .dataframe thead th {\n        text-align: right;\n    }\n</style>\n<table border=\"1\" class=\"dataframe\">\n  <thead>\n    <tr style=\"text-align: right;\">\n      <th></th>\n      <th>type</th>\n      <th>sp</th>\n      <th>count</th>\n    </tr>\n  </thead>\n  <tbody>\n    <tr>\n      <th>1</th>\n      <td>Conference</td>\n      <td>[SP3, SP4, SP15, SP16, SP20, SP24, SP50, SP1, SP11, SP23, SP31, SP42, SP44, SP48, SP5, SP9, SP19, SP37, SP17, SP29, SP47, SP28, SP32, SP38, SP14, SP22, SP43, SP52, SP8, SP21, SP34, SP53, SP6, SP54, SP10, SP45, SP35, SP39, SP51, SP13, SP7]</td>\n      <td>41</td>\n    </tr>\n    <tr>\n      <th>2</th>\n      <td>Journal</td>\n      <td>[SP12, SP55, SP30, SP40, SP36, SP2, SP27, SP56, SP46]</td>\n      <td>9</td>\n    </tr>\n    <tr>\n      <th>4</th>\n      <td>Workshop</td>\n      <td>[SP25, SP26, SP33, SP18]</td>\n      <td>4</td>\n    </tr>\n    <tr>\n      <th>3</th>\n      <td>Symposium</td>\n      <td>[SP49, SP57]</td>\n      <td>2</td>\n    </tr>\n    <tr>\n      <th>0</th>\n      <td>Book</td>\n      <td>[SP41]</td>\n      <td>1</td>\n    </tr>\n  </tbody>\n</table>\n</div>"
     },
     "metadata": {},
     "execution_count": 17
    }
   ],
   "source": [
    "df_my_venues_groupby_type"
   ]
  },
  {
   "cell_type": "code",
   "execution_count": 33,
   "metadata": {},
   "outputs": [
    {
     "output_type": "execute_result",
     "data": {
      "text/plain": [
       "['Conference', 'Journal', 'Workshop', 'Symposium', 'Book']"
      ]
     },
     "metadata": {},
     "execution_count": 33
    }
   ],
   "source": [
    "list_of_venues = [each for each in df_my_venues_groupby_type.type]\n",
    "list_of_venues"
   ]
  },
  {
   "cell_type": "code",
   "execution_count": 34,
   "metadata": {},
   "outputs": [],
   "source": [
    "list_of_venues = ['Conference', 'Journal', 'Workshop', 'Symposium', 'Book series']"
   ]
  },
  {
   "cell_type": "code",
   "execution_count": 35,
   "metadata": {},
   "outputs": [
    {
     "output_type": "display_data",
     "data": {
      "text/plain": "<Figure size 432x288 with 1 Axes>",
      "image/svg+xml": "<?xml version=\"1.0\" encoding=\"utf-8\" standalone=\"no\"?>\n<!DOCTYPE svg PUBLIC \"-//W3C//DTD SVG 1.1//EN\"\n  \"http://www.w3.org/Graphics/SVG/1.1/DTD/svg11.dtd\">\n<!-- Created with matplotlib (https://matplotlib.org/) -->\n<svg height=\"347.874375pt\" version=\"1.1\" viewBox=\"0 0 479.803125 347.874375\" width=\"479.803125pt\" xmlns=\"http://www.w3.org/2000/svg\" xmlns:xlink=\"http://www.w3.org/1999/xlink\">\n <metadata>\n  <rdf:RDF xmlns:cc=\"http://creativecommons.org/ns#\" xmlns:dc=\"http://purl.org/dc/elements/1.1/\" xmlns:rdf=\"http://www.w3.org/1999/02/22-rdf-syntax-ns#\">\n   <cc:Work>\n    <dc:type rdf:resource=\"http://purl.org/dc/dcmitype/StillImage\"/>\n    <dc:date>2021-06-16T11:36:38.194656</dc:date>\n    <dc:format>image/svg+xml</dc:format>\n    <dc:creator>\n     <cc:Agent>\n      <dc:title>Matplotlib v3.3.3, https://matplotlib.org/</dc:title>\n     </cc:Agent>\n    </dc:creator>\n   </cc:Work>\n  </rdf:RDF>\n </metadata>\n <defs>\n  <style type=\"text/css\">*{stroke-linecap:butt;stroke-linejoin:round;}</style>\n </defs>\n <g id=\"figure_1\">\n  <g id=\"patch_1\">\n   <path d=\"M 0 347.874375 \nL 479.803125 347.874375 \nL 479.803125 0 \nL 0 0 \nz\n\" style=\"fill:none;\"/>\n  </g>\n  <g id=\"axes_1\">\n   <g id=\"patch_2\">\n    <path d=\"M 40.603125 310.318125 \nL 472.603125 310.318125 \nL 472.603125 22.318125 \nL 40.603125 22.318125 \nz\n\" style=\"fill:#ffffff;\"/>\n   </g>\n   <g id=\"patch_3\">\n    <path clip-path=\"url(#p55330a04bc)\" d=\"M 60.239489 310.318125 \nL 125.694034 310.318125 \nL 125.694034 36.032411 \nL 60.239489 36.032411 \nz\n\" style=\"fill:#1f77b4;\"/>\n   </g>\n   <g id=\"patch_4\">\n    <path clip-path=\"url(#p55330a04bc)\" d=\"M 142.05767 310.318125 \nL 207.512216 310.318125 \nL 207.512216 250.109066 \nL 142.05767 250.109066 \nz\n\" style=\"fill:#1f77b4;\"/>\n   </g>\n   <g id=\"patch_5\">\n    <path clip-path=\"url(#p55330a04bc)\" d=\"M 223.875852 310.318125 \nL 289.330398 310.318125 \nL 289.330398 283.558543 \nL 223.875852 283.558543 \nz\n\" style=\"fill:#1f77b4;\"/>\n   </g>\n   <g id=\"patch_6\">\n    <path clip-path=\"url(#p55330a04bc)\" d=\"M 305.694034 310.318125 \nL 371.14858 310.318125 \nL 371.14858 296.938334 \nL 305.694034 296.938334 \nz\n\" style=\"fill:#1f77b4;\"/>\n   </g>\n   <g id=\"patch_7\">\n    <path clip-path=\"url(#p55330a04bc)\" d=\"M 387.512216 310.318125 \nL 452.966761 310.318125 \nL 452.966761 303.62823 \nL 387.512216 303.62823 \nz\n\" style=\"fill:#1f77b4;\"/>\n   </g>\n   <g id=\"matplotlib.axis_1\">\n    <g id=\"xtick_1\">\n     <g id=\"line2d_1\">\n      <defs>\n       <path d=\"M 0 0 \nL 0 3.5 \n\" id=\"m32c8270488\" style=\"stroke:#000000;stroke-width:0.8;\"/>\n      </defs>\n      <g>\n       <use style=\"stroke:#000000;stroke-width:0.8;\" x=\"92.966761\" xlink:href=\"#m32c8270488\" y=\"310.318125\"/>\n      </g>\n     </g>\n     <g id=\"text_1\">\n      <!-- Conference -->\n      <g transform=\"translate(64.396449 324.916562)scale(0.1 -0.1)\">\n       <defs>\n        <path d=\"M 64.40625 67.28125 \nL 64.40625 56.890625 \nQ 59.421875 61.53125 53.78125 63.8125 \nQ 48.140625 66.109375 41.796875 66.109375 \nQ 29.296875 66.109375 22.65625 58.46875 \nQ 16.015625 50.828125 16.015625 36.375 \nQ 16.015625 21.96875 22.65625 14.328125 \nQ 29.296875 6.6875 41.796875 6.6875 \nQ 48.140625 6.6875 53.78125 8.984375 \nQ 59.421875 11.28125 64.40625 15.921875 \nL 64.40625 5.609375 \nQ 59.234375 2.09375 53.4375 0.328125 \nQ 47.65625 -1.421875 41.21875 -1.421875 \nQ 24.65625 -1.421875 15.125 8.703125 \nQ 5.609375 18.84375 5.609375 36.375 \nQ 5.609375 53.953125 15.125 64.078125 \nQ 24.65625 74.21875 41.21875 74.21875 \nQ 47.75 74.21875 53.53125 72.484375 \nQ 59.328125 70.75 64.40625 67.28125 \nz\n\" id=\"DejaVuSans-67\"/>\n        <path d=\"M 30.609375 48.390625 \nQ 23.390625 48.390625 19.1875 42.75 \nQ 14.984375 37.109375 14.984375 27.296875 \nQ 14.984375 17.484375 19.15625 11.84375 \nQ 23.34375 6.203125 30.609375 6.203125 \nQ 37.796875 6.203125 41.984375 11.859375 \nQ 46.1875 17.53125 46.1875 27.296875 \nQ 46.1875 37.015625 41.984375 42.703125 \nQ 37.796875 48.390625 30.609375 48.390625 \nz\nM 30.609375 56 \nQ 42.328125 56 49.015625 48.375 \nQ 55.71875 40.765625 55.71875 27.296875 \nQ 55.71875 13.875 49.015625 6.21875 \nQ 42.328125 -1.421875 30.609375 -1.421875 \nQ 18.84375 -1.421875 12.171875 6.21875 \nQ 5.515625 13.875 5.515625 27.296875 \nQ 5.515625 40.765625 12.171875 48.375 \nQ 18.84375 56 30.609375 56 \nz\n\" id=\"DejaVuSans-111\"/>\n        <path d=\"M 54.890625 33.015625 \nL 54.890625 0 \nL 45.90625 0 \nL 45.90625 32.71875 \nQ 45.90625 40.484375 42.875 44.328125 \nQ 39.84375 48.1875 33.796875 48.1875 \nQ 26.515625 48.1875 22.3125 43.546875 \nQ 18.109375 38.921875 18.109375 30.90625 \nL 18.109375 0 \nL 9.078125 0 \nL 9.078125 54.6875 \nL 18.109375 54.6875 \nL 18.109375 46.1875 \nQ 21.34375 51.125 25.703125 53.5625 \nQ 30.078125 56 35.796875 56 \nQ 45.21875 56 50.046875 50.171875 \nQ 54.890625 44.34375 54.890625 33.015625 \nz\n\" id=\"DejaVuSans-110\"/>\n        <path d=\"M 37.109375 75.984375 \nL 37.109375 68.5 \nL 28.515625 68.5 \nQ 23.6875 68.5 21.796875 66.546875 \nQ 19.921875 64.59375 19.921875 59.515625 \nL 19.921875 54.6875 \nL 34.71875 54.6875 \nL 34.71875 47.703125 \nL 19.921875 47.703125 \nL 19.921875 0 \nL 10.890625 0 \nL 10.890625 47.703125 \nL 2.296875 47.703125 \nL 2.296875 54.6875 \nL 10.890625 54.6875 \nL 10.890625 58.5 \nQ 10.890625 67.625 15.140625 71.796875 \nQ 19.390625 75.984375 28.609375 75.984375 \nz\n\" id=\"DejaVuSans-102\"/>\n        <path d=\"M 56.203125 29.59375 \nL 56.203125 25.203125 \nL 14.890625 25.203125 \nQ 15.484375 15.921875 20.484375 11.0625 \nQ 25.484375 6.203125 34.421875 6.203125 \nQ 39.59375 6.203125 44.453125 7.46875 \nQ 49.3125 8.734375 54.109375 11.28125 \nL 54.109375 2.78125 \nQ 49.265625 0.734375 44.1875 -0.34375 \nQ 39.109375 -1.421875 33.890625 -1.421875 \nQ 20.796875 -1.421875 13.15625 6.1875 \nQ 5.515625 13.8125 5.515625 26.8125 \nQ 5.515625 40.234375 12.765625 48.109375 \nQ 20.015625 56 32.328125 56 \nQ 43.359375 56 49.78125 48.890625 \nQ 56.203125 41.796875 56.203125 29.59375 \nz\nM 47.21875 32.234375 \nQ 47.125 39.59375 43.09375 43.984375 \nQ 39.0625 48.390625 32.421875 48.390625 \nQ 24.90625 48.390625 20.390625 44.140625 \nQ 15.875 39.890625 15.1875 32.171875 \nz\n\" id=\"DejaVuSans-101\"/>\n        <path d=\"M 41.109375 46.296875 \nQ 39.59375 47.171875 37.8125 47.578125 \nQ 36.03125 48 33.890625 48 \nQ 26.265625 48 22.1875 43.046875 \nQ 18.109375 38.09375 18.109375 28.8125 \nL 18.109375 0 \nL 9.078125 0 \nL 9.078125 54.6875 \nL 18.109375 54.6875 \nL 18.109375 46.1875 \nQ 20.953125 51.171875 25.484375 53.578125 \nQ 30.03125 56 36.53125 56 \nQ 37.453125 56 38.578125 55.875 \nQ 39.703125 55.765625 41.0625 55.515625 \nz\n\" id=\"DejaVuSans-114\"/>\n        <path d=\"M 48.78125 52.59375 \nL 48.78125 44.1875 \nQ 44.96875 46.296875 41.140625 47.34375 \nQ 37.3125 48.390625 33.40625 48.390625 \nQ 24.65625 48.390625 19.8125 42.84375 \nQ 14.984375 37.3125 14.984375 27.296875 \nQ 14.984375 17.28125 19.8125 11.734375 \nQ 24.65625 6.203125 33.40625 6.203125 \nQ 37.3125 6.203125 41.140625 7.25 \nQ 44.96875 8.296875 48.78125 10.40625 \nL 48.78125 2.09375 \nQ 45.015625 0.34375 40.984375 -0.53125 \nQ 36.96875 -1.421875 32.421875 -1.421875 \nQ 20.0625 -1.421875 12.78125 6.34375 \nQ 5.515625 14.109375 5.515625 27.296875 \nQ 5.515625 40.671875 12.859375 48.328125 \nQ 20.21875 56 33.015625 56 \nQ 37.15625 56 41.109375 55.140625 \nQ 45.0625 54.296875 48.78125 52.59375 \nz\n\" id=\"DejaVuSans-99\"/>\n       </defs>\n       <use xlink:href=\"#DejaVuSans-67\"/>\n       <use x=\"69.824219\" xlink:href=\"#DejaVuSans-111\"/>\n       <use x=\"131.005859\" xlink:href=\"#DejaVuSans-110\"/>\n       <use x=\"194.384766\" xlink:href=\"#DejaVuSans-102\"/>\n       <use x=\"229.589844\" xlink:href=\"#DejaVuSans-101\"/>\n       <use x=\"291.113281\" xlink:href=\"#DejaVuSans-114\"/>\n       <use x=\"329.976562\" xlink:href=\"#DejaVuSans-101\"/>\n       <use x=\"391.5\" xlink:href=\"#DejaVuSans-110\"/>\n       <use x=\"454.878906\" xlink:href=\"#DejaVuSans-99\"/>\n       <use x=\"509.859375\" xlink:href=\"#DejaVuSans-101\"/>\n      </g>\n     </g>\n    </g>\n    <g id=\"xtick_2\">\n     <g id=\"line2d_2\">\n      <g>\n       <use style=\"stroke:#000000;stroke-width:0.8;\" x=\"174.784943\" xlink:href=\"#m32c8270488\" y=\"310.318125\"/>\n      </g>\n     </g>\n     <g id=\"text_2\">\n      <!-- Journal -->\n      <g transform=\"translate(157.491974 324.916562)scale(0.1 -0.1)\">\n       <defs>\n        <path d=\"M 9.8125 72.90625 \nL 19.671875 72.90625 \nL 19.671875 5.078125 \nQ 19.671875 -8.109375 14.671875 -14.0625 \nQ 9.671875 -20.015625 -1.421875 -20.015625 \nL -5.171875 -20.015625 \nL -5.171875 -11.71875 \nL -2.09375 -11.71875 \nQ 4.4375 -11.71875 7.125 -8.046875 \nQ 9.8125 -4.390625 9.8125 5.078125 \nz\n\" id=\"DejaVuSans-74\"/>\n        <path d=\"M 8.5 21.578125 \nL 8.5 54.6875 \nL 17.484375 54.6875 \nL 17.484375 21.921875 \nQ 17.484375 14.15625 20.5 10.265625 \nQ 23.53125 6.390625 29.59375 6.390625 \nQ 36.859375 6.390625 41.078125 11.03125 \nQ 45.3125 15.671875 45.3125 23.6875 \nL 45.3125 54.6875 \nL 54.296875 54.6875 \nL 54.296875 0 \nL 45.3125 0 \nL 45.3125 8.40625 \nQ 42.046875 3.421875 37.71875 1 \nQ 33.40625 -1.421875 27.6875 -1.421875 \nQ 18.265625 -1.421875 13.375 4.4375 \nQ 8.5 10.296875 8.5 21.578125 \nz\nM 31.109375 56 \nz\n\" id=\"DejaVuSans-117\"/>\n        <path d=\"M 34.28125 27.484375 \nQ 23.390625 27.484375 19.1875 25 \nQ 14.984375 22.515625 14.984375 16.5 \nQ 14.984375 11.71875 18.140625 8.90625 \nQ 21.296875 6.109375 26.703125 6.109375 \nQ 34.1875 6.109375 38.703125 11.40625 \nQ 43.21875 16.703125 43.21875 25.484375 \nL 43.21875 27.484375 \nz\nM 52.203125 31.203125 \nL 52.203125 0 \nL 43.21875 0 \nL 43.21875 8.296875 \nQ 40.140625 3.328125 35.546875 0.953125 \nQ 30.953125 -1.421875 24.3125 -1.421875 \nQ 15.921875 -1.421875 10.953125 3.296875 \nQ 6 8.015625 6 15.921875 \nQ 6 25.140625 12.171875 29.828125 \nQ 18.359375 34.515625 30.609375 34.515625 \nL 43.21875 34.515625 \nL 43.21875 35.40625 \nQ 43.21875 41.609375 39.140625 45 \nQ 35.0625 48.390625 27.6875 48.390625 \nQ 23 48.390625 18.546875 47.265625 \nQ 14.109375 46.140625 10.015625 43.890625 \nL 10.015625 52.203125 \nQ 14.9375 54.109375 19.578125 55.046875 \nQ 24.21875 56 28.609375 56 \nQ 40.484375 56 46.34375 49.84375 \nQ 52.203125 43.703125 52.203125 31.203125 \nz\n\" id=\"DejaVuSans-97\"/>\n        <path d=\"M 9.421875 75.984375 \nL 18.40625 75.984375 \nL 18.40625 0 \nL 9.421875 0 \nz\n\" id=\"DejaVuSans-108\"/>\n       </defs>\n       <use xlink:href=\"#DejaVuSans-74\"/>\n       <use x=\"29.492188\" xlink:href=\"#DejaVuSans-111\"/>\n       <use x=\"90.673828\" xlink:href=\"#DejaVuSans-117\"/>\n       <use x=\"154.052734\" xlink:href=\"#DejaVuSans-114\"/>\n       <use x=\"193.416016\" xlink:href=\"#DejaVuSans-110\"/>\n       <use x=\"256.794922\" xlink:href=\"#DejaVuSans-97\"/>\n       <use x=\"318.074219\" xlink:href=\"#DejaVuSans-108\"/>\n      </g>\n     </g>\n    </g>\n    <g id=\"xtick_3\">\n     <g id=\"line2d_3\">\n      <g>\n       <use style=\"stroke:#000000;stroke-width:0.8;\" x=\"256.603125\" xlink:href=\"#m32c8270488\" y=\"310.318125\"/>\n      </g>\n     </g>\n     <g id=\"text_3\">\n      <!-- Workshop -->\n      <g transform=\"translate(231.935937 324.916562)scale(0.1 -0.1)\">\n       <defs>\n        <path d=\"M 3.328125 72.90625 \nL 13.28125 72.90625 \nL 28.609375 11.28125 \nL 43.890625 72.90625 \nL 54.984375 72.90625 \nL 70.3125 11.28125 \nL 85.59375 72.90625 \nL 95.609375 72.90625 \nL 77.296875 0 \nL 64.890625 0 \nL 49.515625 63.28125 \nL 33.984375 0 \nL 21.578125 0 \nz\n\" id=\"DejaVuSans-87\"/>\n        <path d=\"M 9.078125 75.984375 \nL 18.109375 75.984375 \nL 18.109375 31.109375 \nL 44.921875 54.6875 \nL 56.390625 54.6875 \nL 27.390625 29.109375 \nL 57.625 0 \nL 45.90625 0 \nL 18.109375 26.703125 \nL 18.109375 0 \nL 9.078125 0 \nz\n\" id=\"DejaVuSans-107\"/>\n        <path d=\"M 44.28125 53.078125 \nL 44.28125 44.578125 \nQ 40.484375 46.53125 36.375 47.5 \nQ 32.28125 48.484375 27.875 48.484375 \nQ 21.1875 48.484375 17.84375 46.4375 \nQ 14.5 44.390625 14.5 40.28125 \nQ 14.5 37.15625 16.890625 35.375 \nQ 19.28125 33.59375 26.515625 31.984375 \nL 29.59375 31.296875 \nQ 39.15625 29.25 43.1875 25.515625 \nQ 47.21875 21.78125 47.21875 15.09375 \nQ 47.21875 7.46875 41.1875 3.015625 \nQ 35.15625 -1.421875 24.609375 -1.421875 \nQ 20.21875 -1.421875 15.453125 -0.5625 \nQ 10.6875 0.296875 5.421875 2 \nL 5.421875 11.28125 \nQ 10.40625 8.6875 15.234375 7.390625 \nQ 20.0625 6.109375 24.8125 6.109375 \nQ 31.15625 6.109375 34.5625 8.28125 \nQ 37.984375 10.453125 37.984375 14.40625 \nQ 37.984375 18.0625 35.515625 20.015625 \nQ 33.0625 21.96875 24.703125 23.78125 \nL 21.578125 24.515625 \nQ 13.234375 26.265625 9.515625 29.90625 \nQ 5.8125 33.546875 5.8125 39.890625 \nQ 5.8125 47.609375 11.28125 51.796875 \nQ 16.75 56 26.8125 56 \nQ 31.78125 56 36.171875 55.265625 \nQ 40.578125 54.546875 44.28125 53.078125 \nz\n\" id=\"DejaVuSans-115\"/>\n        <path d=\"M 54.890625 33.015625 \nL 54.890625 0 \nL 45.90625 0 \nL 45.90625 32.71875 \nQ 45.90625 40.484375 42.875 44.328125 \nQ 39.84375 48.1875 33.796875 48.1875 \nQ 26.515625 48.1875 22.3125 43.546875 \nQ 18.109375 38.921875 18.109375 30.90625 \nL 18.109375 0 \nL 9.078125 0 \nL 9.078125 75.984375 \nL 18.109375 75.984375 \nL 18.109375 46.1875 \nQ 21.34375 51.125 25.703125 53.5625 \nQ 30.078125 56 35.796875 56 \nQ 45.21875 56 50.046875 50.171875 \nQ 54.890625 44.34375 54.890625 33.015625 \nz\n\" id=\"DejaVuSans-104\"/>\n        <path d=\"M 18.109375 8.203125 \nL 18.109375 -20.796875 \nL 9.078125 -20.796875 \nL 9.078125 54.6875 \nL 18.109375 54.6875 \nL 18.109375 46.390625 \nQ 20.953125 51.265625 25.265625 53.625 \nQ 29.59375 56 35.59375 56 \nQ 45.5625 56 51.78125 48.09375 \nQ 58.015625 40.1875 58.015625 27.296875 \nQ 58.015625 14.40625 51.78125 6.484375 \nQ 45.5625 -1.421875 35.59375 -1.421875 \nQ 29.59375 -1.421875 25.265625 0.953125 \nQ 20.953125 3.328125 18.109375 8.203125 \nz\nM 48.6875 27.296875 \nQ 48.6875 37.203125 44.609375 42.84375 \nQ 40.53125 48.484375 33.40625 48.484375 \nQ 26.265625 48.484375 22.1875 42.84375 \nQ 18.109375 37.203125 18.109375 27.296875 \nQ 18.109375 17.390625 22.1875 11.75 \nQ 26.265625 6.109375 33.40625 6.109375 \nQ 40.53125 6.109375 44.609375 11.75 \nQ 48.6875 17.390625 48.6875 27.296875 \nz\n\" id=\"DejaVuSans-112\"/>\n       </defs>\n       <use xlink:href=\"#DejaVuSans-87\"/>\n       <use x=\"93.001953\" xlink:href=\"#DejaVuSans-111\"/>\n       <use x=\"154.183594\" xlink:href=\"#DejaVuSans-114\"/>\n       <use x=\"195.296875\" xlink:href=\"#DejaVuSans-107\"/>\n       <use x=\"253.207031\" xlink:href=\"#DejaVuSans-115\"/>\n       <use x=\"305.306641\" xlink:href=\"#DejaVuSans-104\"/>\n       <use x=\"368.685547\" xlink:href=\"#DejaVuSans-111\"/>\n       <use x=\"429.867188\" xlink:href=\"#DejaVuSans-112\"/>\n      </g>\n     </g>\n    </g>\n    <g id=\"xtick_4\">\n     <g id=\"line2d_4\">\n      <g>\n       <use style=\"stroke:#000000;stroke-width:0.8;\" x=\"338.421307\" xlink:href=\"#m32c8270488\" y=\"310.318125\"/>\n      </g>\n     </g>\n     <g id=\"text_4\">\n      <!-- Symposium -->\n      <g transform=\"translate(309.150994 324.916562)scale(0.1 -0.1)\">\n       <defs>\n        <path d=\"M 53.515625 70.515625 \nL 53.515625 60.890625 \nQ 47.90625 63.578125 42.921875 64.890625 \nQ 37.9375 66.21875 33.296875 66.21875 \nQ 25.25 66.21875 20.875 63.09375 \nQ 16.5 59.96875 16.5 54.203125 \nQ 16.5 49.359375 19.40625 46.890625 \nQ 22.3125 44.4375 30.421875 42.921875 \nL 36.375 41.703125 \nQ 47.40625 39.59375 52.65625 34.296875 \nQ 57.90625 29 57.90625 20.125 \nQ 57.90625 9.515625 50.796875 4.046875 \nQ 43.703125 -1.421875 29.984375 -1.421875 \nQ 24.8125 -1.421875 18.96875 -0.25 \nQ 13.140625 0.921875 6.890625 3.21875 \nL 6.890625 13.375 \nQ 12.890625 10.015625 18.65625 8.296875 \nQ 24.421875 6.59375 29.984375 6.59375 \nQ 38.421875 6.59375 43.015625 9.90625 \nQ 47.609375 13.234375 47.609375 19.390625 \nQ 47.609375 24.75 44.3125 27.78125 \nQ 41.015625 30.8125 33.5 32.328125 \nL 27.484375 33.5 \nQ 16.453125 35.6875 11.515625 40.375 \nQ 6.59375 45.0625 6.59375 53.421875 \nQ 6.59375 63.09375 13.40625 68.65625 \nQ 20.21875 74.21875 32.171875 74.21875 \nQ 37.3125 74.21875 42.625 73.28125 \nQ 47.953125 72.359375 53.515625 70.515625 \nz\n\" id=\"DejaVuSans-83\"/>\n        <path d=\"M 32.171875 -5.078125 \nQ 28.375 -14.84375 24.75 -17.8125 \nQ 21.140625 -20.796875 15.09375 -20.796875 \nL 7.90625 -20.796875 \nL 7.90625 -13.28125 \nL 13.1875 -13.28125 \nQ 16.890625 -13.28125 18.9375 -11.515625 \nQ 21 -9.765625 23.484375 -3.21875 \nL 25.09375 0.875 \nL 2.984375 54.6875 \nL 12.5 54.6875 \nL 29.59375 11.921875 \nL 46.6875 54.6875 \nL 56.203125 54.6875 \nz\n\" id=\"DejaVuSans-121\"/>\n        <path d=\"M 52 44.1875 \nQ 55.375 50.25 60.0625 53.125 \nQ 64.75 56 71.09375 56 \nQ 79.640625 56 84.28125 50.015625 \nQ 88.921875 44.046875 88.921875 33.015625 \nL 88.921875 0 \nL 79.890625 0 \nL 79.890625 32.71875 \nQ 79.890625 40.578125 77.09375 44.375 \nQ 74.3125 48.1875 68.609375 48.1875 \nQ 61.625 48.1875 57.5625 43.546875 \nQ 53.515625 38.921875 53.515625 30.90625 \nL 53.515625 0 \nL 44.484375 0 \nL 44.484375 32.71875 \nQ 44.484375 40.625 41.703125 44.40625 \nQ 38.921875 48.1875 33.109375 48.1875 \nQ 26.21875 48.1875 22.15625 43.53125 \nQ 18.109375 38.875 18.109375 30.90625 \nL 18.109375 0 \nL 9.078125 0 \nL 9.078125 54.6875 \nL 18.109375 54.6875 \nL 18.109375 46.1875 \nQ 21.1875 51.21875 25.484375 53.609375 \nQ 29.78125 56 35.6875 56 \nQ 41.65625 56 45.828125 52.96875 \nQ 50 49.953125 52 44.1875 \nz\n\" id=\"DejaVuSans-109\"/>\n        <path d=\"M 9.421875 54.6875 \nL 18.40625 54.6875 \nL 18.40625 0 \nL 9.421875 0 \nz\nM 9.421875 75.984375 \nL 18.40625 75.984375 \nL 18.40625 64.59375 \nL 9.421875 64.59375 \nz\n\" id=\"DejaVuSans-105\"/>\n       </defs>\n       <use xlink:href=\"#DejaVuSans-83\"/>\n       <use x=\"63.476562\" xlink:href=\"#DejaVuSans-121\"/>\n       <use x=\"122.65625\" xlink:href=\"#DejaVuSans-109\"/>\n       <use x=\"220.068359\" xlink:href=\"#DejaVuSans-112\"/>\n       <use x=\"283.544922\" xlink:href=\"#DejaVuSans-111\"/>\n       <use x=\"344.726562\" xlink:href=\"#DejaVuSans-115\"/>\n       <use x=\"396.826172\" xlink:href=\"#DejaVuSans-105\"/>\n       <use x=\"424.609375\" xlink:href=\"#DejaVuSans-117\"/>\n       <use x=\"487.988281\" xlink:href=\"#DejaVuSans-109\"/>\n      </g>\n     </g>\n    </g>\n    <g id=\"xtick_5\">\n     <g id=\"line2d_5\">\n      <g>\n       <use style=\"stroke:#000000;stroke-width:0.8;\" x=\"420.239489\" xlink:href=\"#m32c8270488\" y=\"310.318125\"/>\n      </g>\n     </g>\n     <g id=\"text_5\">\n      <!-- Book series -->\n      <g transform=\"translate(391.398864 324.916562)scale(0.1 -0.1)\">\n       <defs>\n        <path d=\"M 19.671875 34.8125 \nL 19.671875 8.109375 \nL 35.5 8.109375 \nQ 43.453125 8.109375 47.28125 11.40625 \nQ 51.125 14.703125 51.125 21.484375 \nQ 51.125 28.328125 47.28125 31.5625 \nQ 43.453125 34.8125 35.5 34.8125 \nz\nM 19.671875 64.796875 \nL 19.671875 42.828125 \nL 34.28125 42.828125 \nQ 41.5 42.828125 45.03125 45.53125 \nQ 48.578125 48.25 48.578125 53.8125 \nQ 48.578125 59.328125 45.03125 62.0625 \nQ 41.5 64.796875 34.28125 64.796875 \nz\nM 9.8125 72.90625 \nL 35.015625 72.90625 \nQ 46.296875 72.90625 52.390625 68.21875 \nQ 58.5 63.53125 58.5 54.890625 \nQ 58.5 48.1875 55.375 44.234375 \nQ 52.25 40.28125 46.1875 39.3125 \nQ 53.46875 37.75 57.5 32.78125 \nQ 61.53125 27.828125 61.53125 20.40625 \nQ 61.53125 10.640625 54.890625 5.3125 \nQ 48.25 0 35.984375 0 \nL 9.8125 0 \nz\n\" id=\"DejaVuSans-66\"/>\n        <path id=\"DejaVuSans-32\"/>\n       </defs>\n       <use xlink:href=\"#DejaVuSans-66\"/>\n       <use x=\"68.603516\" xlink:href=\"#DejaVuSans-111\"/>\n       <use x=\"129.785156\" xlink:href=\"#DejaVuSans-111\"/>\n       <use x=\"190.966797\" xlink:href=\"#DejaVuSans-107\"/>\n       <use x=\"248.876953\" xlink:href=\"#DejaVuSans-32\"/>\n       <use x=\"280.664062\" xlink:href=\"#DejaVuSans-115\"/>\n       <use x=\"332.763672\" xlink:href=\"#DejaVuSans-101\"/>\n       <use x=\"394.287109\" xlink:href=\"#DejaVuSans-114\"/>\n       <use x=\"435.400391\" xlink:href=\"#DejaVuSans-105\"/>\n       <use x=\"463.183594\" xlink:href=\"#DejaVuSans-101\"/>\n       <use x=\"524.707031\" xlink:href=\"#DejaVuSans-115\"/>\n      </g>\n     </g>\n    </g>\n    <g id=\"text_6\">\n     <!-- Type -->\n     <g transform=\"translate(245.120312 338.594687)scale(0.1 -0.1)\">\n      <defs>\n       <path d=\"M -0.296875 72.90625 \nL 61.375 72.90625 \nL 61.375 64.59375 \nL 35.5 64.59375 \nL 35.5 0 \nL 25.59375 0 \nL 25.59375 64.59375 \nL -0.296875 64.59375 \nz\n\" id=\"DejaVuSans-84\"/>\n      </defs>\n      <use xlink:href=\"#DejaVuSans-84\"/>\n      <use x=\"45.458984\" xlink:href=\"#DejaVuSans-121\"/>\n      <use x=\"104.638672\" xlink:href=\"#DejaVuSans-112\"/>\n      <use x=\"168.115234\" xlink:href=\"#DejaVuSans-101\"/>\n     </g>\n    </g>\n   </g>\n   <g id=\"matplotlib.axis_2\">\n    <g id=\"ytick_1\">\n     <g id=\"line2d_6\">\n      <defs>\n       <path d=\"M 0 0 \nL -3.5 0 \n\" id=\"mf1482f7fce\" style=\"stroke:#000000;stroke-width:0.8;\"/>\n      </defs>\n      <g>\n       <use style=\"stroke:#000000;stroke-width:0.8;\" x=\"40.603125\" xlink:href=\"#mf1482f7fce\" y=\"310.318125\"/>\n      </g>\n     </g>\n     <g id=\"text_7\">\n      <!-- 0 -->\n      <g transform=\"translate(27.240625 314.117344)scale(0.1 -0.1)\">\n       <defs>\n        <path d=\"M 31.78125 66.40625 \nQ 24.171875 66.40625 20.328125 58.90625 \nQ 16.5 51.421875 16.5 36.375 \nQ 16.5 21.390625 20.328125 13.890625 \nQ 24.171875 6.390625 31.78125 6.390625 \nQ 39.453125 6.390625 43.28125 13.890625 \nQ 47.125 21.390625 47.125 36.375 \nQ 47.125 51.421875 43.28125 58.90625 \nQ 39.453125 66.40625 31.78125 66.40625 \nz\nM 31.78125 74.21875 \nQ 44.046875 74.21875 50.515625 64.515625 \nQ 56.984375 54.828125 56.984375 36.375 \nQ 56.984375 17.96875 50.515625 8.265625 \nQ 44.046875 -1.421875 31.78125 -1.421875 \nQ 19.53125 -1.421875 13.0625 8.265625 \nQ 6.59375 17.96875 6.59375 36.375 \nQ 6.59375 54.828125 13.0625 64.515625 \nQ 19.53125 74.21875 31.78125 74.21875 \nz\n\" id=\"DejaVuSans-48\"/>\n       </defs>\n       <use xlink:href=\"#DejaVuSans-48\"/>\n      </g>\n     </g>\n    </g>\n    <g id=\"ytick_2\">\n     <g id=\"line2d_7\">\n      <g>\n       <use style=\"stroke:#000000;stroke-width:0.8;\" x=\"40.603125\" xlink:href=\"#mf1482f7fce\" y=\"276.868648\"/>\n      </g>\n     </g>\n     <g id=\"text_8\">\n      <!-- 5 -->\n      <g transform=\"translate(27.240625 280.667866)scale(0.1 -0.1)\">\n       <defs>\n        <path d=\"M 10.796875 72.90625 \nL 49.515625 72.90625 \nL 49.515625 64.59375 \nL 19.828125 64.59375 \nL 19.828125 46.734375 \nQ 21.96875 47.46875 24.109375 47.828125 \nQ 26.265625 48.1875 28.421875 48.1875 \nQ 40.625 48.1875 47.75 41.5 \nQ 54.890625 34.8125 54.890625 23.390625 \nQ 54.890625 11.625 47.5625 5.09375 \nQ 40.234375 -1.421875 26.90625 -1.421875 \nQ 22.3125 -1.421875 17.546875 -0.640625 \nQ 12.796875 0.140625 7.71875 1.703125 \nL 7.71875 11.625 \nQ 12.109375 9.234375 16.796875 8.0625 \nQ 21.484375 6.890625 26.703125 6.890625 \nQ 35.15625 6.890625 40.078125 11.328125 \nQ 45.015625 15.765625 45.015625 23.390625 \nQ 45.015625 31 40.078125 35.4375 \nQ 35.15625 39.890625 26.703125 39.890625 \nQ 22.75 39.890625 18.8125 39.015625 \nQ 14.890625 38.140625 10.796875 36.28125 \nz\n\" id=\"DejaVuSans-53\"/>\n       </defs>\n       <use xlink:href=\"#DejaVuSans-53\"/>\n      </g>\n     </g>\n    </g>\n    <g id=\"ytick_3\">\n     <g id=\"line2d_8\">\n      <g>\n       <use style=\"stroke:#000000;stroke-width:0.8;\" x=\"40.603125\" xlink:href=\"#mf1482f7fce\" y=\"243.41917\"/>\n      </g>\n     </g>\n     <g id=\"text_9\">\n      <!-- 10 -->\n      <g transform=\"translate(20.878125 247.218389)scale(0.1 -0.1)\">\n       <defs>\n        <path d=\"M 12.40625 8.296875 \nL 28.515625 8.296875 \nL 28.515625 63.921875 \nL 10.984375 60.40625 \nL 10.984375 69.390625 \nL 28.421875 72.90625 \nL 38.28125 72.90625 \nL 38.28125 8.296875 \nL 54.390625 8.296875 \nL 54.390625 0 \nL 12.40625 0 \nz\n\" id=\"DejaVuSans-49\"/>\n       </defs>\n       <use xlink:href=\"#DejaVuSans-49\"/>\n       <use x=\"63.623047\" xlink:href=\"#DejaVuSans-48\"/>\n      </g>\n     </g>\n    </g>\n    <g id=\"ytick_4\">\n     <g id=\"line2d_9\">\n      <g>\n       <use style=\"stroke:#000000;stroke-width:0.8;\" x=\"40.603125\" xlink:href=\"#mf1482f7fce\" y=\"209.969693\"/>\n      </g>\n     </g>\n     <g id=\"text_10\">\n      <!-- 15 -->\n      <g transform=\"translate(20.878125 213.768912)scale(0.1 -0.1)\">\n       <use xlink:href=\"#DejaVuSans-49\"/>\n       <use x=\"63.623047\" xlink:href=\"#DejaVuSans-53\"/>\n      </g>\n     </g>\n    </g>\n    <g id=\"ytick_5\">\n     <g id=\"line2d_10\">\n      <g>\n       <use style=\"stroke:#000000;stroke-width:0.8;\" x=\"40.603125\" xlink:href=\"#mf1482f7fce\" y=\"176.520216\"/>\n      </g>\n     </g>\n     <g id=\"text_11\">\n      <!-- 20 -->\n      <g transform=\"translate(20.878125 180.319434)scale(0.1 -0.1)\">\n       <defs>\n        <path d=\"M 19.1875 8.296875 \nL 53.609375 8.296875 \nL 53.609375 0 \nL 7.328125 0 \nL 7.328125 8.296875 \nQ 12.9375 14.109375 22.625 23.890625 \nQ 32.328125 33.6875 34.8125 36.53125 \nQ 39.546875 41.84375 41.421875 45.53125 \nQ 43.3125 49.21875 43.3125 52.78125 \nQ 43.3125 58.59375 39.234375 62.25 \nQ 35.15625 65.921875 28.609375 65.921875 \nQ 23.96875 65.921875 18.8125 64.3125 \nQ 13.671875 62.703125 7.8125 59.421875 \nL 7.8125 69.390625 \nQ 13.765625 71.78125 18.9375 73 \nQ 24.125 74.21875 28.421875 74.21875 \nQ 39.75 74.21875 46.484375 68.546875 \nQ 53.21875 62.890625 53.21875 53.421875 \nQ 53.21875 48.921875 51.53125 44.890625 \nQ 49.859375 40.875 45.40625 35.40625 \nQ 44.1875 33.984375 37.640625 27.21875 \nQ 31.109375 20.453125 19.1875 8.296875 \nz\n\" id=\"DejaVuSans-50\"/>\n       </defs>\n       <use xlink:href=\"#DejaVuSans-50\"/>\n       <use x=\"63.623047\" xlink:href=\"#DejaVuSans-48\"/>\n      </g>\n     </g>\n    </g>\n    <g id=\"ytick_6\">\n     <g id=\"line2d_11\">\n      <g>\n       <use style=\"stroke:#000000;stroke-width:0.8;\" x=\"40.603125\" xlink:href=\"#mf1482f7fce\" y=\"143.070738\"/>\n      </g>\n     </g>\n     <g id=\"text_12\">\n      <!-- 25 -->\n      <g transform=\"translate(20.878125 146.869957)scale(0.1 -0.1)\">\n       <use xlink:href=\"#DejaVuSans-50\"/>\n       <use x=\"63.623047\" xlink:href=\"#DejaVuSans-53\"/>\n      </g>\n     </g>\n    </g>\n    <g id=\"ytick_7\">\n     <g id=\"line2d_12\">\n      <g>\n       <use style=\"stroke:#000000;stroke-width:0.8;\" x=\"40.603125\" xlink:href=\"#mf1482f7fce\" y=\"109.621261\"/>\n      </g>\n     </g>\n     <g id=\"text_13\">\n      <!-- 30 -->\n      <g transform=\"translate(20.878125 113.42048)scale(0.1 -0.1)\">\n       <defs>\n        <path d=\"M 40.578125 39.3125 \nQ 47.65625 37.796875 51.625 33 \nQ 55.609375 28.21875 55.609375 21.1875 \nQ 55.609375 10.40625 48.1875 4.484375 \nQ 40.765625 -1.421875 27.09375 -1.421875 \nQ 22.515625 -1.421875 17.65625 -0.515625 \nQ 12.796875 0.390625 7.625 2.203125 \nL 7.625 11.71875 \nQ 11.71875 9.328125 16.59375 8.109375 \nQ 21.484375 6.890625 26.8125 6.890625 \nQ 36.078125 6.890625 40.9375 10.546875 \nQ 45.796875 14.203125 45.796875 21.1875 \nQ 45.796875 27.640625 41.28125 31.265625 \nQ 36.765625 34.90625 28.71875 34.90625 \nL 20.21875 34.90625 \nL 20.21875 43.015625 \nL 29.109375 43.015625 \nQ 36.375 43.015625 40.234375 45.921875 \nQ 44.09375 48.828125 44.09375 54.296875 \nQ 44.09375 59.90625 40.109375 62.90625 \nQ 36.140625 65.921875 28.71875 65.921875 \nQ 24.65625 65.921875 20.015625 65.03125 \nQ 15.375 64.15625 9.8125 62.3125 \nL 9.8125 71.09375 \nQ 15.4375 72.65625 20.34375 73.4375 \nQ 25.25 74.21875 29.59375 74.21875 \nQ 40.828125 74.21875 47.359375 69.109375 \nQ 53.90625 64.015625 53.90625 55.328125 \nQ 53.90625 49.265625 50.4375 45.09375 \nQ 46.96875 40.921875 40.578125 39.3125 \nz\n\" id=\"DejaVuSans-51\"/>\n       </defs>\n       <use xlink:href=\"#DejaVuSans-51\"/>\n       <use x=\"63.623047\" xlink:href=\"#DejaVuSans-48\"/>\n      </g>\n     </g>\n    </g>\n    <g id=\"ytick_8\">\n     <g id=\"line2d_13\">\n      <g>\n       <use style=\"stroke:#000000;stroke-width:0.8;\" x=\"40.603125\" xlink:href=\"#mf1482f7fce\" y=\"76.171784\"/>\n      </g>\n     </g>\n     <g id=\"text_14\">\n      <!-- 35 -->\n      <g transform=\"translate(20.878125 79.971002)scale(0.1 -0.1)\">\n       <use xlink:href=\"#DejaVuSans-51\"/>\n       <use x=\"63.623047\" xlink:href=\"#DejaVuSans-53\"/>\n      </g>\n     </g>\n    </g>\n    <g id=\"ytick_9\">\n     <g id=\"line2d_14\">\n      <g>\n       <use style=\"stroke:#000000;stroke-width:0.8;\" x=\"40.603125\" xlink:href=\"#mf1482f7fce\" y=\"42.722306\"/>\n      </g>\n     </g>\n     <g id=\"text_15\">\n      <!-- 40 -->\n      <g transform=\"translate(20.878125 46.521525)scale(0.1 -0.1)\">\n       <defs>\n        <path d=\"M 37.796875 64.3125 \nL 12.890625 25.390625 \nL 37.796875 25.390625 \nz\nM 35.203125 72.90625 \nL 47.609375 72.90625 \nL 47.609375 25.390625 \nL 58.015625 25.390625 \nL 58.015625 17.1875 \nL 47.609375 17.1875 \nL 47.609375 0 \nL 37.796875 0 \nL 37.796875 17.1875 \nL 4.890625 17.1875 \nL 4.890625 26.703125 \nz\n\" id=\"DejaVuSans-52\"/>\n       </defs>\n       <use xlink:href=\"#DejaVuSans-52\"/>\n       <use x=\"63.623047\" xlink:href=\"#DejaVuSans-48\"/>\n      </g>\n     </g>\n    </g>\n    <g id=\"text_16\">\n     <!-- Value -->\n     <g transform=\"translate(14.798438 180.049375)rotate(-90)scale(0.1 -0.1)\">\n      <defs>\n       <path d=\"M 28.609375 0 \nL 0.78125 72.90625 \nL 11.078125 72.90625 \nL 34.1875 11.53125 \nL 57.328125 72.90625 \nL 67.578125 72.90625 \nL 39.796875 0 \nz\n\" id=\"DejaVuSans-86\"/>\n      </defs>\n      <use xlink:href=\"#DejaVuSans-86\"/>\n      <use x=\"60.658203\" xlink:href=\"#DejaVuSans-97\"/>\n      <use x=\"121.9375\" xlink:href=\"#DejaVuSans-108\"/>\n      <use x=\"149.720703\" xlink:href=\"#DejaVuSans-117\"/>\n      <use x=\"213.099609\" xlink:href=\"#DejaVuSans-101\"/>\n     </g>\n    </g>\n   </g>\n   <g id=\"patch_8\">\n    <path d=\"M 40.603125 310.318125 \nL 40.603125 22.318125 \n\" style=\"fill:none;stroke:#000000;stroke-linecap:square;stroke-linejoin:miter;stroke-width:0.8;\"/>\n   </g>\n   <g id=\"patch_9\">\n    <path d=\"M 472.603125 310.318125 \nL 472.603125 22.318125 \n\" style=\"fill:none;stroke:#000000;stroke-linecap:square;stroke-linejoin:miter;stroke-width:0.8;\"/>\n   </g>\n   <g id=\"patch_10\">\n    <path d=\"M 40.603125 310.318125 \nL 472.603125 310.318125 \n\" style=\"fill:none;stroke:#000000;stroke-linecap:square;stroke-linejoin:miter;stroke-width:0.8;\"/>\n   </g>\n   <g id=\"patch_11\">\n    <path d=\"M 40.603125 22.318125 \nL 472.603125 22.318125 \n\" style=\"fill:none;stroke:#000000;stroke-linecap:square;stroke-linejoin:miter;stroke-width:0.8;\"/>\n   </g>\n   <g id=\"text_17\">\n    <!-- Venue per type -->\n    <g transform=\"translate(210.789375 16.318125)scale(0.12 -0.12)\">\n     <defs>\n      <path d=\"M 18.3125 70.21875 \nL 18.3125 54.6875 \nL 36.8125 54.6875 \nL 36.8125 47.703125 \nL 18.3125 47.703125 \nL 18.3125 18.015625 \nQ 18.3125 11.328125 20.140625 9.421875 \nQ 21.96875 7.515625 27.59375 7.515625 \nL 36.8125 7.515625 \nL 36.8125 0 \nL 27.59375 0 \nQ 17.1875 0 13.234375 3.875 \nQ 9.28125 7.765625 9.28125 18.015625 \nL 9.28125 47.703125 \nL 2.6875 47.703125 \nL 2.6875 54.6875 \nL 9.28125 54.6875 \nL 9.28125 70.21875 \nz\n\" id=\"DejaVuSans-116\"/>\n     </defs>\n     <use xlink:href=\"#DejaVuSans-86\"/>\n     <use x=\"60.658203\" xlink:href=\"#DejaVuSans-101\"/>\n     <use x=\"122.181641\" xlink:href=\"#DejaVuSans-110\"/>\n     <use x=\"185.560547\" xlink:href=\"#DejaVuSans-117\"/>\n     <use x=\"248.939453\" xlink:href=\"#DejaVuSans-101\"/>\n     <use x=\"310.462891\" xlink:href=\"#DejaVuSans-32\"/>\n     <use x=\"342.25\" xlink:href=\"#DejaVuSans-112\"/>\n     <use x=\"405.726562\" xlink:href=\"#DejaVuSans-101\"/>\n     <use x=\"467.25\" xlink:href=\"#DejaVuSans-114\"/>\n     <use x=\"508.363281\" xlink:href=\"#DejaVuSans-32\"/>\n     <use x=\"540.150391\" xlink:href=\"#DejaVuSans-116\"/>\n     <use x=\"579.359375\" xlink:href=\"#DejaVuSans-121\"/>\n     <use x=\"638.539062\" xlink:href=\"#DejaVuSans-112\"/>\n     <use x=\"702.015625\" xlink:href=\"#DejaVuSans-101\"/>\n    </g>\n   </g>\n  </g>\n </g>\n <defs>\n  <clipPath id=\"p55330a04bc\">\n   <rect height=\"288\" width=\"432\" x=\"40.603125\" y=\"22.318125\"/>\n  </clipPath>\n </defs>\n</svg>\n",
      "image/png": "[encoded data removed]"
     },
     "metadata": {
      "needs_background": "light"
     }
    }
   ],
   "source": [
    "fig = plt.figure()\n",
    "ax = fig.add_axes([0,0,1,1])\n",
    "\n",
    "list_of_count_venues = [each for each in df_my_venues_groupby_type['count']]\n",
    "\n",
    "ax.bar(list_of_venues, list_of_count_venues)\n",
    "plt.title('Venue per type')\n",
    "plt.xlabel('Type')\n",
    "plt.ylabel('Value')\n",
    "plt.show()"
   ]
  },
  {
   "cell_type": "code",
   "execution_count": null,
   "metadata": {},
   "outputs": [],
   "source": []
  }
 ]
}