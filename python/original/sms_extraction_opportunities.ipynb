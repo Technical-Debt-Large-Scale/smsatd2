{
 "metadata": {
  "language_info": {
   "codemirror_mode": {
    "name": "ipython",
    "version": 3
   },
   "file_extension": ".py",
   "mimetype": "text/x-python",
   "name": "python",
   "nbconvert_exporter": "python",
   "pygments_lexer": "ipython3",
   "version": "3.6.3-final"
  },
  "orig_nbformat": 2,
  "kernelspec": {
   "name": "python3",
   "display_name": "Python 3",
   "language": "python"
  }
 },
 "nbformat": 4,
 "nbformat_minor": 2,
 "cells": [
  {
   "cell_type": "code",
   "execution_count": 1,
   "metadata": {},
   "outputs": [],
   "source": [
    "import os\n",
    "import sys\n",
    "nb_dir = os.path.split(os.getcwd())[0]\n",
    "if nb_dir not in sys.path:\n",
    "    sys.path.append(nb_dir)"
   ]
  },
  {
   "cell_type": "code",
   "execution_count": 2,
   "metadata": {},
   "outputs": [],
   "source": [
    "import pandas as pd\n",
    "import util.utilities as util\n",
    "from collections import Counter\n",
    "import numpy as np\n",
    "\n",
    "df_sms_extraction = pd.read_excel('../../dataset/Extraction_form.xlsx')\n",
    "df_sms_extraction = df_sms_extraction.replace(np.nan, '', regex=True)"
   ]
  },
  {
   "source": [
    "# Paper Relevance"
   ],
   "cell_type": "markdown",
   "metadata": {}
  },
  {
   "cell_type": "code",
   "execution_count": 3,
   "metadata": {},
   "outputs": [
    {
     "output_type": "stream",
     "name": "stdout",
     "text": [
      "{1: 'good', 2: 'great', 3: 'good', 4: 'good', 5: 'good', 7: 'great', 9: 'great', 10: 'great', 13: 'good', 14: 'weak', 15: 'weak', 16: '', 17: 'good', 21: 'great', 22: 'good', 27: 'good', 30: '', 38: '', 48: 'great', 47: 'good', 20: 'good', 33: 'great', 26: 'weak', 28: 'good', 31: 'good', 44: 'good', 43: 'good', 51: 'good', 52: 'good', 63: '', 73: 'good', 69: 'good', 67: ' good', 66: 'good', 96: 'weak', 35: '', 24: '', 77: 'good', 78: 'good', 81: 'good', 82: 'regular', 85: '', 88: 'good', 90: 'good', 91: 'regular', 97: 'weak', 40: ''}\n\n[('good', 24), ('', 8), ('great', 7), ('weak', 5), ('regular', 2), (' good', 1)]\n"
     ]
    }
   ],
   "source": [
    "list_relevance = []\n",
    "dict_relevance = {}\n",
    "for item in zip( list(df_sms_extraction['Paper Id']), list(df_sms_extraction['Paper relevance']) ):\n",
    "    id = item[0]\n",
    "    relevance = str(item[1])\n",
    "    relevance = relevance.split(';')\n",
    "    dict_relevance[id] = relevance[0].lower()\n",
    "    list_relevance.append(relevance[0].lower())\n",
    "print(dict_relevance)\n",
    "print()\n",
    "print(Counter(list_relevance).most_common() )"
   ]
  },
  {
   "source": [
    "# Scientific Rigor"
   ],
   "cell_type": "markdown",
   "metadata": {}
  },
  {
   "cell_type": "code",
   "execution_count": 4,
   "metadata": {},
   "outputs": [
    {
     "output_type": "stream",
     "name": "stdout",
     "text": [
      "{1: ' final: good', 2: ' final: good', 3: ' final: good', 4: ' final: good', 5: ' final: great', 7: ' final: great', 9: ' final: great', 10: ' final: great', 13: ' final: great', 14: ' final: weak', 15: ' final: poor', 17: ' final: regular', 21: ' final: good', 22: ' final: good', 27: ' final: good', 48: ' final: great', 47: ' final: regular', 20: ' final: good', 33: ' final: good', 26: ' final: weak', 28: ' final: good', 31: ' final: good', 44: ' final: regular', 43: ' final: good', 51: ' final: good', 52: ' final: good', 73: ' final: weak', 69: ' final: good', 67: ' final: good', 66: ' final: good', 96: ' final: weak', 77: ' final: regular', 78: ' final: regular', 81: ' final: regular', 82: ' final: regular', 88: ' final: good', 90: ' final: regular', 91: ' final: regular', 97: ' final: weak'}\n\n[(' final: good', 18), (' final: regular', 9), (' final: great', 6), (' final: weak', 5), (' final: poor', 1)]\n"
     ]
    }
   ],
   "source": [
    "list_scientific_rigor = []\n",
    "dict_scientific_rigor = {}\n",
    "for item in zip( list(df_sms_extraction['Paper Id']), list(df_sms_extraction['Scientific Rigor']) ):\n",
    "    id = item[0]\n",
    "    sr = str(item[1])\n",
    "    if (sr != ''):\n",
    "        sr = sr.split(',')\n",
    "        dict_scientific_rigor[id] = sr[6].lower()\n",
    "        list_scientific_rigor.append(sr[6].lower())\n",
    "print(dict_scientific_rigor)\n",
    "print()\n",
    "print(Counter(list_scientific_rigor).most_common())"
   ]
  },
  {
   "source": [
    "# Limitations"
   ],
   "cell_type": "markdown",
   "metadata": {}
  },
  {
   "cell_type": "code",
   "execution_count": 5,
   "metadata": {},
   "outputs": [
    {
     "output_type": "execute_result",
     "data": {
      "text/plain": [
       "{2: 'To estimate the effort to fix the ATD is necessary, an evaluation of developers. So, it is necessary for a manual process to evaluate the efort.',\n",
       " 3: 'The data validation should be performed in a real industrial project.',\n",
       " 4: 'Only one project in short time of 9 months.',\n",
       " 5: 'The calculus of cost of ATDI depends on the participation of the developers from each feature and bug analysed on case study.',\n",
       " 7: 'First the accuracy of our study depends on the quality of project revision histories. Second, our definition of active hotspot uses seed files and includes files with propagation relations with them. There may exist more effective ways to find more precise hotspot, e.g. at method-level instead of file-level. Improving and further evaluating the hotspot detection algorithm is future work. Finally, the activeness of a system will significantly influ- ence the detected hotspots.',\n",
       " 9: 'In this case study, only C# OSS projects were selected and used to validate the correlation between modularity metrics and ANMCC. Consequently, the conclusion drawn is only valid for C# projects. There is a need of conducting more studies for the projects written in other object-oriented languages, such as Java.',\n",
       " 10: 'There are some limitations in this study. Most of the effort measures used for calculating the different components are based on the experiences of the experts involved. This might have injected some bias in the study. However, the overall framework and the components that can be used to estimate ATD refactoring are quite generalizable, the indicators have been considered as useful and the decision making process proper. The different metrics that can be used as input needs to be further studied, however they usually depend on the different company. Another limitation is the learning curve: it took a while before the architects would employ the method, but after the sessions, they recognized that the method was very logical and that the process would probably be much shorter as the method was repeated and the tasks of collecting information split among the architects.',\n",
       " 13: 'First, since we have only examined 7 projects and all of these are Apache projects, we can not guarantee that our results will generalize to other projects with di↵erent cultures and organizational policies. Second, our approach has the limitation that it relies on revision history to iden- tify architectural debt. For projects without enough history data, our approach can still identify groups of files with the potential to become architectural debt Third, our approach relies on mining error-prone files from a project’s revision history and bug tracking data. We use the bug report ID that developers enter into commits to locate error-prone files.',\n",
       " 14: 'The study is a short paper with only two pages.',\n",
       " 15: 'There is no data or experimentation about the study.',\n",
       " 17: 'The study should be share the dataset used in evaluation of tools.',\n",
       " 21: 'The process should be automated or seme-autormated using a specific tool to aid the architect. Some users (e.g., new developers) may not be familiar with ADs and ATD items, though the templates provided. The preparation of ADs may take time when the ADs are not documented, especially when the ADs were made a long time ago as the knowledge about ADs tends to vaporize.',\n",
       " 22: 'The graphs in this paper are not meant to represent precise data coming from a measurement system. Therefore the steepness of the curves and the projections might vary in real context. The magnitude for the contribution of each factor is also to be further assessed. However, we offer the recognition of factors that are not necessarily possible to be measured and therefore discovered by quantitative analysis, such as urgency and uncertainty. The results are qualitatively developed through a thorough research process and using a wide amount of qualitative data coming from more than 30 informants from 7 sites and with different roles, which allowed as to compare and test statements among themselves. Furthermore, architecture documentation has been evaluated as well as secondary data. This has allowed us to apply source triangulation [10].',\n",
       " 27: 'It was necessary to do many interviews with developers to get the estimation effort about ATD fix. So, the process to calculate the effort of ATD fix majority manual.',\n",
       " 48: 'The case study performed only one company in only one system.',\n",
       " 47: 'The most important limitation is the limited sample size of the respondents. However, we aimed at reporting the understanding from a case study, which included both qualitative and quantitative data, rather than surveying a large number of practitioners. Furthermore, as previously explained, we offer a novel understanding of an important and overlooked research subject. The authors aim at collecting such evidence, using an investigation tool improved with the help of the exploratory results obtained from the study presented here.',\n",
       " 20: 'The authro used a tool that analysis only java source code. There is no method to calculate the ATD cost.',\n",
       " 33: 'There is no the list of ATDI for each release. The paper only show the cost estimated for ATD in release, but there is details for each release.',\n",
       " 26: 'The paper has only two pages.',\n",
       " 28: 'There is no ADTM process, there is no how to calculate ATD cust',\n",
       " 31: 'Since there is only one studied system, the resulting method- ology is entirely based on such studied case and could there- fore potentially be limited to similarly designed architectures, e.g. where an intended architecture is realized as logical components deployed to ECUs.',\n",
       " 44: 'The study should be created an experimentation using real systems to compare each tool evaluated.',\n",
       " 43: 'The study did not explain the architectural debt used to refactoring in architectural system maintenance. We examine only two systems, albeit with very different designs and from two different firms. We cannot be sure that the findings would apply to other firms or sys- tems.',\n",
       " 51: 'The study evaluates only a few projects in java language from Qualitas Corpus. Maybe it does not apply to the industry or other software languages.',\n",
       " 52: 'The is no asses of effort waste to fix Architectural Smell. Besides, there is no monitoring of archicterual smell through the versions analysed',\n",
       " 73: 'The is no validation in a real software system to proof the proposed approuch',\n",
       " 69: 'The qualitative data derived from the survey are not based on measured or observed data but on estimations made by the respondents.',\n",
       " 67: 'The study did not show how to measure the TD.',\n",
       " 66: 'There is no explanations or details about TD issues used in survey.',\n",
       " 96: 'This study aimed to explore the challenges to SW architecture posed by requirements volatility, but it not concern to identify, measure or calculate the cost of ATD.',\n",
       " 77: 'The amount of participantes were 17 stakeholders from 10 diferent companies from Germany. Maybe a small number to represent the perception for all companies.',\n",
       " 78: 'There is no ATD index or specific metrics to architectural technical debt',\n",
       " 81: 'The catalog of rules is private. So, only the CAST company can use this catalog. Besides, the value used to calculate the principal of TD is regarding to context of CAST company, thus, it not possible to generalize this value in other companies.',\n",
       " 82: 'The main tool used is a commercial tool and there is no free licence to get the tool to replicate the study.',\n",
       " 88: 'The approuch to identify, estimate and calculate the scabality architectural issue is manual.',\n",
       " 90: 'The authors conducted only one study to only one product: ArgoUML, so, it not possible to generalize the results to other products',\n",
       " 91: 'The survey desig did not show details about the kind of systems and there is no details about the companies that the participants work.',\n",
       " 97: 'There is no data or experimentation about the study. So, this is a theorical study.'}"
      ]
     },
     "metadata": {},
     "execution_count": 5
    }
   ],
   "source": [
    "dict_limitations = {}\n",
    "for item in zip( list(df_sms_extraction['Paper Id']), list(df_sms_extraction['Limitations']) ):\n",
    "    id = item[0]\n",
    "    limitation = str(item[1])\n",
    "    limitation = ' '.join(limitation.split())\n",
    "    if (limitation != ''):\n",
    "        dict_limitations[id] = limitation\n",
    "dict_limitations"
   ]
  },
  {
   "source": [
    "# Future Works"
   ],
   "cell_type": "markdown",
   "metadata": {}
  },
  {
   "cell_type": "code",
   "execution_count": 6,
   "metadata": {},
   "outputs": [
    {
     "output_type": "execute_result",
     "data": {
      "text/plain": [
       "{1: 'Future work will include convolutional neural networks to train a model to understand diagrams made in PowerPoint or another tool and saved as an image, such as IMEAV [19]. We also plan to include a recommendation system to suggests repayment strategies under certain conditions. Different meta- models for storing ATD should be reviewed. Finally, we will also look into including automatic text extraction methods for audio/video recordings to reduce human interaction.',\n",
       " 3: \"The authors would also like to detect different categories of AS (architectural smells) that could impact different quality attributes, such as performance and security; in this direction, we could identify and compute different ADI index profiles according to the AS's impact on specific quality attributes. Moreover, the authors aim to extend the index or define a new one to consider also the cost to remove the architectural smells ( cost- solving). This could allow developers/maintainers to make a business case (costs vs benefits) and help them to set the order in which they want to remove the AS. Towards the definition of this index oriented to the evaluation of the cost-solving, we are also interested to work on the development of some kind of automatic/semiautomatic refactoring support by studying the different refactoring opportunities of each AS.\",\n",
       " 4: 'In future work, we plan to study the process of issue removal to determine which issues are the most costly to remove and generally extend this analysis to a wider range of project domains and sizes.',\n",
       " 5: 'No',\n",
       " 7: 'The amount of files choose, as the threshodld, to define the type of hotspot. Similar, to the choice of amount of issues to define the unit of evolution window.',\n",
       " 9: 'Based on the results and findings of this work, we plan to do further research in the following directions. First, we intend to validate the correlation between modularity metrics and ANMCC with Java projects. Second, it will be interesting to define new system-wide modularity metrics or adapt existing modularity metrics defined in other perspectives (e.g., complex networks [14]), and investigate the correlation between the metrics and ATD indicators. We expect that the new modularity metrics can improve the accuracy or take less effort of predicting ANMCC. Third, it is practically valuable to develop plugins to calculate the modularity metrics IPCI and IPGF for IDE tools (e.g., in VS2012 or Eclipse).',\n",
       " 10: 'Future work aims at increasing the precision of these estimations with more precise measures. We have to keep in mind that ATD management is prevalently a risk assessment practice, and until better prediction models have been created to predict the cost of architecture anti-patterns (as confirmed in a recent systematic review [8]), the architects’ decisions are based on gut feeling and estimations based on their subjective experiences [20]. However, structuring such process of decision making by applying the method AnaConDebt, has been proven useful in order to make the decision around ATD refactoring based to concrete factors that are causing the interest to be paid in the future, and therefore it would explicit and increase the architects’ knowledge for making informed decision on the ATD refactoring cases.',\n",
       " 13: 'We plan to evaluate the eficiectiveness of our approach on projects without enough history in our future work. In our future work, we plan to explore more e↵ort proxies, and we are collaborating with an industry project that records actual e↵ort data, and we plan to compare this with our proxy measures of e↵ort.',\n",
       " 14: 'As future work, we plan to fully automate the process and empirically evaluate it via large-scale experiments',\n",
       " 15: 'No',\n",
       " 17: 'In future experiments, we aim to similarly consider other tools, e.g., the commercial tool CAST, tools that provide dependency analysis and other tools developed in academia, e.g., Hotspot Detector, TamDera. Moreover, we are interested in inspecting other dimensions of archi- tectural debt, as the history of projects, and in analyzing large-scale industrial systems.',\n",
       " 21: 'We plan to replicate the case study in more industrial projects with different sizes and from various domains. We also plan to customize the approach in order to make it suitable for an agile context, with appropriate tool support.',\n",
       " 22: 'Some open issues that require further investigation are: • It remains unclear when is best to conduct a refactoring. The unknown effects of combining the refactoring with uncertainty and urgency suggest further investigation. • We have studied principally the delays that the ATD have on long term development. What needs to be more investigated are the short-term benefits that are gained by the accumulated ATD.',\n",
       " 27: 'Also, the method can be supported by a tool: possible future work is related to the development of support to input the estimation data to be combined with the modularity tool in order to make the estimation more cost efficient.',\n",
       " 48: 'Our future work consists of a longitudinal study wherein we do four things: First, we will track the architectural integrity of this system on a regular basis. That is, we plan to analyze periodic snapshots of SoftServe’s system, to see whether the refactoring is being done correctly, and whether it is eroding over time. Second, we plan to continue to track the frequency of reported defects, and their connection to the files in SS1. Third we plan to continue to track the frequency of changes to the files of SS1. Finally, we plan to track the lines of code committed to fix defects and to make changes. This longitudinal data capture and analysis will allow us to validate the expectations and opinions collected in the present study, and to build better predictive models for SoftServe in the future. We are also in the process of conducting other industrial case studies, to show the repeatability of our methods in different industrial contexts.',\n",
       " 47: 'The next step, already in the authors’ plan, consists of conducting a version of this investigation involving a large sample of respondents from a large set of companies, in order to further strengthen the current case study-specific findings with a broad, quantitative investigation. Another important next step is to analyze the customer-related information used during the prioritization activity in order to understand how they are compared to the ATD effects in order to prioritize ATD refactoring against feature development.',\n",
       " 20: 'Once the prediction technique is fully evaluated, it will be incorporated into a tool to evaluate the capabilities of the approach in a study with subjects in the context of real software projects. Finally, it is expected to include other types of architectural smells [15] in the work.',\n",
       " 33: 'Feature and architectural element slicing. Story slicing in agile development involves determining the simplest thing the user can do that is of value, and how that function cuts across the system. Extensions to the economic model. We account for debt at the time it is paid in rework cost. For prudent and deliberate debt we plan to extend the economic model to account for the future cost of paying back debt Managing debt. This paper’s contribution to the area of technical debt management is its discussion of analysis and visibility of dependencies and their implications for technical debt. Next steps in our research will focus on moving from monitoring to more actively and strategically incorporating technical debt into the architectural design process',\n",
       " 26: 'No',\n",
       " 28: 'No',\n",
       " 31: 'In the future we plan to continue our research on what other ATD items can be found and what other impact measures can be combined together for having the complete picture of ATD and its interest, which would greatly help the decision making of the main stakeholders. We also plan to investigate the reasoning behind the architectural violations, whatever they are intentional or not, and whatever or which the architectural violations benefit the final product. Finally, stakeholders that were part of the early evaluation of the tool said that it would be valuable to see the evolution of the debt. They wanted to see if the tendency is that the debt increases or decreases over time, as well as see what impact planned or potential future changes would have.',\n",
       " 44: 'We plan to investigate the role of code and architectural smells in TD, since they are associated to known solutions, that can speed up their resolution process. We would like also to work on the definition of a new TDI, with a focus on code and architectural debt, and experiment it on a large dataset of projects. In the TDI computation we would like to consider: 1) Code and Architectural smells detection; 2) Code and architecture/design metrics; 3) History of a system, including code changes and lifespan of smells; 4) Identification of problems more critical than others, to weight the collected analysis elements (e.g., metrics, smells, issues) according to their relevance in existing (past) projects.',\n",
       " 43: 'Our study generates a number of avenues for future work. First, it provides a benchmark for future studies that seek to examine the relationship between measures of architecture and the costs associated with maintenance and adaptation. Second, it provides methods for evaluating the technical debt associated with software architecture, which could be verified via future empirical studies across a larger number of contexts and systems. Finally, while we focus only on the costs associated with corrective maintenance, a significant amount of the value from refactoring is likely to come from an increase in developer productivity when responding to new requirements. It is our hope that the methods we describe can provide a springboard for undertaking such enquiries.',\n",
       " 51: 'As future work, we plan to extend our tooling to mine archi- tectural smells directly from Git repositories, thus allowing us to link the current information to code churn and investigate the effects of smells on change rates.',\n",
       " 52: 'Another future investigation is toward a cross validation of the rank- ing of the architectural smells with the data on the bugs reported in the affected components considering also the historic information of the maintenance activities on the smelly components.',\n",
       " 73: 'No',\n",
       " 69: 'The qualitative data derived from the survey are not based on measured or observed data but on estimations made by the respondents. In future studies, we plan to include physical measurements and observation, to create a stronger reliability of the data. The result of this research may be affected by some threats to validity.',\n",
       " 67: 'No',\n",
       " 66: 'In summary, managing TD requires a few investments that are not well known by the practitioners and are difficult to be motivated by a precise cost/benefits ratio. Consequently, without an investment on processes and tools to track TD, it remains difficult to make TD visible. And it is difficult to advocate for refactoring invisible TD. This represents a vicious cycle: companies suffer the negative effects of TD and try to contain it, but at the same time they do not find enough motivations to invest in a more systematic management process. By looking at the motivations for start tracking TD, the results show that organizations do so when they experience the interest of TD: slow feature development, quality issues and performance degradation. However, at such point the interest of the TD is already high and, as explained in our recent papers [6], [10], it is hard to refactor, as the cost has also increased and become too expensive. In conclusion, the only way out the vicious cycle seems to be, for the practitioners, to proactively start tracking TD. However, we do not have evidence yet that such improvement would bring the 25% effort down. This is a long-term study that should be set for future research to conduct',\n",
       " 96: 'In future research, another case study will be conducted in a company of different size and in a different domain to investigate whether the same challenges are present there. Cross analysis between the case studies will provide new insights and help increasing the generalisability of the findings. Based on the results of those case studies, it is planned to develop a framework that provides means for practitioners to identify the presence of challenges posed by requirement volatility and take necessary steps to mitigate the risks.',\n",
       " 77: 'No architectural tools and metrics were applied, even though most reported challenges and issues like service cutting were related to software architecture. This may indicate the im- portance of Architectural Technical Debt (ATD) management for Microservices. Future work that covers the areas of maintenance, evolution, and technical debt in the context of Microservices should take these findings and industry sentiments into account. In particular, academia can support industry with methods, metrics, or tools that aid macroarchitectural assessment of Microservices or provide a more system-centric view. We perceived tool support for service cutting activities and metrics to evaluate service granularity, coupling, or cohesion as concrete gaps that could save industry a lot of refactoring efforts. Finally, issues in the area of human evolvability factors with Microservices like the handling of hyped technologies as well as coordinating and exchanging knowledge between decentralized teams were described as important by participants.',\n",
       " 78: 'While the plug-in is useful as-is, it was developed as a first step in an ongoing project aimed at applying case-based reasoning to the issue of software product quality. The next step in this project aims to use the described plug-in as part of a research effort to define and validate the aggregation of these metrics as part of a software quality model.',\n",
       " 81: 'The next step in our exploration of TD-principal is to provide individual ratings for the effort to fix each of the 1,200+ violations. These effort ratings will be further adjusted by the number of components involved in fixing the violation and the complexity of each component. This refinement will make the calculation of TD-principal more granular and could provide better in- dicators of components most in need of refactoring',\n",
       " 82: 'No',\n",
       " 88: 'It is necessary to study other aspects of ATD such as measurement, monitoring, priorization, repayment and communication and documentation. The results can be taken into consideration by practitioners when dealing with scalability debt and may be used as starting point to develop the method presented here furher or t resear novel lightweight approaches to manage technical debt related to other key business qualities',\n",
       " 90: 'To generalize our findings, we plan on replicating this study on a broader scale. Looking at SATD comments that can be traced to architectural divergences resulted effective in resolving them, thus, we plan to further investigate this with better architectural recovery and more advanced SATD detection approaches, potentially in an automated manner.',\n",
       " 91: 'The is no a explicit future works, but the authors show that of the participants that reported different treatment, no one mentioned how potential maintainability-related problems with increased technological heterogeneity, decentralization of control, or appropriate service granularity could be addressed. While these topics do not necessarily have to negatively impact maintainability, they still hold the potential to do so, if not executed with some care. Since this is a rather young topic, qualitative interviews with experts in the field of Microservices would most likely be a more effective approach.',\n",
       " 97: 'The author want to do a survey in real world about risk architecture in software industry.'}"
      ]
     },
     "metadata": {},
     "execution_count": 6
    }
   ],
   "source": [
    "dict_future_works = {}\n",
    "for item in zip( list(df_sms_extraction['Paper Id']), list(df_sms_extraction['Future Works']) ):\n",
    "    id = item[0]\n",
    "    future_works = str(item[1])\n",
    "    future_works = ' '.join(future_works.split())\n",
    "    if (future_works != ''):\n",
    "        dict_future_works[id] = future_works\n",
    "dict_future_works"
   ]
  },
  {
   "source": [
    "# Positive aspects"
   ],
   "cell_type": "markdown",
   "metadata": {}
  },
  {
   "cell_type": "code",
   "execution_count": 7,
   "metadata": {},
   "outputs": [
    {
     "output_type": "execute_result",
     "data": {
      "text/plain": [
       "{1: 'The authors propose an approuch to identify ATD using documents and models without to get access to source code of the software.',\n",
       " 3: 'The authors defined a set of formulas to represent Architectural Debt Index using java open source projects to validate the ATDI proposed comparing with other TDI like sonarqube.',\n",
       " 4: 'The paper shows 5 (five) types of architecture issued detected in the case study: Unstable Interface, Implicit Cross-module dependency, Unhealth inheritance Hierarchy, clique and Package cycle.',\n",
       " 5: 'The authors conducted a case study in a real IT company to check the benefits of refactoring of software architecture before and after to check the quantitative and qualitative benefits of paydown ATDI. So the study showed that reducing architecture debt has had a positive influence on productivity and quality measures for the company.',\n",
       " 7: 'The authors proposed a model to check how is behavior of software architecture during software evolution using hotspot to define the most important part the software that should be treated with more carefully. Besides, there is an empirical study using Apache ecosystem to validate the proposed model.',\n",
       " 9: 'The authors conducted an experimentation with Opens Source Software witth real data. The findings showed that the modularity metrics IPCI and IPGF can be used to indicate ATD.',\n",
       " 10: 'The authors proposed a method to identify and calculate the principal and interest of ATDI. The case study was conducted in 6 large IT company with real data in real IT projects.',\n",
       " 13: 'The authors proposed a method do identify and measure ATD using the technique DRSapce and architecture debt to generate a HPC Matrix and identify a ranked list of archdebt incluind its cost fo fix them.',\n",
       " 14: 'The practical idea of the study about ATDI approuch hotspot identification in Android application is good.',\n",
       " 15: 'The idea of this technical paper is to show the main features from Sonargraph, which is an important tool to check software architecture validation and important metrics such as cyclomatic complexity, propagation cost, and cyclicity.',\n",
       " 17: 'The study showed tools that analysis software architecture structure and some metrics about this.',\n",
       " 21: 'The authors proposed an approuch to identify and measure ATD itens via architectural decisions during the redesing process. Thus, the ATD can be identified and calculate without to have access to source code of the project. The architects agreed that associating ATD items to concrete impacted change scenarios is helpful to estimate the interest of ATD items.The development team members considered that the scenario-based part of the approach is particularly useful and easy to conduct, since they are familiar with the change scenarios and are even under pressure from delayed change scenarios that are negatively impacted by certain ATD items.',\n",
       " 22: 'The study shows factors that cause accumulation of ATD using an approuch that monitoring a ;Crisis point of ATD Accumulation;. Beside, the study show a taxonomy of the causes for ATD. In addition, the study employed a case study using real data from 5 large Scandinavian Software Companies. The companies adopted Agile Software Developement (ASD) as a Software life-cycle process',\n",
       " 27: 'The authors done a case study in a large IT company using a large software product in long term with real data. The authors proposed a method to identify ATD focus on files that should be refactored and the methods helps to calculate the estimation effort to fix this ATD. A formula quantifying the refactoring benefits.',\n",
       " 48: 'The authors proposed an approuch to identify, measure, calculate the ATDI via case study in a large IT company analysing a sequence of versions via Dspace method',\n",
       " 47: 'The authors showed a list of important aspects regarding to ATD causes such as Double effort, Big delivers, Code changes, complement tests, quality issues, hidden TD, Wrong estimation, Contagius ATD, Developer idling',\n",
       " 20: 'The author proposed a approuch to discover parts the software that has arquitectural smells using code analysis and code smells detection throught the versions of the software. Besides there is a replication kit available on github ( https://github.com/tommantonela/icsa- 2018) to reproduce the study.',\n",
       " 33: 'The authors conducted a case study in a real large anc complex system of natural disaster to evaluate each release regarding ATD and calculate the effort to fix them.',\n",
       " 26: 'The objective of DV8 is to measure software modularity, detect architecture anti-patterns as technical debts, quantify the maintenance cost of each instance of an anti-pattern, and enable return on investment analyses of architectural debts. Different from other tools, DV8 integrates data from both source code and revision history',\n",
       " 28: 'The study selected popular open projects that is available; the proposed metrics are simple to calculate; the proposed correlation is easy to understand',\n",
       " 31: 'The study was performed in a real case industry application',\n",
       " 44: 'It was collected five tools to check TD index about ATD. It was observed how to calculate de TD index and the unit measure.',\n",
       " 43: 'The authors studied a real case for three years and collect data from two large systems about effort and spend the maintenance. The authors analyzed the SVC repository, the bug tracker related to commits, the files changes, and refactoring propagation cust to maintain the systems.',\n",
       " 51: 'The authors studied an evolution process of identifying and tracking architectural smells in corpus qualitas.',\n",
       " 52: 'The authros proposed an index to check the criticality of architectural smell using pagerank. The study used a set of open source software projects to extract data about criticality of architectural smells',\n",
       " 73: 'There is a lack of study in Security TD. The approuch based in a security catalog widely used in community.',\n",
       " 69: 'This is the first study surveying the estimated magnitude of the interest paid on the accumulated TD in terms of perceived wasted time and effort. The study has shown that software development practitioners estimate that 36 % of all development time is wasted due to TD and that Complex Architectural Design and Requirement TD generates the most negative impact on daily software development work.',\n",
       " 67: 'The study collected real data from a real industry of software embedded using questionaries and interviews about the effort spent on Technical Debt in the embedded system. Thus, the study identified that test TD, code TD, and Architectural TD were highlighted as main kinds of TD, and qualities attributes as functionality, reliability, and performance were the most important in this context.',\n",
       " 66: 'The authors proposed a maturity model (Strategic Adoption Model (SAMTTD)) to control and manage TD. The following steps cover the model: unaware, no tracking, Ad-hoc, Manual, Measured, Institutionalized and Fully automated. The study observed that the practioners that tracking TD wast about 25% of effort on it.',\n",
       " 96: 'The paper showed a case study about the impact of requirements in software architecture.',\n",
       " 77: 'The authors conducted a study to check the perception of maintanance and evolution of microservices via survey in 10 IT companies from Germany.',\n",
       " 78: 'The authors collected important metrics regard to architectural metrics and complex metrics.The authors created a usefull plugin that take a way good information to manager and devolopers about architectural metrics and complex metrics directy from github repositories. The plugin is available on https://www.scitools.com/support/gui-plugins/ as called Understand',\n",
       " 81: 'The authors performed a study in a real case using a real it company catalog of rules of architectural and code patterns with real systems. The authors proposed a was to calculate the principal of TD in money value.',\n",
       " 82: 'The study have access to a large repository from real cases (160) with varius types of technology. This repository was provided by CAST company.',\n",
       " 88: 'Describe a kind of ATD, more spefically scalability ATD and the authors proposed a lightweight approach to manage scalibity debt. The case study conducted a method to identify, estimate and prioritize scalability debt.',\n",
       " 90: 'The authors recovery the software architecture compoents from ArgoUML analysing the documents and source code. So, it is can be shared with others papers',\n",
       " 91: 'The authors showed in the study that there is lack research in quality characteristics and Technical Debt in service and micro-service based systems. Besides, the paper shows the perception of practioners about those topics.',\n",
       " 97: 'The author proporse a therorical important architect risk appetite classification'}"
      ]
     },
     "metadata": {},
     "execution_count": 7
    }
   ],
   "source": [
    "dict_strongest = {}\n",
    "for item in zip( list(df_sms_extraction['Paper Id']), list(df_sms_extraction['Strong Aspects']) ):\n",
    "    id = item[0]\n",
    "    strongest = str(item[1])\n",
    "    strongest = ' '.join(strongest.split())\n",
    "    if (strongest != ''):\n",
    "        dict_strongest[id] = strongest\n",
    "dict_strongest"
   ]
  },
  {
   "source": [
    "# Negative aspects"
   ],
   "cell_type": "markdown",
   "metadata": {}
  },
  {
   "cell_type": "code",
   "execution_count": 8,
   "metadata": {},
   "outputs": [
    {
     "output_type": "execute_result",
     "data": {
      "text/plain": [
       "{1: 'There is no calculation formula about cost of ATD',\n",
       " 3: 'The data validation should be performed in a real industrial project.',\n",
       " 4: 'It was not shared the data collection',\n",
       " 5: 'The dataset was not available to reproduce the study.',\n",
       " 7: 'An external validity is that we only studied 21 open source projects, all of which were implemented in Java and all of which are from the Apache ecosystem. While we have no reason to assume that the effects that we have studied would be different with different programming languages, we can not currently claim that our results can be generalized to projects implemented using other languages. Similarly we have no expectation that our results would differ in closed- source contexts, or projects from other OSS ecosystems, but this remains a potential threat.',\n",
       " 9: 'The authors conducted a study using only C# OSS project, so it not possible to generalize to other types programing languages and private IT projects.',\n",
       " 10: 'The authors proposed an manual aprouch called AnaConDeb to identify ATDI and calculate the principal and Interest by stekholder for each release. So, it is possible that values changes depends on the company and the steakholders',\n",
       " 13: 'Due to the study used only Open Source Software from Apache Project, it was not possible to calculate the effort to tix the ATD in terms of time or money. The calculation of cost proposed used the amount of lines necessary to fix the ATD.',\n",
       " 14: 'The practical idea of the study about ATDI approach hotspot identification in Android application is good.',\n",
       " 15: 'Weak. Actually, this is a technical paper with only two pages, and there is no scientific rigor.',\n",
       " 17: 'There is no link to dataset of evaluation',\n",
       " 21: 'The process is manual and it is necessary a participation of the architect to plan and evaluate each release. So, the principal and the interest are estimated manually according interpretation of specialist about ATDI',\n",
       " 22: 'There is no repliaction kit to reproduce the study',\n",
       " 27: 'The authors proposed a manual method to calculate the effort to fix the ATD.',\n",
       " 48: 'The case study performed only one company in only one system.',\n",
       " 47: 'There is no identification of ATD itens',\n",
       " 20: 'The authro used a tool that analysis only java source code. There is no method to calculate the ATD cost.',\n",
       " 33: 'There is not list of ATDI for each relase analysed in case study.',\n",
       " 26: 'Weak. The paper is more technical and describe a tool called DV8 and its importance to check the software architecture. However, it is not a scientific study.',\n",
       " 28: 'The study shoud be provide a repliaction kit',\n",
       " 31: 'There is no repliaction kit to reproduce the study',\n",
       " 44: 'There is no data collected to compare the used tools. There is no Design research and there is no an experiment to evaluate the tools using a set of data.',\n",
       " 43: 'The dataset was not available to reproduce the study.',\n",
       " 51: \"The architectural debt index using architectural smells and tracking the index's evolution throughout a system’s history was not precise; for example, the authors should be created a formula to represent the architectural debt index. They were even using a demonstration of evaluation of each architectural smell individually, but a general formula was not created.\",\n",
       " 52: 'The is no asses of effort waste to fix Architectural Smell',\n",
       " 73: 'There is no data to proof the approuch. For example: maybe the authors shoud be use a real system to validate the proposal.',\n",
       " 69: 'Not applicable',\n",
       " 67: 'There are no details about how to identify the TD, and there are no explicit future works.',\n",
       " 66: 'The is no ATDI issues explicited on the study',\n",
       " 96: 'Weak, due to the author did not study about how to identify, measure or calculate ATD',\n",
       " 77: 'The study did not show details about identification, measure or calculate the cost of ATDI.',\n",
       " 78: 'The dataset used in study was not available to reproduce the results',\n",
       " 81: 'The catalog of rules is private. So, only the CAST company can use this catalog. Besides, the value used to calculate the principal of TD is regarding to context of CAST company, thus, it not possible to generalize this value in other companies.',\n",
       " 82: 'The study did not share the dataset to evaluate. Besides, even calculating the TD cost, there is ATD specif cost',\n",
       " 88: 'The approuch to identify, estimate and calculate the scabality architectural issue is manual.',\n",
       " 90: 'The dataset was not available to reproduce the study',\n",
       " 91: 'The dataaset of survey should be shared in a .repository or replication kit',\n",
       " 97: 'But the author did not work about architectural technical debt, only about behavior of software architect about risk'}"
      ]
     },
     "metadata": {},
     "execution_count": 8
    }
   ],
   "source": [
    "dict_weakness = {}\n",
    "for item in zip( list(df_sms_extraction['Paper Id']), list(df_sms_extraction['Weak Aspects']) ):\n",
    "    id = item[0]\n",
    "    weakness = str(item[1])\n",
    "    weakness = ' '.join(weakness.split())\n",
    "    if (weakness != ''):\n",
    "        dict_weakness[id] = weakness\n",
    "dict_weakness"
   ]
  }
 ]
}