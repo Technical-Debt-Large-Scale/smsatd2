{
 "metadata": {
  "language_info": {
   "codemirror_mode": {
    "name": "ipython",
    "version": 3
   },
   "file_extension": ".py",
   "mimetype": "text/x-python",
   "name": "python",
   "nbconvert_exporter": "python",
   "pygments_lexer": "ipython3",
   "version": "3.6.3-final"
  },
  "orig_nbformat": 2,
  "kernelspec": {
   "name": "python3",
   "display_name": "Python 3",
   "language": "python"
  }
 },
 "nbformat": 4,
 "nbformat_minor": 2,
 "cells": [
  {
   "cell_type": "code",
   "execution_count": 1,
   "metadata": {},
   "outputs": [],
   "source": [
    "import os\n",
    "import sys\n",
    "nb_dir = os.path.split(os.getcwd())[0]\n",
    "if nb_dir not in sys.path:\n",
    "    sys.path.append(nb_dir)"
   ]
  },
  {
   "cell_type": "code",
   "execution_count": 2,
   "metadata": {},
   "outputs": [],
   "source": [
    "import pandas as pd\n",
    "import util.utilities as util\n",
    "from collections import Counter\n",
    "import numpy as np\n",
    "\n",
    "df_sms_extraction = pd.read_excel('../../dataset/Extraction_form.xlsx')\n",
    "df_sms_extraction = df_sms_extraction.replace(np.nan, '', regex=True)"
   ]
  },
  {
   "source": [
    "# Q1 (Measure) yes - what?"
   ],
   "cell_type": "markdown",
   "metadata": {}
  },
  {
   "cell_type": "code",
   "execution_count": 3,
   "metadata": {},
   "outputs": [
    {
     "output_type": "execute_result",
     "data": {
      "text/plain": [
       "{1: 'rebel focuses on finding atd items at architecture level only, measuring the impact of its repayment strategy based on architecture decisions and allowing the debt to be anticipated or corrected before the implementation process begins. atd item impact measurement is based on granularity, severity and amount of architectural decisions impacted by the atd item and its repayment strategy. in this case study, granularity had 3 for architectural design. for severity, we can conjecture that change to a non-relational db would affect at least 5 components in the detailed design. finally, the amount of architectural decisions impacted by the atd item is 3. this way, impact = 3 * 5 * (3*3) = 135. if our atd repayment strategy would not affect other decisions, the impact would be i = 3 * 1 * (1*3) = 9. from these results, software architect understand the impact of a repayment strategy.',\n",
       " 2: 'measuring atd. atd was considered the presence of complex foi (files of interest) files dependent both from the functionality and the component, which were often changed. a complexity measure that calculates the complexity with regards to this is mc- cabe cyclomatic complexity (mcc) . different thresholds are suggested in literature (such as 10), but we used 15, which is also widely recommended and was chosen by antinyan et al.[18] we complemented mcc with halstead’s delivered bugs metric. measuring the interest of atd. the extra-effort paid as in- terest of the atd is, as explained, related to the complexity: as mentioned by the stakeholders (and supported by various refer- ences), it takes more effort to change more complex code. it was created a base measure and derived measures according attributes chosen in project. see columns about técnicas.',\n",
       " 3: 'it was defined a formula to calculate atd index and architectural smell impact score. n: number of as instances in a project p; as : k-instance of an architectural smell; k w : the total number of dependencies involved in at least one as for all the as in the project; as i s (ask ): the architectural smell impact score (defined below in iv-a); w(ask): the architectural smell weight, i.e., the number of dependencies associated to the ask; • history(ask): the score associated to the trend evolu- tion of the ask (defined below in iv-b). pagerank: the p agerank(ask ) estimates whether the as is located in an important part of the project, where the importance is defined by the value of the pagerank algorithm executed on the dependency graph of the project (to evaluate if many parts (subsystems) depend on the part where the as is involved) the vertex v is a node of the dependency graph associated to a project; pr(v) is the value of pagerank of the vertex v; n is the total number of as in the project; pk is a vertex with at least a link directed to v; n is the number of the pk vertexes; c (pk ) is the number of links of vertex pk ; d (damping factor) is a custom factor fixed at 0.85, a default value defined by brin and page [23]. it can be changed according to the pagerank value needed for every vertex and its minimum associated level of p agerank.',\n",
       " 4: 'architecture root identification architecture issue identification - each architecture root is an architecture hotspot, which captures a group of files that are architecturally connected and these connections exhibit architecture issues — unstable interface: a file with a large number of dependents that changes frequently with many of them — implicit cross-module dependency: files in structurally independent modules of the drh that are changed together frequently. this is also called modularity violation [14]. — unhealthy inheritance hierarchy: a parent class depends on one of its subclasses, or a client of the inheritance hierarchy depends on both the parent class and its subclasses. — clique: a clique is a group of files which are tightly coupled by dependency cycles to form a strongly connected component. — package cycle: usually, the package structure of a software system should form a hierarchical structure. a cycle among packages is typically considered to be harmful',\n",
       " 5: 'maintainability metrics and architecture flaws',\n",
       " 7: 'calculate a hotspot to detect problematic files and architecture debts, in terms of timelines and efficiency. in addition, hotspots also incorporate a small architecture unit which shows changes propagate among multiple files in a real system.',\n",
       " 9: 'index of package changing impact (ipci) is the percentage of the number of the non-dependency package pairs against the total number of all possible package pairs. this metric measures the strength of the independency of packages [1]. index of package goal focus (ipgf) is the average extent of the overlap between the different service sets provided by the same component to other different components in a software system [1]. ipgf indicates the average extent that the services of a specific package serve for the same goal. v7. average number of modified components per commit (anmcc) is the average number of components that are modified during each commit (i.e., revision) in the studied period. consequently, ipci and ipgf can be considered as atd indicators. a higher ipci or ipgf indicate less atd.',\n",
       " 10: 'principal and interest of atd. there is a set of pre-defined atd based on a set of previously analyzed cases. these set of atd is used the identify atd based on software architect.',\n",
       " 13: 'it was created a specific concept about archdebt that derives a set of formulas. the authors created a specific approach framework (crawl, index, model and rank) to identify archdebt.',\n",
       " 14: 'android atd hotspots',\n",
       " 15: 'compliance checking metrics like cyclomatic complexity, propagation cost, cyclicity and more. among them are also some metrics that we specifically developed to measure maintainability, like “maintainability level” [2] and “structural debt index” decloupling level',\n",
       " 16: 'atd contagius debt the paper reports patterns of sociotechnical events that lead to a novel phenomenon, call contagious debt; this is based on vicious cycles of events that cause atd to propagate in the system and generate a continuous increment of interest.',\n",
       " 17: 'the main extracted measures related to architectural evaluation. sonargraph: structural debt index cyclic elements cyclic packages biggest pkg cycle group logical pkg cycle groups layer cycle groups layer group cycle groups architectural violations sonarqube: sqale rating technical debt ratio debt dependencies to cut (dirs) dependencies to cut (files) directory tangle index cycles infusion: cyclic dependencies sap breakers unstable dependencies qdi',\n",
       " 21: 'atd itens based on templated suggested by authors for each atd item is calculated principal and interest using person-days as unit to measurement.',\n",
       " 22: 'it was created a taxonomy of the causes of atd based on business factors, design and architecture documentation , reuse of legacy / third party / open source, parallel development , effects uncertainty , non-completed refactoring , technology evolution ,and human factor using a qualitative model to check the atd over the time according team project analysis for each release.',\n",
       " 27: 'it is calculated the effort of modularization in files that was not modularized.',\n",
       " 30: 'the following metrics was used: nop (number of package) and noc (number of class) architectural smells: ud (unstable dependency), hl (hub-like dependency), class cd (cyclic dependency) and package cd (cyclic dependency) after atd identified the developers estimated each atdi in terms of hours to interest and principal.',\n",
       " 38: 'it was measured the architecture degration. for each artefact analysed is created a dsm through successive version of project. this dsm has a propagation cost (pc; an architecture-level measure of coupling [11]) of x%, and a dl (decloupling level) of y%. it is identified refactoring artifacts in drspace. these two measures indicate that the refactoring was successful or not and that the project has restored health or not to this portion of the architecture.',\n",
       " 48: 'architecture issues via drspace',\n",
       " 47: 'it was identified atd using taxonomy proposed by authors, but it was not clarified the measure of atd in this study.',\n",
       " 20: 'it was defined a sna (socia network analysis) metric to identify the architectural smells.',\n",
       " 33: 'atd based in software architecture estimation in hours',\n",
       " 26: 'arquitectual roots via drspace',\n",
       " 28: 'package modularity via sonaqube using td index from cohesion and coupling.',\n",
       " 31: 'misplaced lc interest based on scale of weight proposed by the authors.',\n",
       " 44: 'no',\n",
       " 43: 'complexity, coupling and cyclical dependencies using dsm (dependent structure matrix). the time spends on maintenance.',\n",
       " 51: 'architecture smells (unstable dependency, hub like dependency and cyclic dependency).',\n",
       " 52: 'architecture smells (unstable dependency, hub like dependency and cyclic dependency).',\n",
       " 63: 'accumulation of atd',\n",
       " 73: 'security td using a catalog of security issues provided by cwe (common weakness enumeration)',\n",
       " 69: 'check the stakeholder perception of measure td effort in whole software cycle development.',\n",
       " 67: 'no',\n",
       " 66: 'no',\n",
       " 96: 'no',\n",
       " 77: 'no',\n",
       " 78: 'architectural complexity, complexity and coupling, code commenting. archtectural metric: propagation cost. this is a system-wide metric that describes the proportion of software files that are directly or indirectly linked to each other., architectural metric: core size. this metric involves classifying every component (class or file) into one of five architecture groups based on the number of direct and indirect links of the components complexity metrics: loc, wmc- unweighted/wmc-mccabe, rfc, and cbo; comment metrics; metric aggregation model: other metrics created from basic metrics according necessity of the author.',\n",
       " 81: 'yes, it was meausre a number of detected violations based on qualite attributes (performance, robustness, security transferabililty, changeability)',\n",
       " 82: 'it was measurte td based on health factors, but there is no specific atd measure in this paper',\n",
       " 88: 'scalability using capacity of the open bank system stage 1: scalability triage stage 2: addressing affected subsystems stage 3: estimating impact',\n",
       " 90: 'no',\n",
       " 91: 'the perception of: maintainability test coverage cyclomatic complexity clone coverage coupling metrics architectural violation',\n",
       " 97: 'no'}"
      ]
     },
     "metadata": {},
     "execution_count": 3
    }
   ],
   "source": [
    "dict_q1 = {}\n",
    "for item in zip( list(df_sms_extraction['Paper Id']), list(df_sms_extraction['Q1']) ):\n",
    "    id = item[0]\n",
    "    if (item[1] != ''):\n",
    "        q1 = str(item[1])\n",
    "        q1 = ' '.join(q1.split())\n",
    "        dict_q1[id] = q1.lower()\n",
    "dict_q1"
   ]
  },
  {
   "source": [
    "# Q2 (Monitoring) yes - how?                  "
   ],
   "cell_type": "markdown",
   "metadata": {}
  },
  {
   "cell_type": "code",
   "execution_count": 4,
   "metadata": {},
   "outputs": [
    {
     "output_type": "execute_result",
     "data": {
      "text/plain": [
       "{1: 'the objective of this approach is to facilitate the architecture design process by managing and controlling atd, and in doing so, supporting software architects in making well-founded decisions. atd item impact measurement is based on granularity, severity and amount of architectural decisions impacted by the atd item and its repayment strategy.',\n",
       " 2: 'for each realised version it is evaluated with the measurement system and the indicators are generate to evaluate the scale (green, yellow, red) to point the places to be refactored according cost benefit evaluation of the components from atdi.',\n",
       " 3: 'via evaluation history of version analysis. hence, the factor of the adi index related to the history of a project, history(ask), is defined as the weight assigned to the trend of each type of smell. decreate trend: when the number of classes, files or packages involved in an as is decreasing. increasing trend: when the number of classes, files or packages involved in an as is increasing. stable trend. when the number of classes, files or pack- ages involved in an as is stable.',\n",
       " 4: 'we track the changes on the files and calculate the maintenance effort spent on files involved in architecture roots during this period of time we use the change frequency (cf) for each file to assess how many times a file has been changed in the revision history for bug fixes and new features. we quantify the maintenance effort spent on each file, then analyze the effort spent on identified file groups and assess the additional effort associated with these files. for this it is necessary an evaluation of developer or software architect.',\n",
       " 5: 'yes, during two years the releases were monitored to check the benefits of refactoring software architecture',\n",
       " 7: 'hotspots can capture error-prone and change-prone files more effectively, and thus have the potential to be used for bug/change prediction and localization. since dominating hotspots—a big directed graph with propagation relations— are the majority of hotspot files, it means that these files contributed significantly to error and change-proneness, which we propose is through their propagation patterns. by closely monitoring software evolution through issues, it is possible to identify architectural problems earlier in the lifecycle. architecture unit: active hotspot our approach is the first attempt to monitoring software evolution by tracking how issues interact.',\n",
       " 9: 'yes, due to the evaluated is done between sequence of releases.',\n",
       " 10: 'the principal and interest is analysed by software architects and project managers for each release.',\n",
       " 13: 'it was monitored the evolution of archdebts. although this model can only be obtained after the costs and penalty have accumulated, one could use our approach to detect architecture flaw patterns at any point (as described in [21]), monitor how file groups grow, monitor the formation of debts, and prevent significant costs by investing in proper refactorings [15].',\n",
       " 14: 'no',\n",
       " 15: 'issue management workflow',\n",
       " 16: 'yes, after each release using a proprietary method. the interest is monitored by analysing each atd class defined in proprietary taxynomy. these factors can be proactively monitored to strategically refactor the atd, before it becomes too costly to be repaid.',\n",
       " 17: 'no',\n",
       " 21: 'the approach is performed for each release.',\n",
       " 22: 'it is analysed during release planing to calculate the atd accumulation based on suggested taxonomy by the authors.',\n",
       " 27: 'it was applied the framework for each release evaluated. it is a manual process that there is no tool to support this.',\n",
       " 30: 'for each release',\n",
       " 38: 'by running the titan tool chain on a regular basis, as part of the nightly build of a project, an architect or project manager can quickly assess the health of the software architecture. this health measurement can be applied to a single drspace or to the entire project. we have three distinct ways to assess project health: 1. by calculating and tracking a project’s “architecture roots” [17][16]. architecture roots are drspaces that, collectively, cover the majority of a project’s buggy files. 2. by calculating and tracking a project’s architecture flaws. the flaws that we detect include: (a) unstable interface, (b) modularity violation, (c) improper inheritance, (d) cross- module cycle, (e) and cross-package cycle [13]. the first four hotspot patterns capture flawed relations among files while the last one captures cycles among packages. 3. by calculating a project’s decoupling level (dl) [12]. dl is a new metric for measuring the maintainability of a software architecture. it measures the degree to which an architecture is decoupled into (small, independent) modules that can be independently modified by developers. higher values of dl are better, indicating a more modular architecture.',\n",
       " 48: 'the approach of drspace is performed for each release analysed by software architecture to verify and confirm the architecture debt and effort is calculated in person per month.',\n",
       " 47: 'no',\n",
       " 20: 'yes, after each release using a proprietary method.',\n",
       " 33: 'yes, after each release using a proprietary method.',\n",
       " 26: 'evaluation of architectural root for each release evaluated.',\n",
       " 28: 'no',\n",
       " 31: 'for each architecture planning to create or maintain the lc (logical components)',\n",
       " 44: 'no',\n",
       " 43: 'no',\n",
       " 51: 'for each release evaluated via astracker where tracks smell instances in the projects history.',\n",
       " 52: 'no',\n",
       " 73: 'no',\n",
       " 69: 'no',\n",
       " 67: 'yes, it was evaluated each version about a lot of types of td, including atd. however, the atd was identified manually via interviews.',\n",
       " 66: 'no',\n",
       " 96: 'no, even using light-weight documentation it can contribute to requirements volatility and increase the risk of creating architectural technical debt.',\n",
       " 77: 'no',\n",
       " 78: 'no',\n",
       " 81: 'no',\n",
       " 82: 'no',\n",
       " 88: 'no',\n",
       " 90: 'no',\n",
       " 91: 'no',\n",
       " 97: 'no'}"
      ]
     },
     "metadata": {},
     "execution_count": 4
    }
   ],
   "source": [
    "dict_q2 = {}\n",
    "for item in zip( list(df_sms_extraction['Paper Id']), list(df_sms_extraction['Q2']) ):\n",
    "    id = item[0]\n",
    "    if (item[1] != ''):\n",
    "        q2 = str(item[1])\n",
    "        q2 = ' '.join(q2.split())\n",
    "        dict_q2[id] = q2.lower()\n",
    "dict_q2\n"
   ]
  },
  {
   "source": [
    "# Q3 (Techniques and Tools) yes - what?        "
   ],
   "cell_type": "markdown",
   "metadata": {}
  },
  {
   "cell_type": "code",
   "execution_count": 5,
   "metadata": {},
   "outputs": [
    {
     "output_type": "execute_result",
     "data": {
      "text/plain": [
       "{1: '(i) extraction: focused on extracting all relevant information coming from heterogeneous artifacts and the explicit knowledge of the software architects on how to identify and measure atd. (ii) synthesis: focused on putting all this information together and analyzing it to identify and measure atd items. and (iii) feedback: focused on take the atd identified and present it to the software architecture team for monitoring, updating and learning. tools: lucidchart, xmi (xml interchange) use a component-and-connector meta model to represents the architecturalelement. use a dsl to register architectural decisions. use a supervised learning model via sentiment analysis to qualify polite or negative architecture decision. tool: senti4sd [9] named-entity recognizer (ner) to identify mentions to architectural decisions and their possible links with other architectural decisions.',\n",
       " 2: 'the following items generated by framework applied: - measurement system identified atd and its interest - effort estimation results - evaluation of modularization and of the measurement system - semi-automated modularization decision framework generalization of the results - measurement system to identify atd - effort calculation formula - semi-automated framework to refactor atd: - quantitative benefit of refactoring',\n",
       " 3: 'arcan calculate the architecture smells via formula proposed by authors. architectural smell impact score',\n",
       " 4: 'see column techniques and tools',\n",
       " 5: 'you can see the prior column with these contents.',\n",
       " 7: 'you can see in prior column about techniques and approachs.',\n",
       " 9: 'you can see in the techniques and approach previous columns',\n",
       " 10: 'it was described on aforementioned column',\n",
       " 13: 'it was described on aforementioned column',\n",
       " 14: 'it was described on aforementioned column',\n",
       " 15: 'it was described on aforementioned column',\n",
       " 16: 'it was created a taxonomy about atd itens to identify atd contagius debt',\n",
       " 17: 'it was described on aforementioned column',\n",
       " 21: 'it was described on aforementioned column',\n",
       " 22: 'the authors created a taxonomy to calculate (using a qualitative model) the atd accumulation over the time.',\n",
       " 27: 'it is available on the prior column about that.',\n",
       " 30: 'it was discussed in prior column about this.',\n",
       " 38: 'it was published in prior column about that.',\n",
       " 48: 'you can see in previous column about that.',\n",
       " 47: 'it was described in prior column about that.',\n",
       " 20: 'architectural smells sna (social network analys) using a graph of files in a version. machine learning to predict the architecture smell the analysis was performed in a group of apache software (camel, ant, derby and cxf). it was used a dependency graph representation using cda (check dependency analysis) tool to discover the relationship java files it was used dependency and smel prediction based on the dependence graph to each version analysed. it was used a ranking-based link prediction. it was used a machine learning link prediction technique. it was used a time series forecasting to compare feature and component evolution over time.',\n",
       " 33: 'dsm to identify the dependences among files change propagation cost',\n",
       " 26: 'it is available on the prior column about that.',\n",
       " 28: 'it was described in previous column about that',\n",
       " 31: 'it was described on the prior column about that',\n",
       " 44: 'cast infusion sonargraph sonarqube structure101 input: architecture smells, architecture violation output: resolution cost (principal), keeping cost,(interest) unity measure (money, time, rank, loc)',\n",
       " 43: 'it was described in previous column about that',\n",
       " 51: 'arcan and astracker',\n",
       " 52: 'it was described in previous column about that',\n",
       " 73: 'it is available on the prior column about that.',\n",
       " 69: 'survey and interviews with practionners from skandinavia software industry area.',\n",
       " 67: 'it was used interviews for each company',\n",
       " 66: 'via survey that show the kind of issue in a pre-defined list of td issues. dependency violations architecture debt [3], [10] complex architectural design architecture debt [3], [10] too many different patterns and policies architecture debt [3], [10] dependencies to external resources/software architecture debt [3], [10] lack of reusablity in design architecture debt [3], [10]',\n",
       " 96: 'no',\n",
       " 77: 'see column techniques and tools',\n",
       " 78: 'the authros created its tool as a plugin to intelij to analyse the metrics grouped by the authors. called as understand',\n",
       " 81: 'it was used a private it company catalog to detected violations based on qualite attributes. tool: aip by cast',\n",
       " 82: 'these business applications were analyzed using cast’s application intelligence platform (aip) which performs a static analysis of an entire application using over 1200 rules to detect violations of good architectural and coding practice. based on varius studies, best pratices and cwe (common weakness enumeration)',\n",
       " 88: 'in this paper, we report a method related to scalability triage, a lightweight technique assisting primarily on identification, estimation and prioritization of atd in the form of scalability debt. other aspects of atd are relevant, although not covered in this paper, and should be addressed in future studies: measurement: to gather additional evidence related to the scalability debt, we are about to compare expected scalability requirements with actual capabilities. monitoring: the approach described here can be done in an iterative fashion, following agile principles. we are working with the integration of this method with agile practices [4]. prioritization: the scalability triage described here highlights, which parts of the system have the most risk of impact due to scalability debt, which helps prioritizing the parts of the systems to be analyzed and refactored. however, technical debt prioritization should also involve the comparison and ranking of scalability debt with respect to the development of other features or other types of atd. repayment: the cost of refactoring scalability debt is also an important parameter to be studied to understand if scalability debt should be fixed or not. communication and documentation: in this approach, the main scalability debt documentation was a spreadsheet. however, the documentation may be improved with the design of a better tool which would make the triage and its iteration more efficient.',\n",
       " 90: 'architecture violations: divergences: dependencies between subsystem compo- nents that do not exist in the conceptual architecture, but appear in the concrete architecture of the system. • convergences: dependencies between subsystem com- ponents that exist in both, the conceptual and concrete architectures of the system. • absences: dependencies between subsystems compo- nents that exist in the conceptual architecture, but not in the concrete architecture of the system.',\n",
       " 91: 'the following techniques was cited by participants of the survey: sonarqube, findbugs, self-made tool, checkstyle, pmd, jmetrics, lattix, cast, codecov, error prone the follwingo symptoms of low maintainability: outated documentation, inadequate testing, architectural erosion, problematic dependencies, complex components, large components, duplicate code, outdated libraries',\n",
       " 97: 'no'}"
      ]
     },
     "metadata": {},
     "execution_count": 5
    }
   ],
   "source": [
    "dict_q3 = {}\n",
    "for item in zip( list(df_sms_extraction['Paper Id']), list(df_sms_extraction['Q3']) ):\n",
    "    id = item[0]\n",
    "    if (item[1] != ''):\n",
    "        q3 = str(item[1])\n",
    "        q3 = ' '.join(q3.split())\n",
    "        dict_q3[id] = q3.lower()\n",
    "dict_q3\n"
   ]
  },
  {
   "cell_type": "code",
   "execution_count": 6,
   "metadata": {},
   "outputs": [
    {
     "output_type": "stream",
     "name": "stdout",
     "text": [
      "['', '', '', '', '', '', '\"\" ', '\"\" ', '\"\" ', '\"\" ', '\"architectural risk\" ', 'ADL', 'ANMCC', 'API gateway', 'ARCHITECTURE DSL', 'ATD Hotsports', 'ATD Item', 'ATD list', 'ATD priorization', 'Agile Software Development', 'Agile Software Development', 'Architectural Smells', 'Architectural Smells', 'Architectural Smells', 'Architectural Violation', 'Architectural Violation', 'Architecture Description Language', 'Architecture Issues', 'Architecture Smells', 'Architecture TD', 'Architecture Violations', 'Architecture violation', 'Automotive Domain', 'Average Coupling Afferent', 'Change scenario', 'Clone coverage', 'Code Metrics', 'Code TD', 'Cohesion among Package Classes', 'Common Vulerability Scoring System', 'Common Weakness Scoring System', 'Complex Architectural Design', 'Contagious ATD', 'Coupling metrics', 'Criticality Reference', 'Crossing', 'Cyclic Dependency', 'Cyclic dependency', 'Cyclomatic complexity', 'DRSpace', 'DRSpace', 'DRSpace', 'DSM', 'DSM', 'DSM', 'Decopling Level', 'Dependency structure matrix', 'Design Metrics', 'Design Rules Spaces', 'Design Structure Matrix', 'Design Structure Matrix', 'Design Structure Matrix', 'Design Structure Matrix', 'Documentation TD', 'Eletronic Control Unit', 'Heterogeneous artefacts', 'Hotsport pattern', 'Hub-like Dependency', 'Hublike dependency', 'IPCI', 'IPGF', 'ISO 25010', 'Implicit Cross-module Dependency', 'Inadequate testing', 'Jaccard similarity index', 'Keeping cost', 'Machine Learning', 'Model-Driven Architecture Approach', 'Modularity Violation Groups', 'Natural Language Processing', 'Number of class', 'Number of package', 'Objet Constraint Language', 'Outated documentation', 'Packages Dependencies', 'Quamoco', 'Rank of Priorization', 'Requirement TD', 'Resolution cost', 'Self-admitted Technical Debt', 'Social Network', 'Social Network Analysis', 'Source Code TD', 'Taxonomy of ATD', 'Taxonomy of ATD', 'Technical Debt Index', 'Technical Debt ratio', 'Test TD', 'Test coverage', 'Testing TD', 'Total Coupling Intensity between Packages', 'Treemap', 'Unhealthy Inheritance Hierarchy', 'Unhealthy Inheritance Hierarchy', 'Unstable Dependency', 'Unstable Interface', 'Unstable Interface', 'Unstable dependencies', 'Unstable dependency', 'affected subsystems', 'application analysis', 'application analysis', 'architectural complexity', 'architectural conformace checking', 'architectural divergences', 'architectural documentation', 'architectural erosion', 'architectural issue', 'architectural metrics', 'architectural root', 'architectural smells', 'architectural smells', 'architectural smells', 'architectural smells', 'architectural smells', 'architectural smells impact', 'architecture anti-patterns detection', 'architecture decision', 'architecture decision template', 'architecture diagram', 'architecture documentation', 'architecture erosion', 'architecture flaws', 'architecture recovery', 'architecture roots', 'architecture smells', 'architecture violation', 'average number of modified components per commit', 'bug track', 'bug tracking', 'bugs', 'business cases', 'business documentation', 'business enviroment', 'business factors', 'business factory', 'business risk', 'business risk', 'catalog of ATD', 'catalog of ATD Effects', 'catalog of flaws', 'catalogs of rules', 'catalogs of rules', 'change frequency', 'change propagation metric', 'changeability', 'changeability', 'ciclomatic complexity', 'cicly dependencies', 'clique', 'code change', 'code churn', 'code churn', 'code churn', 'code churn', 'code churn', 'code churn', 'code duplication', 'code smells', 'code smells', 'cohesion', 'cohesion', 'communications issues', 'compatibility', 'complex architectural design', 'complex components', 'complexity', 'complexity', 'complexity', 'complexity', 'complexity', 'complexity', 'complexity metrics', 'component communication', 'component dependencies', 'component dependencies', 'component dependencies', 'components', 'core size', 'coupling', 'coupling', 'coupling', 'coupling between objects', 'criticality', 'cycle', 'cycle dependencies', 'cycles', 'cyclic dependencies', 'cyclic dependency', 'cyclic dependency', 'cyclic packages', 'cyclomatic complexity', 'debt churn', 'decoupling level', 'decoupling level', 'defect-related activity', 'depencencies per component', 'dependencies between components', 'dependency analysis', 'dependency prediction', 'dependency to external resource', 'dependency violations', 'dependency violations', 'deployment', 'design decisions', 'design flaws', 'design view', 'detected violations', 'detected violations', 'diferent patterns', 'distributed code repositories', 'duplicate code', 'efficiency', 'embeded systems', 'estimating impact', 'event-driven', 'evolution model', 'evolvability', 'file changes', 'file dependencies', 'files', 'functionality', 'guidelines', 'hotspot', 'hotspot', 'hub-like', 'hub-like dependency', 'human factor', 'implementation cost', 'index of package changing impact', 'index of package goal focus', 'integrated legacy code', 'issue list', 'issue list', 'issue track', 'issue tracker', 'issue tracker', 'issue tracking', 'lack of domain knowledge', 'lack of reuse of components', 'language parse', 'language parse', 'large components', 'lask of test', 'lifetime components', 'link prediction', 'loc)', 'logical view', 'long lifetime', 'machine learning prediction', 'maintainability', 'maintainability', 'maintainability', 'maintainability', 'maintainability', 'maintainability', 'maintainability', 'maintainability', 'maintainability metrics', 'maintanance cost', 'measurement system', 'measuring issues', 'messaging', 'meta-model', 'meta-model', 'microservices', 'microservices', 'microservices integration', 'modularity', 'modularity', 'modularity', 'modularity', 'modularity', 'modularity', 'modularity', 'modularity metrics', 'modularity violation', 'modularity violation', 'modularity violations', 'modularization', 'non-functional requirements', 'non-funtional requirements', 'open source use', 'open systems', 'outdated libraries', 'package', 'package', 'package analysis', 'package analysis', 'package cohesion', 'package coupling', 'package cycle', 'package dependencies', 'package evaluation', 'pagerank', 'parcial refactoring', 'patterns and policies', 'performance', 'performance', 'performance', 'performance', 'performance', 'person effort', 'portability', 'priorization', 'priorization', 'priorization', 'problematic dependencies', 'propagation', 'propagation cost', 'propagation cost', 'propagation cost', 'propagation cost', 'propagation patterns', 'quality assurance', 'quality atributes', 'quality attributes', 'quality attributes', 'quality attributes', 'quality attributes', 'quality metrics', 'quality model to ATD', 'rank', 'ranking-based link prediction', 're-architecting', 'refactoring', 'refactoring', 'refactoring', 'refactoring', 'refactoring', 'refactoring', 'refactoring', 'refactoring', 'refactoring', 'refactoring', 'refactoring issues', 'refactoring maximization', 'refactoring minimization', 'refactoring strategies', 'release plan', 'release plan', 'release plan', 'reliability', 'reliability', 'requirements volatility', 'reverse engineering', 'revion history', 'revion history', 'revision history', 'revision history', 'revision history', 'revision history', 'revision history', 'revision history', 'revision history', 'revision history', 'revision history', 'revision history', 'revision history', 'revision history', 'revision history', 'revision history', 'revision history', 'revision history', 'revision history', 'revistion history', 'rework cost', 'robustness', 'robustness', 'rule violations', 'scalability', 'scalability triage', 'security', 'security', 'security', 'service documentation', 'social interactions', 'social-technical factors', 'socio-technical', 'socio‐technical anti‐patterns', 'software architectural documentation', 'software architecture design', 'software architecture documentation', 'software architecture documentation', 'software architecture documentation', 'software architecture documentation', 'software architecture documentation', 'software-intensive domains', 'source code', 'source code', 'source code', 'source code', 'source code', 'source code', 'source code', 'source code', 'source code', 'source code', 'source code', 'source code', 'source code', 'source code', 'source code', 'source code', 'source code', 'source code', 'source code', 'source code', 'source code', 'source code', 'source code', 'source code', 'specialist analysis', 'specialist analysis', 'specialist evaluation', 'specialist evaluation', 'specialist evaluation', 'specialist evaluation', 'specialist evaluation', 'specialist evaluation', 'specialist evaluation', 'specialist evaluation', 'specialist evaluation', 'specialist technical evaluation', 'static code analysis', 'taxonomy of ATD', 'taxonomy of ATD', 'technical complexity', 'technology evolution', 'technology heterogeneric', 'temporal properties', 'third party use', 'time', 'time series', 'time wasted to pay TD', 'tool evaluation', 'transferability', 'transferability', 'understanding issues', 'unhealthy inheritance', 'unity measure (money', 'unstable dependency', 'unstable dependency', 'unstable interface', 'use cases', 'visualization of ATD']\n\n['', ' \"\" ', ' \"\" ', ' \"\" ', ' \"\" ', ' \"ATD Identification based on change scenarios\" ', ' \"Architecture Smells Detection\" ', ' \"Architecture Violation\" ', ' \"Correlation analysis\" ', ' \"Tools evaluation\" ', ' \"analys of open source project\" ', ' \"classification of architectural risk\" ', ' \"design structure matrices\" ', ' \"framework to recover the architecture\" ', ' \"interviews\" ', ' \"lightweight approuch to identify scalability debt\" ', ' \"method to select critcial files to refactoring\" ', ' \"multiple case study\" ', ' \"plugin to collect information\" ', ' \"survey\" ', ' \"tool evaluation\" ', 'ATD contagious debt', 'ATD generation', 'ATD propagation', 'Android architecture guideline extraction', 'Android reference architecture establishment', 'ArchDebt framework', 'Architecture Degradation', 'Architecture Roots', 'CORRELATION ANALYSIS', 'Clique', 'Common Architectural Weakness Enumeration', 'Compliance checking', 'Cyclic Dependency', 'DRSpace', 'Dependency Graph Representation', 'Design Ruel Hierarchy', 'Design Structure Matrix', 'Detected Violation', 'Detected Violation', 'GQM', 'Goal-Question-Metric', 'Hotspot', 'Hub-Like Dependency', 'Implicit Cross Package Dependency', 'Implicit Cross-module Dependency', 'Machine Learning', 'Package cicle', 'Pilot study', 'Quality Model to Refactoring ATD', 'Quantitative assessment of compliance violations', 'REBEL focuses on finding ATD items at architecture level only', 'Ranking: Identify High-maintenance ArchDebt', 'Reverse engineering of implemented architecture', 'Spearman’s correlation tests', 'Strategic Adoption Model for Tracking Technical Debt', 'Taxonomy of ATD', 'Trend evolution classification templates', 'Unhealthy Inheritance Hierarchy', 'Unstable Dependency', 'Unstable Interface', 'analysis using Qualitas Corpus', 'architechtural debt evolution', 'architecture drifting', 'architecture risk management', 'architecture violation', 'bug-prone', 'case study', 'case study', 'case study', 'catalog', 'change-prone', 'clique', 'cost of component communcation', 'crossing', 'design structure matrix', 'early detection architectural problems', 'framework AnaConDebt', 'framework to identify ATD', 'history coupling probability (HCP) matrix', 'interview', 'interview', 'interview', 'interviews', 'measure and calculate the ATD', 'measuring the impact of its repayment strategy based on architecture decisions and allowing the debt to be anticipated or corrected before the implementation process begins', 'modularity metrics', 'modularity violation', 'own technique to identify', 'owner formula', 'owner formula', 'owner formulas', 'owner formulas', 'package cycle', 'prediction of architectural smells', 'predictive approach', 'priorization securty framework', 'questionaries', 'questionaries', 'refactoring prioritisation', 'semi-structured interview', 'specialist analysis', 'survey', 'survey', 'survey', 'taxonomy', 'treemap', 'unstable interface']\n\n[' \"ACME-Generator Tool\"', ' \"Arcan\"', ' \"ArchDia\"', ' \"DV8\"', ' \"No\"', ' \"No\"', ' \"No\"', ' \"No\"', ' \"No\"', ' \"QDA Tool\"', ' \"Rebel\"', ' \"SonarQube\"', ' \"Sonargraph\"', ' \"no\"', ' \"no\"', ' \"no\"', ' \"no\"', ' \"no\"', ' \"no\"', ' \"no\"', ' \"no\"', ' \"own\"', ' \"owner formula\"', ' \"owner formulas\"', ' \"owner formulas\"', ' \"owner tool to visualize dependency among components\"', ' \"owner tool\"', ' \"owner tool\"', ' \"owner tool\"', ' \"questionaries\"', ' Understand', 'ASTracker', 'Apache Commons BCEL', 'Arcan', 'Arcan', 'Arcan', 'CAST', 'CAST', 'Cast', 'Checkstyle', 'Codacy', 'CodeCov', 'Codevoc', 'DV8', 'DV8', 'Error Prone', 'Findbugs', 'Findbugs', 'Fusion', 'FxCorp', 'Gephi tool', 'Git', 'GraphML', 'IDE linting', 'InFusion', 'Jira', 'Jmetrics', 'Lattix', 'NoCAST', 'PMD', 'PMD', 'Self-made tool', 'Simian', 'SonarGraph', 'SonarQube', 'SonarQube', 'SonarQube', 'SonarQube', 'SonarQube Structure101', 'Sonargraph', 'Sonarqube', 'Structure 101', 'Titan', 'Titan', 'Understand', 'Understand', 'Understand', 'archdia', 'checkstyle', 'cobertura', 'custom tool', 'dependency-analyser', 'hellow2morrow', 'owner formula', 'owner formula', 'owner plugin', 'owner score formula', 'owner tool', 'titan', 'understand', 'weka']\n"
     ]
    }
   ],
   "source": [
    "list_of_tat, list_of_techniques, list_of_approaches, list_of_tools = util.extract_techniques_approuches_tools(df_sms_extraction)\n",
    "\n",
    "list_of_techniques.sort()\n",
    "print(list_of_techniques)\n",
    "print()\n",
    "\n",
    "list_of_approaches.sort()\n",
    "print(list_of_approaches)\n",
    "print()\n",
    "\n",
    "list_of_tools.sort()\n",
    "print(list_of_tools)"
   ]
  },
  {
   "source": [
    "# Q4 (Calculate the cost) yes - how?          "
   ],
   "cell_type": "markdown",
   "metadata": {}
  },
  {
   "cell_type": "code",
   "execution_count": 7,
   "metadata": {},
   "outputs": [
    {
     "output_type": "execute_result",
     "data": {
      "text/plain": [
       "{1: 'no',\n",
       " 2: 'according measurement system and formula proposed by authors. keep in mind that is necessary to get information from developers that worked in files. developer work months (dwm). dwm is defined in this study as the amount of effort one developer generates each month. man-hours',\n",
       " 3: 'no',\n",
       " 4: 'we calculate the expected maintenance effort spent on a root to be the principle and calculate the penalty from each root as the interest, which is the difference between the actual maintenance effort and the expected maintenance effort. the cost is calculate in staff days based on maintenance effort.',\n",
       " 5: 'the refactoring activities were recorded as 106 change requests, which consumed 563.8 person hours of effort. we linked these refactoring issues to the commits that were related to 7 cliques, 23 crossings, and 4 unstable interfaces that we detected from architecture debt analysis before refactoring. we found that about 34% of the commits, 28% of the time, and 37% of lines of code during the refactoring period were related to the removal of architecture debt.',\n",
       " 7: 'no',\n",
       " 9: 'no',\n",
       " 10: 'using particular formulas created by anacondebt framework related to principal and interest.',\n",
       " 13: 'it was calculated the cost of interest for identifying archdebt. given an archdebt, we quantify the maintenance costs (approximated by bug-fixing churn) spent on the files in- volved in the debt. from the costs incurred in each release, we can model the growth trend using linear, logarithmic, exponential or polynomial regression models. these models represent coherent scenarios of stable, reducing, increasing, and fluctuating maintenance interest rates respectively. the maintenance costs spent on this debt fit a linear regression model: debtmodel(rt) where the unit is x line of code to fix errors.',\n",
       " 14: 'no',\n",
       " 15: 'no',\n",
       " 16: \"it is provided by a formula that is a sum of cost atdi estimated by developer's participation.\",\n",
       " 17: 'the cost was calculated using resolution cost. only tools cast and sonargraph has a atd index',\n",
       " 21: 'for each atd item is calculated principal and interest using person-days as unit to measurement.',\n",
       " 22: 'the authors have been defined a crisis point. that it is means the point that you have to pay atd. crisis model: a point of non-sustainable development, where the atd accumulated is high, is constantly reached by the companies, which confirms the monotonicity of the trend. it is means the atd accumulation until the reach of a crisis point when a big refactoring is need.',\n",
       " 27: 'it was used the following over all formula: e = (e1 - e4)*t + (e2 - e5)*t - e3 the first result was the key effort factors for modeling the calculation. the first two are related to the effort spent in the development and maintenance before the refactoring: the old development effort (e1) the old maintenance effort (e2). similarly, it was important to estimate the development and maintenance after the refactoring: the new development effort (e4) and the new maintenance effort (e5). finally, we need to take in consideration the refactoring effort (e3) which includes the effort spent on refactoring. it was performed a set of interviews to collect effort estimations. the effort use the unit dwm/mounth that means man-hours each month.',\n",
       " 30: 'after atd identified the developers estimated each atdi in terms of hours to interest and principal.',\n",
       " 38: 'after create all drspace is given that the flaws in a drspace are explicitly identified by titan, we can create—and create a cost estimate for—a refactoring plan based on removing those flaws.',\n",
       " 48: 'the architectural debt was quantified using technical debt calculation framework proposed by authors. the effort about atd is calculated based on number of defects and number of lines of changes. the effort of refactoring and roi (return of investiment is calculate based on pm (person per month) via software architecture and project management of the studied project. thus, it is necessary a specialist analysis to calculate the principal of architectural technical debt.',\n",
       " 47: 'no',\n",
       " 20: 'no',\n",
       " 33: 'the cost to pay atdi is estimated in hours according a formula proposed by authros. it is the sum of effort the existing component with new effort to support the existing component. the total cost t of release n is a function of the implementation and rework costs, ci and cr : t f(ci,cr) in this paper, we assume that it is simply the sum. however, the estimation depends on the people directly involved in each release.',\n",
       " 26: 'given the history record of a project, dv8 can also quantify the maintenance costs incurred by each anti-pattern instance, in terms of the number of bugs, changes, bug churn and change churn incurred by the files involved in each anti-pattern instance. using dv8, the user can also estimate the return-on-investment of refactoring each root, which can be used as a basis to make refactoring decisions.',\n",
       " 28: 'no',\n",
       " 31: 'misplaced lc interest based on scale of weight proposed by the authors.',\n",
       " 44: 'no',\n",
       " 43: 'the cust was based on the time spends on maintanance record in issue tracker. the authors defined a standard cost of u$ 100 per hour to calculate the cust of activity.',\n",
       " 51: 'no',\n",
       " 52: 'no',\n",
       " 73: 'principaltd-security = cost of the maintenance and refactoring associated with fixing architectural cwes',\n",
       " 69: '36% of effort in software development cycle is effort about whole td.',\n",
       " 67: 'no',\n",
       " 66: 'there is no specific calculus to ati, but the whole cost of td management is about 25% of cost of alocation team activities.',\n",
       " 96: 'no',\n",
       " 77: 'no',\n",
       " 78: 'no',\n",
       " 81: 'td-principal = (σ high severity violations) x .5) 1 hr.) x 75$) + (σ medium severity violations) x .25) 1 hr.) x 75$) + (σ low severity violations) x .1) 1 hr.) x 75$)',\n",
       " 82: 'technical debt td-principal = (σ high severity violations) x .5) 1 hr.) x 75$) + (σ medium severity violations) x .25) 1 hr.) x 75$) + (σ low severity violations) x .1) 1 hr.) x 75$) however, there is specific formula to calculate the atd cost',\n",
       " 88: 'no, even the authors proposing an manual strategy to estimate the cost os scalabity, the cost is calculated based on colors or labels (green, yellow, red) regarding to impact of each scalability issue found.',\n",
       " 90: 'no',\n",
       " 91: 'no',\n",
       " 97: 'no'}"
      ]
     },
     "metadata": {},
     "execution_count": 7
    }
   ],
   "source": [
    "dict_q4 = {}\n",
    "for item in zip( list(df_sms_extraction['Paper Id']), list(df_sms_extraction['Q4']) ):\n",
    "    id = item[0]\n",
    "    if (item[1] != ''):\n",
    "        q4 = str(item[1])\n",
    "        q4 = ' '.join(q4.split())\n",
    "        dict_q4[id] = q4.lower()\n",
    "dict_q4\n"
   ]
  }
 ]
}