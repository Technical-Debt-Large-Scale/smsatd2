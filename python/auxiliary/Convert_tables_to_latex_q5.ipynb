{
 "metadata": {
  "language_info": {
   "codemirror_mode": {
    "name": "ipython",
    "version": 3
   },
   "file_extension": ".py",
   "mimetype": "text/x-python",
   "name": "python",
   "nbconvert_exporter": "python",
   "pygments_lexer": "ipython3",
   "version": "3.6.3"
  },
  "orig_nbformat": 2,
  "kernelspec": {
   "name": "python363jvsc74a57bd005ece30799c2dcdac4c13b3af20453da19de8df0d9a1de52cff7e0b6e1e82bdd",
   "display_name": "Python 3.6.3 64-bit"
  }
 },
 "nbformat": 4,
 "nbformat_minor": 2,
 "cells": [
  {
   "cell_type": "code",
   "execution_count": 1,
   "metadata": {},
   "outputs": [],
   "source": [
    "import os\n",
    "import sys\n",
    "nb_dir = os.path.split(os.getcwd())[0]\n",
    "if nb_dir not in sys.path:\n",
    "    sys.path.append(nb_dir)\n",
    "\n",
    "import pandas as pd\n",
    "import util.utilities as util\n",
    "from collections import Counter"
   ]
  },
  {
   "cell_type": "code",
   "execution_count": 2,
   "metadata": {},
   "outputs": [
    {
     "output_type": "execute_result",
     "data": {
      "text/plain": [
       "{1: 'yes. the amount of architectural decisions impacted by the atd item is 3. this way, impact = 3 * 5 * (3*3) = 135. if our atd repayment strategy would not affect other decisions, the impact would be i = 3 * 1 * (1*3) = 9. from these results, software architect understand the impact of a repayment strategy.',\n",
       " 2: 'developer work months (dwm). dwm is defined in this study as the amount of effort one developer generates each month. man-hours',\n",
       " 3: 'no',\n",
       " 4: 'the method proposed can calculate the expected effort spent on the amount of files in detected architecture roots during the analysed cycle in x staff-days to fix the atd items identified.',\n",
       " 5: 'the method proposed check the time effort refactoring to fix the atd items identified during the case study.',\n",
       " 7: 'no. the method proposed just check if the hotspot is increasing or decreasing and show the problematic files. there is no calculus to fix the atd items.',\n",
       " 9: 'no. the method proposed just calculates the atd indexes but does not calculate the cost to fix it.',\n",
       " 10: 'using particular formulas created by anacondebt framework related to principal and interest to calculate the effort to fix the atd item identified.',\n",
       " 13: 'it was calculated the cost of interest for identifying archdebt using a linear regression model in terms of set of files.',\n",
       " 14: 'no',\n",
       " 15: 'no',\n",
       " 16: \"it is provided by a formula that is a sum of cost atdi estimated by developer's participation.\",\n",
       " 17: 'no',\n",
       " 21: 'for each atd item is calculated principal and interest using person-days as unit to measurement.',\n",
       " 22: 'the authors have been defined a crisis point over the time to calculate the moment to pay the atd.',\n",
       " 27: 'it is used a formula to calculate the effort in time to fix the atd items. the effort use the unit dwm/mounth that means man-hours each month.',\n",
       " 30: 'yes, using a proprietary formula to calculate the tim effort to fix the architecture smell',\n",
       " 38: 'yes, using a proprietary formula to calculate the effort to fix the architecture smell',\n",
       " 48: 'the architectural debt was quantified using technical debt calculation framework proposed by authors. the effort about atd is calculated based on number of defects and number of lines of changes. the effort of refactoring and roi (return of investiment is calculate based on pm (person per month) via software architecture and project management of the studied project. thus, it is necessary a specialist analysis to calculate the principal of architectural technical debt.',\n",
       " 47: 'no',\n",
       " 20: 'no',\n",
       " 33: 'the cost to pay atdi is estimated in hours according a formula proposed by authros. the total cost t of release n is a function of the implementation and rework costs, ci and cr : t f(ci,cr)',\n",
       " 26: 'no',\n",
       " 28: 'no',\n",
       " 31: 'misplaced lc interest based on scale of weight proposed by the authors.',\n",
       " 44: 'no',\n",
       " 43: 'the cust was based on the time spends on maintanance record in issue tracker. the authors defined a standard cost of u$ 100 per hour to calculate the cust of activity.',\n",
       " 51: 'no',\n",
       " 52: 'no',\n",
       " 63: 'no',\n",
       " 73: 'principaltd-security = cost of the maintenance and refactoring associated with fixing architectural cwes',\n",
       " 69: 'no',\n",
       " 67: 'no',\n",
       " 66: 'no',\n",
       " 96: 'no',\n",
       " 35: 'yes, using quality model to check increasing or decreasing of atd accumulation',\n",
       " 24: 'yes, using a proprietary formula to calculate the effort to fix the architecture root',\n",
       " 77: 'no',\n",
       " 78: 'no',\n",
       " 81: 'td-principal = (σ high severity violations) x .5) 1 hr.) x 75$) + (σ medium severity violations) x .25) 1 hr.) x 75$) + (σ low severity violations) x .1) 1 hr.) x 75$)',\n",
       " 85: 'no',\n",
       " 88: 'no',\n",
       " 90: 'no',\n",
       " 91: 'no',\n",
       " 97: 'no',\n",
       " 40: 'yes, using a proprietary formula to calculate the effort to fix the social smell.',\n",
       " 106: 'no',\n",
       " 107: 'yes',\n",
       " 108: 'no',\n",
       " 109: 'no',\n",
       " 110: 'no',\n",
       " 111: 'no',\n",
       " 112: 'no',\n",
       " 113: 'no',\n",
       " 114: 'yes',\n",
       " 115: 'no',\n",
       " 116: 'no'}"
      ]
     },
     "metadata": {},
     "execution_count": 2
    }
   ],
   "source": [
    "df_sms_extraction = util.load_dataset(my_path='../../dataset/Extraction_form_basic.xlsx')\n",
    "df_sms_extraction = util.add_column_sp(df_sms_extraction)\n",
    "\n",
    "# 3.6) Q5 Calculat the cost\n",
    "\n",
    "## Papers grouped by calculus\n",
    "\n",
    "dict_q5 = {}\n",
    "for item in zip( list(df_sms_extraction['Paper Id']), list(df_sms_extraction['Q5(calculate the cost)']) ):\n",
    "    id = item[0]\n",
    "    if (item[1] != ''):\n",
    "        q5 = str(item[1])\n",
    "        q5 = ' '.join(q5.split())\n",
    "        dict_q5[id] = q5.lower()\n",
    "\n",
    "dict_q5"
   ]
  },
  {
   "cell_type": "code",
   "execution_count": 3,
   "metadata": {},
   "outputs": [
    {
     "output_type": "stream",
     "name": "stderr",
     "text": [
      "/Library/Frameworks/Python.framework/Versions/3.6/lib/python3.6/site-packages/pandas/core/indexing.py:190: SettingWithCopyWarning: \n",
      "A value is trying to be set on a copy of a slice from a DataFrame\n",
      "\n",
      "See the caveats in the documentation: http://pandas.pydata.org/pandas-docs/stable/indexing.html#indexing-view-versus-copy\n",
      "  self._setitem_with_indexer(indexer, value)\n",
      "Arquivo ../../latex/mytable_q5_distribution.tex  gerado com sucesso!\n"
     ]
    },
    {
     "output_type": "execute_result",
     "data": {
      "text/plain": [
       "                   q5  count  \\\n",
       "0  Calculate the cost     25   \n",
       "1                  No     32   \n",
       "2      Not applicable      0   \n",
       "\n",
       "                                                                                                                                                                                                sp  \n",
       "0                                                   [SP1, SP2, SP4, SP5, SP6, SP7, SP8, SP9, SP12, SP14, SP15, SP16, SP17, SP18, SP19, SP22, SP25, SP27, SP31, SP36, SP37, SP40, SP46, SP48, SP55]  \n",
       "1  [SP3, SP10, SP11, SP13, SP20, SP21, SP23, SP24, SP26, SP28, SP29, SP30, SP32, SP33, SP34, SP35, SP38, SP39, SP41, SP42, SP43, SP44, SP45, SP47, SP49, SP50, SP51, SP52, SP53, SP54, SP56, SP57]  \n",
       "2                                                                                                                                                                                               []  "
      ],
      "text/html": "<div>\n<style scoped>\n    .dataframe tbody tr th:only-of-type {\n        vertical-align: middle;\n    }\n\n    .dataframe tbody tr th {\n        vertical-align: top;\n    }\n\n    .dataframe thead th {\n        text-align: right;\n    }\n</style>\n<table border=\"1\" class=\"dataframe\">\n  <thead>\n    <tr style=\"text-align: right;\">\n      <th></th>\n      <th>q5</th>\n      <th>count</th>\n      <th>sp</th>\n    </tr>\n  </thead>\n  <tbody>\n    <tr>\n      <th>0</th>\n      <td>Calculate the cost</td>\n      <td>25</td>\n      <td>[SP1, SP2, SP4, SP5, SP6, SP7, SP8, SP9, SP12, SP14, SP15, SP16, SP17, SP18, SP19, SP22, SP25, SP27, SP31, SP36, SP37, SP40, SP46, SP48, SP55]</td>\n    </tr>\n    <tr>\n      <th>1</th>\n      <td>No</td>\n      <td>32</td>\n      <td>[SP3, SP10, SP11, SP13, SP20, SP21, SP23, SP24, SP26, SP28, SP29, SP30, SP32, SP33, SP34, SP35, SP38, SP39, SP41, SP42, SP43, SP44, SP45, SP47, SP49, SP50, SP51, SP52, SP53, SP54, SP56, SP57]</td>\n    </tr>\n    <tr>\n      <th>2</th>\n      <td>Not applicable</td>\n      <td>0</td>\n      <td>[]</td>\n    </tr>\n  </tbody>\n</table>\n</div>"
     },
     "metadata": {},
     "execution_count": 3
    }
   ],
   "source": [
    "df_distribution_q5 = util.view_question_distribution(my_dict=dict_q5, my_list=['Calculate the cost', 'No', 'Not applicable'], my_question='q5')\n",
    "df_distribution_q5['sp'] = None\n",
    "\n",
    "df_distribution_q5 = util.view_question_distribution_update_sp(my_df_distribution=df_distribution_q5, my_df_data=df_sms_extraction, my_feature='Q5(calculate the cost)')\n",
    "\n",
    "util.create_latex_table(my_df=df_distribution_q5, my_path='../../latex', my_file_name='mytable_q5_distribution.tex')\n",
    "\n",
    "df_distribution_q5"
   ]
  },
  {
   "cell_type": "code",
   "execution_count": 4,
   "metadata": {},
   "outputs": [
    {
     "output_type": "stream",
     "name": "stdout",
     "text": [
      "Calculate the cost : 0.439 (25 studies)\nNo calculate the cost : 0.561 (32 studies)\n"
     ]
    }
   ],
   "source": [
    "print('Calculate the cost : {} ({} studies)'.format( round(25/57 , 3), 25 ))\n",
    "print('No calculate the cost : {} ({} studies)'.format( round(32/57 , 3), 32 ))"
   ]
  },
  {
   "cell_type": "code",
   "execution_count": 5,
   "metadata": {},
   "outputs": [
    {
     "output_type": "stream",
     "name": "stdout",
     "text": [
      "Arquivo ../../md/mytable_q5_distribution_detailed2.md  gerado com sucesso!\n"
     ]
    },
    {
     "output_type": "execute_result",
     "data": {
      "text/plain": [
       "         The method performed a monitoring process for each release planning evaluated during the case study.   \n",
       "1                                                                                                                                                           The framework performed a monitoring process for each release version evaluated during the case study.   \n",
       "3                                                                                                                                                                              The case study performed a set of evaluations of revision history during the study.   \n",
       "4                                                                                                                                                     Yes, during two years the releases were monitored to check the benefits of refactoring software architecture   \n",
       "5                                                                                                        The authors monitored the evolution of hostspot during the period of study comparing the revision history and issue tracker to detect problematic files.    \n",
       "6                                                                                           The authors monitored the evolution of Indexes during the period of study comparing the revision history of the source code of each release of a selected OSS project.   \n",
       "7                                                                                                                                                             The Principal and Interest is analysed by Software Architects and Project Managers for each release.   \n",
       "8                                                                                                                                                                                 It was monitored the evolution of ArchDebts through releases that are evaluated.   \n",
       "11  Yes, after each release using a proprietary method. The interest is monitored by analysing each ATD class defined in proprietary taxynomy.\n",
       "\n",
       "These factors can be proactively monitored to strategically refactor the ATD, before it becomes too costly to b...   \n",
       "13                                                                                                                                                  The approach is performed for each release using expert evaluation (Software Architect from project evaluated)   \n",
       "14                                                                                                                                                            The ATD items are monitored during releaase planing via expert evaluation that use the ATD taxonomy.   \n",
       "15                                                                                                                                         It was applied the framework for each release evaluated. It is a manual process that there is no tool to support this.    \n",
       "16                                                                                                                                                                                                            Yes, after each release using a proprietary method.    \n",
       "17                                                                                                                                                     Tracking architecture roots, architecutre flaws and Decopling Level for each version analysed by Titan tool   \n",
       "18                                                                               The approach of DRSpace is performed for each release analysed by software architecture to verify and confirm the architecture debt and effort is calculated in person per month.   \n",
       "21                                                                                                                                                                                                            Yes, after each release using a proprietary method.    \n",
       "24                                                                                                                                                                                For each architecture planning to create or maintain the LC (Logical Components)   \n",
       "26                                                                                                                                                                                                                                                              No   \n",
       "30                                                                                                                                                                                                                                                              No   \n",
       "35                                                                                                                                                                                                                                                             Yes   \n",
       "36                                                                                                                                                                                                            Yes, after each release using a proprietary method.    \n",
       "39                                                                                                                                                                                                                                                              No   \n",
       "45                                                                                                                                                                                                                                                              No   \n",
       "47                                                                                                                                                                                                                                                             Yes   \n",
       "54                                                                                                                                                                                                                                                              No   \n",
       "\n",
       "                                                                                                                                                                                                                                          Q4(Techniques and tools)  \\\n",
       "0   general:\"Model-Driven Architecture Approach, Natural Language Processing, Machine Learning, Heterogeneous artefacts\"\\n# \\napprouch:\"REBEL focuses on finding ATD items at architecture level only, measuring the impact of its repayment strategy based on ...   \n",
       "1       general:\"specialist technical evaluation, modularity, measurement system, complexity, cohesion, coupling, code churn, source code, revision history\"\\n# \\napprouch:\"own technique to identify, measure and calculate the ATD\"\\n#\\ntools:\"proprietary tool\"   \n",
       "3   general:\"architectural root, source code, revision history, Design Structure Matrix, code churn, change frequency, architectural smells, modularity\"\\n # \\n approuch:\"Unstable Interface, Implicit Cross-module Dependency, Unhealthy Inheritance Hierarchy...   \n",
       "4   general:\"maintainability, architecture flaws, architecture roots, decoupling level, propagation cost, architectural smells, Design Structure Matrix, DRSpace, code churn\"\\n # \\n approuch:\"clique, package cycle, modularity violation, crossing, unstable ...   \n",
       "5                                               general:\"source code, revision history, hotspot, propagation patterns, issue tracking\"\\n # \\n approuch:\"change-prone, bug-prone, early detection architectural problems\"\\n #\\n tools:\"\n",
       "Understand\n",
       ", Simian, \n",
       "DV8\n",
       "\"   \n",
       "6   general:\"modularity, average number of modified components per commit, ANMCC, index of package changing impact, IPCI, index of package goal focus,  IPGF, source code, revistion history, \"\\n # \\n approuch:\"modularity metrics, Spearman’s correlation tes...   \n",
       "7                                                  general:\"source code, software architecture documentation, business documentation, revision history, release plan\"\\n # \\n approuch:\"framework AnaConDebt, catalog, taxonomy\"\\n #\\n tools:\"proprietary formulas\"   \n",
       "8   general:\"Design Rules Spaces, Design Structure Matrix, Architecture Issues, Architectural Smells, Hotsport pattern, unstable interface, modularity violation, unhealthy inheritance, cyclic dependency, DRSpace, source code, revision history, bug track, ...   \n",
       "11                                                                                                                                                       general: \"It was created a taxonomy about ATD itens to identify ATD Contagius debt\"#approuch: \"\"#tools:\"\"   \n",
       "13   general:\"software architectural documentation, architecture decision, quality attributes, ATD Item, ATD list, Change scenario, architecture decision template, architecture diagram, specialist analysis, revision history, release plan\"\\n # \\n approuch:...   \n",
       "14               general:\"Agile Software Development, Taxonomy of ATD, refactoring, source code, business factory, architecture documentation, human factor,  \"\\n # \\n approuch:\"Taxonomy of ATD, framework to identify ATD, specialist analysis\"\\n #\\n tools:\"no\"   \n",
       "15                         general:\"modularization, code churn, source code, revision history, complexity, refactoring, specialist analysis, files, components\"\\n # \\n approuch:\"method to select critcial files to refactoring\"\\n #\\n tools:\"proprietary formula\"   \n",
       "16                                                                                                                                                                                                        general:# approuch: ' Architecture Smell'#tools: 'Arcan'   \n",
       "17                                                                                                                                                       general: # approuch: architecture smells, Decopling Level, DRSpace, Propagation Cost, DSM# tools: 'Titan'   \n",
       "18   general:\"hotspot, refactoring, source code, revision history, architectural issue, issue tracker, issue list, file dependencies, specialist evaluation, business cases, Unstable Interface, Implicit Cross-module Dependency, modularity violations, Unhea...   \n",
       "21   general:\"specialist evaluation, package, release plan, dependency analysis, DSM, implementation cost, propagation cost, rework cost, use cases, refactoring, re-architecting, person effort, modularity metrics, change propagation metric\"\\n # \\n approuc...   \n",
       "24   general:\"maintainability, performance, visualization of ATD, logical view, design view, deployment, efficiency, component communication, component dependencies, Eletronic Control Unit, Automotive Domain\"\\n # \\n approuch:\"semi-structured interview, co...   \n",
       "26   general:\"complexity, modularity, maintanance cost, refactoring, coupling, cohesion, dependencies between components, DSM, source code, issue track, bug tracking, defect-related activity, file changes, specialist evaluation, refactoring, design decisi...   \n",
       "30   general:\"quality assurance, security, Common Weakness Scoring System, Common Vulerability Scoring System, Quamoco, ISO 25010, source code, catalog of flaws, specialist evaluation\"\\n # \\n approuch:\"Pilot study, priorization securty framework, Common A...   \n",
       "35                                                                                                                                                                                                                 general: # approuch: 'Taxonomy of ATD'# tools:    \n",
       "36                                                                                                                                  general: # approuch: 'DRSpace, Architectural Root, Architecture Smell, DSM, DRH, Coupling, source code analysis'# tools: latix   \n",
       "39  general:\"language parse, meta-model, catalogs of rules, application analysis, detected violations, quality attributes, performance, robustness, security, changeability, transferability, source code, revion history, business risk, \"\\n # \\n approuch:\"De...   \n",
       "45                                                                                                                                                                                                                                                              No   \n",
       "47                                                                                                                                                                                    general:\"issue track, machine learning\"\\n# \\napprouch:\"\"\\n#\\ntools:\"Skuld\"\\n   \n",
       "54                                                                                                                                                                                          general:\"\"\\n# \\napprouch:\"security analysis\"\\n#\\ntools:\"proprietary\"\\n   \n",
       "\n",
       "                                                                                                                                                                                                                                            Q5(calculate the cost)  \n",
       "0   Yes. The amount of architectural decisions impacted by the ATD item is 3. This way, Impact = 3 * 5 * (3*3) = 135. If our ATD repayment strategy would not affect other decisions, the Impact would be I = 3 * 1 * (1*3) = 9. From these results, software a...  \n",
       "1                                                                                                                                 Developer Work Months (DWM). DWM is defined in this study as the amount of effort one developer generates each month.  Man-hours  \n",
       "3                                                                    The method proposed can calculate the expected effort spent on the amount of files in detected architecture roots during the analysed cycle in X staff-days to fix the ATD items identified.   \n",
       "4                                                                                                                                                     The method proposed check the time effort refactoring to fix the ATD items identified during the case study.  \n",
       "5                                                                                                         No. The method proposed just check if the hotspot is increasing or decreasing and show the problematic files. There is no calculus to fix the ATD items.  \n",
       "6                                                                                                                                                               No. The method proposed just calculates the ATD indexes but does not calculate the cost to fix it.  \n",
       "7                                                                                                              Using particular formulas created by AnaConDebt framework related to principal and interest to calculate the effort to fix the ATD Item identified.  \n",
       "8                                                                                                                                        It was calculated the cost of interest for identifying ArchDebt using a linear regression model in terms of set of files.  \n",
       "11                                                                                                                                                                 It is provided by a formula that is a sum of cost ATDI estimated by developer's participation.   \n",
       "13                                                                                                                                                               For each ATD item is calculated principal and interest using person-days as unit to measurement.   \n",
       "14                                                                                                                                                              The authors have been defined a crisis point over the time to calculate the moment to pay the ATD.  \n",
       "15                                                                                                                It is used a formula to calculate the effort in time to fix the ATD items. \\nThe effort use the unit DWM/Mounth that means man-hours each month.  \n",
       "16                                                                                                                                                                      Yes, using a proprietary formula to calculate the tim effort to fix the architecture smell  \n",
       "17                                                                                                                                                                          Yes, using a proprietary formula to calculate the effort to fix the architecture smell  \n",
       "18  The Architectural Debt was quantified using Technical Debt Calculation framework proposed by authors.\n",
       "\n",
       "The effort about ATD is calculated based on number of defects and number of lines of changes.\n",
       "\n",
       " The effort of refactoring and ROI (Return of Investi...  \n",
       "21                                                               The cost to pay ATDI is estimated in hours according a formula proposed by authros.\\nThe Total Cost T of release n is a function of the implementation and rework costs, Ci and Cr : \\nT F(Ci,Cr)  \n",
       "24                                                                                                                                                                                        Misplaced LC interest based on scale of weight proposed by the authors.   \n",
       "26                                                                                         The cust was based on the time spends on maintanance record in issue tracker. The authors defined a standard cost of U$ 100 per hour to calculate the cust of activity.  \n",
       "30                                                                                                                                                     PrincipalTD-Security = Cost of the maintenance and refactoring associated with fixing architectural CWEs \\n  \n",
       "35                                                                                                                                                                                  Yes, using quality model to check increasing or decreasing of ATD accumulation  \n",
       "36                                                                                                                                                                           Yes, using a proprietary formula to calculate the effort to fix the architecture root  \n",
       "39                                                                                       TD-Principal =\\n(Σ high severity violations) x .5) 1 hr.) x 75$) +\\n(Σ medium severity violations) x .25) 1 hr.) x 75$) + (Σ low severity violations) x .1) 1 hr.) x 75$)  \n",
       "45                                                                                                                                                                               Yes, using a proprietary formula to calculate the effort to fix the social smell.  \n",
       "47                                                                                                                                                                                                                                                             Yes  \n",
       "54                                                                                                                                                                                                                                                             Yes  "
      ],
      "text/html": "<div>\n<style scoped>\n    .dataframe tbody tr th:only-of-type {\n        vertical-align: middle;\n    }\n\n    .dataframe tbody tr th {\n        vertical-align: top;\n    }\n\n    .dataframe thead th {\n        text-align: right;\n    }\n</style>\n<table border=\"1\" class=\"dataframe\">\n  <thead>\n    <tr style=\"text-align: right;\">\n      <th></th>\n      <th>Paper Id</th>\n      <th>sp</th>\n      <th>Citation</th>\n      <th>Title</th>\n      <th>Q2(Measure)</th>\n      <th>Q3(Monitoring)</th>\n      <th>Q4(Techniques and tools)</th>\n      <th>Q5(calculate the cost)</th>\n    </tr>\n  </thead>\n  <tbody>\n    <tr>\n      <th>0</th>\n      <td>1</td>\n      <td>SP1</td>\n      <td>Perez et al. 2019</td>\n      <td>A Proposed Model-driven Approach to Manage Architectural Technical Debt Life Cycle \\n</td>\n      <td>REBEL focuses on finding ATD items at architecture level only (documents), measuring the impact of its repayment strategy based on architecture decisions and allowing the debt to be anticipated or corrected before the implementation process begins.</td>\n      <td>The method performed a monitoring process for each release planning evaluated during the case study.</td>\n      <td>general:\"Model-Driven Architecture Approach, Natural Language Processing, Machine Learning, Heterogeneous artefacts\"\\n# \\napprouch:\"REBEL focuses on finding ATD items at architecture level only, measuring the impact of its repayment strategy based on ...</td>\n      <td>Yes. The amount of architectural decisions impacted by the ATD item is 3. This way, Impact = 3 * 5 * (3*3) = 135. If our ATD repayment strategy would not affect other decisions, the Impact would be I = 3 * 1 * (1*3) = 9. From these results, software a...</td>\n    </tr>\n    <tr>\n      <th>1</th>\n      <td>2</td>\n      <td>SP2</td>\n      <td>Martini et al 2017</td>\n      <td>A semi-automated framework for the identification and estimation of Architectural Technical Debt: A comparative case-study on the modularization of a software component</td>\n      <td>Complexity measures of files</td>\n      <td>The framework performed a monitoring process for each release version evaluated during the case study.</td>\n      <td>general:\"specialist technical evaluation, modularity, measurement system, complexity, cohesion, coupling, code churn, source code, revision history\"\\n# \\napprouch:\"own technique to identify, measure and calculate the ATD\"\\n#\\ntools:\"proprietary tool\"</td>\n      <td>Developer Work Months (DWM). DWM is defined in this study as the amount of effort one developer generates each month.  Man-hours</td>\n    </tr>\n    <tr>\n      <th>3</th>\n      <td>4</td>\n      <td>SP4</td>\n      <td>Snipes et al. 2018</td>\n      <td>A Case Study of the Effects of Architecture Debt on Software Evolution Effort</td>\n      <td>Architectural Root</td>\n      <td>The case study performed a set of evaluations of revision history during the study.</td>\n      <td>general:\"architectural root, source code, revision history, Design Structure Matrix, code churn, change frequency, architectural smells, modularity\"\\n # \\n approuch:\"Unstable Interface, Implicit Cross-module Dependency, Unhealthy Inheritance Hierarchy...</td>\n      <td>The method proposed can calculate the expected effort spent on the amount of files in detected architecture roots during the analysed cycle in X staff-days to fix the ATD items identified.</td>\n    </tr>\n    <tr>\n      <th>4</th>\n      <td>5</td>\n      <td>SP5</td>\n      <td>Nayebi et al. 2019</td>\n      <td>A Longitudinal Study of Identifying and Paying Down architecture debt</td>\n      <td>In this study we measured architecture debt in two ways: 1) in terms of system-wide coupling measures, and 2) in terms of the number and severity of architecture flaws.</td>\n      <td>Yes, during two years the releases were monitored to check the benefits of refactoring software architecture</td>\n      <td>general:\"maintainability, architecture flaws, architecture roots, decoupling level, propagation cost, architectural smells, Design Structure Matrix, DRSpace, code churn\"\\n # \\n approuch:\"clique, package cycle, modularity violation, crossing, unstable ...</td>\n      <td>The method proposed check the time effort refactoring to fix the ATD items identified during the case study.</td>\n    </tr>\n    <tr>\n      <th>5</th>\n      <td>7</td>\n      <td>SP6</td>\n      <td>Feng et al. 2019</td>\n      <td>Active Hotspot: An Issue-Oriented Model to Monitor Software Evolution and Degradation</td>\n      <td>Hotspot. Calculate a hotspot to detect problematic files and architecture debts, in terms of timelines and efficiency</td>\n      <td>The authors monitored the evolution of hostspot during the period of study comparing the revision history and issue tracker to detect problematic files.</td>\n      <td>general:\"source code, revision history, hotspot, propagation patterns, issue tracking\"\\n # \\n approuch:\"change-prone, bug-prone, early detection architectural problems\"\\n #\\n tools:\" Understand , Simian,  DV8 \"</td>\n      <td>No. The method proposed just check if the hotspot is increasing or decreasing and show the problematic files. There is no calculus to fix the ATD items.</td>\n    </tr>\n    <tr>\n      <th>6</th>\n      <td>9</td>\n      <td>SP7</td>\n      <td>Li et al. 2014</td>\n      <td>An  Empirical Investigation of Modularity Metrics for Indicating architectural technical debt</td>\n      <td>Index of Package Changing Impact (IPCI),  Index of Package Goal Focus (IPGF), Average Number of Modified Components per Commit (ANMCC)</td>\n      <td>The authors monitored the evolution of Indexes during the period of study comparing the revision history of the source code of each release of a selected OSS project.</td>\n      <td>general:\"modularity, average number of modified components per commit, ANMCC, index of package changing impact, IPCI, index of package goal focus,  IPGF, source code, revistion history, \"\\n # \\n approuch:\"modularity metrics, Spearman’s correlation tes...</td>\n      <td>No. The method proposed just calculates the ATD indexes but does not calculate the cost to fix it.</td>\n    </tr>\n    <tr>\n      <th>7</th>\n      <td>10</td>\n      <td>SP8</td>\n      <td>Martini et al. 2016</td>\n      <td>An Empirically Developed Method to Aid Decisions on Architectural Technical Debt Refactoring: AnaConDebt</td>\n      <td>Principal and Interest of ATD.   There is a set of pre-defined ATD based on a set of previously analyzed cases. These set of ATD is used the identify ATD based on software architect.</td>\n      <td>The Principal and Interest is analysed by Software Architects and Project Managers for each release.</td>\n      <td>general:\"source code, software architecture documentation, business documentation, revision history, release plan\"\\n # \\n approuch:\"framework AnaConDebt, catalog, taxonomy\"\\n #\\n tools:\"proprietary formulas\"</td>\n      <td>Using particular formulas created by AnaConDebt framework related to principal and interest to calculate the effort to fix the ATD Item identified.</td>\n    </tr>\n    <tr>\n      <th>8</th>\n      <td>13</td>\n      <td>SP9</td>\n      <td>Xiao et al. 2016</td>\n      <td>Identifying and Quantifying Architectural Debt</td>\n      <td>It was created a specific concept about ArchDebt that derives a set of formulas. It is described in terms of group of files.</td>\n      <td>It was monitored the evolution of ArchDebts through releases that are evaluated.</td>\n      <td>general:\"Design Rules Spaces, Design Structure Matrix, Architecture Issues, Architectural Smells, Hotsport pattern, unstable interface, modularity violation, unhealthy inheritance, cyclic dependency, DRSpace, source code, revision history, bug track, ...</td>\n      <td>It was calculated the cost of interest for identifying ArchDebt using a linear regression model in terms of set of files.</td>\n    </tr>\n    <tr>\n      <th>11</th>\n      <td>16</td>\n      <td>SP12</td>\n      <td>Martini and Bosch 2017</td>\n      <td>On the interest of architectural technical debt: Uncovering the contagious debt phenomenon</td>\n      <td>Contagious debt</td>\n      <td>Yes, after each release using a proprietary method. The interest is monitored by analysing each ATD class defined in proprietary taxynomy.  These factors can be proactively monitored to strategically refactor the ATD, before it becomes too costly to b...</td>\n      <td>general: \"It was created a taxonomy about ATD itens to identify ATD Contagius debt\"#approuch: \"\"#tools:\"\"</td>\n      <td>It is provided by a formula that is a sum of cost ATDI estimated by developer's participation.</td>\n    </tr>\n    <tr>\n      <th>13</th>\n      <td>21</td>\n      <td>SP14</td>\n      <td>Li et al. 2015</td>\n      <td>Architectural Technical Debt Identification based on Architecture Decisions and Change Scenarios</td>\n      <td>ATD Itens based on templated suggested by authors  .</td>\n      <td>The approach is performed for each release using expert evaluation (Software Architect from project evaluated)</td>\n      <td>general:\"software architectural documentation, architecture decision, quality attributes, ATD Item, ATD list, Change scenario, architecture decision template, architecture diagram, specialist analysis, revision history, release plan\"\\n # \\n approuch:...</td>\n      <td>For each ATD item is calculated principal and interest using person-days as unit to measurement.</td>\n    </tr>\n    <tr>\n      <th>14</th>\n      <td>22</td>\n      <td>SP15</td>\n      <td>Martini et al. 2014</td>\n      <td>Architecture Technical Debt: Understanding Causes and a Qualitative Model</td>\n      <td>The authors proposed a crisis point based on ATD accumulation from itens collected using ATD Taxonomy.</td>\n      <td>The ATD items are monitored during releaase planing via expert evaluation that use the ATD taxonomy.</td>\n      <td>general:\"Agile Software Development, Taxonomy of ATD, refactoring, source code, business factory, architecture documentation, human factor,  \"\\n # \\n approuch:\"Taxonomy of ATD, framework to identify ATD, specialist analysis\"\\n #\\n tools:\"no\"</td>\n      <td>The authors have been defined a crisis point over the time to calculate the moment to pay the ATD.</td>\n    </tr>\n    <tr>\n      <th>15</th>\n      <td>27</td>\n      <td>SP16</td>\n      <td>Martini et al. 2016</td>\n      <td>Estimating and Quantifying the Benefits of Refactoring to Improve a Component Modularity: a Case Study</td>\n      <td>It is calculated the effort of modularization in Files that was not modularized.</td>\n      <td>It was applied the framework for each release evaluated. It is a manual process that there is no tool to support this.</td>\n      <td>general:\"modularization, code churn, source code, revision history, complexity, refactoring, specialist analysis, files, components\"\\n # \\n approuch:\"method to select critcial files to refactoring\"\\n #\\n tools:\"proprietary formula\"</td>\n      <td>It is used a formula to calculate the effort in time to fix the ATD items. \\nThe effort use the unit DWM/Mounth that means man-hours each month.</td>\n    </tr>\n    <tr>\n      <th>16</th>\n      <td>30</td>\n      <td>SP17</td>\n      <td>Martini et al. 2018</td>\n      <td>Identifying and Prioritizing Architectural Debt Through Architectural Smells: A Case Study in a Large Software Company</td>\n      <td>Yes</td>\n      <td>Yes, after each release using a proprietary method.</td>\n      <td>general:# approuch: ' Architecture Smell'#tools: 'Arcan'</td>\n      <td>Yes, using a proprietary formula to calculate the tim effort to fix the architecture smell</td>\n    </tr>\n    <tr>\n      <th>17</th>\n      <td>38</td>\n      <td>SP18</td>\n      <td>Cai and Kazman 2016</td>\n      <td>Software Architecture Health Monitor</td>\n      <td>Architectural Root</td>\n      <td>Tracking architecture roots, architecutre flaws and Decopling Level for each version analysed by Titan tool</td>\n      <td>general: # approuch: architecture smells, Decopling Level, DRSpace, Propagation Cost, DSM# tools: 'Titan'</td>\n      <td>Yes, using a proprietary formula to calculate the effort to fix the architecture smell</td>\n    </tr>\n    <tr>\n      <th>18</th>\n      <td>48</td>\n      <td>SP19</td>\n      <td>Kazman et al. 2015</td>\n      <td>A Case Study in Locating the Architectural Roots of Technical Debt</td>\n      <td>Hotspot. Calculate a hotspot to detect problematic files and architecture debts, in terms of timelines and efficiency.</td>\n      <td>The approach of DRSpace is performed for each release analysed by software architecture to verify and confirm the architecture debt and effort is calculated in person per month.</td>\n      <td>general:\"hotspot, refactoring, source code, revision history, architectural issue, issue tracker, issue list, file dependencies, specialist evaluation, business cases, Unstable Interface, Implicit Cross-module Dependency, modularity violations, Unhea...</td>\n      <td>The Architectural Debt was quantified using Technical Debt Calculation framework proposed by authors.  The effort about ATD is calculated based on number of defects and number of lines of changes.   The effort of refactoring and ROI (Return of Investi...</td>\n    </tr>\n    <tr>\n      <th>21</th>\n      <td>33</td>\n      <td>SP22</td>\n      <td>Nord et al. 2012</td>\n      <td>In Search of a Metric for Managing Architectural Technical Debt \\n</td>\n      <td>ATD based in Software Architecture estimation in hours</td>\n      <td>Yes, after each release using a proprietary method.</td>\n      <td>general:\"specialist evaluation, package, release plan, dependency analysis, DSM, implementation cost, propagation cost, rework cost, use cases, refactoring, re-architecting, person effort, modularity metrics, change propagation metric\"\\n # \\n approuc...</td>\n      <td>The cost to pay ATDI is estimated in hours according a formula proposed by authros.\\nThe Total Cost T of release n is a function of the implementation and rework costs, Ci and Cr : \\nT F(Ci,Cr)</td>\n    </tr>\n    <tr>\n      <th>24</th>\n      <td>31</td>\n      <td>SP25</td>\n      <td>Eliasson et al. 2015</td>\n      <td>Identifying and Visualizing Architectural Debt and Its Efficiency Interest in the Automotive Domain: A Case Study</td>\n      <td>Misplaced LC interest based on scale of weight proposed by the authors.</td>\n      <td>For each architecture planning to create or maintain the LC (Logical Components)</td>\n      <td>general:\"maintainability, performance, visualization of ATD, logical view, design view, deployment, efficiency, component communication, component dependencies, Eletronic Control Unit, Automotive Domain\"\\n # \\n approuch:\"semi-structured interview, co...</td>\n      <td>Misplaced LC interest based on scale of weight proposed by the authors.</td>\n    </tr>\n    <tr>\n      <th>26</th>\n      <td>43</td>\n      <td>SP27</td>\n      <td>MacComark and Sturteant 2016</td>\n      <td>Technical debt and system architecture: The impact of coupling on defect-related activity</td>\n      <td>Complexity, coupling and cyclical dependencies  using DSM (Dependent Structure Matrix). The time spends on maintenance.</td>\n      <td>No</td>\n      <td>general:\"complexity, modularity, maintanance cost, refactoring, coupling, cohesion, dependencies between components, DSM, source code, issue track, bug tracking, defect-related activity, file changes, specialist evaluation, refactoring, design decisi...</td>\n      <td>The cust was based on the time spends on maintanance record in issue tracker. The authors defined a standard cost of U$ 100 per hour to calculate the cust of activity.</td>\n    </tr>\n    <tr>\n      <th>30</th>\n      <td>73</td>\n      <td>SP31</td>\n      <td>Izurieta et al. 2018</td>\n      <td>A position study to investigate technical debt associated with security weaknesses</td>\n      <td>Security TD using a catalog of Security Issues provided by CWE (Common Weakness Enumeration)</td>\n      <td>No</td>\n      <td>general:\"quality assurance, security, Common Weakness Scoring System, Common Vulerability Scoring System, Quamoco, ISO 25010, source code, catalog of flaws, specialist evaluation\"\\n # \\n approuch:\"Pilot study, priorization securty framework, Common A...</td>\n      <td>PrincipalTD-Security = Cost of the maintenance and refactoring associated with fixing architectural CWEs \\n</td>\n    </tr>\n    <tr>\n      <th>35</th>\n      <td>35</td>\n      <td>SP36</td>\n      <td>Martini et al 2015</td>\n      <td>Investigating Architectural Technical Debt accumulation and refactoring over time: A multiple-case study</td>\n      <td>Yes</td>\n      <td>Yes</td>\n      <td>general: # approuch: 'Taxonomy of ATD'# tools:</td>\n      <td>Yes, using quality model to check increasing or decreasing of ATD accumulation</td>\n    </tr>\n    <tr>\n      <th>36</th>\n      <td>24</td>\n      <td>SP37</td>\n      <td>Cai el al 2018</td>\n      <td>Design Rule Spaces: A New Model for Representing and Analyzing Software Architecture</td>\n      <td>Architectural Root</td>\n      <td>Yes, after each release using a proprietary method.</td>\n      <td>general: # approuch: 'DRSpace, Architectural Root, Architecture Smell, DSM, DRH, Coupling, source code analysis'# tools: latix</td>\n      <td>Yes, using a proprietary formula to calculate the effort to fix the architecture root</td>\n    </tr>\n    <tr>\n      <th>39</th>\n      <td>81</td>\n      <td>SP40</td>\n      <td>Curtis et al 2012</td>\n      <td>Estimating the principal of an applications technical debt</td>\n      <td>yes, it was meausre a number of detected violations based on qualite attributes (Performance, Robustness, Security Transferabililty, Changeability)</td>\n      <td>No</td>\n      <td>general:\"language parse, meta-model, catalogs of rules, application analysis, detected violations, quality attributes, performance, robustness, security, changeability, transferability, source code, revion history, business risk, \"\\n # \\n approuch:\"De...</td>\n      <td>TD-Principal =\\n(Σ high severity violations) x .5) 1 hr.) x 75$) +\\n(Σ medium severity violations) x .25) 1 hr.) x 75$) + (Σ low severity violations) x .1) 1 hr.) x 75$)</td>\n    </tr>\n    <tr>\n      <th>45</th>\n      <td>40</td>\n      <td>SP46</td>\n      <td>Damian A. Tamburri 2019</td>\n      <td>Software Architecture Social Debt: Managing the Incommunicability Factor</td>\n      <td>Archtecture Social Debt, architecture incommunicability</td>\n      <td>No</td>\n      <td>No</td>\n      <td>Yes, using a proprietary formula to calculate the effort to fix the social smell.</td>\n    </tr>\n    <tr>\n      <th>47</th>\n      <td>107</td>\n      <td>SP48</td>\n      <td>Pujols, Josep Burgaya, et al. 2020</td>\n      <td>Skuld: a self-learning tool for impact-driven technical debt management</td>\n      <td>Yes</td>\n      <td>Yes</td>\n      <td>general:\"issue track, machine learning\"\\n# \\napprouch:\"\"\\n#\\ntools:\"Skuld\"\\n</td>\n      <td>Yes</td>\n    </tr>\n    <tr>\n      <th>54</th>\n      <td>114</td>\n      <td>SP55</td>\n      <td>Larrucea, Xabier, Izaskun Santamaria, and Borja Fernandez‐Gauna 2020</td>\n      <td>Managing security debt across PLC phases in a VSE context</td>\n      <td>Yes</td>\n      <td>No</td>\n      <td>general:\"\"\\n# \\napprouch:\"security analysis\"\\n#\\ntools:\"proprietary\"\\n</td>\n      <td>Yes</td>\n    </tr>\n  </tbody>\n</table>\n</div>"
     },
     "metadata": {},
     "execution_count": 5
    }
   ],
   "source": [
    "## Papers grouped by kind of calculus\n",
    "\n",
    "papers_atd_calculated = df_distribution_q5['sp'][0]\n",
    "\n",
    "query_list_of_papers_atd_calculated = 'sp in ' + str(papers_atd_calculated)\n",
    "df_distribution_papers_calculated = df_sms_extraction[['Paper Id', 'sp', 'Citation', 'Title', 'Q2(Measure)', 'Q3(Monitoring)', 'Q4(Techniques and tools)','Q5(calculate the cost)']].query(query_list_of_papers_atd_calculated)\n",
    "\n",
    "util.create_markdown_table(my_df=df_distribution_papers_calculated, my_path='../../md', my_file_name='mytable_q5_distribution_detailed2.md')\n",
    "\n",
    "df_distribution_papers_calculated"
   ]
  },
  {
   "source": [
    "## Categories updated"
   ],
   "cell_type": "markdown",
   "metadata": {}
  },
  {
   "cell_type": "code",
   "execution_count": 6,
   "metadata": {},
   "outputs": [],
   "source": [
    "list_of_my_tuple_of_calculated_papers2 = [(1,\n",
    "  'REBEL focuses on finding ATD items at architecture level only (documents), measuring the impact of its repayment strategy based on architecture decisions and allowing the debt to be anticipated or corrected before the implementation process begins.',\n",
    "  'amount of software architecture rules violated in documents',\n",
    "  'Yes. The amount of architectural decisions impacted by the ATD item is 3. This way, Impact = 3 * 5 * (3*3) = 135. If our ATD repayment strategy would not affect other decisions, the Impact would be I = 3 * 1 * (1*3) = 9. From these results, software architect understand the impact of a repayment strategy.', 'expert evaluation using proprietary numeric scale to calculate the impact of architecture rule violated'),\n",
    " (2,\n",
    "  'Complexity measures of files',\n",
    "  'amount of complexity measures of files',\n",
    "  'Developer Work Months (DWM). DWM is defined in this study as the amount of effort one developer generates each month.  Man-hours', 'expert evaluation using proprietary formula to calculate Developer Work Months (DWM) in Man-hours'),\n",
    " (4,\n",
    "  'Architectural Root',\n",
    "  'amount of architectural root',\n",
    "  'The method proposed can calculate the expected effort spent on the amount of files in detected architecture roots during the analysed cycle in X staff-days to fix the ATD items identified. ', 'expert evaluation using proprietary formula to calculate effort in days'),\n",
    " (5,\n",
    "  'In this study we measured architecture debt in two ways: 1) in terms of system-wide coupling measures, and 2) in terms of the number and severity of architecture flaws.',\n",
    "  'coupling of files and architecture smells',\n",
    "  'The method proposed check the time effort refactoring to fix the ATD items identified during the case study.', 'expert evaluation using proprietary formula to calculate effort in hours'),\n",
    " (7,\n",
    "  'Hotspot. Calculate a hotspot to detect problematic files and architecture debts, in terms of timelines and efficiency',\n",
    "  'amount of hotspots',\n",
    "  'No. The method proposed just check if the hotspot is increasing or decreasing and show the problematic files. There is no calculus to fix the ATD items.', 'expert evaluation using proprietary formula to calculate effort per release'),\n",
    " (9,\n",
    "  'Index of Package Changing Impact (IPCI),  Index of Package Goal Focus (IPGF), Average Number of Modified Components per Commit (ANMCC)',\n",
    "  'modularity metrics',\n",
    "  'No. The method proposed just calculates the ATD indexes but does not calculate the cost to fix it.', 'expert evaluation using proprietary formula to calculate effort per release'),\n",
    " (10,\n",
    "  'Principal and Interest of ATD. There is a set of pre-defined ATD based on a set of previously analyzed cases. These set of ATD is used the identify ATD based on software architect.',\n",
    "  'amount of software architecture rules violated in documents and source code',\n",
    "  'Using particular formulas created by AnaConDebt framework related to principal and interest to calculate the effort to fix the ATD Item identified.', 'expert evaluation using proprietary formula to calculate effort in days'),\n",
    " (13,\n",
    "  'It was created a specific concept about ArchDebt that derives a set of formulas. It is described in terms of group of files.',\n",
    "  'amount of architecture smells',\n",
    "  'It was calculated the cost of interest for identifying ArchDebt using a linear regression model in terms of set of files.', 'expert evaluation using proprietary formula to calculate effort in days'),\n",
    " (16,\n",
    "  'Contagious debt',\n",
    "  'amount of contagious debt',\n",
    "  \"It is provided by a formula that is a sum of cost ATDI estimated by developer's participation. \", 'expert evaluation using proprietary formula to calculate effort in days'),\n",
    " (21,\n",
    "  'ATD Itens based on templated suggested by authors',\n",
    "  'amount of software architecture rules violated in documents',\n",
    "  'For each ATD item is calculated principal and interest using person-days as unit to measurement. ', 'expert evaluation using proprietary formula to calculate effort in days'),\n",
    " (22,\n",
    "  'The authors proposed a crisis point based on ATD accumulation from itens collected using ATD Taxonomy.',\n",
    "  'index of crisis point',\n",
    "  'The authors have been defined a crisis point over the time to calculate the moment to pay the ATD.', 'expert evaluation using proprietary formula to calculate effort per release'),\n",
    " (27,\n",
    "  'It is calculated the effort of modularization in Files that was not modularized. ',\n",
    "  'modularity metrics',\n",
    "  'It is used a formula to calculate the effort in time to fix the ATD items. The effort use the unit DWM/Mounth that means man-hours each month.', 'expert evaluation using proprietary formula to calculate Developer Work Months (DWM) in Man-hours'),\n",
    " (30,\n",
    "  'Yes',\n",
    "  'amount of architecture smells',\n",
    "  'Yes, using a owner formula to calculate the team effort to fix the architecture smell', 'expert evaluation using proprietary formula to calculate effort in days'),\n",
    " (38,\n",
    "  'Architectural Root',\n",
    "  'amount of architectural root and index of Decoupling Level',\n",
    "  'Yes, using a owner formula to calculate the effort to fix the architecture smell', 'expert evaluation using proprietary formula to calculate effort in days'),\n",
    " (48,\n",
    "  'Hotspot. Calculate a hotspot to detect problematic files and architecture debts, in terms of timelines and efficiency.',\n",
    "  'amount of hotspots',\n",
    "  'The Architectural Debt was quantified using Technical Debt Calculation framework proposed by authors.\\u2028\\u2028The effort about ATD is calculated based on number of defects and number of lines of changes. The effort of refactoring and ROI (Return of Investiment is calculate based on PM (Person per month) via Software Architecture and Project Management of the studied project. Thus, it is necessary a specialist analysis to calculate the principal of Architectural Technical Debt.', 'expert evaluation using proprietary formula to calculate effort in days'),\n",
    " (33,\n",
    "  'ATD based in Software Architecture estimation in hours',\n",
    "  'amount of software architecture rules violated in documents and source code',\n",
    "  'The cost to pay ATDI is estimated in hours according a formula proposed by authros.\\nThe Total Cost T of release n is a function of the implementation and rework costs, Ci and Cr : \\nT F(Ci,Cr)', 'expert evaluation using proprietary formula to calculate effort in hours'),\n",
    " (31,\n",
    "  'Misplaced LC interest based on scale of weight proposed by the authors. ',\n",
    "  'dependency of components',\n",
    "  'Misplaced LC interest based on scale of weight proposed by the authors. ', 'expert evaluation using proprietary formula to calculate effort in days'),\n",
    " (43,\n",
    "  'Complexity, coupling and cyclical dependencies  using DSM (Dependent Structure Matrix). The time spends on maintenance.',\n",
    "  'amount of complexity measures of files',\n",
    "  'The cust was based on the time spends on maintanance record in issue tracker. The authors defined a standard cost of U$ 100 per hour to calculate the cust of activity.', 'expert evaluation using proprietary formula to calculate effort in hours'),\n",
    " (73,\n",
    "  'Security TD using a catalog of Security Issues provided by CWE (Common Weakness Enumeration)',\n",
    "  'amount of software architecture rules violated in documents and source code',\n",
    "  'PrincipalTD-Security = Cost of the maintenance and refactoring associated with fixing architectural CWEs \\n', 'expert evaluation using proprietary formula to calculate effort in hours'),\n",
    " (35,\n",
    "  'Yes',\n",
    "  'index of crisis point',\n",
    "  'Yes, using quality model to check increasing or decreasing of ATD accumulation', 'expert evaluation using proprietary formula to calculate effort per release'),\n",
    " (24,\n",
    "  'Architectural Root',\n",
    "  'amount of architectural root',\n",
    "  'Yes, using a owner formula to calculate the effort to fix the architecture root', 'expert evaluation using proprietary formula to calculate effort in hours'),\n",
    " (81,\n",
    "  'yes, it was meausre a number of detected violations based on qualite attributes (Performance, Robustness, Security Transferabililty, Changeability)',\n",
    "  'amount of software architecture rules violated in source code',\n",
    "  'TD-Principal =\\n(Σ high severity violations) x .5) 1 hr.) x 75$) +\\n(Σ medium severity violations) x .25) 1 hr.) x 75$) + (Σ low severity violations) x .1) 1 hr.) x 75$)', 'expert evaluation using proprietary formula to calculate effort in hours', 'Other'),\n",
    " (40,\n",
    "  'Archtecture Social Debt, architecture incommunicability',\n",
    "  'amount of software architecture rules violated in documents',\n",
    "  'Yes, using a owner formula to calculate the effort to fix the social smell.', 'expert evaluation using proprietary formula to calculate effort in days'), \n",
    "  (107,\n",
    "  'Architecture Smells',\n",
    "  'amount of code smell',\n",
    "  'Yes, using a owner formula to calculate the effort to fix the atd', 'expert evaluation using proprietary formula to calculate effort per release'), \n",
    "  (114,\n",
    "  'Quality Issue',\n",
    "  'amount of violated security rule',\n",
    "  'Yes, using a owner formula to calculate the effort to fix the atd', 'expert evaluation using proprietary numeric scale to calculate the impact of architecture rule violated')]"
   ]
  },
  {
   "cell_type": "code",
   "execution_count": 7,
   "metadata": {},
   "outputs": [
    {
     "output_type": "execute_result",
     "data": {
      "text/plain": [
       "[('expert evaluation using proprietary formula to calculate effort in days',\n",
       "  10),\n",
       " ('expert evaluation using proprietary formula to calculate effort in hours',\n",
       "  6),\n",
       " ('expert evaluation using proprietary formula to calculate effort per release',\n",
       "  5),\n",
       " ('expert evaluation using proprietary numeric scale to calculate the impact of architecture rule violated',\n",
       "  2),\n",
       " ('expert evaluation using proprietary formula to calculate Developer Work Months (DWM) in Man-hours',\n",
       "  2)]"
      ]
     },
     "metadata": {},
     "execution_count": 7
    }
   ],
   "source": [
    "df_sms_extraction['grouped_by_c'] = None\n",
    "\n",
    "grouped_by_c = list_of_my_tuple_of_calculated_papers2\n",
    "# 2) Updating df_sms_extraction['grouped_by_c']\n",
    "for each in grouped_by_c:\n",
    "    j = 0\n",
    "    for item in df_sms_extraction['Paper Id']:\n",
    "        if each[0] == item: \n",
    "            df_sms_extraction['grouped_by_c'].iloc[j] = each[4]\n",
    "        j = j + 1\n",
    "\n",
    "# 3) Creating list_by_c using count \n",
    "list_by_c = []\n",
    "for each in grouped_by_c: \n",
    "    list_by_c.append(each[4])\n",
    "\n",
    "list_by_c = Counter(list_by_c).most_common()\n",
    "list_by_c"
   ]
  },
  {
   "cell_type": "code",
   "execution_count": 8,
   "metadata": {},
   "outputs": [
    {
     "output_type": "stream",
     "name": "stdout",
     "text": [
      "Grouped by calculate : 0.404 (23 studies)\n"
     ]
    }
   ],
   "source": [
    "print('Grouped by calculate : {} ({} studies)'.format( round( (10+6+5+2)/57 , 3), (10+6+5+2) ))"
   ]
  },
  {
   "source": [
    "## Papers grouped by kind of calculus"
   ],
   "cell_type": "markdown",
   "metadata": {}
  },
  {
   "cell_type": "code",
   "execution_count": 9,
   "metadata": {},
   "outputs": [
    {
     "output_type": "stream",
     "name": "stdout",
     "text": [
      "Arquivo ../../latex/mytable_q5_distribution_detailed.tex  gerado com sucesso!\nArquivo ../../md/mytable_q5_distribution_detailed.md  gerado com sucesso!\n"
     ]
    },
    {
     "output_type": "execute_result",
     "data": {
      "text/plain": [
       "                                                                                                         c  \\\n",
       "0                                  expert evaluation using proprietary formula to calculate effort in days   \n",
       "1                                 expert evaluation using proprietary formula to calculate effort in hours   \n",
       "2                              expert evaluation using proprietary formula to calculate effort per release   \n",
       "3  expert evaluation using proprietary numeric scale to calculate the impact of architecture rule violated   \n",
       "4        expert evaluation using proprietary formula to calculate Developer Work Months (DWM) in Man-hours   \n",
       "\n",
       "   count                                                         sp  \n",
       "0     10  [SP4, SP8, SP9, SP12, SP14, SP17, SP18, SP19, SP25, SP46]  \n",
       "1      6                        [SP5, SP22, SP27, SP31, SP37, SP40]  \n",
       "2      5                               [SP6, SP7, SP15, SP36, SP48]  \n",
       "3      2                                                [SP1, SP55]  \n",
       "4      2                                                [SP2, SP16]  "
      ],
      "text/html": "<div>\n<style scoped>\n    .dataframe tbody tr th:only-of-type {\n        vertical-align: middle;\n    }\n\n    .dataframe tbody tr th {\n        vertical-align: top;\n    }\n\n    .dataframe thead th {\n        text-align: right;\n    }\n</style>\n<table border=\"1\" class=\"dataframe\">\n  <thead>\n    <tr style=\"text-align: right;\">\n      <th></th>\n      <th>c</th>\n      <th>count</th>\n      <th>sp</th>\n    </tr>\n  </thead>\n  <tbody>\n    <tr>\n      <th>0</th>\n      <td>expert evaluation using proprietary formula to calculate effort in days</td>\n      <td>10</td>\n      <td>[SP4, SP8, SP9, SP12, SP14, SP17, SP18, SP19, SP25, SP46]</td>\n    </tr>\n    <tr>\n      <th>1</th>\n      <td>expert evaluation using proprietary formula to calculate effort in hours</td>\n      <td>6</td>\n      <td>[SP5, SP22, SP27, SP31, SP37, SP40]</td>\n    </tr>\n    <tr>\n      <th>2</th>\n      <td>expert evaluation using proprietary formula to calculate effort per release</td>\n      <td>5</td>\n      <td>[SP6, SP7, SP15, SP36, SP48]</td>\n    </tr>\n    <tr>\n      <th>3</th>\n      <td>expert evaluation using proprietary numeric scale to calculate the impact of architecture rule violated</td>\n      <td>2</td>\n      <td>[SP1, SP55]</td>\n    </tr>\n    <tr>\n      <th>4</th>\n      <td>expert evaluation using proprietary formula to calculate Developer Work Months (DWM) in Man-hours</td>\n      <td>2</td>\n      <td>[SP2, SP16]</td>\n    </tr>\n  </tbody>\n</table>\n</div>"
     },
     "metadata": {},
     "execution_count": 9
    }
   ],
   "source": [
    "# 5) Creating DataFrame df_my_c\n",
    "c = []\n",
    "count = []\n",
    "for each in list_by_c: \n",
    "    c.append(each[0])\n",
    "    count.append(each[1])\n",
    "my_c = {'c': c, 'count':count}\n",
    "my_c\n",
    "\n",
    "my_c_id = list(range(1,len(list_by_c)+1))\n",
    "my_c_id\n",
    "\n",
    "df_my_c = pd.DataFrame(data=my_c, index=my_c_id)\n",
    "df_my_c.reset_index(drop=True, inplace=True)\n",
    "df_my_c['sp'] = None\n",
    "\n",
    "# 5) Add new column with Selected Papers according grouped c\n",
    "i = 0\n",
    "for each in df_my_c['c']:\n",
    "    list_sp_novo = []\n",
    "    j = 0\n",
    "    for item in df_sms_extraction['grouped_by_c']:\n",
    "        if each == item: \n",
    "            list_sp_novo.append(df_sms_extraction['sp'].iloc[j])\n",
    "        j = j + 1\n",
    "    df_my_c['sp'].iloc[i] = list_sp_novo\n",
    "    i = i + 1\n",
    "\n",
    "# 6) Save the latex table \n",
    "util.create_latex_table(my_df=df_my_c, my_path='../../latex', my_file_name='mytable_q5_distribution_detailed.tex')\n",
    "util.create_markdown_table(my_df=df_my_c, my_path='../../md', my_file_name='mytable_q5_distribution_detailed.md')\n",
    "df_my_c"
   ]
  },
  {
   "cell_type": "code",
   "execution_count": 10,
   "metadata": {},
   "outputs": [
    {
     "output_type": "execute_result",
     "data": {
      "text/plain": [
       "                                                                                                         c  \\\n",
       "0                                  expert evaluation using proprietary formula to calculate effort in days   \n",
       "1                                 expert evaluation using proprietary formula to calculate effort in hours   \n",
       "2                              expert evaluation using proprietary formula to calculate effort per release   \n",
       "3  expert evaluation using proprietary numeric scale to calculate the impact of architecture rule violated   \n",
       "4        expert evaluation using proprietary formula to calculate Developer Work Months (DWM) in Man-hours   \n",
       "\n",
       "   count  \n",
       "0     10  \n",
       "1      6  \n",
       "2      5  \n",
       "3      2  \n",
       "4      2  "
      ],
      "text/html": "<div>\n<style scoped>\n    .dataframe tbody tr th:only-of-type {\n        vertical-align: middle;\n    }\n\n    .dataframe tbody tr th {\n        vertical-align: top;\n    }\n\n    .dataframe thead th {\n        text-align: right;\n    }\n</style>\n<table border=\"1\" class=\"dataframe\">\n  <thead>\n    <tr style=\"text-align: right;\">\n      <th></th>\n      <th>c</th>\n      <th>count</th>\n    </tr>\n  </thead>\n  <tbody>\n    <tr>\n      <th>0</th>\n      <td>expert evaluation using proprietary formula to calculate effort in days</td>\n      <td>10</td>\n    </tr>\n    <tr>\n      <th>1</th>\n      <td>expert evaluation using proprietary formula to calculate effort in hours</td>\n      <td>6</td>\n    </tr>\n    <tr>\n      <th>2</th>\n      <td>expert evaluation using proprietary formula to calculate effort per release</td>\n      <td>5</td>\n    </tr>\n    <tr>\n      <th>3</th>\n      <td>expert evaluation using proprietary numeric scale to calculate the impact of architecture rule violated</td>\n      <td>2</td>\n    </tr>\n    <tr>\n      <th>4</th>\n      <td>expert evaluation using proprietary formula to calculate Developer Work Months (DWM) in Man-hours</td>\n      <td>2</td>\n    </tr>\n  </tbody>\n</table>\n</div>"
     },
     "metadata": {},
     "execution_count": 10
    }
   ],
   "source": [
    "df_temp = df_my_c.query('count >= 1')[['c', 'count']]\n",
    "df_temp"
   ]
  },
  {
   "cell_type": "code",
   "execution_count": 11,
   "metadata": {},
   "outputs": [
    {
     "output_type": "stream",
     "name": "stdout",
     "text": [
      "expert evaluation using proprietary formula to calculate effort in days 17.54\\% (10 studies)\nexpert evaluation using proprietary formula to calculate effort in hours 10.53\\% (6 studies)\nexpert evaluation using proprietary formula to calculate effort per release 8.77\\% (5 studies)\nexpert evaluation using proprietary numeric scale to calculate the impact of architecture rule violated 3.51\\% (2 studies)\nexpert evaluation using proprietary formula to calculate Developer Work Months (DWM) in Man-hours 3.51\\% (2 studies)\n"
     ]
    }
   ],
   "source": [
    "my_total = 57\n",
    "for each in df_temp.values:\n",
    "    my_calculate = each[0]\n",
    "    my_count = each[1]\n",
    "    print('{} {}\\% ({} studies)'.format(my_calculate, round(my_count*100/my_total , 2), my_count ))"
   ]
  },
  {
   "source": [
    "## Others papers that were put in new categories"
   ],
   "cell_type": "markdown",
   "metadata": {}
  },
  {
   "cell_type": "code",
   "execution_count": 12,
   "metadata": {},
   "outputs": [
    {
     "output_type": "execute_result",
     "data": {
      "text/plain": [
       "    Paper Id    sp  \\\n",
       "5          7   SP6   \n",
       "6          9   SP7   \n",
       "14        22  SP15   \n",
       "35        35  SP36   \n",
       "47       107  SP48   \n",
       "54       114  SP55   \n",
       "\n",
       "                                                                Citation  \\\n",
       "5                                                       Feng et al. 2019   \n",
       "6                                                         Li et al. 2014   \n",
       "14                                                   Martini et al. 2014   \n",
       "35                                                    Martini et al 2015   \n",
       "47                                    Pujols, Josep Burgaya, et al. 2020   \n",
       "54  Larrucea, Xabier, Izaskun Santamaria, and Borja Fernandez‐Gauna 2020   \n",
       "\n",
       "                                                                                                        Title  \n",
       "5                      Active Hotspot: An Issue-Oriented Model to Monitor Software Evolution and Degradation   \n",
       "6               An  Empirical Investigation of Modularity Metrics for Indicating architectural technical debt  \n",
       "14                                 Architecture Technical Debt: Understanding Causes and a Qualitative Model   \n",
       "35  Investigating Architectural Technical Debt accumulation and refactoring over time: A multiple-case study   \n",
       "47                                    Skuld: a self-learning tool for impact-driven technical debt management  \n",
       "54                                                  Managing security debt across PLC phases in a VSE context  "
      ],
      "text/html": "<div>\n<style scoped>\n    .dataframe tbody tr th:only-of-type {\n        vertical-align: middle;\n    }\n\n    .dataframe tbody tr th {\n        vertical-align: top;\n    }\n\n    .dataframe thead th {\n        text-align: right;\n    }\n</style>\n<table border=\"1\" class=\"dataframe\">\n  <thead>\n    <tr style=\"text-align: right;\">\n      <th></th>\n      <th>Paper Id</th>\n      <th>sp</th>\n      <th>Citation</th>\n      <th>Title</th>\n    </tr>\n  </thead>\n  <tbody>\n    <tr>\n      <th>5</th>\n      <td>7</td>\n      <td>SP6</td>\n      <td>Feng et al. 2019</td>\n      <td>Active Hotspot: An Issue-Oriented Model to Monitor Software Evolution and Degradation</td>\n    </tr>\n    <tr>\n      <th>6</th>\n      <td>9</td>\n      <td>SP7</td>\n      <td>Li et al. 2014</td>\n      <td>An  Empirical Investigation of Modularity Metrics for Indicating architectural technical debt</td>\n    </tr>\n    <tr>\n      <th>14</th>\n      <td>22</td>\n      <td>SP15</td>\n      <td>Martini et al. 2014</td>\n      <td>Architecture Technical Debt: Understanding Causes and a Qualitative Model</td>\n    </tr>\n    <tr>\n      <th>35</th>\n      <td>35</td>\n      <td>SP36</td>\n      <td>Martini et al 2015</td>\n      <td>Investigating Architectural Technical Debt accumulation and refactoring over time: A multiple-case study</td>\n    </tr>\n    <tr>\n      <th>47</th>\n      <td>107</td>\n      <td>SP48</td>\n      <td>Pujols, Josep Burgaya, et al. 2020</td>\n      <td>Skuld: a self-learning tool for impact-driven technical debt management</td>\n    </tr>\n    <tr>\n      <th>54</th>\n      <td>114</td>\n      <td>SP55</td>\n      <td>Larrucea, Xabier, Izaskun Santamaria, and Borja Fernandez‐Gauna 2020</td>\n      <td>Managing security debt across PLC phases in a VSE context</td>\n    </tr>\n  </tbody>\n</table>\n</div>"
     },
     "metadata": {},
     "execution_count": 12
    }
   ],
   "source": [
    "list_of_others_calculate = ['SP6', 'SP7', 'SP15', 'SP36', 'SP48', 'SP55']\n",
    "my_query = \"sp in \" + str(list_of_others_calculate)\n",
    "df_sms_extraction.query(my_query)[['Paper Id', 'sp', 'Citation', 'Title']]"
   ]
  },
  {
   "cell_type": "code",
   "execution_count": 13,
   "metadata": {},
   "outputs": [
    {
     "output_type": "execute_result",
     "data": {
      "text/plain": [
       "[7, 9, 22, 35, 107, 114]"
      ]
     },
     "metadata": {},
     "execution_count": 13
    }
   ],
   "source": [
    "list_temp_orthers_papers = list()\n",
    "for each in df_sms_extraction.query(my_query)[['Paper Id']].values:\n",
    "    list_temp_orthers_papers.append(each[0])\n",
    "\n",
    "list_temp_orthers_papers"
   ]
  },
  {
   "cell_type": "code",
   "execution_count": 14,
   "metadata": {},
   "outputs": [],
   "source": [
    "list_of_kind_of_calculus = ['formula based on days', 'formula based on hours', 'formula based per release', 'formula based on Developer Work Months', 'based on numeric scale']"
   ]
  },
  {
   "cell_type": "code",
   "execution_count": 15,
   "metadata": {},
   "outputs": [
    {
     "output_type": "stream",
     "name": "stdout",
     "text": [
      "Effort based on days - The team define a specific formula, according the context of the product, after that the software architecs evaluate the components impacted by ATD and fills the parameters formula with effort estimated. The result of the is calculated in days of work to fix the ATD itens\nEffor based on hours - The team define a specific formula, according the context of the product, after that the software architecs evaluate the components impacted by ATD and fills the parameters formula with effort estimated. The result of the is calculated in hours of work to fix the ATD itens\nEffort based on release - The authors proposed a mix of aggregation estimated effort based on documents and models analysed to calculate the impact of architecture rule violated and the result is presented in a numeric scale.\nEffort based on numeric scale - The team uses a specific formula about the team effort to fix all ATD items for a specific release. To fill this formula is necessary a software architect evaluation. \nEffort based on Developer Work Months - The team uses a specific formula about Developer Work Months in terms of how total effort of the team is necessary to fix all ATD items during a mounth.\n"
     ]
    }
   ],
   "source": [
    "my_calculus = ['Effort based on days', \n",
    "'Effor based on hours', \n",
    "'Effort based on release', \n",
    "'Effort based on numeric scale', \n",
    "'Effort based on Developer Work Months']\n",
    "\n",
    "my_definitions = ['The team define a specific formula, according the context of the product, after that the software architecs evaluate the components impacted by ATD and fills the parameters formula with effort estimated. The result of the is calculated in days of work to fix the ATD itens',\n",
    "'The team define a specific formula, according the context of the product, after that the software architecs evaluate the components impacted by ATD and fills the parameters formula with effort estimated. The result of the is calculated in hours of work to fix the ATD itens', \n",
    "'The authors proposed a mix of aggregation estimated effort based on documents and models analysed to calculate the impact of architecture rule violated and the result is presented in a numeric scale.', \n",
    "'The team uses a specific formula about the team effort to fix all ATD items for a specific release. To fill this formula is necessary a software architect evaluation. ', \n",
    "'The team uses a specific formula about Developer Work Months in terms of how total effort of the team is necessary to fix all ATD items during a mounth.'\n",
    "]\n",
    "\n",
    "for each in zip(my_calculus, my_definitions):\n",
    "    print(f'{each[0]} - {each[1]}')"
   ]
  }
 ]
}