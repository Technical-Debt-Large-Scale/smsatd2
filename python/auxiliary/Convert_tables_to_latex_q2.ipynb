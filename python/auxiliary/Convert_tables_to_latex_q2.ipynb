{
 "metadata": {
  "language_info": {
   "codemirror_mode": {
    "name": "ipython",
    "version": 3
   },
   "file_extension": ".py",
   "mimetype": "text/x-python",
   "name": "python",
   "nbconvert_exporter": "python",
   "pygments_lexer": "ipython3",
   "version": "3.6.3"
  },
  "orig_nbformat": 2,
  "kernelspec": {
   "name": "python363jvsc74a57bd005ece30799c2dcdac4c13b3af20453da19de8df0d9a1de52cff7e0b6e1e82bdd",
   "display_name": "Python 3.6.3 64-bit"
  }
 },
 "nbformat": 4,
 "nbformat_minor": 2,
 "cells": [
  {
   "cell_type": "code",
   "execution_count": 57,
   "metadata": {},
   "outputs": [],
   "source": [
    "import os\n",
    "import sys\n",
    "nb_dir = os.path.split(os.getcwd())[0]\n",
    "if nb_dir not in sys.path:\n",
    "    sys.path.append(nb_dir)\n",
    "\n",
    "import pandas as pd\n",
    "import util.utilities as util\n",
    "from collections import Counter"
   ]
  },
  {
   "cell_type": "code",
   "execution_count": 58,
   "metadata": {},
   "outputs": [
    {
     "output_type": "execute_result",
     "data": {
      "text/plain": [
       "{1: 'rebel focuses on finding atd items at architecture level only (documents), measuring the impact of its repayment strategy based on architecture decisions and allowing the debt to be anticipated or corrected before the implementation process begins.',\n",
       " 2: 'complexity measures of files',\n",
       " 3: 'it was defined a formula to calculate atd index and architectural smell impact score.',\n",
       " 4: 'architectural root',\n",
       " 5: 'in this study we measured architecture debt in two ways: 1) in terms of system-wide coupling measures, and 2) in terms of the number and severity of architecture flaws.',\n",
       " 7: 'hotspot. calculate a hotspot to detect problematic files and architecture debts, in terms of timelines and efficiency',\n",
       " 9: 'index of package changing impact (ipci), index of package goal focus (ipgf), average number of modified components per commit (anmcc)',\n",
       " 10: 'principal and interest of atd. there is a set of pre-defined atd based on a set of previously analyzed cases. these set of atd is used the identify atd based on software architect.',\n",
       " 13: 'it was created a specific concept about archdebt that derives a set of formulas. it is described in terms of group of files.',\n",
       " 14: 'android atd hotspots, i.e. a set of files.',\n",
       " 15: 'compliance checking',\n",
       " 16: 'contagious debt',\n",
       " 17: 'no',\n",
       " 21: 'atd itens based on templated suggested by authors .',\n",
       " 22: 'the authors proposed a crisis point based on atd accumulation from itens collected using atd taxonomy.',\n",
       " 27: 'it is calculated the effort of modularization in files that was not modularized.',\n",
       " 30: 'yes',\n",
       " 38: 'architectural root',\n",
       " 48: 'hotspot. calculate a hotspot to detect problematic files and architecture debts, in terms of timelines and efficiency.',\n",
       " 47: 'no',\n",
       " 20: 'it was defined a sna (socia network analysis) metric to identify the architectural smells.',\n",
       " 33: 'atd based in software architecture estimation in hours',\n",
       " 26: 'no',\n",
       " 28: 'package modularity via sonarqube using td index from cohesion and coupling.',\n",
       " 31: 'misplaced lc interest based on scale of weight proposed by the authors.',\n",
       " 44: 'no',\n",
       " 43: 'complexity, coupling and cyclical dependencies using dsm (dependent structure matrix). the time spends on maintenance.',\n",
       " 51: 'architecture smells',\n",
       " 52: 'architecture smells',\n",
       " 63: 'we study architecture evolution by identifying the major design decisions that were introduced along a number of the most significant releases (see section 4). such design decisions are mainly: (a) architecture components, including their interfaces, such as the kernel, shells, and libraries; (b) architecture connectors such as pipes and c header files; (c) architecture patterns [71] that were applied in the system, such as layering and reflection; and (d) the princi- ples that guide the system architecture, such as modularity and separation of concerns. a quantitative point of view. specifically we look at how metrics of size and complexity evolve over time; these metrics concern system features (e.g. number of user commands or system calls), as determined by the unix reference documentation',\n",
       " 73: 'security td using a catalog of security issues provided by cwe (common weakness enumeration)',\n",
       " 69: 'no',\n",
       " 67: 'no',\n",
       " 66: 'no',\n",
       " 96: 'no',\n",
       " 35: 'yes',\n",
       " 24: 'architectural root',\n",
       " 77: 'no',\n",
       " 78: 'no',\n",
       " 81: 'yes, it was meausre a number of detected violations based on qualite attributes (performance, robustness, security transferabililty, changeability)',\n",
       " 85: 'security td',\n",
       " 88: 'scalability through estamating impact in the subsystems',\n",
       " 90: 'no',\n",
       " 91: 'the perception of: maintainability test coverage cyclomatic complexity clone coverage coupling metrics architectural violation',\n",
       " 97: 'no',\n",
       " 40: 'archtecture social debt, architecture incommunicability',\n",
       " 106: 'no',\n",
       " 107: 'yes',\n",
       " 108: 'yes',\n",
       " 109: 'yes',\n",
       " 110: 'yes',\n",
       " 111: 'yes',\n",
       " 112: 'yes',\n",
       " 113: 'yes',\n",
       " 114: 'yes',\n",
       " 115: 'yes',\n",
       " 116: 'yes'}"
      ]
     },
     "metadata": {},
     "execution_count": 58
    }
   ],
   "source": [
    "df_sms_extraction = util.load_dataset(my_path='../../dataset/Extraction_form_basic.xlsx')\n",
    "df_sms_extraction = util.add_column_sp(df_sms_extraction)\n",
    "\n",
    "# 3.3) Q2 (Measure of ATD)\n",
    "\n",
    "## Papers grouped by Measure\n",
    "\n",
    "dict_q2 = {}\n",
    "for item in zip( list(df_sms_extraction['Paper Id']), list(df_sms_extraction['Q2(Measure)']) ):\n",
    "    id = item[0]\n",
    "    if (item[1] != ''):\n",
    "        q2 = str(item[1])\n",
    "        q2 = ' '.join(q2.split())\n",
    "        dict_q2[id] = q2.lower()\n",
    "\n",
    "dict_q2"
   ]
  },
  {
   "cell_type": "code",
   "execution_count": 59,
   "metadata": {},
   "outputs": [],
   "source": [
    "## Papers grouped by kind of measurement\n",
    "\n",
    "# 1) RQ2 - measurement of ATD - The measure of ATD is defined as the amount of identified ATD item\n",
    "grouped_by_measurement = [(1, 'amount of software architecture rules violated in documents'), \n",
    "(2, 'amount of complexity measures of files'), \n",
    "(3, 'amount of architecture smells'), \n",
    "(4, 'amount of architectural root'),\n",
    "(5, 'coupling of files and architecture smells'),\n",
    "(7, 'amount of hotspots'),\n",
    "(9, 'modularity metrics'),\n",
    "(10, 'amount of software architecture rules violated in documents and source code'), \n",
    "(13, 'amount of architecture smells'),\n",
    "(14, 'amount of hotspots'),\n",
    "(15, 'amount of software architecture rules violated in source code'),\n",
    "(16, 'amount of contagious debt'),\n",
    "(21, 'amount of software architecture rules violated in documents'),\n",
    "(22, 'index of crisis point'),\n",
    "(27, 'modularity metrics'), \n",
    "(30, 'amount of architecture smells'),\n",
    "(38, 'amount of architectural root and index of Decoupling Level'),\n",
    "(48, 'amount of hotspots'),\n",
    "(20, 'amount of architecture smells'),\n",
    "(33, 'amount of software architecture rules violated in documents and source code'),\n",
    "(28, 'modularity metrics'),\n",
    "(31, 'dependency of components'),\n",
    "(43, 'amount of complexity measures of files'), \n",
    "(51, 'amount of architecture smells'),\n",
    "(52, 'amount of architecture smells'),\n",
    "(63, 'amount of complexity measures of files'),\n",
    "(73, 'amount of software architecture rules violated in documents and source code'),\n",
    "(35, 'index of crisis point'),\n",
    "(24, 'amount of architectural root'),\n",
    "(81, 'amount of software architecture rules violated in source code'),\n",
    "(85, 'amount of software architecture rules violated in source code'),\n",
    "(88, 'amount of software architecture rules violated in source code'),\n",
    "(40, 'amount of software architecture rules violated in documents'),\n",
    "(107, 'amount of architecture smells'),\n",
    " (108, 'amount of code smells'),\n",
    " (109, 'amount of software architecture rules violated in documents and source code'),\n",
    " (110, 'modularity metrics'),\n",
    " (111, 'amount of software architecture rules violated in source code'),\n",
    " (112, 'amount of complexity measures of files'),\n",
    " (113, 'amount of complexity measures of files'),\n",
    " (114, 'amount of software architecture rules violated in source code'),\n",
    " (115, 'amount of architecture smells'),\n",
    " (116, 'amount of architecture smells')]"
   ]
  },
  {
   "cell_type": "code",
   "execution_count": 60,
   "metadata": {},
   "outputs": [
    {
     "output_type": "stream",
     "name": "stdout",
     "text": [
      "Arquivo ../../latex/mytable_q2_distribution.tex  gerado com sucesso!\n",
      "/Library/Frameworks/Python.framework/Versions/3.6/lib/python3.6/site-packages/pandas/core/indexing.py:190: SettingWithCopyWarning: \n",
      "A value is trying to be set on a copy of a slice from a DataFrame\n",
      "\n",
      "See the caveats in the documentation: http://pandas.pydata.org/pandas-docs/stable/indexing.html#indexing-view-versus-copy\n",
      "  self._setitem_with_indexer(indexer, value)\n"
     ]
    },
    {
     "output_type": "execute_result",
     "data": {
      "text/plain": [
       "               q2  count  \\\n",
       "0        Measured     44   \n",
       "1              No     13   \n",
       "2  Not applicable      0   \n",
       "\n",
       "                                                                                                                                                                                                                                                               sp  \n",
       "0  [SP1, SP2, SP3, SP4, SP5, SP6, SP7, SP8, SP9, SP10, SP11, SP12, SP14, SP15, SP16, SP17, SP18, SP19, SP21, SP22, SP24, SP25, SP27, SP28, SP29, SP30, SP31, SP36, SP37, SP40, SP41, SP42, SP44, SP46, SP48, SP49, SP50, SP51, SP52, SP53, SP54, SP55, SP56, S...  \n",
       "1                                                                                                                                                                                  [SP13, SP20, SP23, SP26, SP32, SP33, SP34, SP35, SP38, SP39, SP43, SP45, SP47]  \n",
       "2                                                                                                                                                                                                                                                              []  "
      ],
      "text/html": "<div>\n<style scoped>\n    .dataframe tbody tr th:only-of-type {\n        vertical-align: middle;\n    }\n\n    .dataframe tbody tr th {\n        vertical-align: top;\n    }\n\n    .dataframe thead th {\n        text-align: right;\n    }\n</style>\n<table border=\"1\" class=\"dataframe\">\n  <thead>\n    <tr style=\"text-align: right;\">\n      <th></th>\n      <th>q2</th>\n      <th>count</th>\n      <th>sp</th>\n    </tr>\n  </thead>\n  <tbody>\n    <tr>\n      <th>0</th>\n      <td>Measured</td>\n      <td>44</td>\n      <td>[SP1, SP2, SP3, SP4, SP5, SP6, SP7, SP8, SP9, SP10, SP11, SP12, SP14, SP15, SP16, SP17, SP18, SP19, SP21, SP22, SP24, SP25, SP27, SP28, SP29, SP30, SP31, SP36, SP37, SP40, SP41, SP42, SP44, SP46, SP48, SP49, SP50, SP51, SP52, SP53, SP54, SP55, SP56, S...</td>\n    </tr>\n    <tr>\n      <th>1</th>\n      <td>No</td>\n      <td>13</td>\n      <td>[SP13, SP20, SP23, SP26, SP32, SP33, SP34, SP35, SP38, SP39, SP43, SP45, SP47]</td>\n    </tr>\n    <tr>\n      <th>2</th>\n      <td>Not applicable</td>\n      <td>0</td>\n      <td>[]</td>\n    </tr>\n  </tbody>\n</table>\n</div>"
     },
     "metadata": {},
     "execution_count": 60
    }
   ],
   "source": [
    "df_distribution_q2 = util.view_question_distribution(my_dict=dict_q2, my_list=['Measured', 'No', 'Not applicable'], my_question='q2')\n",
    "df_distribution_q2['sp'] = None\n",
    "\n",
    "df_distribution_q2 = util.view_question_distribution_update_sp(my_df_distribution=df_distribution_q2, my_df_data=df_sms_extraction, my_feature='Q2(Measure)')\n",
    "\n",
    "util.create_latex_table(my_df=df_distribution_q2, my_path='../../latex', my_file_name='mytable_q2_distribution.tex')\n",
    "\n",
    "df_distribution_q2"
   ]
  },
  {
   "cell_type": "code",
   "execution_count": 61,
   "metadata": {},
   "outputs": [
    {
     "output_type": "stream",
     "name": "stdout",
     "text": [
      "Measured : 0.754 (43 studies)\nNo measured : 0.246 (14 studies)\n"
     ]
    }
   ],
   "source": [
    "print('Measured : {} ({} studies)'.format( round(43/57 , 3), 43 ))\n",
    "print('No measured : {} ({} studies)'.format( round(14/57 , 3), 14 ))\n"
   ]
  },
  {
   "cell_type": "code",
   "execution_count": 30,
   "metadata": {},
   "outputs": [
    {
     "output_type": "stream",
     "name": "stdout",
     "text": [
      "Arquivo ../../latex/mytable_q2_distribution_detailed.tex  gerado com sucesso!\nArquivo ../../md/mytable_q2_distribution_detailed.md  gerado com sucesso!\n"
     ]
    },
    {
     "output_type": "execute_result",
     "data": {
      "text/plain": [
       "                                                                        measure  \\\n",
       "0                                                 amount of architecture smells   \n",
       "1                 amount of software architecture rules violated in source code   \n",
       "2                                        amount of complexity measures of files   \n",
       "3                                                            modularity metrics   \n",
       "4   amount of software architecture rules violated in documents and source code   \n",
       "5                   amount of software architecture rules violated in documents   \n",
       "6                                                            amount of hotspots   \n",
       "7                                                  amount of architectural root   \n",
       "8                                                         index of crisis point   \n",
       "9                                     coupling of files and architecture smells   \n",
       "10                                                    amount of contagious debt   \n",
       "11                   amount of architectural root and index of Decoupling Level   \n",
       "12                                                     dependency of components   \n",
       "13                                                        amount of code smells   \n",
       "\n",
       "    count                                                    sp  \n",
       "0       9  [SP3, SP9, SP17, SP21, SP28, SP29, SP48, SP56, SP57]  \n",
       "1       6                  [SP11, SP40, SP41, SP42, SP52, SP55]  \n",
       "2       5                         [SP2, SP27, SP30, SP53, SP54]  \n",
       "3       4                               [SP7, SP16, SP24, SP51]  \n",
       "4       4                               [SP8, SP22, SP31, SP50]  \n",
       "5       3                                     [SP1, SP14, SP46]  \n",
       "6       3                                     [SP6, SP10, SP19]  \n",
       "7       2                                           [SP4, SP37]  \n",
       "8       2                                          [SP15, SP36]  \n",
       "9       1                                                 [SP5]  \n",
       "10      1                                                [SP12]  \n",
       "11      1                                                [SP18]  \n",
       "12      1                                                [SP25]  \n",
       "13      1                                                [SP49]  "
      ],
      "text/html": "<div>\n<style scoped>\n    .dataframe tbody tr th:only-of-type {\n        vertical-align: middle;\n    }\n\n    .dataframe tbody tr th {\n        vertical-align: top;\n    }\n\n    .dataframe thead th {\n        text-align: right;\n    }\n</style>\n<table border=\"1\" class=\"dataframe\">\n  <thead>\n    <tr style=\"text-align: right;\">\n      <th></th>\n      <th>measure</th>\n      <th>count</th>\n      <th>sp</th>\n    </tr>\n  </thead>\n  <tbody>\n    <tr>\n      <th>0</th>\n      <td>amount of architecture smells</td>\n      <td>9</td>\n      <td>[SP3, SP9, SP17, SP21, SP28, SP29, SP48, SP56, SP57]</td>\n    </tr>\n    <tr>\n      <th>1</th>\n      <td>amount of software architecture rules violated in source code</td>\n      <td>6</td>\n      <td>[SP11, SP40, SP41, SP42, SP52, SP55]</td>\n    </tr>\n    <tr>\n      <th>2</th>\n      <td>amount of complexity measures of files</td>\n      <td>5</td>\n      <td>[SP2, SP27, SP30, SP53, SP54]</td>\n    </tr>\n    <tr>\n      <th>3</th>\n      <td>modularity metrics</td>\n      <td>4</td>\n      <td>[SP7, SP16, SP24, SP51]</td>\n    </tr>\n    <tr>\n      <th>4</th>\n      <td>amount of software architecture rules violated in documents and source code</td>\n      <td>4</td>\n      <td>[SP8, SP22, SP31, SP50]</td>\n    </tr>\n    <tr>\n      <th>5</th>\n      <td>amount of software architecture rules violated in documents</td>\n      <td>3</td>\n      <td>[SP1, SP14, SP46]</td>\n    </tr>\n    <tr>\n      <th>6</th>\n      <td>amount of hotspots</td>\n      <td>3</td>\n      <td>[SP6, SP10, SP19]</td>\n    </tr>\n    <tr>\n      <th>7</th>\n      <td>amount of architectural root</td>\n      <td>2</td>\n      <td>[SP4, SP37]</td>\n    </tr>\n    <tr>\n      <th>8</th>\n      <td>index of crisis point</td>\n      <td>2</td>\n      <td>[SP15, SP36]</td>\n    </tr>\n    <tr>\n      <th>9</th>\n      <td>coupling of files and architecture smells</td>\n      <td>1</td>\n      <td>[SP5]</td>\n    </tr>\n    <tr>\n      <th>10</th>\n      <td>amount of contagious debt</td>\n      <td>1</td>\n      <td>[SP12]</td>\n    </tr>\n    <tr>\n      <th>11</th>\n      <td>amount of architectural root and index of Decoupling Level</td>\n      <td>1</td>\n      <td>[SP18]</td>\n    </tr>\n    <tr>\n      <th>12</th>\n      <td>dependency of components</td>\n      <td>1</td>\n      <td>[SP25]</td>\n    </tr>\n    <tr>\n      <th>13</th>\n      <td>amount of code smells</td>\n      <td>1</td>\n      <td>[SP49]</td>\n    </tr>\n  </tbody>\n</table>\n</div>"
     },
     "metadata": {},
     "execution_count": 30
    }
   ],
   "source": [
    "# 2) Add new column grouped_by_measurement\n",
    "df_sms_extraction['grouped_by_measurement'] = None\n",
    "\n",
    "# 3) Updating df_sms_extraction['grouped_by_measurement']\n",
    "for each in grouped_by_measurement:\n",
    "    j = 0\n",
    "    for item in df_sms_extraction['Paper Id']:\n",
    "        if each[0] == item: \n",
    "            df_sms_extraction['grouped_by_measurement'].iloc[j] = each[1]\n",
    "        j = j + 1\n",
    "\n",
    "# 4) Creating list_by_measurement using count \n",
    "list_by_measurement = []\n",
    "for each in grouped_by_measurement: \n",
    "    list_by_measurement.append(each[1])\n",
    "\n",
    "list_by_measurement = Counter(list_by_measurement).most_common()\n",
    "\n",
    "# 5) Creating DataFrame df_my_measure\n",
    "measure = []\n",
    "count = []\n",
    "for each in list_by_measurement: \n",
    "    measure.append(each[0])\n",
    "    count.append(each[1])\n",
    "my_measure = {'measure': measure, 'count':count}\n",
    "my_measure\n",
    "\n",
    "my_measure_id = list(range(1,len(list_by_measurement)+1))\n",
    "my_measure_id\n",
    "\n",
    "df_my_measure = pd.DataFrame(data=my_measure, index=my_measure_id)\n",
    "df_my_measure.reset_index(drop=True, inplace=True)\n",
    "df_my_measure['sp'] = None\n",
    "\n",
    "# 6) Add new column with Selected Papers according grouped measurement\n",
    "i = 0\n",
    "for each in df_my_measure['measure']:\n",
    "    list_sp_novo = []\n",
    "    j = 0\n",
    "    for item in df_sms_extraction['grouped_by_measurement']:\n",
    "        if each == item: \n",
    "            list_sp_novo.append(df_sms_extraction['sp'].iloc[j])\n",
    "        j = j + 1\n",
    "    df_my_measure['sp'].iloc[i] = list_sp_novo\n",
    "    i = i + 1\n",
    "\n",
    "# 7) Save the latex table \n",
    "util.create_latex_table(my_df=df_my_measure, my_path='../../latex', my_file_name='mytable_q2_distribution_detailed.tex')\n",
    "util.create_markdown_table(my_df=df_my_measure, my_path='../../md', my_file_name='mytable_q2_distribution_detailed.md')\n",
    "\n",
    "df_my_measure"
   ]
  },
  {
   "cell_type": "code",
   "execution_count": 32,
   "metadata": {},
   "outputs": [
    {
     "output_type": "stream",
     "name": "stdout",
     "text": [
      "43\n"
     ]
    }
   ],
   "source": [
    "print(df_my_measure['count'].sum())"
   ]
  },
  {
   "cell_type": "code",
   "execution_count": 56,
   "metadata": {},
   "outputs": [
    {
     "output_type": "execute_result",
     "data": {
      "text/plain": [
       "                                                                             ATD Itens based on templated suggested by authors\n",
       "\n",
       ".   \n",
       "14                                                                                                                                                          The authors proposed a crisis point based on ATD accumulation from itens collected using ATD Taxonomy.   \n",
       "15                                                                                                                                                                               It is calculated the effort of modularization in Files that was not modularized.    \n",
       "16                                                                                                                                                                                                                                                             Yes   \n",
       "17                                                                                                                                                                                                                                              Architectural Root   \n",
       "18                                                                                                                                          Hotspot. Calculate a hotspot to detect problematic files and architecture debts, in terms of timelines and efficiency.   \n",
       "20                                                                                                                                                                     It was defined a SNA (Socia Network Analysis) metric to identify the architectural smells.    \n",
       "21                                                                                                                                                                                                          ATD based in Software Architecture estimation in hours   \n",
       "23                                                                                                                                                                                     Package modularity via Sonarqube using TD Index from cohesion and coupling.   \n",
       "24                                                                                                                                                                                        Misplaced LC interest based on scale of weight proposed by the authors.    \n",
       "26                                                                                                                                         Complexity, coupling and cyclical dependencies  using DSM (Dependent Structure Matrix). The time spends on maintenance.   \n",
       "27                                                                                                                                                                                                                                             Architecture Smells   \n",
       "28                                                                                                                                                                                                                                             Architecture Smells   \n",
       "29  we study architecture evolution by identifying the major design decisions that were introduced along a number of the most significant releases (see Section 4). Such design decisions are mainly: (a) architecture components, including their interfaces, ...   \n",
       "30                                                                                                                                                                    Security TD using a catalog of Security Issues provided by CWE (Common Weakness Enumeration)   \n",
       "35                                                                                                                                                                                                                                                             Yes   \n",
       "36                                                                                                                                                                                                                                              Architectural Root   \n",
       "39                                                                                                             yes, it was meausre a number of detected violations based on qualite attributes (Performance, Robustness, Security Transferabililty, Changeability)   \n",
       "40                                                                                                                                                                                                                                                     Security TD   \n",
       "41                                                                                                                                                                                                         Scalability through estamating impact in the subsystems   \n",
       "43                                                                                                                          The perception of: \\nMaintainability \\nTest coverage\\nCyclomatic complexity\\nClone coverage\\nCoupling metrics\\nArchitectural Violation   \n",
       "45                                                                                                                                                                                                         Archtecture Social Debt, architecture incommunicability   \n",
       "47                                                                                                                                                                                                                                                             Yes   \n",
       "48                                                                                                                                                                                                                                                             Yes   \n",
       "49                                                                                                                                                                                                                                                             Yes   \n",
       "50                                                                                                                                                                                                                                                             yes   \n",
       "51                                                                                                                                                                                                                                                             yes   \n",
       "52                                                                                                                                                                                                                                                             yes   \n",
       "53                                                                                                                                                                                                                                                             yes   \n",
       "54                                                                                                                                                                                                                                                             Yes   \n",
       "55                                                                                                                                                                                                                                                             Yes   \n",
       "56                                                                                                                                                                                                                                                             Yes   \n",
       "\n",
       "                                                                                                                                                                                                                                          Q4(Techniques and tools)  \n",
       "0   general:\"Model-Driven Architecture Approach, Natural Language Processing, Machine Learning, Heterogeneous artefacts\"\\n# \\napprouch:\"REBEL focuses on finding ATD items at architecture level only, measuring the impact of its repayment strategy based on ...  \n",
       "1       general:\"specialist technical evaluation, modularity, measurement system, complexity, cohesion, coupling, code churn, source code, revision history\"\\n# \\napprouch:\"own technique to identify, measure and calculate the ATD\"\\n#\\ntools:\"proprietary tool\"  \n",
       "2                                     general:\"architecture smells, modularity\"\\n# \\napprouch:\"Unstable Dependency, Hub-Like Dependency, Cyclic Dependency, Implicit Cross Package Dependency,  \"\\n#\\ntools:\"Arcan, SonarQube, Apache Commons BCEL, hellow2morrow\"  \n",
       "3   general:\"architectural root, source code, revision history, Design Structure Matrix, code churn, change frequency, architectural smells, modularity\"\\n # \\n approuch:\"Unstable Interface, Implicit Cross-module Dependency, Unhealthy Inheritance Hierarchy...  \n",
       "4   general:\"maintainability, architecture flaws, architecture roots, decoupling level, propagation cost, architectural smells, Design Structure Matrix, DRSpace, code churn\"\\n # \\n approuch:\"clique, package cycle, modularity violation, crossing, unstable ...  \n",
       "5                                               general:\"source code, revision history, hotspot, propagation patterns, issue tracking\"\\n # \\n approuch:\"change-prone, bug-prone, early detection architectural problems\"\\n #\\n tools:\"\n",
       "Understand\n",
       ", Simian, \n",
       "DV8\n",
       "\"  \n",
       "6   general:\"modularity, average number of modified components per commit, ANMCC, index of package changing impact, IPCI, index of package goal focus,  IPGF, source code, revistion history, \"\\n # \\n approuch:\"modularity metrics, Spearman’s correlation tes...  \n",
       "7                                                  general:\"source code, software architecture documentation, business documentation, revision history, release plan\"\\n # \\n approuch:\"framework AnaConDebt, catalog, taxonomy\"\\n #\\n tools:\"proprietary formulas\"  \n",
       "8   general:\"Design Rules Spaces, Design Structure Matrix, Architecture Issues, Architectural Smells, Hotsport pattern, unstable interface, modularity violation, unhealthy inheritance, cyclic dependency, DRSpace, source code, revision history, bug track, ...  \n",
       "9   general:\"Architecture Description Language, ADL, Objet Constraint Language, ATD Hotsports\"\\n # \\n approuch:\"Android architecture guideline extraction, Android reference architecture establishment, Reverse engineering of implemented architecture, Compl...  \n",
       "10                                                                                                             general:\"ARCHITECTURE DSL, Architecture violation, package analysis, source code\"\\n # \\n approuch:\"Architecture Violation\"\\n #\\n tools:\"Sonargraph\"  \n",
       "11                                                                                                                                                       general: \"It was created a taxonomy about ATD itens to identify ATD Contagius debt\"#approuch: \"\"#tools:\"\"  \n",
       "13   general:\"software architectural documentation, architecture decision, quality attributes, ATD Item, ATD list, Change scenario, architecture decision template, architecture diagram, specialist analysis, revision history, release plan\"\\n # \\n approuch:...  \n",
       "14               general:\"Agile Software Development, Taxonomy of ATD, refactoring, source code, business factory, architecture documentation, human factor,  \"\\n # \\n approuch:\"Taxonomy of ATD, framework to identify ATD, specialist analysis\"\\n #\\n tools:\"no\"  \n",
       "15                         general:\"modularization, code churn, source code, revision history, complexity, refactoring, specialist analysis, files, components\"\\n # \\n approuch:\"method to select critcial files to refactoring\"\\n #\\n tools:\"proprietary formula\"  \n",
       "16                                                                                                                                                                                                        general:# approuch: ' Architecture Smell'#tools: 'Arcan'  \n",
       "17                                                                                                                                                       general: # approuch: architecture smells, Decopling Level, DRSpace, Propagation Cost, DSM# tools: 'Titan'  \n",
       "18   general:\"hotspot, refactoring, source code, revision history, architectural issue, issue tracker, issue list, file dependencies, specialist evaluation, business cases, Unstable Interface, Implicit Cross-module Dependency, modularity violations, Unhea...  \n",
       "20  general:\"Architectural Smells, Social Network, maintainability,Social Network Analysis, link prediction, source code, revision history,  dependency prediction, time series, cycle, hub-like, unstable dependency, ranking-based link prediction, machine l...  \n",
       "21   general:\"specialist evaluation, package, release plan, dependency analysis, DSM, implementation cost, propagation cost, rework cost, use cases, refactoring, re-architecting, person effort, modularity metrics, change propagation metric\"\\n # \\n approuc...  \n",
       "23   general:\"modularity, package dependencies, design flaws, package cohesion, package coupling, source code, revision history, Average Coupling Afferent, Total Coupling Intensity between Packages, Cohesion among Package Classes\"\\n # \\n approuch:\"Correla...  \n",
       "24   general:\"maintainability, performance, visualization of ATD, logical view, design view, deployment, efficiency, component communication, component dependencies, Eletronic Control Unit, Automotive Domain\"\\n # \\n approuch:\"semi-structured interview, co...  \n",
       "26   general:\"complexity, modularity, maintanance cost, refactoring, coupling, cohesion, dependencies between components, DSM, source code, issue track, bug tracking, defect-related activity, file changes, specialist evaluation, refactoring, design decisi...  \n",
       "27   general:\"architectural smells, refactoring, Hublike dependency, Cyclic dependency, complexity, Unstable dependency, source code, revision history, package analysis, Jaccard similarity index\"\\n # \\n approuch:\"refactoring prioritisation, Goal-Question-...  \n",
       "28                                                                                                                                                                                                                                                              No  \n",
       "29  general: # appouch: analysis of unix documentation, analysis of repository of unix history, souce code analysis, measure complexity, calculate cyclomatic complexity, component level, Constant Comparison, Another major force that has been driving the s...  \n",
       "30   general:\"quality assurance, security, Common Weakness Scoring System, Common Vulerability Scoring System, Quamoco, ISO 25010, source code, catalog of flaws, specialist evaluation\"\\n # \\n approuch:\"Pilot study, priorization securty framework, Common A...  \n",
       "35                                                                                                                                                                                                                 general: # approuch: 'Taxonomy of ATD'# tools:   \n",
       "36                                                                                                                                  general: # approuch: 'DRSpace, Architectural Root, Architecture Smell, DSM, DRH, Coupling, source code analysis'# tools: latix  \n",
       "39  general:\"language parse, meta-model, catalogs of rules, application analysis, detected violations, quality attributes, performance, robustness, security, changeability, transferability, source code, revion history, business risk, \"\\n # \\n approuch:\"De...  \n",
       "40                                                                                                                                                                                                                                                              No  \n",
       "41   general:\"scalability, quality metrics, scalability triage, affected subsystems, estimating impact, specialist evaluation, performance, software architecture documentation, open systems\"\\n # \\n approuch:\"lightweight approuch to identify scalability de...  \n",
       "43   general:\"maintainability, microservices,Test coverage, Cyclomatic complexity, Clone coverage, Coupling metrics, Architectural Violation, Outated documentation, Inadequate testing, architectural erosion, problematic dependencies, complex components, l...  \n",
       "45                                                                                                                                                                                                                                                              No  \n",
       "47                                                                                                                                                                                    general:\"issue track, machine learning\"\\n# \\napprouch:\"\"\\n#\\ntools:\"Skuld\"\\n  \n",
       "48                                                                                                                                                                                                             general:\"\"\\n# \\napprouch:\"\"\\n#\\ntools:\"Sonarqube\"\\n  \n",
       "49                                                                                                                                                                                                             general:\"\"\\n# \\napprouch:\"\"\\n#\\ntools:\"Sonarqube\"\\n  \n",
       "50                                                                                                                                                                                                           general:\"\"\\n# \\napprouch:\"\"\\n#\\ntools:\"proprietary\"\\n  \n",
       "51                                                                                                                                                                                                           general:\"\"\\n# \\napprouch:\"\"\\n#\\ntools:\"proprietary\"\\n  \n",
       "52                                                                                                                                                                                                           general:\"\"\\n# \\napprouch:\"\"\\n#\\ntools:\"proprietary\"\\n  \n",
       "53                                                                                                                                                                                                           general:\"\"\\n# \\napprouch:\"\"\\n#\\ntools:\"proprietary\"\\n  \n",
       "54                                                                                                                                                                                          general:\"\"\\n# \\napprouch:\"security analysis\"\\n#\\ntools:\"proprietary\"\\n  \n",
       "55                                                                                                                                                                                                                   general:\"\"\\n# \\napprouch:\"\"\\n#\\ntools:\"Arcan\"  \n",
       "56                                                                                                                                                                                                           general:\"\"\\n# \\napprouch:\"\"\\n#\\ntools:\"proprietary\"\\n  "
      ],
      "text/html": "<div>\n<style scoped>\n    .dataframe tbody tr th:only-of-type {\n        vertical-align: middle;\n    }\n\n    .dataframe tbody tr th {\n        vertical-align: top;\n    }\n\n    .dataframe thead th {\n        text-align: right;\n    }\n</style>\n<table border=\"1\" class=\"dataframe\">\n  <thead>\n    <tr style=\"text-align: right;\">\n      <th></th>\n      <th>Paper Id</th>\n      <th>sp</th>\n      <th>Citation</th>\n      <th>Title</th>\n      <th>Q1 Type of ATD (Based on Li et al 2015)</th>\n      <th>Q2(Measure)</th>\n      <th>Q4(Techniques and tools)</th>\n    </tr>\n  </thead>\n  <tbody>\n    <tr>\n      <th>0</th>\n      <td>1</td>\n      <td>SP1</td>\n      <td>Perez et al. 2019</td>\n      <td>A Proposed Model-driven Approach to Manage Architectural Technical Debt Life Cycle \\n</td>\n      <td>Not specified</td>\n      <td>REBEL focuses on finding ATD items at architecture level only (documents), measuring the impact of its repayment strategy based on architecture decisions and allowing the debt to be anticipated or corrected before the implementation process begins.</td>\n      <td>general:\"Model-Driven Architecture Approach, Natural Language Processing, Machine Learning, Heterogeneous artefacts\"\\n# \\napprouch:\"REBEL focuses on finding ATD items at architecture level only, measuring the impact of its repayment strategy based on ...</td>\n    </tr>\n    <tr>\n      <th>1</th>\n      <td>2</td>\n      <td>SP2</td>\n      <td>Martini et al 2017</td>\n      <td>A semi-automated framework for the identification and estimation of Architectural Technical Debt: A comparative case-study on the modularization of a software component</td>\n      <td>Complex architectural behavioral dependencies</td>\n      <td>Complexity measures of files</td>\n      <td>general:\"specialist technical evaluation, modularity, measurement system, complexity, cohesion, coupling, code churn, source code, revision history\"\\n# \\napprouch:\"own technique to identify, measure and calculate the ATD\"\\n#\\ntools:\"proprietary tool\"</td>\n    </tr>\n    <tr>\n      <th>2</th>\n      <td>3</td>\n      <td>SP3</td>\n      <td>Roveda et al. 2018</td>\n      <td>Towards an Architectural Debt Index</td>\n      <td>Architecture Smells</td>\n      <td>It was defined a formula to calculate ATD index and Architectural Smell Impact Score.</td>\n      <td>general:\"architecture smells, modularity\"\\n# \\napprouch:\"Unstable Dependency, Hub-Like Dependency, Cyclic Dependency, Implicit Cross Package Dependency,  \"\\n#\\ntools:\"Arcan, SonarQube, Apache Commons BCEL, hellow2morrow\"</td>\n    </tr>\n    <tr>\n      <th>3</th>\n      <td>4</td>\n      <td>SP4</td>\n      <td>Snipes et al. 2018</td>\n      <td>A Case Study of the Effects of Architecture Debt on Software Evolution Effort</td>\n      <td>Complex architectural behavioral dependencies</td>\n      <td>Architectural Root</td>\n      <td>general:\"architectural root, source code, revision history, Design Structure Matrix, code churn, change frequency, architectural smells, modularity\"\\n # \\n approuch:\"Unstable Interface, Implicit Cross-module Dependency, Unhealthy Inheritance Hierarchy...</td>\n    </tr>\n    <tr>\n      <th>4</th>\n      <td>5</td>\n      <td>SP5</td>\n      <td>Nayebi et al. 2019</td>\n      <td>A Longitudinal Study of Identifying and Paying Down architecture debt</td>\n      <td>Complex architectural behavioral dependencies</td>\n      <td>In this study we measured architecture debt in two ways: 1) in terms of system-wide coupling measures, and 2) in terms of the number and severity of architecture flaws.</td>\n      <td>general:\"maintainability, architecture flaws, architecture roots, decoupling level, propagation cost, architectural smells, Design Structure Matrix, DRSpace, code churn\"\\n # \\n approuch:\"clique, package cycle, modularity violation, crossing, unstable ...</td>\n    </tr>\n    <tr>\n      <th>5</th>\n      <td>7</td>\n      <td>SP6</td>\n      <td>Feng et al. 2019</td>\n      <td>Active Hotspot: An Issue-Oriented Model to Monitor Software Evolution and Degradation</td>\n      <td>System-level structure quality issues</td>\n      <td>Hotspot. Calculate a hotspot to detect problematic files and architecture debts, in terms of timelines and efficiency</td>\n      <td>general:\"source code, revision history, hotspot, propagation patterns, issue tracking\"\\n # \\n approuch:\"change-prone, bug-prone, early detection architectural problems\"\\n #\\n tools:\" Understand , Simian,  DV8 \"</td>\n    </tr>\n    <tr>\n      <th>6</th>\n      <td>9</td>\n      <td>SP7</td>\n      <td>Li et al. 2014</td>\n      <td>An  Empirical Investigation of Modularity Metrics for Indicating architectural technical debt</td>\n      <td>Architectural compliance issues</td>\n      <td>Index of Package Changing Impact (IPCI),  Index of Package Goal Focus (IPGF), Average Number of Modified Components per Commit (ANMCC)</td>\n      <td>general:\"modularity, average number of modified components per commit, ANMCC, index of package changing impact, IPCI, index of package goal focus,  IPGF, source code, revistion history, \"\\n # \\n approuch:\"modularity metrics, Spearman’s correlation tes...</td>\n    </tr>\n    <tr>\n      <th>7</th>\n      <td>10</td>\n      <td>SP8</td>\n      <td>Martini et al. 2016</td>\n      <td>An Empirically Developed Method to Aid Decisions on Architectural Technical Debt Refactoring: AnaConDebt</td>\n      <td>Architectural compliance issues</td>\n      <td>Principal and Interest of ATD.   There is a set of pre-defined ATD based on a set of previously analyzed cases. These set of ATD is used the identify ATD based on software architect.</td>\n      <td>general:\"source code, software architecture documentation, business documentation, revision history, release plan\"\\n # \\n approuch:\"framework AnaConDebt, catalog, taxonomy\"\\n #\\n tools:\"proprietary formulas\"</td>\n    </tr>\n    <tr>\n      <th>8</th>\n      <td>13</td>\n      <td>SP9</td>\n      <td>Xiao et al. 2016</td>\n      <td>Identifying and Quantifying Architectural Debt</td>\n      <td>Architecture Smells</td>\n      <td>It was created a specific concept about ArchDebt that derives a set of formulas. It is described in terms of group of files.</td>\n      <td>general:\"Design Rules Spaces, Design Structure Matrix, Architecture Issues, Architectural Smells, Hotsport pattern, unstable interface, modularity violation, unhealthy inheritance, cyclic dependency, DRSpace, source code, revision history, bug track, ...</td>\n    </tr>\n    <tr>\n      <th>9</th>\n      <td>14</td>\n      <td>SP10</td>\n      <td>Verdecchia 2018</td>\n      <td>Identifying Architectural Technical Debt in Android Applications through Automated Compliance Checking</td>\n      <td>Not specified</td>\n      <td>Android ATD hotspots, i.e. a set of files.</td>\n      <td>general:\"Architecture Description Language, ADL, Objet Constraint Language, ATD Hotsports\"\\n # \\n approuch:\"Android architecture guideline extraction, Android reference architecture establishment, Reverse engineering of implemented architecture, Compl...</td>\n    </tr>\n    <tr>\n      <th>10</th>\n      <td>15</td>\n      <td>SP11</td>\n      <td>Zitzweitz et al. 2019</td>\n      <td>Mitigating Technical and Architectural Debt with Sonargraph Using static analysis to enforce architectural constraints</td>\n      <td>Architectural compliance issues</td>\n      <td>Compliance checking</td>\n      <td>general:\"ARCHITECTURE DSL, Architecture violation, package analysis, source code\"\\n # \\n approuch:\"Architecture Violation\"\\n #\\n tools:\"Sonargraph\"</td>\n    </tr>\n    <tr>\n      <th>11</th>\n      <td>16</td>\n      <td>SP12</td>\n      <td>Martini and Bosch 2017</td>\n      <td>On the interest of architectural technical debt: Uncovering the contagious debt phenomenon</td>\n      <td>Not specified</td>\n      <td>Contagious debt</td>\n      <td>general: \"It was created a taxonomy about ATD itens to identify ATD Contagius debt\"#approuch: \"\"#tools:\"\"</td>\n    </tr>\n    <tr>\n      <th>13</th>\n      <td>21</td>\n      <td>SP14</td>\n      <td>Li et al. 2015</td>\n      <td>Architectural Technical Debt Identification based on Architecture Decisions and Change Scenarios</td>\n      <td>Architectural compliance issues</td>\n      <td>ATD Itens based on templated suggested by authors  .</td>\n      <td>general:\"software architectural documentation, architecture decision, quality attributes, ATD Item, ATD list, Change scenario, architecture decision template, architecture diagram, specialist analysis, revision history, release plan\"\\n # \\n approuch:...</td>\n    </tr>\n    <tr>\n      <th>14</th>\n      <td>22</td>\n      <td>SP15</td>\n      <td>Martini et al. 2014</td>\n      <td>Architecture Technical Debt: Understanding Causes and a Qualitative Model</td>\n      <td>Architectural compliance issues</td>\n      <td>The authors proposed a crisis point based on ATD accumulation from itens collected using ATD Taxonomy.</td>\n      <td>general:\"Agile Software Development, Taxonomy of ATD, refactoring, source code, business factory, architecture documentation, human factor,  \"\\n # \\n approuch:\"Taxonomy of ATD, framework to identify ATD, specialist analysis\"\\n #\\n tools:\"no\"</td>\n    </tr>\n    <tr>\n      <th>15</th>\n      <td>27</td>\n      <td>SP16</td>\n      <td>Martini et al. 2016</td>\n      <td>Estimating and Quantifying the Benefits of Refactoring to Improve a Component Modularity: a Case Study</td>\n      <td>System-level structure quality issues</td>\n      <td>It is calculated the effort of modularization in Files that was not modularized.</td>\n      <td>general:\"modularization, code churn, source code, revision history, complexity, refactoring, specialist analysis, files, components\"\\n # \\n approuch:\"method to select critcial files to refactoring\"\\n #\\n tools:\"proprietary formula\"</td>\n    </tr>\n    <tr>\n      <th>16</th>\n      <td>30</td>\n      <td>SP17</td>\n      <td>Martini et al. 2018</td>\n      <td>Identifying and Prioritizing Architectural Debt Through Architectural Smells: A Case Study in a Large Software Company</td>\n      <td>Architecture Smells</td>\n      <td>Yes</td>\n      <td>general:# approuch: ' Architecture Smell'#tools: 'Arcan'</td>\n    </tr>\n    <tr>\n      <th>17</th>\n      <td>38</td>\n      <td>SP18</td>\n      <td>Cai and Kazman 2016</td>\n      <td>Software Architecture Health Monitor</td>\n      <td>Architecture Smells</td>\n      <td>Architectural Root</td>\n      <td>general: # approuch: architecture smells, Decopling Level, DRSpace, Propagation Cost, DSM# tools: 'Titan'</td>\n    </tr>\n    <tr>\n      <th>18</th>\n      <td>48</td>\n      <td>SP19</td>\n      <td>Kazman et al. 2015</td>\n      <td>A Case Study in Locating the Architectural Roots of Technical Debt</td>\n      <td>System-level structure quality issues</td>\n      <td>Hotspot. Calculate a hotspot to detect problematic files and architecture debts, in terms of timelines and efficiency.</td>\n      <td>general:\"hotspot, refactoring, source code, revision history, architectural issue, issue tracker, issue list, file dependencies, specialist evaluation, business cases, Unstable Interface, Implicit Cross-module Dependency, modularity violations, Unhea...</td>\n    </tr>\n    <tr>\n      <th>20</th>\n      <td>20</td>\n      <td>SP21</td>\n      <td>Tommasel 2019</td>\n      <td>Applying Social Network Analysis Techniques to Architectural Smell Prediction</td>\n      <td>Architecture Smells</td>\n      <td>It was defined a SNA (Socia Network Analysis) metric to identify the architectural smells.</td>\n      <td>general:\"Architectural Smells, Social Network, maintainability,Social Network Analysis, link prediction, source code, revision history,  dependency prediction, time series, cycle, hub-like, unstable dependency, ranking-based link prediction, machine l...</td>\n    </tr>\n    <tr>\n      <th>21</th>\n      <td>33</td>\n      <td>SP22</td>\n      <td>Nord et al. 2012</td>\n      <td>In Search of a Metric for Managing Architectural Technical Debt \\n</td>\n      <td>Architectural compliance issues</td>\n      <td>ATD based in Software Architecture estimation in hours</td>\n      <td>general:\"specialist evaluation, package, release plan, dependency analysis, DSM, implementation cost, propagation cost, rework cost, use cases, refactoring, re-architecting, person effort, modularity metrics, change propagation metric\"\\n # \\n approuc...</td>\n    </tr>\n    <tr>\n      <th>23</th>\n      <td>28</td>\n      <td>SP24</td>\n      <td>Skiada et al. 2018</td>\n      <td>Exploring the Relationship between Software Modularity and Technical Debt</td>\n      <td>System-level structure quality issues</td>\n      <td>Package modularity via Sonarqube using TD Index from cohesion and coupling.</td>\n      <td>general:\"modularity, package dependencies, design flaws, package cohesion, package coupling, source code, revision history, Average Coupling Afferent, Total Coupling Intensity between Packages, Cohesion among Package Classes\"\\n # \\n approuch:\"Correla...</td>\n    </tr>\n    <tr>\n      <th>24</th>\n      <td>31</td>\n      <td>SP25</td>\n      <td>Eliasson et al. 2015</td>\n      <td>Identifying and Visualizing Architectural Debt and Its Efficiency Interest in the Automotive Domain: A Case Study</td>\n      <td>Violations of good architectural practices</td>\n      <td>Misplaced LC interest based on scale of weight proposed by the authors.</td>\n      <td>general:\"maintainability, performance, visualization of ATD, logical view, design view, deployment, efficiency, component communication, component dependencies, Eletronic Control Unit, Automotive Domain\"\\n # \\n approuch:\"semi-structured interview, co...</td>\n    </tr>\n    <tr>\n      <th>26</th>\n      <td>43</td>\n      <td>SP27</td>\n      <td>MacComark and Sturteant 2016</td>\n      <td>Technical debt and system architecture: The impact of coupling on defect-related activity</td>\n      <td>System-level structure quality issues</td>\n      <td>Complexity, coupling and cyclical dependencies  using DSM (Dependent Structure Matrix). The time spends on maintenance.</td>\n      <td>general:\"complexity, modularity, maintanance cost, refactoring, coupling, cohesion, dependencies between components, DSM, source code, issue track, bug tracking, defect-related activity, file changes, specialist evaluation, refactoring, design decisi...</td>\n    </tr>\n    <tr>\n      <th>27</th>\n      <td>51</td>\n      <td>SP28</td>\n      <td>Sas et al. 2019</td>\n      <td>Investigating Instability Architectural Smells Evolution: An Exploratory Case Study</td>\n      <td>Architecture Smells</td>\n      <td>Architecture Smells</td>\n      <td>general:\"architectural smells, refactoring, Hublike dependency, Cyclic dependency, complexity, Unstable dependency, source code, revision history, package analysis, Jaccard similarity index\"\\n # \\n approuch:\"refactoring prioritisation, Goal-Question-...</td>\n    </tr>\n    <tr>\n      <th>28</th>\n      <td>52</td>\n      <td>SP29</td>\n      <td>Fontana et al. 2019</td>\n      <td>PageRank and criticality of architectural smells</td>\n      <td>Architecture Smells</td>\n      <td>Architecture Smells</td>\n      <td>No</td>\n    </tr>\n    <tr>\n      <th>29</th>\n      <td>63</td>\n      <td>SP30</td>\n      <td>Spinellis and Avgeriou 2019</td>\n      <td>Evolution of the Unix System Architecture: An Exploratory Case Study</td>\n      <td>System-level structure quality issues</td>\n      <td>we study architecture evolution by identifying the major design decisions that were introduced along a number of the most significant releases (see Section 4). Such design decisions are mainly: (a) architecture components, including their interfaces, ...</td>\n      <td>general: # appouch: analysis of unix documentation, analysis of repository of unix history, souce code analysis, measure complexity, calculate cyclomatic complexity, component level, Constant Comparison, Another major force that has been driving the s...</td>\n    </tr>\n    <tr>\n      <th>30</th>\n      <td>73</td>\n      <td>SP31</td>\n      <td>Izurieta et al. 2018</td>\n      <td>A position study to investigate technical debt associated with security weaknesses</td>\n      <td>Architectural compliance issues</td>\n      <td>Security TD using a catalog of Security Issues provided by CWE (Common Weakness Enumeration)</td>\n      <td>general:\"quality assurance, security, Common Weakness Scoring System, Common Vulerability Scoring System, Quamoco, ISO 25010, source code, catalog of flaws, specialist evaluation\"\\n # \\n approuch:\"Pilot study, priorization securty framework, Common A...</td>\n    </tr>\n    <tr>\n      <th>35</th>\n      <td>35</td>\n      <td>SP36</td>\n      <td>Martini et al 2015</td>\n      <td>Investigating Architectural Technical Debt accumulation and refactoring over time: A multiple-case study</td>\n      <td>Not specified</td>\n      <td>Yes</td>\n      <td>general: # approuch: 'Taxonomy of ATD'# tools:</td>\n    </tr>\n    <tr>\n      <th>36</th>\n      <td>24</td>\n      <td>SP37</td>\n      <td>Cai el al 2018</td>\n      <td>Design Rule Spaces: A New Model for Representing and Analyzing Software Architecture</td>\n      <td>Architecture Smells</td>\n      <td>Architectural Root</td>\n      <td>general: # approuch: 'DRSpace, Architectural Root, Architecture Smell, DSM, DRH, Coupling, source code analysis'# tools: latix</td>\n    </tr>\n    <tr>\n      <th>39</th>\n      <td>81</td>\n      <td>SP40</td>\n      <td>Curtis et al 2012</td>\n      <td>Estimating the principal of an applications technical debt</td>\n      <td>Violations of good architectural practices</td>\n      <td>yes, it was meausre a number of detected violations based on qualite attributes (Performance, Robustness, Security Transferabililty, Changeability)</td>\n      <td>general:\"language parse, meta-model, catalogs of rules, application analysis, detected violations, quality attributes, performance, robustness, security, changeability, transferability, source code, revion history, business risk, \"\\n # \\n approuch:\"De...</td>\n    </tr>\n    <tr>\n      <th>40</th>\n      <td>85</td>\n      <td>SP41</td>\n      <td>Kumar et al 2018</td>\n      <td>Exploring multilateral cloud computing security architectural design debt in terms of technical debt</td>\n      <td>Architectural compliance issues</td>\n      <td>Security TD</td>\n      <td>No</td>\n    </tr>\n    <tr>\n      <th>41</th>\n      <td>88</td>\n      <td>SP42</td>\n      <td>Hanssen et al 2019</td>\n      <td>Identifying Scalability Debt in Open Systems</td>\n      <td>System-level structure quality issues</td>\n      <td>Scalability through estamating impact in the subsystems</td>\n      <td>general:\"scalability, quality metrics, scalability triage, affected subsystems, estimating impact, specialist evaluation, performance, software architecture documentation, open systems\"\\n # \\n approuch:\"lightweight approuch to identify scalability de...</td>\n    </tr>\n    <tr>\n      <th>43</th>\n      <td>91</td>\n      <td>SP44</td>\n      <td>Bogner et al 2018</td>\n      <td>Limiting technical debt with maintainability assurance: an industry survey on used techniques and differences with service and microservice-based systems</td>\n      <td>System-level structure quality issues</td>\n      <td>The perception of: \\nMaintainability \\nTest coverage\\nCyclomatic complexity\\nClone coverage\\nCoupling metrics\\nArchitectural Violation</td>\n      <td>general:\"maintainability, microservices,Test coverage, Cyclomatic complexity, Clone coverage, Coupling metrics, Architectural Violation, Outated documentation, Inadequate testing, architectural erosion, problematic dependencies, complex components, l...</td>\n    </tr>\n    <tr>\n      <th>45</th>\n      <td>40</td>\n      <td>SP46</td>\n      <td>Damian A. Tamburri 2019</td>\n      <td>Software Architecture Social Debt: Managing the Incommunicability Factor</td>\n      <td>Not specified</td>\n      <td>Archtecture Social Debt, architecture incommunicability</td>\n      <td>No</td>\n    </tr>\n    <tr>\n      <th>47</th>\n      <td>107</td>\n      <td>SP48</td>\n      <td>Pujols, Josep Burgaya, et al. 2020</td>\n      <td>Skuld: a self-learning tool for impact-driven technical debt management</td>\n      <td>Architecture Smells</td>\n      <td>Yes</td>\n      <td>general:\"issue track, machine learning\"\\n# \\napprouch:\"\"\\n#\\ntools:\"Skuld\"\\n</td>\n    </tr>\n    <tr>\n      <th>48</th>\n      <td>108</td>\n      <td>SP49</td>\n      <td>Molnar, Arthur-Jozsef, and Simona Motogna 2020</td>\n      <td>Long-Term Evaluation of Technical Debt in Open-Source Software</td>\n      <td>System-level structure quality issues</td>\n      <td>Yes</td>\n      <td>general:\"\"\\n# \\napprouch:\"\"\\n#\\ntools:\"Sonarqube\"\\n</td>\n    </tr>\n    <tr>\n      <th>49</th>\n      <td>109</td>\n      <td>SP50</td>\n      <td>Janes, Andrea, and Valentina Lenarduzzi 2020</td>\n      <td>Towards an Approach to Identify Obsolete Features based on Importance and Technical Debt</td>\n      <td>System-level structure quality issues</td>\n      <td>Yes</td>\n      <td>general:\"\"\\n# \\napprouch:\"\"\\n#\\ntools:\"Sonarqube\"\\n</td>\n    </tr>\n    <tr>\n      <th>50</th>\n      <td>110</td>\n      <td>SP51</td>\n      <td>Maikantis, Theodoros, et al. 2020</td>\n      <td>Software Architecture Reconstruction via a Genetic Algorithm: Applying the Move Class Refactoring</td>\n      <td>System-level structure quality issues</td>\n      <td>yes</td>\n      <td>general:\"\"\\n# \\napprouch:\"\"\\n#\\ntools:\"proprietary\"\\n</td>\n    </tr>\n    <tr>\n      <th>51</th>\n      <td>111</td>\n      <td>SP52</td>\n      <td>San Martín, Daniel, et al 2020</td>\n      <td>Characterizing Architectural Drifts of Adaptive Systems</td>\n      <td>System-level structure quality issues</td>\n      <td>yes</td>\n      <td>general:\"\"\\n# \\napprouch:\"\"\\n#\\ntools:\"proprietary\"\\n</td>\n    </tr>\n    <tr>\n      <th>52</th>\n      <td>112</td>\n      <td>SP53</td>\n      <td>de Toledo, Saulo S., Antonio Martini, and Dag IK Sjoberg 2020</td>\n      <td>Improving agility by managing shared libraries in microservices</td>\n      <td>Complex architectural behavioral dependencies</td>\n      <td>yes</td>\n      <td>general:\"\"\\n# \\napprouch:\"\"\\n#\\ntools:\"proprietary\"\\n</td>\n    </tr>\n    <tr>\n      <th>53</th>\n      <td>113</td>\n      <td>SP54</td>\n      <td>Rademacher, Florian, Sabine Sachweh, and Albert Zundorf 2020</td>\n      <td>A modeling method for systematic architecture reconstruction of microservice-based software systems</td>\n      <td>Complex architectural behavioral dependencies</td>\n      <td>yes</td>\n      <td>general:\"\"\\n# \\napprouch:\"\"\\n#\\ntools:\"proprietary\"\\n</td>\n    </tr>\n    <tr>\n      <th>54</th>\n      <td>114</td>\n      <td>SP55</td>\n      <td>Larrucea, Xabier, Izaskun Santamaria, and Borja Fernandez‐Gauna 2020</td>\n      <td>Managing security debt across PLC phases in a VSE context</td>\n      <td>System-level structure quality issues</td>\n      <td>Yes</td>\n      <td>general:\"\"\\n# \\napprouch:\"security analysis\"\\n#\\ntools:\"proprietary\"\\n</td>\n    </tr>\n    <tr>\n      <th>55</th>\n      <td>115</td>\n      <td>SP56</td>\n      <td>Raibulet, Claudia, Francesca Arcelli Fontana, and Simone Carettoni 2020</td>\n      <td>A preliminary analysis of self-adaptive systems according to different issues</td>\n      <td>Architecture Smells</td>\n      <td>Yes</td>\n      <td>general:\"\"\\n# \\napprouch:\"\"\\n#\\ntools:\"Arcan\"</td>\n    </tr>\n    <tr>\n      <th>56</th>\n      <td>116</td>\n      <td>SP57</td>\n      <td>Tushar Sharma, Paramvir Singh and Diomidis Spinellis 2020</td>\n      <td>An empirical investigation on the relationship between design and architecture smells</td>\n      <td>Architecture Smells</td>\n      <td>Yes</td>\n      <td>general:\"\"\\n# \\napprouch:\"\"\\n#\\ntools:\"proprietary\"\\n</td>\n    </tr>\n  </tbody>\n</table>\n</div>"
     },
     "metadata": {},
     "execution_count": 56
    }
   ],
   "source": [
    "list_papers_measuring_atd = list(df_distribution_q2['sp'][0])\n",
    "key = str(list_papers_measuring_atd)\n",
    "my_query = \"sp in \" + key\n",
    "\n",
    "df_sms_extraction.query(my_query)[['Paper Id', 'sp', 'Citation', 'Title', 'Q1 Type of ATD (Based on Li et al 2015)', 'Q2(Measure)', 'Q4(Techniques and tools)']]"
   ]
  },
  {
   "cell_type": "code",
   "execution_count": 34,
   "metadata": {},
   "outputs": [
    {
     "output_type": "execute_result",
     "data": {
      "text/plain": [
       "                                                                       measure  \\\n",
       "0                                                amount of architecture smells   \n",
       "1                amount of software architecture rules violated in source code   \n",
       "2                                       amount of complexity measures of files   \n",
       "3                                                           modularity metrics   \n",
       "4  amount of software architecture rules violated in documents and source code   \n",
       "5                  amount of software architecture rules violated in documents   \n",
       "6                                                           amount of hotspots   \n",
       "\n",
       "   count  \n",
       "0      9  \n",
       "1      6  \n",
       "2      5  \n",
       "3      4  \n",
       "4      4  \n",
       "5      3  \n",
       "6      3  "
      ],
      "text/html": "<div>\n<style scoped>\n    .dataframe tbody tr th:only-of-type {\n        vertical-align: middle;\n    }\n\n    .dataframe tbody tr th {\n        vertical-align: top;\n    }\n\n    .dataframe thead th {\n        text-align: right;\n    }\n</style>\n<table border=\"1\" class=\"dataframe\">\n  <thead>\n    <tr style=\"text-align: right;\">\n      <th></th>\n      <th>measure</th>\n      <th>count</th>\n    </tr>\n  </thead>\n  <tbody>\n    <tr>\n      <th>0</th>\n      <td>amount of architecture smells</td>\n      <td>9</td>\n    </tr>\n    <tr>\n      <th>1</th>\n      <td>amount of software architecture rules violated in source code</td>\n      <td>6</td>\n    </tr>\n    <tr>\n      <th>2</th>\n      <td>amount of complexity measures of files</td>\n      <td>5</td>\n    </tr>\n    <tr>\n      <th>3</th>\n      <td>modularity metrics</td>\n      <td>4</td>\n    </tr>\n    <tr>\n      <th>4</th>\n      <td>amount of software architecture rules violated in documents and source code</td>\n      <td>4</td>\n    </tr>\n    <tr>\n      <th>5</th>\n      <td>amount of software architecture rules violated in documents</td>\n      <td>3</td>\n    </tr>\n    <tr>\n      <th>6</th>\n      <td>amount of hotspots</td>\n      <td>3</td>\n    </tr>\n  </tbody>\n</table>\n</div>"
     },
     "metadata": {},
     "execution_count": 34
    }
   ],
   "source": [
    "df_temp = df_my_measure.query('count >= 3')[['measure', 'count']]\n",
    "df_temp"
   ]
  },
  {
   "cell_type": "code",
   "execution_count": 36,
   "metadata": {},
   "outputs": [
    {
     "output_type": "stream",
     "name": "stdout",
     "text": [
      "amount of architecture smells 15.79\\% (9 studies)\namount of software architecture rules violated in source code 10.53\\% (6 studies)\namount of complexity measures of files 8.77\\% (5 studies)\nmodularity metrics 7.02\\% (4 studies)\namount of software architecture rules violated in documents and source code 7.02\\% (4 studies)\namount of software architecture rules violated in documents 5.26\\% (3 studies)\namount of hotspots 5.26\\% (3 studies)\n"
     ]
    }
   ],
   "source": [
    "my_total = 57\n",
    "for each in df_temp.values:\n",
    "    my_measure = each[0]\n",
    "    my_count = each[1]\n",
    "    print('{} {}\\% ({} studies)'.format(my_measure, round(my_count*100/my_total , 2), my_count ))"
   ]
  },
  {
   "source": [
    "## Achados"
   ],
   "cell_type": "markdown",
   "metadata": {}
  },
  {
   "cell_type": "code",
   "execution_count": 38,
   "metadata": {},
   "outputs": [
    {
     "output_type": "execute_result",
     "data": {
      "text/plain": [
       "['amount of architecture smells',\n",
       " 'amount of software architecture rules violated in source code',\n",
       " 'amount of complexity measures of files',\n",
       " 'modularity metrics',\n",
       " 'amount of software architecture rules violated in documents and source code',\n",
       " 'amount of software architecture rules violated in documents',\n",
       " 'amount of hotspots',\n",
       " 'amount of architectural root',\n",
       " 'index of crisis point',\n",
       " 'coupling of files and architecture smells',\n",
       " 'amount of contagious debt',\n",
       " 'amount of architectural root and index of Decoupling Level',\n",
       " 'dependency of components',\n",
       " 'amount of code smells']"
      ]
     },
     "metadata": {},
     "execution_count": 38
    }
   ],
   "source": [
    "list_of_atd_measures = list(df_my_measure['measure'])\n",
    "list_of_atd_measures"
   ]
  },
  {
   "cell_type": "code",
   "execution_count": 40,
   "metadata": {},
   "outputs": [],
   "source": [
    "my_measures = ['architecture smells', \n",
    "'violation of software architecture rules in source', \n",
    "'violation of software architecture rules in documentation', \n",
    "'modularity metrics', \n",
    "'hotspots', \n",
    "'architectural root', \n",
    "'coupling of files', 'contagius debt', 'decoupling level', 'dependency of componets', 'crisis point']"
   ]
  },
  {
   "cell_type": "code",
   "execution_count": 42,
   "metadata": {},
   "outputs": [
    {
     "output_type": "execute_result",
     "data": {
      "text/plain": [
       "11"
      ]
     },
     "metadata": {},
     "execution_count": 42
    }
   ],
   "source": [
    "len(my_measures)"
   ]
  },
  {
   "cell_type": "code",
   "execution_count": 65,
   "metadata": {},
   "outputs": [],
   "source": [
    "my_concepts = ['is measures in terms of amount of cyclce dependencies, hub-like dependencies or unstable interfaces among components', \n",
    "'is defined a set of architectural rules to check the code implemented and the developers performe this compliance checking in source code', \n",
    "'is defined a set of architectural document rules and the specilist or softwaer architect check the documents that violates the rules', \n",
    "'is defined a set of modularity metrics like coupling or cohesion of modules via source analysis',\n",
    "'is defined as a set of critical files found via Design Structure Matrix and Design Rule Space',\n",
    " 'is defined as a set of critical files found Design Rule Space', \n",
    " 'is related to the level of dependencies among files in a system. In SP5 the authors mapped the critical files in the system and checked the dependencies of files before and after a refactoring and checked a decrease of  coupling among files.', 'is a kind of social debt that is mapped via document analysis and verification of Taxonomy of causes ATD proposed by Martini. It is necessary a specialist evaluation to indentify the ATD and measure it', 'is defined as a formula proposed by Kazman to define the level of decoupling of the component analysed', 'the authors defined a set of critical components in the system then establish a set of rules of dependency among components to check the level of dependences.', 'is defined as amount of ATD Items accumulated that can break the software']"
   ]
  },
  {
   "cell_type": "code",
   "execution_count": 66,
   "metadata": {},
   "outputs": [
    {
     "output_type": "execute_result",
     "data": {
      "text/plain": [
       "11"
      ]
     },
     "metadata": {},
     "execution_count": 66
    }
   ],
   "source": [
    "len(my_concepts)"
   ]
  },
  {
   "cell_type": "code",
   "execution_count": 64,
   "metadata": {},
   "outputs": [
    {
     "output_type": "stream",
     "name": "stdout",
     "text": [
      "architecture smells : is measures in terms of amount of cyclce dependencies, hub-like dependencies or unstable interfaces among components\n\nviolation of software architecture rules in source : is defined a set of architectural rules to check the code implemented and the developers performe this compliance checking in source code\n\nviolation of software architecture rules in documentation : is defined a set of architectural document rules and the specilist or softwaer architect check the documents that violates the rules\n\nmodularity metrics : is defined a set of modularity metrics like coupling or cohesion of modules via source analysis\n\nhotspots : is defined as a set of critical files found via Design Structure Matrix and Design Rule Space\n\narchitectural root : is defined as a set of critical files found Design Rule Space\n\ncoupling of files : is related to the level of dependencies among files in a system. In SP5 the authors mapped the critical files in the system and checked the dependencies of files before and after a refactoring and checked a decrease of  coupling among files.\n\ncontagius debt : is a kind of social debt that is mapped via document analysis and verification of Taxonomy of causes ATD proposed by Martini. It is necessary a specialist evaluation to indentify the ATD and measure it\n\ndecoupling level : is defined as a formula proposed by Kazman to define the level of decoupling of the component analysed\n\ndependency of componets : the authors defined a set of critical components in the system then establish a set of rules of dependency among components to check the level of dependences.\n\ncrisis point : is defined as amount of ATD Items accumulated that can break the software [Martini...]\n\n"
     ]
    }
   ],
   "source": [
    "my_measures_and_concepts = zip(my_measures, my_concepts)\n",
    "\n",
    "for each in my_measures_and_concepts:\n",
    "    print(f'{each[0]} : {each[1]}')\n",
    "    print('')"
   ]
  }
 ]
}