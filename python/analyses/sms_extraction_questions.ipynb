{
 "metadata": {
  "language_info": {
   "codemirror_mode": {
    "name": "ipython",
    "version": 3
   },
   "file_extension": ".py",
   "mimetype": "text/x-python",
   "name": "python",
   "nbconvert_exporter": "python",
   "pygments_lexer": "ipython3",
   "version": "3.6.3-final"
  },
  "orig_nbformat": 2,
  "kernelspec": {
   "name": "python3",
   "display_name": "Python 3",
   "language": "python"
  }
 },
 "nbformat": 4,
 "nbformat_minor": 2,
 "cells": [
  {
   "cell_type": "code",
   "execution_count": 2,
   "metadata": {},
   "outputs": [],
   "source": [
    "import os\n",
    "import sys\n",
    "nb_dir = os.path.split(os.getcwd())[0]\n",
    "if nb_dir not in sys.path:\n",
    "    sys.path.append(nb_dir)\n",
    "\n",
    "import pandas as pd\n",
    "import util.utilities as util\n",
    "from collections import Counter\n",
    "import numpy as np"
   ]
  },
  {
   "cell_type": "code",
   "execution_count": 3,
   "metadata": {},
   "outputs": [],
   "source": [
    "df_sms_extraction = pd.read_excel('../../dataset/Extraction_form_basic.xlsx')\n",
    "df_sms_extraction = df_sms_extraction.replace(np.nan, '', regex=True)"
   ]
  },
  {
   "source": [
    "# Q1 Type of ATD"
   ],
   "cell_type": "markdown",
   "metadata": {}
  },
  {
   "cell_type": "code",
   "execution_count": 4,
   "metadata": {},
   "outputs": [
    {
     "output_type": "execute_result",
     "data": {
      "text/plain": [
       "[('', 12),\n",
       " ('Architectural compliance issues', 8),\n",
       " ('Architecture Smells', 8),\n",
       " ('System-level structure quality issues', 7),\n",
       " ('Other', 6),\n",
       " ('Complex architectural behavioral dependencies', 3),\n",
       " ('Violations of good architectural practices', 2)]"
      ]
     },
     "metadata": {},
     "execution_count": 4
    }
   ],
   "source": [
    "dict_q1 = {}\n",
    "for item in zip( list(df_sms_extraction['Paper Id']), list(df_sms_extraction['Q1 Type of ATD (Based on Li et al 2015)']) ):\n",
    "    id = item[0]\n",
    "    if (item[1] != ''):\n",
    "        q1 = str(item[1])\n",
    "        q1 = ' '.join(q1.split())\n",
    "        dict_q1[id] = q1.lower()\n",
    "    \n",
    "list_of_q1 = []\n",
    "for item in list(df_sms_extraction['Q1 Type of ATD (Based on Li et al 2015)']): \n",
    "    item = ' '.join(item.split())\n",
    "    list_of_q1.append(item)\n",
    "list_of_q1.sort()\n",
    "\n",
    "list_of_most_common_q1 = Counter(list_of_q1).most_common()\n",
    "list_of_most_common_q1"
   ]
  },
  {
   "source": [
    "# Q2 (Measure) yes - what?"
   ],
   "cell_type": "markdown",
   "metadata": {}
  },
  {
   "cell_type": "code",
   "execution_count": 5,
   "metadata": {},
   "outputs": [
    {
     "output_type": "execute_result",
     "data": {
      "text/plain": [
       "{1: 'rebel focuses on finding atd items at architecture level only (documents), measuring the impact of its repayment strategy based on architecture decisions and allowing the debt to be anticipated or corrected before the implementation process begins.',\n",
       " 2: 'complexity measures of files',\n",
       " 3: 'it was defined a formula to calculate atd index and architectural smell impact score.',\n",
       " 4: 'architectural root',\n",
       " 5: 'in this study we measured architecture debt in two ways: 1) in terms of system-wide coupling measures, and 2) in terms of the number and severity of architecture flaws.',\n",
       " 7: 'hotspot. calculate a hotspot to detect problematic files and architecture debts, in terms of timelines and efficiency',\n",
       " 9: 'index of package changing impact (ipci), index of package goal focus (ipgf), average number of modified components per commit (anmcc)',\n",
       " 10: 'principal and interest of atd. there is a set of pre-defined atd based on a set of previously analyzed cases. these set of atd is used the identify atd based on software architect.',\n",
       " 13: 'it was created a specific concept about archdebt that derives a set of formulas. it is described in terms of group of files.',\n",
       " 14: 'android atd hotspots, i.e. a set of files.',\n",
       " 15: 'compliance checking',\n",
       " 16: 'contagious debt',\n",
       " 17: 'no',\n",
       " 21: 'atd itens based on templated suggested by authors .',\n",
       " 22: 'the authors proposed a crisis point based on atd accumulation from itens collected using atd taxonomy.',\n",
       " 27: 'it is calculated the effort of modularization in files that was not modularized.',\n",
       " 30: 'yes',\n",
       " 38: 'architectural root',\n",
       " 48: 'hotspot. calculate a hotspot to detect problematic files and architecture debts, in terms of timelines and efficiency.',\n",
       " 47: 'no',\n",
       " 20: 'it was defined a sna (socia network analysis) metric to identify the architectural smells.',\n",
       " 33: 'atd based in software architecture estimation in hours',\n",
       " 26: 'no',\n",
       " 28: 'package modularity via sonarqube using td index from cohesion and coupling.',\n",
       " 31: 'misplaced lc interest based on scale of weight proposed by the authors.',\n",
       " 44: 'no',\n",
       " 43: 'complexity, coupling and cyclical dependencies using dsm (dependent structure matrix). the time spends on maintenance.',\n",
       " 51: 'architecture smells',\n",
       " 52: 'architecture smells',\n",
       " 63: 'we study architecture evolution by identifying the major design decisions that were introduced along a number of the most significant releases (see section 4). such design decisions are mainly: (a) architecture components, including their interfaces, such as the kernel, shells, and libraries; (b) architecture connectors such as pipes and c header files; (c) architecture patterns [71] that were applied in the system, such as layering and reflection; and (d) the princi- ples that guide the system architecture, such as modularity and separation of concerns. a quantitative point of view. specifically we look at how metrics of size and complexity evolve over time; these metrics concern system features (e.g. number of user commands or system calls), as determined by the unix reference documentation',\n",
       " 73: 'security td using a catalog of security issues provided by cwe (common weakness enumeration)',\n",
       " 69: 'no',\n",
       " 67: 'no',\n",
       " 66: 'no',\n",
       " 96: 'no',\n",
       " 35: 'yes',\n",
       " 24: 'architectural root',\n",
       " 77: 'no',\n",
       " 78: 'no',\n",
       " 81: 'yes, it was meausre a number of detected violations based on qualite attributes (performance, robustness, security transferabililty, changeability)',\n",
       " 85: 'security td',\n",
       " 88: 'scalability through estamating impact in the subsystems',\n",
       " 90: 'no',\n",
       " 91: 'the perception of: maintainability test coverage cyclomatic complexity clone coverage coupling metrics architectural violation',\n",
       " 97: 'no',\n",
       " 40: 'archtecture social debt, architecture incommunicability'}"
      ]
     },
     "metadata": {},
     "execution_count": 5
    }
   ],
   "source": [
    "dict_q2 = {}\n",
    "for item in zip( list(df_sms_extraction['Paper Id']), list(df_sms_extraction['Q2(Measure)']) ):\n",
    "    id = item[0]\n",
    "    if (item[1] != ''):\n",
    "        q2 = str(item[1])\n",
    "        q2 = ' '.join(q2.split())\n",
    "        dict_q2[id] = q2.lower()\n",
    "dict_q2"
   ]
  },
  {
   "cell_type": "code",
   "execution_count": 6,
   "metadata": {},
   "outputs": [],
   "source": [
    "# RQ2 - measurement of ATD - The measure of ATD is defined as the amount of identified ATD item\n",
    "grouped_by_measurement = [(1, 'amount of software architecture rules violated in documents'), \n",
    "(2, 'amount of complexity measures of files'), \n",
    "(3, 'amount of architecture smells in components'), \n",
    "(4, 'amount of architecture root in source code'),\n",
    "(5, 'coupling of files and architecture smells'),\n",
    "(7, 'amount of hotspots'),\n",
    "(9, 'modularity metrics of files'),\n",
    "(10, 'amount of software architecture rules violated in documents and source code'), \n",
    "(13, 'amount of architecture smells in components'),\n",
    "(14, 'amount of hotspots'),\n",
    "(15, 'amount of software architecture rules violated in source code'),\n",
    "(16, 'amount of contagious debt'),\n",
    "(21, 'amount of software architecture rules violated in documents'),\n",
    "(22, 'index of crisis point'),\n",
    "(27, 'modularity metrics of files'), \n",
    "(30, 'amount of architecture smells in components'),\n",
    "(38, 'amount of architecture root and index of Decoupling Level'),\n",
    "(48, 'amount of hotspots'),\n",
    "(20, 'amount of architecture smells'),\n",
    "(33, 'amount of software architecture rules violated in documents and source code'),\n",
    "(28, 'modularity metrics'),\n",
    "(31, 'dependency of components'),\n",
    "(43, 'amount of complexity measures of files'), \n",
    "(51, 'amount of architecture smells in components'),\n",
    "(52, 'amount of architecture smells in components'),\n",
    "(63, 'other'),\n",
    "(73, 'amount of software architecture rules violated in documents and source code'),\n",
    "(35, 'index of crisis point'),\n",
    "(24, 'architectural root'),\n",
    "(81, 'amount of software architecture rules violated in source code'),\n",
    "(85, 'amount of software architecture rules violated in source code'),\n",
    "(88, 'amount of software architecture rules violated in source code'),\n",
    "(40, 'amount of software architecture rules violated in documentation')]\n"
   ]
  },
  {
   "cell_type": "code",
   "execution_count": 7,
   "metadata": {},
   "outputs": [
    {
     "output_type": "execute_result",
     "data": {
      "text/plain": [
       "[('amount of architecture smells in components', 5),\n",
       " ('amount of software architecture rules violated in source code', 4),\n",
       " ('amount of hotspots', 3),\n",
       " ('amount of software architecture rules violated in documents and source code',\n",
       "  3),\n",
       " ('amount of software architecture rules violated in documents', 2),\n",
       " ('amount of complexity measures of files', 2),\n",
       " ('modularity metrics of files', 2),\n",
       " ('index of crisis point', 2),\n",
       " ('amount of architecture root in source code', 1),\n",
       " ('coupling of files and architecture smells', 1),\n",
       " ('amount of contagious debt', 1),\n",
       " ('amount of architecture root and index of Decoupling Level', 1),\n",
       " ('amount of architecture smells', 1),\n",
       " ('modularity metrics', 1),\n",
       " ('dependency of components', 1),\n",
       " ('other', 1),\n",
       " ('architectural root', 1),\n",
       " ('amount of software architecture rules violated in documentation', 1)]"
      ]
     },
     "metadata": {},
     "execution_count": 7
    }
   ],
   "source": [
    "list_by_measurement = []\n",
    "for each in grouped_by_measurement: \n",
    "    list_by_measurement.append(each[1])\n",
    "\n",
    "list_by_measurement = Counter(list_by_measurement).most_common()\n",
    "list_by_measurement"
   ]
  },
  {
   "cell_type": "code",
   "execution_count": 8,
   "metadata": {},
   "outputs": [
    {
     "output_type": "stream",
     "name": "stderr",
     "text": [
      "/Library/Frameworks/Python.framework/Versions/3.6/lib/python3.6/site-packages/pandas/core/indexing.py:190: SettingWithCopyWarning: \nA value is trying to be set on a copy of a slice from a DataFrame\n\nSee the caveats in the documentation: http://pandas.pydata.org/pandas-docs/stable/indexing.html#indexing-view-versus-copy\n  self._setitem_with_indexer(indexer, value)\n"
     ]
    }
   ],
   "source": [
    "# Add new column grouped_by_measurement\n",
    "df_sms_extraction['grouped_by_measurement'] = None\n",
    "\n",
    "for each in grouped_by_measurement:\n",
    "    j = 0\n",
    "    for item in df_sms_extraction['Paper Id']:\n",
    "        if each[0] == item: \n",
    "            df_sms_extraction['grouped_by_measurement'].iloc[j] = each[1]\n",
    "        j = j + 1\n",
    "\n"
   ]
  },
  {
   "cell_type": "code",
   "execution_count": 9,
   "metadata": {},
   "outputs": [
    {
     "output_type": "execute_result",
     "data": {
      "text/plain": [
       "0     amount of software architecture rules violated...\n",
       "1                amount of complexity measures of files\n",
       "2           amount of architecture smells in components\n",
       "3            amount of architecture root in source code\n",
       "4             coupling of files and architecture smells\n",
       "5                                    amount of hotspots\n",
       "6                           modularity metrics of files\n",
       "7     amount of software architecture rules violated...\n",
       "8           amount of architecture smells in components\n",
       "9                                    amount of hotspots\n",
       "10    amount of software architecture rules violated...\n",
       "11                            amount of contagious debt\n",
       "12                                                 None\n",
       "13    amount of software architecture rules violated...\n",
       "14                                index of crisis point\n",
       "15                          modularity metrics of files\n",
       "16          amount of architecture smells in components\n",
       "17    amount of architecture root and index of Decou...\n",
       "18                                   amount of hotspots\n",
       "19                                                 None\n",
       "20                        amount of architecture smells\n",
       "21    amount of software architecture rules violated...\n",
       "22                                                 None\n",
       "23                                   modularity metrics\n",
       "24                             dependency of components\n",
       "25                                                 None\n",
       "26               amount of complexity measures of files\n",
       "27          amount of architecture smells in components\n",
       "28          amount of architecture smells in components\n",
       "29                                                other\n",
       "30    amount of software architecture rules violated...\n",
       "31                                                 None\n",
       "32                                                 None\n",
       "33                                                 None\n",
       "34                                                 None\n",
       "35                                index of crisis point\n",
       "36                                   architectural root\n",
       "37                                                 None\n",
       "38                                                 None\n",
       "39    amount of software architecture rules violated...\n",
       "40    amount of software architecture rules violated...\n",
       "41    amount of software architecture rules violated...\n",
       "42                                                 None\n",
       "43                                                 None\n",
       "44                                                 None\n",
       "45    amount of software architecture rules violated...\n",
       "Name: grouped_by_measurement, dtype: object"
      ]
     },
     "metadata": {},
     "execution_count": 9
    }
   ],
   "source": [
    "df_sms_extraction['grouped_by_measurement']"
   ]
  },
  {
   "source": [
    "# Q3 (Monitoring) yes - how?                  "
   ],
   "cell_type": "markdown",
   "metadata": {}
  },
  {
   "cell_type": "code",
   "execution_count": 10,
   "metadata": {},
   "outputs": [
    {
     "output_type": "execute_result",
     "data": {
      "text/plain": [
       "{1: 'the method performed a monitoring process for each release planning evaluated during the case study.',\n",
       " 2: 'the framework performed a monitoring process for each release version evaluated during the case study.',\n",
       " 3: 'the method performed a monitoring for each version analysed during the study.',\n",
       " 4: 'the case study performed a set of evaluations of revision history during the study.',\n",
       " 5: 'yes, during two years the releases were monitored to check the benefits of refactoring software architecture',\n",
       " 7: 'the authors monitored the evolution of hostspot during the period of study comparing the revision history and issue tracker to detect problematic files.',\n",
       " 9: 'the authors monitored the evolution of indexes during the period of study comparing the revision history of the source code of each release of a selected oss project.',\n",
       " 10: 'the principal and interest is analysed by software architects and project managers for each release.',\n",
       " 13: 'it was monitored the evolution of archdebts through releases that are evaluated.',\n",
       " 14: 'no',\n",
       " 15: 'issue management workflow',\n",
       " 16: 'yes, after each release using a proprietary method. the interest is monitored by analysing each atd class defined in proprietary taxynomy. these factors can be proactively monitored to strategically refactor the atd, before it becomes too costly to be repaid.',\n",
       " 17: 'no',\n",
       " 21: 'the approach is performed for each release using expert evaluation (software architect from project evaluated)',\n",
       " 22: 'the atd items are monitored during releaase planing via expert evaluation that use the atd taxonomy.',\n",
       " 27: 'it was applied the framework for each release evaluated. it is a manual process that there is no tool to support this.',\n",
       " 30: 'yes, after each release using a proprietary method.',\n",
       " 38: 'tracking architecture roots, architecutre flaws and decopling level for each version analysed by titan tool',\n",
       " 48: 'the approach of drspace is performed for each release analysed by software architecture to verify and confirm the architecture debt and effort is calculated in person per month.',\n",
       " 47: 'no',\n",
       " 20: 'yes, after each release using a proprietary method.',\n",
       " 33: 'yes, after each release using a proprietary method.',\n",
       " 26: 'no',\n",
       " 28: 'no',\n",
       " 31: 'for each architecture planning to create or maintain the lc (logical components)',\n",
       " 44: 'no',\n",
       " 43: 'no',\n",
       " 51: 'for each release evaluated via astracker where tracks smell instances in the projects history.',\n",
       " 52: 'no',\n",
       " 63: 'yes, after each release using a proprietary method.',\n",
       " 73: 'no',\n",
       " 69: 'no',\n",
       " 67: 'no',\n",
       " 66: 'no',\n",
       " 96: 'no',\n",
       " 35: 'yes',\n",
       " 24: 'yes, after each release using a proprietary method.',\n",
       " 77: 'no',\n",
       " 78: 'no',\n",
       " 81: 'no',\n",
       " 85: 'no',\n",
       " 88: 'no',\n",
       " 90: 'no',\n",
       " 91: 'no',\n",
       " 97: 'no',\n",
       " 40: 'no'}"
      ]
     },
     "metadata": {},
     "execution_count": 10
    }
   ],
   "source": [
    "dict_q3 = {}\n",
    "for item in zip( list(df_sms_extraction['Paper Id']), list(df_sms_extraction['Q3(Monitoring)']) ):\n",
    "    id = item[0]\n",
    "    if (item[1] != ''):\n",
    "        q3 = str(item[1])\n",
    "        q3 = ' '.join(q3.split())\n",
    "        dict_q3[id] = q3.lower()\n",
    "dict_q3"
   ]
  },
  {
   "source": [
    "# Q4 (Techniques and Tools) yes - what?        "
   ],
   "cell_type": "markdown",
   "metadata": {}
  },
  {
   "cell_type": "code",
   "execution_count": 11,
   "metadata": {},
   "outputs": [
    {
     "output_type": "execute_result",
     "data": {
      "text/plain": [
       "{1: 'general:\"model-driven architecture approach, natural language processing, machine learning, heterogeneous artefacts\" # approuch:\"rebel focuses on finding atd items at architecture level only, measuring the impact of its repayment strategy based on architecture decisions and allowing the debt to be anticipated or corrected before the implementation process begins # tools:\"rebel\"',\n",
       " 2: 'general:\"specialist technical evaluation, modularity, measurement system, complexity, cohesion, coupling, code churn, source code, revision history\" # approuch:\"own technique to identify, measure and calculate the atd\" # tools:\"own\"',\n",
       " 3: 'general:\"architecture smells, modularity\" # approuch:\"unstable dependency, hub-like dependency, cyclic dependency, implicit cross package dependency, \" # tools:\"arcan, sonarqube, apache commons bcel, hellow2morrow\"',\n",
       " 4: 'general:\"architectural root, source code, revision history, design structure matrix, code churn, change frequency, architectural smells, modularity\" # approuch:\"unstable interface, implicit cross-module dependency, unhealthy inheritance hierarchy, clique, package cicle\" # tools:\"archdia\"',\n",
       " 5: 'general:\"maintainability, architecture flaws, architecture roots, decoupling level, propagation cost, architectural smells, design structure matrix, drspace, code churn\" # approuch:\"clique, package cycle, modularity violation, crossing, unstable interface\" # tools:\"dv8\"',\n",
       " 7: 'general:\"source code, revision history, hotspot, propagation patterns, issue tracking\" # approuch:\"change-prone, bug-prone, early detection architectural problems\" # tools:\" understand , simian, dv8 \"',\n",
       " 9: 'general:\"modularity, average number of modified components per commit, anmcc, index of package changing impact, ipci, index of package goal focus, ipgf, source code, revistion history, \" # approuch:\"modularity metrics, spearman’s correlation tests\" # tools:\"no\"',\n",
       " 10: 'general:\"source code, software architecture documentation, business documentation, revision history, release plan\" # approuch:\"framework anacondebt, catalog, taxonomy\" # tools:\"owner formulas\"',\n",
       " 13: 'general:\"design rules spaces, design structure matrix, architecture issues, architectural smells, hotsport pattern, unstable interface, modularity violation, unhealthy inheritance, cyclic dependency, drspace, source code, revision history, bug track, modularity violation, code churn, debt churn\" # approuch:\"archdebt framework, history coupling probability (hcp) matrix, ranking: identify high-maintenance archdebt, architechtural debt evolution\" # tools:\"titan, understand\"',\n",
       " 14: 'general:\"architecture description language, adl, objet constraint language, atd hotsports\" # approuch:\"android architecture guideline extraction, android reference architecture establishment, reverse engineering of implemented architecture, compliance checking, quantitative assessment of compliance violations\" # tools:\"acme-generator tool\"',\n",
       " 15: 'general:\"architecture dsl, architecture violation, package analysis, source code\" # approuch:\"architecture violation\" # tools:\"sonargraph\"',\n",
       " 16: 'general: \"it was created a taxonomy about atd itens to identify atd contagius debt\"#approuch: \"\"#tools:\"\"',\n",
       " 17: 'general:\"tool evaluation, package evaluation, architectural smells, code smells, technical debt index, architectural violation, cyclic packages, technical debt ratio, cycles, cyclic dependencies, unstable dependencies\" # approuch:\"analys of open source project\" # tools:\"sonargraph, sonarqube,fusion\"',\n",
       " 21: 'general:\"software architectural documentation, architecture decision, quality attributes, atd item, atd list, change scenario, architecture decision template, architecture diagram, specialist analysis, revision history, release plan\" # approuch:\"atd identification based on change scenarios\" # tools:\"no\"',\n",
       " 22: 'general:\"agile software development, taxonomy of atd, refactoring, source code, business factory, architecture documentation, human factor, \" # approuch:\"taxonomy of atd, framework to identify atd, specialist analysis\" # tools:\"no\"',\n",
       " 27: 'general:\"modularization, code churn, source code, revision history, complexity, refactoring, specialist analysis, files, components\" # approuch:\"method to select critcial files to refactoring\" # tools:\"owner formula\"',\n",
       " 30: 'arcan, architecture smell',\n",
       " 38: 'titan, architecture smells, decopling level, drspace, propagation cost, dsm',\n",
       " 48: 'general:\"hotspot, refactoring, source code, revision history, architectural issue, issue tracker, issue list, file dependencies, specialist evaluation, business cases, unstable interface, implicit cross-module dependency, modularity violations, unhealthy inheritance hierarchy\" # approuch:\"drspace, design ruel hierarchy, design structure matrix, architecture roots\" # tools:\"titan, sonarqube, understand, jira, git\"',\n",
       " 47: 'general:\"rank of priorization, refactoring, catalog of atd effects, taxonomy of atd, contagious atd, code change, code churn, complexity, issue tracker\" # approuch:\"multiple case study\" # tools:\"questionaries\"',\n",
       " 20: 'general:\"architectural smells, social network, maintainability,social network analysis, link prediction, source code, revision history, dependency prediction, time series, cycle, hub-like, unstable dependency, ranking-based link prediction, machine learning prediction\" # approuch:\"machine learning, prediction of architectural smells, dependency graph representation, predictive approach\" # tools:\"dependency-analyser, owner tool, weka\"',\n",
       " 33: 'general:\"specialist evaluation, package, release plan, dependency analysis, dsm, implementation cost, propagation cost, rework cost, use cases, refactoring, re-architecting, person effort, modularity metrics, change propagation metric\" # approuch:\"owner formulas, design structure matrix\" # tools:\"owner tool\"',\n",
       " 26: 'no',\n",
       " 28: 'general:\"modularity, package dependencies, design flaws, package cohesion, package coupling, source code, revision history, average coupling afferent, total coupling intensity between packages, cohesion among package classes\" # approuch:\"correlation analysis\" # tools:\"sonarqube\"',\n",
       " 31: 'general:\"maintainability, performance, visualization of atd, logical view, design view, deployment, efficiency, component communication, component dependencies, eletronic control unit, automotive domain\" # approuch:\"semi-structured interview, cost of component communcation, owner formulas, treemap\" # tools:\"owner tool to visualize dependency among components\"',\n",
       " 44: 'general:\"architecture smells, design metrics, code metrics, architecture violations, resolution cost, keeping cost, unity measure (money, time, rank, loc)\" # approuch:\"tools evaluation\" # tools:\"cast , infusion, sonargraph, sonarqube structure101\"',\n",
       " 43: 'general:\"complexity, modularity, maintanance cost, refactoring, coupling, cohesion, dependencies between components, dsm, source code, issue track, bug tracking, defect-related activity, file changes, specialist evaluation, refactoring, design decisions, code churn, cicly dependencies\" # approuch:\"design structure matrices\" # tools:\"owner tool\"',\n",
       " 51: 'general:\"architectural smells, refactoring, hublike dependency, cyclic dependency, complexity, unstable dependency, source code, revision history, package analysis, jaccard similarity index\" # approuch:\"refactoring prioritisation, goal-question-metric, analysis using qualitas corpus, trend evolution classification templates, correlation analysis\" # tools:\"arcan, astracker, graphml\"',\n",
       " 52: 'no',\n",
       " 63: 'analysis of unix documentation, analysis of repository of unix history, souce code analysis, measure complexity, calculate cyclomatic complexity, component level, constant comparison, another major force that has been driving the software architecture is portability.',\n",
       " 73: 'general:\"quality assurance, security, common weakness scoring system, common vulerability scoring system, quamoco, iso 25010, source code, catalog of flaws, specialist evaluation\" # approuch:\"pilot study, priorization securty framework, common architectural weakness enumeration\" # tools:\"owner score formula, fxcorp\"',\n",
       " 69: 'no',\n",
       " 67: 'general:\"lifetime components, embeded systems, quality attributes, maintainability, reliability, source code, revision history, specialist evaluation, performance, functionality, compatibility, portability, software-intensive domains, long lifetime, test td, code td, architecture td, documentation td\" # approuch:\"gqm, questionaries, interview\" # tools:\"no\"',\n",
       " 66: 'no',\n",
       " 96: 'no',\n",
       " 35: 'taxonomy of atd',\n",
       " 24: 'drspace, architectural root, architecture smell, dsm, drh, coupling, latix, source code analysis',\n",
       " 77: 'no',\n",
       " 78: 'general:\"architectural complexity, propagation cost, complexity metrics, design structure matrix, treemap, source code, coupling, coupling between objects, reliability, maintainability, static code analysis, architectural metrics, core size, dsm\" # approuch:\"plugin to collect information\" # tools:\"owner plugin, understand\"',\n",
       " 81: 'general:\"language parse, meta-model, catalogs of rules, application analysis, detected violations, quality attributes, performance, robustness, security, changeability, transferability, source code, revion history, business risk, \" # approuch:\"detected violation, owner formula\" # tools:\"cast, owner formula\"',\n",
       " 85: 'not applicable',\n",
       " 88: 'general:\"scalability, quality metrics, scalability triage, affected subsystems, estimating impact, specialist evaluation, performance, software architecture documentation, open systems\" # approuch:\"lightweight approuch to identify scalability debt\" # tools:\"no\"',\n",
       " 90: 'general:\"self-admitted technical debt, architecture recovery, component dependencies, software architecture documentation, source code, architecture violation, reverse engineering, architectural divergences, depencencies per component\" # approuch:\"framework to recover the architecture\" # tools:\"owner tool\"',\n",
       " 91: 'general:\"maintainability, microservices,test coverage, cyclomatic complexity, clone coverage, coupling metrics, architectural violation, outated documentation, inadequate testing, architectural erosion, problematic dependencies, complex components, large components, duplicate code, outdated libraries, quality atributes\" # approuch:\"survey\" # tools:\"sonarqube, findbugs, self-made tool, checkstyle, pmd, jmetrics, lattix, cast, codecov, error prone\"',\n",
       " 97: 'no',\n",
       " 40: 'not applicable because it is a framework that creates a graph with socialtechnical network extracted from each architecture decision'}"
      ]
     },
     "metadata": {},
     "execution_count": 11
    }
   ],
   "source": [
    "dict_q4 = {}\n",
    "for item in zip( list(df_sms_extraction['Paper Id']), list(df_sms_extraction['Q4(Techniques and tools)']) ):\n",
    "    id = item[0]\n",
    "    if (item[1] != ''):\n",
    "        q4 = str(item[1])\n",
    "        q4 = ' '.join(q4.split())\n",
    "        dict_q4[id] = q4.lower()\n",
    "dict_q4"
   ]
  },
  {
   "cell_type": "code",
   "execution_count": 12,
   "metadata": {
    "tags": []
   },
   "outputs": [
    {
     "output_type": "stream",
     "name": "stdout",
     "text": [
      "List of techniques: \n['', '', '', ' \"It was created a taxonomy about ATD itens to identify ATD Contagius debt\"', 'ADL', 'ANMCC', 'ARCHITECTURE DSL', 'ATD Hotsports', 'ATD Item', 'ATD list', 'Agile Software Development', 'Another major force that has been driving the software architecture is portability.', 'Arcan', 'Architectural Root', 'Architectural Smells', 'Architectural Smells', 'Architectural Violation', 'Architectural Violation', 'Architecture Description Language', 'Architecture Issues', 'Architecture Smell', 'Architecture Smell', 'Architecture Smells', 'Architecture TD', 'Architecture Violations', 'Architecture violation', 'Automotive Domain', 'Average Coupling Afferent', 'Change scenario', 'Clone coverage', 'Code Metrics', 'Code TD', 'Cohesion among Package Classes', 'Common Vulerability Scoring System', 'Common Weakness Scoring System', 'Constant Comparison', 'Contagious ATD', 'Coupling', 'Coupling metrics', 'Cyclic dependency', 'Cyclomatic complexity', 'DRH', 'DRSpace', 'DRSpace', 'DRSpace', 'DRSpace', 'DSM', 'DSM', 'DSM', 'DSM', 'DSM', 'Decopling Level', 'Design Metrics', 'Design Rules Spaces', 'Design Structure Matrix', 'Design Structure Matrix', 'Design Structure Matrix', 'Design Structure Matrix', 'Documentation TD', 'Eletronic Control Unit', 'Heterogeneous artefacts', 'Hotsport pattern', 'Hublike dependency', 'IPCI', 'IPGF', 'ISO 25010', 'Implicit Cross-module Dependency', 'Inadequate testing', 'Jaccard similarity index', 'Keeping cost', 'Machine Learning', 'Model-Driven Architecture Approach', 'Natural Language Processing', 'No', 'No', 'No', 'No', 'No', 'No', 'No', 'Not Applicable because it is a framework that creates a graph with socialtechnical network extracted from each architecture decision', 'Not applicable', 'Objet Constraint Language', 'Outated documentation', 'Propagation Cost', 'Quamoco', 'Rank of Priorization', 'Resolution cost', 'Self-admitted Technical Debt', 'Social Network', 'Social Network Analysis', 'Taxonomy of ATD', 'Taxonomy of ATD', 'Taxonomy of ATD', 'Technical Debt Index', 'Technical Debt ratio', 'Test TD', 'Test coverage', 'Titan', 'Total Coupling Intensity between Packages', 'Treemap', 'Unhealthy Inheritance Hierarchy', 'Unstable Interface', 'Unstable dependencies', 'Unstable dependency', 'affected subsystems', 'analysis of repository of unix history', 'analysis of unix documentation', 'application analysis', 'architectural complexity', 'architectural divergences', 'architectural erosion', 'architectural issue', 'architectural metrics', 'architectural root', 'architectural smells', 'architectural smells', 'architectural smells', 'architectural smells', 'architecture decision', 'architecture decision template', 'architecture diagram', 'architecture documentation', 'architecture flaws', 'architecture recovery', 'architecture roots', 'architecture smells', 'architecture smells', 'architecture violation', 'average number of modified components per commit', 'bug track', 'bug tracking', 'business cases', 'business documentation', 'business factory', 'business risk', 'calculate cyclomatic complexity', 'catalog of ATD Effects', 'catalog of flaws', 'catalogs of rules', 'change frequency', 'change propagation metric', 'changeability', 'cicly dependencies', 'code change', 'code churn', 'code churn', 'code churn', 'code churn', 'code churn', 'code churn', 'code churn', 'code smells', 'cohesion', 'cohesion', 'compatibility', 'complex components', 'complexity', 'complexity', 'complexity', 'complexity', 'complexity', 'complexity metrics', 'component communication', 'component dependencies', 'component dependencies', 'component level', 'components', 'core size', 'coupling', 'coupling', 'coupling', 'coupling between objects', 'cycle', 'cycles', 'cyclic dependencies', 'cyclic dependency', 'cyclic packages', 'debt churn', 'decoupling level', 'defect-related activity', 'depencencies per component', 'dependencies between components', 'dependency analysis', 'dependency prediction', 'deployment', 'design decisions', 'design flaws', 'design view', 'detected violations', 'duplicate code', 'efficiency', 'embeded systems', 'estimating impact', 'file changes', 'file dependencies', 'files', 'functionality', 'hotspot', 'hotspot', 'hub-like', 'human factor', 'implementation cost', 'index of package changing impact', 'index of package goal focus', 'issue list', 'issue track', 'issue tracker', 'issue tracker', 'issue tracking', 'language parse', 'large components', 'latix', 'lifetime components', 'link prediction', 'loc)', 'logical view', 'long lifetime', 'machine learning prediction', 'maintainability', 'maintainability', 'maintainability', 'maintainability', 'maintainability', 'maintainability', 'maintanance cost', 'measure complexity', 'measurement system', 'meta-model', 'microservices', 'modularity', 'modularity', 'modularity', 'modularity', 'modularity', 'modularity', 'modularity metrics', 'modularity violation', 'modularity violation', 'modularity violations', 'modularization', 'open systems', 'outdated libraries', 'package', 'package analysis', 'package analysis', 'package cohesion', 'package coupling', 'package dependencies', 'package evaluation', 'performance', 'performance', 'performance', 'performance', 'person effort', 'portability', 'problematic dependencies', 'propagation cost', 'propagation cost', 'propagation cost', 'propagation patterns', 'quality assurance', 'quality atributes', 'quality attributes', 'quality attributes', 'quality attributes', 'quality metrics', 'rank', 'ranking-based link prediction', 're-architecting', 'refactoring', 'refactoring', 'refactoring', 'refactoring', 'refactoring', 'refactoring', 'refactoring', 'refactoring', 'release plan', 'release plan', 'release plan', 'reliability', 'reliability', 'reverse engineering', 'revion history', 'revision history', 'revision history', 'revision history', 'revision history', 'revision history', 'revision history', 'revision history', 'revision history', 'revision history', 'revision history', 'revision history', 'revision history', 'revistion history', 'rework cost', 'robustness', 'scalability', 'scalability triage', 'security', 'security', 'software architectural documentation', 'software architecture documentation', 'software architecture documentation', 'software architecture documentation', 'software-intensive domains', 'souce code analysis', 'source code', 'source code', 'source code', 'source code', 'source code', 'source code', 'source code', 'source code', 'source code', 'source code', 'source code', 'source code', 'source code', 'source code', 'source code', 'source code', 'source code', 'source code', 'source code', 'source code analysis', 'specialist analysis', 'specialist analysis', 'specialist evaluation', 'specialist evaluation', 'specialist evaluation', 'specialist evaluation', 'specialist evaluation', 'specialist evaluation', 'specialist technical evaluation', 'static code analysis', 'time', 'time series', 'tool evaluation', 'transferability', 'unhealthy inheritance', 'unity measure (money', 'unstable dependency', 'unstable interface', 'use cases', 'visualization of ATD']\n\nList of approuches: \n['', ' \"\"', ' \"ATD Identification based on change scenarios\" ', ' \"Architecture Violation\" ', ' \"Correlation analysis\" ', ' \"Tools evaluation\" ', ' \"analys of open source project\" ', ' \"design structure matrices\" ', ' \"framework to recover the architecture\" ', ' \"lightweight approuch to identify scalability debt\" ', ' \"method to select critcial files to refactoring\" ', ' \"multiple case study\" ', ' \"plugin to collect information\" ', ' \"survey\" ', 'Android architecture guideline extraction', 'Android reference architecture establishment', 'ArchDebt framework', 'Architecture Roots', 'CORRELATION ANALYSIS', 'Clique', 'Common Architectural Weakness Enumeration', 'Compliance checking', 'Cyclic Dependency', 'DRSpace', 'Dependency Graph Representation', 'Design Ruel Hierarchy', 'Design Structure Matrix', 'Detected Violation', 'GQM', 'Goal-Question-Metric', 'Hub-Like Dependency', 'Implicit Cross Package Dependency', 'Implicit Cross-module Dependency', 'Machine Learning', 'Package cicle', 'Pilot study', 'Quantitative assessment of compliance violations', 'REBEL focuses on finding ATD items at architecture level only', 'Ranking: Identify High-maintenance ArchDebt', 'Reverse engineering of implemented architecture', 'Spearman’s correlation tests', 'Taxonomy of ATD', 'Trend evolution classification templates', 'Unhealthy Inheritance Hierarchy', 'Unstable Dependency', 'Unstable Interface', 'analysis using Qualitas Corpus', 'architechtural debt evolution', 'bug-prone', 'catalog', 'change-prone', 'clique', 'cost of component communcation', 'crossing', 'design structure matrix', 'early detection architectural problems', 'framework AnaConDebt', 'framework to identify ATD', 'history coupling probability (HCP) matrix', 'interview', 'measure and calculate the ATD', 'measuring the impact of its repayment strategy based on architecture decisions and allowing the debt to be anticipated or corrected before the implementation process begins', 'modularity metrics', 'modularity violation', 'own technique to identify', 'owner formula', 'owner formulas', 'owner formulas', 'package cycle', 'prediction of architectural smells', 'predictive approach', 'priorization securty framework', 'questionaries', 'refactoring prioritisation', 'semi-structured interview', 'specialist analysis', 'taxonomy', 'treemap', 'unstable interface']\n\nList of tools: \n[' \"ACME-Generator Tool\"', ' \"ArchDia\"', ' \"DV8\"', ' \"No\"', ' \"Rebel\"', ' \"SonarQube\"', ' \"Sonargraph\"', ' \"no\"', ' \"no\"', ' \"no\"', ' \"no\"', ' \"own\"', ' \"owner formula\"', ' \"owner formulas\"', ' \"owner tool to visualize dependency among components\"', ' \"owner tool\"', ' \"owner tool\"', ' \"owner tool\"', ' \"questionaries\"', ' Understand', '\"\"', 'ASTracker', 'Apache Commons BCEL', 'Arcan', 'Arcan', 'CAST', 'CAST', 'Cast', 'Checkstyle', 'CodeCov', 'DV8', 'Error Prone', 'Findbugs', 'Fusion', 'FxCorp', 'Git', 'GraphML', 'InFusion', 'Jira', 'Jmetrics', 'Lattix', 'PMD', 'Self-made tool', 'Simian', 'SonarGraph', 'SonarQube', 'SonarQube', 'SonarQube', 'SonarQube Structure101', 'Sonargraph', 'Sonarqube', 'Titan', 'Understand', 'Understand', 'dependency-analyser', 'hellow2morrow', 'owner formula', 'owner plugin', 'owner score formula', 'owner tool', 'titan', 'understand', 'weka']\n"
     ]
    }
   ],
   "source": [
    "list_of_tat, list_of_techniques, list_of_approaches, list_of_tools = util.extract_techniques_approuches_tools(df_sms_extraction, column_name=\"Q4(Techniques and tools)\")\n",
    "\n",
    "print(\"List of techniques: \")\n",
    "list_of_techniques.sort()\n",
    "print(list_of_techniques)\n",
    "print()\n",
    "\n",
    "print(\"List of approuches: \")\n",
    "list_of_approaches.sort()\n",
    "print(list_of_approaches)\n",
    "print()\n",
    "\n",
    "print(\"List of tools: \")\n",
    "list_of_tools.sort()\n",
    "print(list_of_tools)"
   ]
  },
  {
   "source": [
    "# Q5 (Calculate the cost) yes - how?          "
   ],
   "cell_type": "markdown",
   "metadata": {}
  },
  {
   "cell_type": "code",
   "execution_count": 14,
   "metadata": {},
   "outputs": [
    {
     "output_type": "execute_result",
     "data": {
      "text/plain": [
       "{1: 'yes. the amount of architectural decisions impacted by the atd item is 3. this way, impact = 3 * 5 * (3*3) = 135. if our atd repayment strategy would not affect other decisions, the impact would be i = 3 * 1 * (1*3) = 9. from these results, software architect understand the impact of a repayment strategy.',\n",
       " 2: 'developer work months (dwm). dwm is defined in this study as the amount of effort one developer generates each month. man-hours',\n",
       " 3: 'no',\n",
       " 4: 'the method proposed can calculate the expected effort spent on the amount of files in detected architecture roots during the analysed cycle in x staff-days to fix the atd items identified.',\n",
       " 5: 'the method proposed check the time effort refactoring to fix the atd items identified during the case study.',\n",
       " 7: 'no. the method proposed just check if the hotspot is increasing or decreasing and show the problematic files. there is no calculus to fix the atd items.',\n",
       " 9: 'no. the method proposed just calculates the atd indexes but does not calculate the cost to fix it.',\n",
       " 10: 'using particular formulas created by anacondebt framework related to principal and interest to calculate the effort to fix the atd item identified.',\n",
       " 13: 'it was calculated the cost of interest for identifying archdebt using a linear regression model in terms of set of files.',\n",
       " 14: 'no',\n",
       " 15: 'no',\n",
       " 16: \"it is provided by a formula that is a sum of cost atdi estimated by developer's participation.\",\n",
       " 17: 'no',\n",
       " 21: 'for each atd item is calculated principal and interest using person-days as unit to measurement.',\n",
       " 22: 'the authors have been defined a crisis point over the time to calculate the moment to pay the atd.',\n",
       " 27: 'it is used a formula to calculate the effort in time to fix the atd items. the effort use the unit dwm/mounth that means man-hours each month.',\n",
       " 30: 'yes, using a owner formula to calculate the tim effort to fix the architecture smell',\n",
       " 38: 'yes, using a owner formula to calculate the effort to fix the architecture smell',\n",
       " 48: 'the architectural debt was quantified using technical debt calculation framework proposed by authors. the effort about atd is calculated based on number of defects and number of lines of changes. the effort of refactoring and roi (return of investiment is calculate based on pm (person per month) via software architecture and project management of the studied project. thus, it is necessary a specialist analysis to calculate the principal of architectural technical debt.',\n",
       " 47: 'no',\n",
       " 20: 'no',\n",
       " 33: 'the cost to pay atdi is estimated in hours according a formula proposed by authros. the total cost t of release n is a function of the implementation and rework costs, ci and cr : t f(ci,cr)',\n",
       " 26: 'no',\n",
       " 28: 'no',\n",
       " 31: 'misplaced lc interest based on scale of weight proposed by the authors.',\n",
       " 44: 'no',\n",
       " 43: 'the cust was based on the time spends on maintanance record in issue tracker. the authors defined a standard cost of u$ 100 per hour to calculate the cust of activity.',\n",
       " 51: 'no',\n",
       " 52: 'no',\n",
       " 63: 'no',\n",
       " 73: 'principaltd-security = cost of the maintenance and refactoring associated with fixing architectural cwes',\n",
       " 69: 'no',\n",
       " 67: 'no',\n",
       " 66: 'no',\n",
       " 96: 'no',\n",
       " 35: 'yes, using quality model to check increasing or decreasing of atd accumulation',\n",
       " 24: 'yes, using a owner formula to calculate the effort to fix the architecture root',\n",
       " 77: 'no',\n",
       " 78: 'no',\n",
       " 81: 'td-principal = (σ high severity violations) x .5) 1 hr.) x 75$) + (σ medium severity violations) x .25) 1 hr.) x 75$) + (σ low severity violations) x .1) 1 hr.) x 75$)',\n",
       " 85: 'no',\n",
       " 88: 'no',\n",
       " 90: 'no',\n",
       " 91: 'no',\n",
       " 97: 'no',\n",
       " 40: 'yes, using a owner formula to calculate the effort to fix the social smell.'}"
      ]
     },
     "metadata": {},
     "execution_count": 14
    }
   ],
   "source": [
    "dict_q5 = {}\n",
    "for item in zip( list(df_sms_extraction['Paper Id']), list(df_sms_extraction['Q5(calculate the cost)']) ):\n",
    "    id = item[0]\n",
    "    if (item[1] != ''):\n",
    "        q5 = str(item[1])\n",
    "        q5 = ' '.join(q5.split())\n",
    "        dict_q5[id] = q5.lower()\n",
    "dict_q5"
   ]
  },
  {
   "source": [
    "# Q6 - How ATD is management?"
   ],
   "cell_type": "markdown",
   "metadata": {}
  },
  {
   "cell_type": "code",
   "execution_count": 16,
   "metadata": {},
   "outputs": [
    {
     "output_type": "execute_result",
     "data": {
      "text/plain": [
       "{16: 'yes; identify, measure, prioritize, repayment, monitoring',\n",
       " 17: 'no',\n",
       " 30: 'yes; identify, measure, prioritize, repayment, monitoring',\n",
       " 38: 'yes; identify, measure, monitoring',\n",
       " 63: 'the architecture technical debt is systematically paid back despite increasing system size and complexity; identified, repayment, monitored',\n",
       " 35: 'yes; identify, measure, monitoring',\n",
       " 24: 'yes',\n",
       " 85: 'no',\n",
       " 40: 'no'}"
      ]
     },
     "metadata": {},
     "execution_count": 16
    }
   ],
   "source": [
    " dict_q6 = {}\n",
    "for item in zip( list(df_sms_extraction['Paper Id']), list(df_sms_extraction['Q6(How ATD is management?)']) ):\n",
    "    id = item[0]\n",
    "    if (item[1] != ''):\n",
    "        q6 = str(item[1])\n",
    "        q6 = ' '.join(q6.split())\n",
    "        dict_q6[id] = q6.lower()\n",
    "dict_q6"
   ]
  },
  {
   "cell_type": "code",
   "execution_count": 17,
   "metadata": {},
   "outputs": [
    {
     "output_type": "execute_result",
     "data": {
      "text/plain": [
       "37"
      ]
     },
     "metadata": {},
     "execution_count": 17
    }
   ],
   "source": [
    "f_review_q6 = 46 - len(dict_q6)\n",
    "f_review_q6"
   ]
  },
  {
   "source": [
    "# Q7 - Research Type"
   ],
   "cell_type": "markdown",
   "metadata": {}
  },
  {
   "cell_type": "code",
   "execution_count": 21,
   "metadata": {},
   "outputs": [
    {
     "output_type": "execute_result",
     "data": {
      "text/plain": [
       "[('Evaluation research', 21),\n",
       " ('Evaluation research*', 12),\n",
       " ('Other', 6),\n",
       " ('Solution proposal', 4),\n",
       " ('No', 1),\n",
       " ('Philosophycal paper', 1),\n",
       " ('Validation Research', 1)]"
      ]
     },
     "metadata": {},
     "execution_count": 21
    }
   ],
   "source": [
    "dict_q7 = {}\n",
    "for item in zip( list(df_sms_extraction['Paper Id']), list(df_sms_extraction['Q7 Research Type (Evaluation Research, Validation Research, Solution Proposal, Philosophycal paper, Other)']) ):\n",
    "    id = item[0]\n",
    "    if (item[1] != ''):\n",
    "        q7 = str(item[1])\n",
    "        q7 = ' '.join(q7.split())\n",
    "        dict_q7[id] = q7.lower()\n",
    "\n",
    "list_of_q7 = []\n",
    "for item in list(df_sms_extraction['Q7 Research Type (Evaluation Research, Validation Research, Solution Proposal, Philosophycal paper, Other)']): \n",
    "    item = ' '.join(item.split())\n",
    "    list_of_q7.append(item)\n",
    "list_of_q7.sort()\n",
    "\n",
    "list_of_most_common_q7 = Counter(list_of_q7).most_common()\n",
    "list_of_most_common_q7"
   ]
  },
  {
   "cell_type": "code",
   "execution_count": null,
   "metadata": {},
   "outputs": [],
   "source": []
  }
 ]
}