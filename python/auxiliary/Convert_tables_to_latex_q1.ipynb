{
 "metadata": {
  "language_info": {
   "codemirror_mode": {
    "name": "ipython",
    "version": 3
   },
   "file_extension": ".py",
   "mimetype": "text/x-python",
   "name": "python",
   "nbconvert_exporter": "python",
   "pygments_lexer": "ipython3",
   "version": "3.6.3"
  },
  "orig_nbformat": 2,
  "kernelspec": {
   "name": "python363jvsc74a57bd005ece30799c2dcdac4c13b3af20453da19de8df0d9a1de52cff7e0b6e1e82bdd",
   "display_name": "Python 3.6.3 64-bit"
  }
 },
 "nbformat": 4,
 "nbformat_minor": 2,
 "cells": [
  {
   "cell_type": "code",
   "execution_count": 13,
   "metadata": {},
   "outputs": [],
   "source": [
    "import os\n",
    "import sys\n",
    "nb_dir = os.path.split(os.getcwd())[0]\n",
    "if nb_dir not in sys.path:\n",
    "    sys.path.append(nb_dir)\n",
    "\n",
    "import pandas as pd\n",
    "import util.utilities as util\n",
    "from collections import Counter"
   ]
  },
  {
   "cell_type": "code",
   "execution_count": 14,
   "metadata": {},
   "outputs": [],
   "source": [
    "df_sms_extraction = util.load_dataset(my_path='../../dataset/Extraction_form_basic.xlsx')\n",
    "df_sms_extraction = util.add_column_sp(df_sms_extraction)"
   ]
  },
  {
   "cell_type": "code",
   "execution_count": 15,
   "metadata": {},
   "outputs": [
    {
     "output_type": "execute_result",
     "data": {
      "text/plain": [
       "['Architectural compliance issues',\n",
       " 'Architectural compliance issues',\n",
       " 'Architectural compliance issues',\n",
       " 'Architectural compliance issues',\n",
       " 'Architectural compliance issues',\n",
       " 'Architectural compliance issues',\n",
       " 'Architectural compliance issues',\n",
       " 'Architectural compliance issues',\n",
       " 'Architectural compliance issues',\n",
       " 'Architecture Smells',\n",
       " 'Architecture Smells',\n",
       " 'Architecture Smells',\n",
       " 'Architecture Smells',\n",
       " 'Architecture Smells',\n",
       " 'Architecture Smells',\n",
       " 'Architecture Smells',\n",
       " 'Architecture Smells',\n",
       " 'Architecture Smells',\n",
       " 'Architecture Smells',\n",
       " 'Architecture Smells',\n",
       " 'Complex architectural behavioral dependencies',\n",
       " 'Complex architectural behavioral dependencies',\n",
       " 'Complex architectural behavioral dependencies',\n",
       " 'Complex architectural behavioral dependencies',\n",
       " 'Complex architectural behavioral dependencies',\n",
       " 'Complex architectural behavioral dependencies',\n",
       " 'Not specified',\n",
       " 'Not specified',\n",
       " 'Not specified',\n",
       " 'Not specified',\n",
       " 'Not specified',\n",
       " 'Not specified',\n",
       " 'Not specified',\n",
       " 'Not specified',\n",
       " 'Not specified',\n",
       " 'Not specified',\n",
       " 'Not specified',\n",
       " 'Not specified',\n",
       " 'Not specified',\n",
       " 'Not specified',\n",
       " 'System-level structure quality issues',\n",
       " 'System-level structure quality issues',\n",
       " 'System-level structure quality issues',\n",
       " 'System-level structure quality issues',\n",
       " 'System-level structure quality issues',\n",
       " 'System-level structure quality issues',\n",
       " 'System-level structure quality issues',\n",
       " 'System-level structure quality issues',\n",
       " 'System-level structure quality issues',\n",
       " 'System-level structure quality issues',\n",
       " 'System-level structure quality issues',\n",
       " 'System-level structure quality issues',\n",
       " 'System-level structure quality issues',\n",
       " 'System-level structure quality issues',\n",
       " 'Violations of good architectural practices',\n",
       " 'Violations of good architectural practices',\n",
       " 'Violations of good architectural practices']"
      ]
     },
     "metadata": {},
     "execution_count": 15
    }
   ],
   "source": [
    "# 3.2) Q1 (Type of ATD according Li el al. 2015)\n",
    "\n",
    "list_of_q1 = []\n",
    "for item in list(df_sms_extraction['Q1 Type of ATD (Based on Li et al 2015)']): \n",
    "    if not (util.isnan(item)):\n",
    "        item = ' '.join(item.split())\n",
    "        list_of_q1.append(item)\n",
    "list_of_q1.sort()\n",
    "\n",
    "list_of_q1"
   ]
  },
  {
   "cell_type": "code",
   "execution_count": 16,
   "metadata": {},
   "outputs": [
    {
     "output_type": "execute_result",
     "data": {
      "text/plain": [
       "[('Not specified', 14),\n",
       " ('System-level structure quality issues', 14),\n",
       " ('Architecture Smells', 11),\n",
       " ('Architectural compliance issues', 9),\n",
       " ('Complex architectural behavioral dependencies', 6),\n",
       " ('Violations of good architectural practices', 3)]"
      ]
     },
     "metadata": {},
     "execution_count": 16
    }
   ],
   "source": [
    "list_of_most_common_q1 = Counter(list_of_q1).most_common()\n",
    "list_of_most_common_q1"
   ]
  },
  {
   "cell_type": "code",
   "execution_count": 17,
   "metadata": {},
   "outputs": [
    {
     "output_type": "stream",
     "name": "stdout",
     "text": [
      "Arquivo ../../latex/mytable_q1.tex  gerado com sucesso!\nArquivo ../../md/mytable_q1.md  gerado com sucesso!\n"
     ]
    },
    {
     "output_type": "execute_result",
     "data": {
      "text/plain": [
       "                                              q1  count  \\\n",
       "0                                  Not specified     14   \n",
       "1          System-level structure quality issues     14   \n",
       "2                            Architecture Smells     11   \n",
       "3                Architectural compliance issues      9   \n",
       "4  Complex architectural behavioral dependencies      6   \n",
       "5     Violations of good architectural practices      3   \n",
       "\n",
       "                                                                                    sp  \n",
       "0  [SP1, SP10, SP12, SP13, SP23, SP26, SP32, SP33, SP34, SP36, SP43, SP45, SP46, SP47]  \n",
       "1  [SP6, SP16, SP19, SP24, SP27, SP30, SP39, SP42, SP44, SP49, SP50, SP51, SP52, SP55]  \n",
       "2                     [SP3, SP9, SP17, SP18, SP21, SP28, SP29, SP37, SP48, SP56, SP57]  \n",
       "3                                 [SP7, SP8, SP11, SP14, SP15, SP20, SP22, SP31, SP41]  \n",
       "4                                                    [SP2, SP4, SP5, SP38, SP53, SP54]  \n",
       "5                                                                   [SP25, SP35, SP40]  "
      ],
      "text/html": "<div>\n<style scoped>\n    .dataframe tbody tr th:only-of-type {\n        vertical-align: middle;\n    }\n\n    .dataframe tbody tr th {\n        vertical-align: top;\n    }\n\n    .dataframe thead th {\n        text-align: right;\n    }\n</style>\n<table border=\"1\" class=\"dataframe\">\n  <thead>\n    <tr style=\"text-align: right;\">\n      <th></th>\n      <th>q1</th>\n      <th>count</th>\n      <th>sp</th>\n    </tr>\n  </thead>\n  <tbody>\n    <tr>\n      <th>0</th>\n      <td>Not specified</td>\n      <td>14</td>\n      <td>[SP1, SP10, SP12, SP13, SP23, SP26, SP32, SP33, SP34, SP36, SP43, SP45, SP46, SP47]</td>\n    </tr>\n    <tr>\n      <th>1</th>\n      <td>System-level structure quality issues</td>\n      <td>14</td>\n      <td>[SP6, SP16, SP19, SP24, SP27, SP30, SP39, SP42, SP44, SP49, SP50, SP51, SP52, SP55]</td>\n    </tr>\n    <tr>\n      <th>2</th>\n      <td>Architecture Smells</td>\n      <td>11</td>\n      <td>[SP3, SP9, SP17, SP18, SP21, SP28, SP29, SP37, SP48, SP56, SP57]</td>\n    </tr>\n    <tr>\n      <th>3</th>\n      <td>Architectural compliance issues</td>\n      <td>9</td>\n      <td>[SP7, SP8, SP11, SP14, SP15, SP20, SP22, SP31, SP41]</td>\n    </tr>\n    <tr>\n      <th>4</th>\n      <td>Complex architectural behavioral dependencies</td>\n      <td>6</td>\n      <td>[SP2, SP4, SP5, SP38, SP53, SP54]</td>\n    </tr>\n    <tr>\n      <th>5</th>\n      <td>Violations of good architectural practices</td>\n      <td>3</td>\n      <td>[SP25, SP35, SP40]</td>\n    </tr>\n  </tbody>\n</table>\n</div>"
     },
     "metadata": {},
     "execution_count": 17
    }
   ],
   "source": [
    "q1 = []\n",
    "count_q1 = []\n",
    "for each in list_of_most_common_q1: \n",
    "    q1.append(each[0])\n",
    "    count_q1.append(each[1])\n",
    "my_q1 = {'q1': q1, 'count':count_q1}\n",
    "my_q1\n",
    "my_q1_id = list(range(1,len(list_of_most_common_q1)+1))\n",
    "my_q1_id\n",
    "\n",
    "df_my_q1 = pd.DataFrame(data=my_q1, index=my_q1_id)\n",
    "df_my_q1.reset_index(drop=True, inplace=True)\n",
    "df_my_q1\n",
    "\n",
    "df_my_q1['sp'] = None\n",
    "\n",
    "# Add new column with Selected Papers according grouped q1\n",
    "i = 0\n",
    "for each in df_my_q1['q1']:\n",
    "    list_sp_novo = []\n",
    "    j = 0\n",
    "    for item in df_sms_extraction['Q1 Type of ATD (Based on Li et al 2015)']:\n",
    "        if each == item: \n",
    "            list_sp_novo.append(df_sms_extraction['sp'].iloc[j])\n",
    "        j = j + 1\n",
    "    df_my_q1['sp'].iloc[i] = list_sp_novo\n",
    "    i = i + 1\n",
    "\n",
    "util.create_latex_table(my_df=df_my_q1, my_path='../../latex', my_file_name='mytable_q1.tex')\n",
    "util.create_markdown_table(my_df=df_my_q1, my_path='../../md', my_file_name='mytable_q1.md')\n",
    "df_my_q1"
   ]
  },
  {
   "cell_type": "code",
   "execution_count": 18,
   "metadata": {},
   "outputs": [
    {
     "output_type": "execute_result",
     "data": {
      "text/plain": [
       "                                              q1  count  percent\n",
       "0                                  Not specified     14    0.246\n",
       "1          System-level structure quality issues     14    0.246\n",
       "2                            Architecture Smells     11    0.193\n",
       "3                Architectural compliance issues      9    0.158\n",
       "4  Complex architectural behavioral dependencies      6    0.105\n",
       "5     Violations of good architectural practices      3    0.053"
      ],
      "text/html": "<div>\n<style scoped>\n    .dataframe tbody tr th:only-of-type {\n        vertical-align: middle;\n    }\n\n    .dataframe tbody tr th {\n        vertical-align: top;\n    }\n\n    .dataframe thead th {\n        text-align: right;\n    }\n</style>\n<table border=\"1\" class=\"dataframe\">\n  <thead>\n    <tr style=\"text-align: right;\">\n      <th></th>\n      <th>q1</th>\n      <th>count</th>\n      <th>percent</th>\n    </tr>\n  </thead>\n  <tbody>\n    <tr>\n      <th>0</th>\n      <td>Not specified</td>\n      <td>14</td>\n      <td>0.246</td>\n    </tr>\n    <tr>\n      <th>1</th>\n      <td>System-level structure quality issues</td>\n      <td>14</td>\n      <td>0.246</td>\n    </tr>\n    <tr>\n      <th>2</th>\n      <td>Architecture Smells</td>\n      <td>11</td>\n      <td>0.193</td>\n    </tr>\n    <tr>\n      <th>3</th>\n      <td>Architectural compliance issues</td>\n      <td>9</td>\n      <td>0.158</td>\n    </tr>\n    <tr>\n      <th>4</th>\n      <td>Complex architectural behavioral dependencies</td>\n      <td>6</td>\n      <td>0.105</td>\n    </tr>\n    <tr>\n      <th>5</th>\n      <td>Violations of good architectural practices</td>\n      <td>3</td>\n      <td>0.053</td>\n    </tr>\n  </tbody>\n</table>\n</div>"
     },
     "metadata": {},
     "execution_count": 18
    }
   ],
   "source": [
    "df_my_q1['percent'] = round( df_my_q1['count'] / 57, 3)\n",
    "df_my_q1[['q1', 'count', 'percent']]"
   ]
  },
  {
   "source": [
    "## Achados"
   ],
   "cell_type": "markdown",
   "metadata": {}
  },
  {
   "cell_type": "code",
   "execution_count": 19,
   "metadata": {},
   "outputs": [
    {
     "output_type": "execute_result",
     "data": {
      "text/plain": [
       "    Paper Id    sp  \\\n",
       "0          1   SP1   \n",
       "9         14  SP10   \n",
       "11        16  SP12   \n",
       "12        17  SP13   \n",
       "22        26  SP23   \n",
       "25        44  SP26   \n",
       "31        69  SP32   \n",
       "32        67  SP33   \n",
       "33        66  SP34   \n",
       "35        35  SP36   \n",
       "42        90  SP43   \n",
       "44        97  SP45   \n",
       "45        40  SP46   \n",
       "46       106  SP47   \n",
       "\n",
       "                                                                                                        Title  \\\n",
       "0                       A Proposed Model-driven Approach to Manage Architectural Technical Debt Life Cycle \\n   \n",
       "9     Identifying Architectural Technical Debt in Android Applications through Automated Compliance Checking    \n",
       "11                On the interest of architectural technical debt: Uncovering the contagious debt phenomenon    \n",
       "12                Tool support for evaluating architectural debt of an existing system: An experience report    \n",
       "22                                                          DV8: Automated Architecture Analysis Tool Suites    \n",
       "25                                      Technical Debt Indexes provided by tools: a preliminary discussion \\n   \n",
       "31                                       The pricey bill of technical debt: When and by whom will it be paid?   \n",
       "32                The Perception of Technical Debt in the Embedded Systems Domain: An Industrial Case Study     \n",
       "33                                             The Introduction of Technical Debt Tracking in Large Companies   \n",
       "35  Investigating Architectural Technical Debt accumulation and refactoring over time: A multiple-case study    \n",
       "42                         Is Self-Admitted Technical Debt a Good Indicator of Architectural Divergences?  \\t   \n",
       "44                                                             Risk Appetite in Architectural Decision-Making   \n",
       "45                                   Software Architecture Social Debt: Managing the Incommunicability Factor   \n",
       "46                                                            Architectural Technical Debt: A Grounded Theory   \n",
       "\n",
       "   Other  \n",
       "0   None  \n",
       "9   None  \n",
       "11  None  \n",
       "12  None  \n",
       "22  None  \n",
       "25  None  \n",
       "31  None  \n",
       "32  None  \n",
       "33  None  \n",
       "35  None  \n",
       "42  None  \n",
       "44  None  \n",
       "45  None  \n",
       "46  None  "
      ],
      "text/html": "<div>\n<style scoped>\n    .dataframe tbody tr th:only-of-type {\n        vertical-align: middle;\n    }\n\n    .dataframe tbody tr th {\n        vertical-align: top;\n    }\n\n    .dataframe thead th {\n        text-align: right;\n    }\n</style>\n<table border=\"1\" class=\"dataframe\">\n  <thead>\n    <tr style=\"text-align: right;\">\n      <th></th>\n      <th>Paper Id</th>\n      <th>sp</th>\n      <th>Title</th>\n      <th>Other</th>\n    </tr>\n  </thead>\n  <tbody>\n    <tr>\n      <th>0</th>\n      <td>1</td>\n      <td>SP1</td>\n      <td>A Proposed Model-driven Approach to Manage Architectural Technical Debt Life Cycle \\n</td>\n      <td>None</td>\n    </tr>\n    <tr>\n      <th>9</th>\n      <td>14</td>\n      <td>SP10</td>\n      <td>Identifying Architectural Technical Debt in Android Applications through Automated Compliance Checking</td>\n      <td>None</td>\n    </tr>\n    <tr>\n      <th>11</th>\n      <td>16</td>\n      <td>SP12</td>\n      <td>On the interest of architectural technical debt: Uncovering the contagious debt phenomenon</td>\n      <td>None</td>\n    </tr>\n    <tr>\n      <th>12</th>\n      <td>17</td>\n      <td>SP13</td>\n      <td>Tool support for evaluating architectural debt of an existing system: An experience report</td>\n      <td>None</td>\n    </tr>\n    <tr>\n      <th>22</th>\n      <td>26</td>\n      <td>SP23</td>\n      <td>DV8: Automated Architecture Analysis Tool Suites</td>\n      <td>None</td>\n    </tr>\n    <tr>\n      <th>25</th>\n      <td>44</td>\n      <td>SP26</td>\n      <td>Technical Debt Indexes provided by tools: a preliminary discussion \\n</td>\n      <td>None</td>\n    </tr>\n    <tr>\n      <th>31</th>\n      <td>69</td>\n      <td>SP32</td>\n      <td>The pricey bill of technical debt: When and by whom will it be paid?</td>\n      <td>None</td>\n    </tr>\n    <tr>\n      <th>32</th>\n      <td>67</td>\n      <td>SP33</td>\n      <td>The Perception of Technical Debt in the Embedded Systems Domain: An Industrial Case Study</td>\n      <td>None</td>\n    </tr>\n    <tr>\n      <th>33</th>\n      <td>66</td>\n      <td>SP34</td>\n      <td>The Introduction of Technical Debt Tracking in Large Companies</td>\n      <td>None</td>\n    </tr>\n    <tr>\n      <th>35</th>\n      <td>35</td>\n      <td>SP36</td>\n      <td>Investigating Architectural Technical Debt accumulation and refactoring over time: A multiple-case study</td>\n      <td>None</td>\n    </tr>\n    <tr>\n      <th>42</th>\n      <td>90</td>\n      <td>SP43</td>\n      <td>Is Self-Admitted Technical Debt a Good Indicator of Architectural Divergences?  \\t</td>\n      <td>None</td>\n    </tr>\n    <tr>\n      <th>44</th>\n      <td>97</td>\n      <td>SP45</td>\n      <td>Risk Appetite in Architectural Decision-Making</td>\n      <td>None</td>\n    </tr>\n    <tr>\n      <th>45</th>\n      <td>40</td>\n      <td>SP46</td>\n      <td>Software Architecture Social Debt: Managing the Incommunicability Factor</td>\n      <td>None</td>\n    </tr>\n    <tr>\n      <th>46</th>\n      <td>106</td>\n      <td>SP47</td>\n      <td>Architectural Technical Debt: A Grounded Theory</td>\n      <td>None</td>\n    </tr>\n  </tbody>\n</table>\n</div>"
     },
     "metadata": {},
     "execution_count": 19
    }
   ],
   "source": [
    "# Analisando os tipos nao especificados\n",
    "types_atd_not_specified = df_my_q1['sp'][0]\n",
    "key = str(types_atd_not_specified)\n",
    "my_query = \"sp in \" + key\n",
    "\n",
    "# show only papers with ATD type not specified\n",
    "df_atd_not_specified = df_sms_extraction[['Paper Id', 'sp', 'Title']].query(my_query)\n",
    "df_atd_not_specified['Other'] = None\n",
    "\n",
    "df_atd_not_specified"
   ]
  },
  {
   "cell_type": "code",
   "execution_count": 21,
   "metadata": {},
   "outputs": [
    {
     "output_type": "stream",
     "name": "stdout",
     "text": [
      "Arquivo ../../latex/mytable_q1_updated.tex  gerado com sucesso!\nArquivo ../../md/mytable_q1_updated.md  gerado com sucesso!\n"
     ]
    },
    {
     "output_type": "execute_result",
     "data": {
      "text/plain": [
       "                                             rq1  count  \\\n",
       "0          System-level structure quality issues     14   \n",
       "1                            Architecture Smells     11   \n",
       "2                Architectural compliance issues      9   \n",
       "3  Complex architectural behavioral dependencies      6   \n",
       "4     Violations of good architectural practices      3   \n",
       "5                      Architectural Social Debt      3   \n",
       "6                Architectural Model-driven Debt      2   \n",
       "7                Architectural Self Admited Debt      1   \n",
       "\n",
       "                                                                                    sp  \n",
       "0  [SP6, SP16, SP19, SP24, SP27, SP30, SP39, SP42, SP44, SP49, SP50, SP51, SP52, SP55]  \n",
       "1                     [SP3, SP9, SP17, SP18, SP21, SP28, SP29, SP37, SP48, SP56, SP57]  \n",
       "2                                 [SP7, SP8, SP11, SP14, SP15, SP20, SP22, SP31, SP41]  \n",
       "3                                                    [SP2, SP4, SP5, SP38, SP53, SP54]  \n",
       "4                                                                   [SP25, SP35, SP40]  \n",
       "5                                                                   [SP12, SP45, SP46]  \n",
       "6                                                                          [SP1, SP10]  \n",
       "7                                                                               [SP43]  "
      ],
      "text/html": "<div>\n<style scoped>\n    .dataframe tbody tr th:only-of-type {\n        vertical-align: middle;\n    }\n\n    .dataframe tbody tr th {\n        vertical-align: top;\n    }\n\n    .dataframe thead th {\n        text-align: right;\n    }\n</style>\n<table border=\"1\" class=\"dataframe\">\n  <thead>\n    <tr style=\"text-align: right;\">\n      <th></th>\n      <th>rq1</th>\n      <th>count</th>\n      <th>sp</th>\n    </tr>\n  </thead>\n  <tbody>\n    <tr>\n      <th>0</th>\n      <td>System-level structure quality issues</td>\n      <td>14</td>\n      <td>[SP6, SP16, SP19, SP24, SP27, SP30, SP39, SP42, SP44, SP49, SP50, SP51, SP52, SP55]</td>\n    </tr>\n    <tr>\n      <th>1</th>\n      <td>Architecture Smells</td>\n      <td>11</td>\n      <td>[SP3, SP9, SP17, SP18, SP21, SP28, SP29, SP37, SP48, SP56, SP57]</td>\n    </tr>\n    <tr>\n      <th>2</th>\n      <td>Architectural compliance issues</td>\n      <td>9</td>\n      <td>[SP7, SP8, SP11, SP14, SP15, SP20, SP22, SP31, SP41]</td>\n    </tr>\n    <tr>\n      <th>3</th>\n      <td>Complex architectural behavioral dependencies</td>\n      <td>6</td>\n      <td>[SP2, SP4, SP5, SP38, SP53, SP54]</td>\n    </tr>\n    <tr>\n      <th>4</th>\n      <td>Violations of good architectural practices</td>\n      <td>3</td>\n      <td>[SP25, SP35, SP40]</td>\n    </tr>\n    <tr>\n      <th>5</th>\n      <td>Architectural Social Debt</td>\n      <td>3</td>\n      <td>[SP12, SP45, SP46]</td>\n    </tr>\n    <tr>\n      <th>6</th>\n      <td>Architectural Model-driven Debt</td>\n      <td>2</td>\n      <td>[SP1, SP10]</td>\n    </tr>\n    <tr>\n      <th>7</th>\n      <td>Architectural Self Admited Debt</td>\n      <td>1</td>\n      <td>[SP43]</td>\n    </tr>\n  </tbody>\n</table>\n</div>"
     },
     "metadata": {},
     "execution_count": 21
    }
   ],
   "source": [
    "# Avaliação manual\n",
    "\n",
    "#Por fim, os seguintes novos tipos foram sugeridos: \n",
    "new_types = ['Architectural Social Debt', 'Architectural Model-driven Debt', 'Architectural Self Admited Debt', 'Not Applicable']\n",
    "#sp organizado: \n",
    "my_sps = [(['SP12', 'SP45', 'SP46']), (['SP1', 'SP10']), (['SP43']), (['SP13', 'SP23', 'SP26', 'SP47'])]\n",
    "\n",
    "# Os artigos SP13, SP23, SP26 não se enquadram em tipos de ATD por serem reports que fazem a avaliação de ferramentas que auxiliam na identicação de ATDs e avaliação. O paper SP47 foi removido dessa classificação por ser um paper conceitual sobre ATD mostrando causas e consequências de ATD. Os papers SP32, SP34 abordam aspectos conceituais e percepção de ATD em grandes companias de software. Por fim, o paper SP36 propõe uma taxonomia própria baseado em causas que geram o acúmulo de dívida técnica arquitetural. \n",
    "\n",
    "# Remove os papers 'Not Applicable' dessa categoria\n",
    "del new_types[-1]\n",
    "del my_sps[-1]\n",
    "\n",
    "my_new_types = zip(new_types, my_sps)\n",
    "\n",
    "# Remove a primeira linha do dataframe df_my_q1 e cria 3 listas auxilares para inserir os dados dos novos tipos\n",
    "l_q1 = list(df_my_q1['q1'])\n",
    "l_q1.pop(0)\n",
    "l_count = list(df_my_q1['count'])\n",
    "l_count.pop(0)\n",
    "l_sp = list(df_my_q1['sp'])\n",
    "l_sp.pop(0)\n",
    "\n",
    "for each in my_new_types:\n",
    "    l_q1.append(each[0])\n",
    "    l_count.append(len(each[1]) )\n",
    "    l_sp.append(each[1])\n",
    "\n",
    "# Atualiza o dataframe q1 com os novos tipos categorizados\n",
    "my_q1_updated = {'rq1': l_q1, 'count': l_count, 'sp': l_sp}\n",
    "df_my_q1_updated = pd.DataFrame(data=my_q1_updated)\n",
    "df_my_q1_updated.reset_index(drop=True, inplace=True)\n",
    "\n",
    "util.create_latex_table(my_df=df_my_q1_updated, my_path='../../latex', my_file_name='mytable_q1_updated.tex')\n",
    "util.create_markdown_table(my_df=df_my_q1_updated, my_path='../../md', my_file_name='mytable_q1_updated.md')\n",
    "df_my_q1_updated"
   ]
  },
  {
   "cell_type": "code",
   "execution_count": 22,
   "metadata": {},
   "outputs": [
    {
     "output_type": "execute_result",
     "data": {
      "text/plain": [
       "                                             rq1  count  percent\n",
       "0          System-level structure quality issues     14    0.246\n",
       "1                            Architecture Smells     11    0.193\n",
       "2                Architectural compliance issues      9    0.158\n",
       "3  Complex architectural behavioral dependencies      6    0.105\n",
       "4     Violations of good architectural practices      3    0.053\n",
       "5                      Architectural Social Debt      3    0.053\n",
       "6                Architectural Model-driven Debt      2    0.035\n",
       "7                Architectural Self Admited Debt      1    0.018"
      ],
      "text/html": "<div>\n<style scoped>\n    .dataframe tbody tr th:only-of-type {\n        vertical-align: middle;\n    }\n\n    .dataframe tbody tr th {\n        vertical-align: top;\n    }\n\n    .dataframe thead th {\n        text-align: right;\n    }\n</style>\n<table border=\"1\" class=\"dataframe\">\n  <thead>\n    <tr style=\"text-align: right;\">\n      <th></th>\n      <th>rq1</th>\n      <th>count</th>\n      <th>percent</th>\n    </tr>\n  </thead>\n  <tbody>\n    <tr>\n      <th>0</th>\n      <td>System-level structure quality issues</td>\n      <td>14</td>\n      <td>0.246</td>\n    </tr>\n    <tr>\n      <th>1</th>\n      <td>Architecture Smells</td>\n      <td>11</td>\n      <td>0.193</td>\n    </tr>\n    <tr>\n      <th>2</th>\n      <td>Architectural compliance issues</td>\n      <td>9</td>\n      <td>0.158</td>\n    </tr>\n    <tr>\n      <th>3</th>\n      <td>Complex architectural behavioral dependencies</td>\n      <td>6</td>\n      <td>0.105</td>\n    </tr>\n    <tr>\n      <th>4</th>\n      <td>Violations of good architectural practices</td>\n      <td>3</td>\n      <td>0.053</td>\n    </tr>\n    <tr>\n      <th>5</th>\n      <td>Architectural Social Debt</td>\n      <td>3</td>\n      <td>0.053</td>\n    </tr>\n    <tr>\n      <th>6</th>\n      <td>Architectural Model-driven Debt</td>\n      <td>2</td>\n      <td>0.035</td>\n    </tr>\n    <tr>\n      <th>7</th>\n      <td>Architectural Self Admited Debt</td>\n      <td>1</td>\n      <td>0.018</td>\n    </tr>\n  </tbody>\n</table>\n</div>"
     },
     "metadata": {},
     "execution_count": 22
    }
   ],
   "source": [
    "total_of_sps = 57\n",
    "df_my_q1_updated['percent'] = round( df_my_q1_updated['count'] / total_of_sps, 3)\n",
    "df_my_q1_updated[['rq1', 'count', 'percent']]"
   ]
  },
  {
   "cell_type": "code",
   "execution_count": 23,
   "metadata": {},
   "outputs": [
    {
     "output_type": "stream",
     "name": "stdout",
     "text": [
      "49\n"
     ]
    }
   ],
   "source": [
    "print(df_my_q1_updated['count'].sum())"
   ]
  },
  {
   "cell_type": "code",
   "execution_count": 24,
   "metadata": {},
   "outputs": [
    {
     "output_type": "stream",
     "name": "stdout",
     "text": [
      "System-level structure quality issues 24.56\\% (14 studies)\nArchitecture Smells 19.3\\% (11 studies)\nArchitectural compliance issues 15.79\\% (9 studies)\nComplex architectural behavioral dependencies 10.53\\% (6 studies)\nViolations of good architectural practices 5.26\\% (3 studies)\nArchitectural Social Debt 5.26\\% (3 studies)\nArchitectural Model-driven Debt 3.51\\% (2 studies)\nArchitectural Self Admited Debt 1.75\\% (1 studies)\n"
     ]
    }
   ],
   "source": [
    "my_total = 57\n",
    "for each in df_my_q1_updated.values:\n",
    "    my_types = each[0]\n",
    "    my_count = each[1]\n",
    "    print('{} {}\\% ({} studies)'.format(my_types, round(my_count*100/my_total , 2), my_count ))"
   ]
  },
  {
   "cell_type": "code",
   "execution_count": 25,
   "metadata": {},
   "outputs": [
    {
     "output_type": "stream",
     "name": "stdout",
     "text": [
      "Articles SP13, SP23, SP26 do not fit into types of ATD because they report that assessment tools assist in identifying and assessing ATDs. The SP47 paper was removed from this classification because it is a concept paper on ATD, showing the causes and consequences of ATD. Papers SP32, SP34 present a report and address conceptual aspects and perception of ATD in large software companies. Finally, paper SP36 proposes its taxonomy based on causes that generate the accumulation of ATD.\n"
     ]
    }
   ],
   "source": [
    "print(\"Articles SP13, SP23, SP26 do not fit into types of ATD because they report that assessment tools assist in identifying and assessing ATDs. The SP47 paper was removed from this classification because it is a concept paper on ATD, showing the causes and consequences of ATD. Papers SP32, SP34 present a report and address conceptual aspects and perception of ATD in large software companies. Finally, paper SP36 proposes its taxonomy based on causes that generate the accumulation of ATD.\")"
   ]
  }
 ]
}