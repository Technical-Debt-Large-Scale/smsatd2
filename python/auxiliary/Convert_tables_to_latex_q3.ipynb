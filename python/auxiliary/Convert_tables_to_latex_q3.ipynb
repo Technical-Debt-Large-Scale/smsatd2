{
 "metadata": {
  "language_info": {
   "codemirror_mode": {
    "name": "ipython",
    "version": 3
   },
   "file_extension": ".py",
   "mimetype": "text/x-python",
   "name": "python",
   "nbconvert_exporter": "python",
   "pygments_lexer": "ipython3",
   "version": "3.6.3"
  },
  "orig_nbformat": 2,
  "kernelspec": {
   "name": "python363jvsc74a57bd005ece30799c2dcdac4c13b3af20453da19de8df0d9a1de52cff7e0b6e1e82bdd",
   "display_name": "Python 3.6.3 64-bit"
  }
 },
 "nbformat": 4,
 "nbformat_minor": 2,
 "cells": [
  {
   "cell_type": "code",
   "execution_count": 13,
   "metadata": {},
   "outputs": [],
   "source": [
    "import os\n",
    "import sys\n",
    "nb_dir = os.path.split(os.getcwd())[0]\n",
    "if nb_dir not in sys.path:\n",
    "    sys.path.append(nb_dir)\n",
    "\n",
    "import pandas as pd\n",
    "import util.utilities as util\n",
    "from collections import Counter"
   ]
  },
  {
   "cell_type": "code",
   "execution_count": 14,
   "metadata": {},
   "outputs": [
    {
     "output_type": "stream",
     "name": "stderr",
     "text": [
      "/Library/Frameworks/Python.framework/Versions/3.6/lib/python3.6/site-packages/ipykernel_launcher.py:5: SettingWithCopyWarning: \nA value is trying to be set on a copy of a slice from a DataFrame.\nTry using .loc[row_indexer,col_indexer] = value instead\n\nSee the caveats in the documentation: http://pandas.pydata.org/pandas-docs/stable/indexing.html#indexing-view-versus-copy\n  \"\"\"\n"
     ]
    },
    {
     "output_type": "execute_result",
     "data": {
      "text/plain": [
       "{1: 'the method performed a monitoring process for each release planning evaluated during the case study.',\n",
       " 2: 'the framework performed a monitoring process for each release version evaluated during the case study.',\n",
       " 3: 'the method performed a monitoring for each version analysed during the study.',\n",
       " 4: 'the case study performed a set of evaluations of revision history during the study.',\n",
       " 5: 'yes, during two years the releases were monitored to check the benefits of refactoring software architecture',\n",
       " 7: 'the authors monitored the evolution of hostspot during the period of study comparing the revision history and issue tracker to detect problematic files.',\n",
       " 9: 'the authors monitored the evolution of indexes during the period of study comparing the revision history of the source code of each release of a selected oss project.',\n",
       " 10: 'the principal and interest is analysed by software architects and project managers for each release.',\n",
       " 13: 'it was monitored the evolution of archdebts through releases that are evaluated.',\n",
       " 14: 'no',\n",
       " 15: 'issue management workflow',\n",
       " 16: 'yes, after each release using a proprietary method. the interest is monitored by analysing each atd class defined in proprietary taxynomy. these factors can be proactively monitored to strategically refactor the atd, before it becomes too costly to be repaid.',\n",
       " 17: 'no',\n",
       " 21: 'the approach is performed for each release using expert evaluation (software architect from project evaluated)',\n",
       " 22: 'the atd items are monitored during releaase planing via expert evaluation that use the atd taxonomy.',\n",
       " 27: 'it was applied the framework for each release evaluated. it is a manual process that there is no tool to support this.',\n",
       " 30: 'yes, after each release using a proprietary method.',\n",
       " 38: 'tracking architecture roots, architecutre flaws and decopling level for each version analysed by titan tool',\n",
       " 48: 'the approach of drspace is performed for each release analysed by software architecture to verify and confirm the architecture debt and effort is calculated in person per month.',\n",
       " 47: 'no',\n",
       " 20: 'yes, after each release using a proprietary method.',\n",
       " 33: 'yes, after each release using a proprietary method.',\n",
       " 26: 'no',\n",
       " 28: 'no',\n",
       " 31: 'for each architecture planning to create or maintain the lc (logical components)',\n",
       " 44: 'no',\n",
       " 43: 'no',\n",
       " 51: 'for each release evaluated via astracker where tracks smell instances in the projects history.',\n",
       " 52: 'no',\n",
       " 63: 'yes, after each release using a proprietary method.',\n",
       " 73: 'no',\n",
       " 69: 'no',\n",
       " 67: 'no',\n",
       " 66: 'no',\n",
       " 96: 'no',\n",
       " 35: 'yes',\n",
       " 24: 'yes, after each release using a proprietary method.',\n",
       " 77: 'no',\n",
       " 78: 'no',\n",
       " 81: 'no',\n",
       " 85: 'no',\n",
       " 88: 'no',\n",
       " 90: 'no',\n",
       " 91: 'no',\n",
       " 97: 'no',\n",
       " 40: 'no',\n",
       " 106: 'yes',\n",
       " 107: 'yes',\n",
       " 108: 'yes',\n",
       " 109: 'no',\n",
       " 110: 'no',\n",
       " 111: 'no',\n",
       " 112: 'no',\n",
       " 113: 'no',\n",
       " 114: 'no',\n",
       " 115: 'no',\n",
       " 116: 'yes'}"
      ]
     },
     "metadata": {},
     "execution_count": 14
    }
   ],
   "source": [
    "df_sms_extraction = util.load_dataset(my_path='../../dataset/Extraction_form_basic.xlsx')\n",
    "df_sms_extraction = util.add_column_sp(df_sms_extraction)\n",
    "\n",
    "df_my_data_papers = util.selected_papers(df_sms_extraction)\n",
    "df_my_data_papers['Title'] = df_my_data_papers['Title'].apply(lambda x: util.remove_enter(x))\n",
    "\n",
    "# 3.4) Q3 Monitoring ATD\n",
    "\n",
    "## Papers grouped by monitoring\n",
    "\n",
    "dict_q3 = {}\n",
    "for item in zip( list(df_sms_extraction['Paper Id']), list(df_sms_extraction['Q3(Monitoring)']) ):\n",
    "    id = item[0]\n",
    "    if (item[1] != ''):\n",
    "        q3 = str(item[1])\n",
    "        q3 = ' '.join(q3.split())\n",
    "        dict_q3[id] = q3.lower()\n",
    "    \n",
    "dict_q3"
   ]
  },
  {
   "cell_type": "code",
   "execution_count": 15,
   "metadata": {},
   "outputs": [
    {
     "output_type": "stream",
     "name": "stdout",
     "text": [
      "Arquivo ../../latex/mytable_q3_distribution.tex  gerado com sucesso!\n"
     ]
    },
    {
     "output_type": "execute_result",
     "data": {
      "text/plain": [
       "               q3  count  \\\n",
       "0      Monitoring     28   \n",
       "1              No     29   \n",
       "2  Not applicable      0   \n",
       "\n",
       "                                                                                                                                                                               sp  \n",
       "0                 [SP1, SP2, SP3, SP4, SP5, SP6, SP7, SP8, SP9, SP11, SP12, SP14, SP15, SP16, SP17, SP18, SP19, SP21, SP22, SP25, SP28, SP30, SP36, SP37, SP47, SP48, SP49, SP57]  \n",
       "1  [SP10, SP13, SP20, SP23, SP24, SP26, SP27, SP29, SP31, SP32, SP33, SP34, SP35, SP38, SP39, SP40, SP41, SP42, SP43, SP44, SP45, SP46, SP50, SP51, SP52, SP53, SP54, SP55, SP56]  \n",
       "2                                                                                                                                                                              []  "
      ],
      "text/html": "<div>\n<style scoped>\n    .dataframe tbody tr th:only-of-type {\n        vertical-align: middle;\n    }\n\n    .dataframe tbody tr th {\n        vertical-align: top;\n    }\n\n    .dataframe thead th {\n        text-align: right;\n    }\n</style>\n<table border=\"1\" class=\"dataframe\">\n  <thead>\n    <tr style=\"text-align: right;\">\n      <th></th>\n      <th>q3</th>\n      <th>count</th>\n      <th>sp</th>\n    </tr>\n  </thead>\n  <tbody>\n    <tr>\n      <th>0</th>\n      <td>Monitoring</td>\n      <td>28</td>\n      <td>[SP1, SP2, SP3, SP4, SP5, SP6, SP7, SP8, SP9, SP11, SP12, SP14, SP15, SP16, SP17, SP18, SP19, SP21, SP22, SP25, SP28, SP30, SP36, SP37, SP47, SP48, SP49, SP57]</td>\n    </tr>\n    <tr>\n      <th>1</th>\n      <td>No</td>\n      <td>29</td>\n      <td>[SP10, SP13, SP20, SP23, SP24, SP26, SP27, SP29, SP31, SP32, SP33, SP34, SP35, SP38, SP39, SP40, SP41, SP42, SP43, SP44, SP45, SP46, SP50, SP51, SP52, SP53, SP54, SP55, SP56]</td>\n    </tr>\n    <tr>\n      <th>2</th>\n      <td>Not applicable</td>\n      <td>0</td>\n      <td>[]</td>\n    </tr>\n  </tbody>\n</table>\n</div>"
     },
     "metadata": {},
     "execution_count": 15
    }
   ],
   "source": [
    "df_distribution_q3 = util.view_question_distribution(my_dict=dict_q3, my_list=['Monitoring', 'No', 'Not applicable'], my_question='q3')\n",
    "df_distribution_q3['sp'] = None\n",
    "\n",
    "df_distribution_q3 = util.view_question_distribution_update_sp(my_df_distribution=df_distribution_q3, my_df_data=df_sms_extraction, my_feature='Q3(Monitoring)')\n",
    "\n",
    "util.create_latex_table(my_df=df_distribution_q3, my_path='../../latex', my_file_name='mytable_q3_distribution.tex')\n",
    "\n",
    "df_distribution_q3"
   ]
  },
  {
   "cell_type": "code",
   "execution_count": 16,
   "metadata": {},
   "outputs": [
    {
     "output_type": "stream",
     "name": "stdout",
     "text": [
      "Monitoring : 0.491 (28 studies)\nNo monitoring : 0.509 (29 studies)\n"
     ]
    }
   ],
   "source": [
    "print('Monitoring : {} ({} studies)'.format( round(28/57 , 3), 28 ))\n",
    "print('No monitoring : {} ({} studies)'.format( round(29/57 , 3), 29 ))"
   ]
  },
  {
   "cell_type": "code",
   "execution_count": 17,
   "metadata": {},
   "outputs": [
    {
     "output_type": "stream",
     "name": "stdout",
     "text": [
      "Papers that monitoring ATD 28 - List of papers: ['A Proposed Model-driven Approach to Manage Architectural Technical Debt Life Cycle', 'A semi-automated framework for the identification and estimation of Architectural Technical Debt: A comparative case-study on the modularization of a software component', 'Towards an Architectural Debt Index', 'A Case Study of the Effects of Architecture Debt on Software Evolution Effort', 'A Longitudinal Study of Identifying and Paying Down architecture debt', 'Active Hotspot: An Issue-Oriented Model to Monitor Software Evolution and Degradation', 'An Empirical Investigation of Modularity Metrics for Indicating architectural technical debt', 'An Empirically Developed Method to Aid Decisions on Architectural Technical Debt Refactoring: AnaConDebt', 'Identifying and Quantifying Architectural Debt', 'Identifying Architectural Technical Debt in Android Applications through Automated Compliance Checking', 'Mitigating Technical and Architectural Debt with Sonargraph Using static analysis to enforce architectural constraints', 'On the interest of architectural technical debt: Uncovering the contagious debt phenomenon', 'Tool support for evaluating architectural debt of an existing system: An experience report', 'Architectural Technical Debt Identification based on Architecture Decisions and Change Scenarios', 'Architecture Technical Debt: Understanding Causes and a Qualitative Model', 'Estimating and Quantifying the Benefits of Refactoring to Improve a Component Modularity: a Case Study', 'Identifying and Prioritizing Architectural Debt Through Architectural Smells: A Case Study in a Large Software Company', 'Software Architecture Health Monitor', 'A Case Study in Locating the Architectural Roots of Technical Debt', 'Towards Prioritizing Architecture Technical Debt: Information Needs of Architects and Product Owners', 'Applying Social Network Analysis Techniques to Architectural Smell Prediction', 'In Search of a Metric for Managing Architectural Technical Debt', 'DV8: Automated Architecture Analysis Tool Suites', 'Exploring the Relationship between Software Modularity and Technical Debt', 'Identifying and Visualizing Architectural Debt and Its Efficiency Interest in the Automotive Domain: A Case Study', 'Technical Debt Indexes provided by tools: a preliminary discussion', 'Technical debt and system architecture: The impact of coupling on defect-related activity', 'Investigating Instability Architectural Smells Evolution: An Exploratory Case Study']\n"
     ]
    }
   ],
   "source": [
    "df_distribution_monitoring = df_distribution_q3\n",
    "papers_atd_monitored = df_distribution_monitoring['sp'][0]\n",
    "\n",
    "list_title_papers_atd_monitored = []\n",
    "\n",
    "i = 0\n",
    "for each in papers_atd_monitored: \n",
    "    j = 0 \n",
    "    for item in df_my_data_papers['sp']: \n",
    "        if (each == df_my_data_papers['sp'].iloc[j]):\n",
    "            list_title_papers_atd_monitored.append(df_my_data_papers['Title'].iloc[i])\n",
    "        j = j + 1\n",
    "    i = i + 1\n",
    "\n",
    "print('Papers that monitoring ATD {} - List of papers: {}'.format(len(list_title_papers_atd_monitored), list_title_papers_atd_monitored))"
   ]
  },
  {
   "cell_type": "code",
   "execution_count": 18,
   "metadata": {},
   "outputs": [
    {
     "output_type": "execute_result",
     "data": {
      "text/plain": [
       "    Paper Id    sp                                                   Citation  \\\n",
       "0          1   SP1                                          Perez et al. 2019   \n",
       "1          2   SP2                                         Martini et al 2017   \n",
       "2          3   SP3                                         Roveda et al. 2018   \n",
       "3          4   SP4                                         Snipes et al. 2018   \n",
       "4          5   SP5                                         Nayebi et al. 2019   \n",
       "5          7   SP6                                           Feng et al. 2019   \n",
       "6          9   SP7                                             Li et al. 2014   \n",
       "7         10   SP8                                        Martini et al. 2016   \n",
       "8         13   SP9                                           Xiao et al. 2016   \n",
       "10        15  SP11                                      Zitzweitz et al. 2019   \n",
       "11        16  SP12                                     Martini and Bosch 2017   \n",
       "13        21  SP14                                             Li et al. 2015   \n",
       "14        22  SP15                                        Martini et al. 2014   \n",
       "15        27  SP16                                        Martini et al. 2016   \n",
       "16        30  SP17                                        Martini et al. 2018   \n",
       "17        38  SP18                                        Cai and Kazman 2016   \n",
       "18        48  SP19                                         Kazman et al. 2015   \n",
       "20        20  SP21                                              Tommasel 2019   \n",
       "21        33  SP22                                           Nord et al. 2012   \n",
       "24        31  SP25                                       Eliasson et al. 2015   \n",
       "27        51  SP28                                            Sas et al. 2019   \n",
       "29        63  SP30                                Spinellis and Avgeriou 2019   \n",
       "35        35  SP36                                         Martini et al 2015   \n",
       "36        24  SP37                                             Cai el al 2018   \n",
       "46       106  SP47                          Verdechia, Kruchten and Lago 2020   \n",
       "47       107  SP48                         Pujols, Josep Burgaya, et al. 2020   \n",
       "48       108  SP49             Molnar, Arthur-Jozsef, and Simona Motogna 2020   \n",
       "56       116  SP57  Tushar Sharma, Paramvir Singh and Diomidis Spinellis 2020   \n",
       "\n",
       "                                                                                                                                                                        Title  \\\n",
       "0                                                                                       A Proposed Model-driven Approach to Manage Architectural Technical Debt Life Cycle \\n   \n",
       "1   A semi-automated framework for the identification and estimation of Architectural Technical Debt: A comparative case-study on the modularization of a software component    \n",
       "2                                                                                                                                         Towards an Architectural Debt Index   \n",
       "3                                                                                              A Case Study of the Effects of Architecture Debt on Software Evolution Effort    \n",
       "4                                                                                                      A Longitudinal Study of Identifying and Paying Down architecture debt    \n",
       "5                                                                                      Active Hotspot: An Issue-Oriented Model to Monitor Software Evolution and Degradation    \n",
       "6                                                                               An  Empirical Investigation of Modularity Metrics for Indicating architectural technical debt   \n",
       "7                                                                   An Empirically Developed Method to Aid Decisions on Architectural Technical Debt Refactoring: AnaConDebt    \n",
       "8                                                                                                                             Identifying and Quantifying Architectural Debt    \n",
       "10                                                    Mitigating Technical and Architectural Debt with Sonargraph Using static analysis to enforce architectural constraints    \n",
       "11                                                                                On the interest of architectural technical debt: Uncovering the contagious debt phenomenon    \n",
       "13                                                                          Architectural Technical Debt Identification based on Architecture Decisions and Change Scenarios    \n",
       "14                                                                                                 Architecture Technical Debt: Understanding Causes and a Qualitative Model    \n",
       "15                                                                    Estimating and Quantifying the Benefits of Refactoring to Improve a Component Modularity: a Case Study    \n",
       "16                                                     Identifying and Prioritizing Architectural Debt Through Architectural Smells: A Case Study in a Large Software Company   \n",
       "17                                                                                                                                       Software Architecture Health Monitor   \n",
       "18                                                                                                         A Case Study in Locating the Architectural Roots of Technical Debt   \n",
       "20                                                                                             Applying Social Network Analysis Techniques to Architectural Smell Prediction    \n",
       "21                                                                                                         In Search of a Metric for Managing Architectural Technical Debt \\n   \n",
       "24                                                          Identifying and Visualizing Architectural Debt and Its Efficiency Interest in the Automotive Domain: A Case Study   \n",
       "27                                                                                        Investigating Instability Architectural Smells Evolution: An Exploratory Case Study   \n",
       "29                                                                                                     Evolution of the Unix System Architecture: An Exploratory Case Study     \n",
       "35                                                                  Investigating Architectural Technical Debt accumulation and refactoring over time: A multiple-case study    \n",
       "36                                                                                       Design Rule Spaces: A New Model for Representing and Analyzing Software Architecture   \n",
       "46                                                                                                                            Architectural Technical Debt: A Grounded Theory   \n",
       "47                                                                                                    Skuld: a self-learning tool for impact-driven technical debt management   \n",
       "48                                                                                                             Long-Term Evaluation of Technical Debt in Open-Source Software   \n",
       "56                                                                                      An empirical investigation on the relationship between design and architecture smells   \n",
       "\n",
       "                                                                                                                                                                                                                                                    Q3(Monitoring)  \n",
       "0                                                                                                                                                             The method performed a monitoring process for each release planning evaluated during the case study.  \n",
       "1                                                                                                                                                           The framework performed a monitoring process for each release version evaluated during the case study.  \n",
       "2                                                                                                                                                                                    The method performed a monitoring for each version analysed during the study.  \n",
       "3                                                                                                                                                                              The case study performed a set of evaluations of revision history during the study.  \n",
       "4                                                                                                                                                     Yes, during two years the releases were monitored to check the benefits of refactoring software architecture  \n",
       "5                                                                                                        The authors monitored the evolution of hostspot during the period of study comparing the revision history and issue tracker to detect problematic files.   \n",
       "6                                                                                           The authors monitored the evolution of Indexes during the period of study comparing the revision history of the source code of each release of a selected OSS project.  \n",
       "7                                                                                                                                                             The Principal and Interest is analysed by Software Architects and Project Managers for each release.  \n",
       "8                                                                                                                                                                                 It was monitored the evolution of ArchDebts through releases that are evaluated.  \n",
       "10                                                                                                                                                                                                                                      issue management workflow   \n",
       "11  Yes, after each release using a proprietary method. The interest is monitored by analysing each ATD class defined in proprietary taxynomy.\n",
       "\n",
       "These factors can be proactively monitored to strategically refactor the ATD, before it becomes too costly to b...  \n",
       "13                                                                                                                                                  The approach is performed for each release using expert evaluation (Software Architect from project evaluated)  \n",
       "14                                                                                                                                                            The ATD items are monitored during releaase planing via expert evaluation that use the ATD taxonomy.  \n",
       "15                                                                                                                                         It was applied the framework for each release evaluated. It is a manual process that there is no tool to support this.   \n",
       "16                                                                                                                                                                                                            Yes, after each release using a proprietary method.   \n",
       "17                                                                                                                                                     Tracking architecture roots, architecutre flaws and Decopling Level for each version analysed by Titan tool  \n",
       "18                                                                               The approach of DRSpace is performed for each release analysed by software architecture to verify and confirm the architecture debt and effort is calculated in person per month.  \n",
       "20                                                                                                                                                                                                            Yes, after each release using a proprietary method.   \n",
       "21                                                                                                                                                                                                            Yes, after each release using a proprietary method.   \n",
       "24                                                                                                                                                                                For each architecture planning to create or maintain the LC (Logical Components)  \n",
       "27                                                                                                                                                                  For each release evaluated via ASTracker where tracks smell instances in the projects history.  \n",
       "29                                                                                                                                                                                                            Yes, after each release using a proprietary method.   \n",
       "35                                                                                                                                                                                                                                                             Yes  \n",
       "36                                                                                                                                                                                                            Yes, after each release using a proprietary method.   \n",
       "46                                                                                                                                                                                                                                                             Yes  \n",
       "47                                                                                                                                                                                                                                                             Yes  \n",
       "48                                                                                                                                                                                                                                                             Yes  \n",
       "56                                                                                                                                                                                                                                                             Yes  "
      ],
      "text/html": "<div>\n<style scoped>\n    .dataframe tbody tr th:only-of-type {\n        vertical-align: middle;\n    }\n\n    .dataframe tbody tr th {\n        vertical-align: top;\n    }\n\n    .dataframe thead th {\n        text-align: right;\n    }\n</style>\n<table border=\"1\" class=\"dataframe\">\n  <thead>\n    <tr style=\"text-align: right;\">\n      <th></th>\n      <th>Paper Id</th>\n      <th>sp</th>\n      <th>Citation</th>\n      <th>Title</th>\n      <th>Q3(Monitoring)</th>\n    </tr>\n  </thead>\n  <tbody>\n    <tr>\n      <th>0</th>\n      <td>1</td>\n      <td>SP1</td>\n      <td>Perez et al. 2019</td>\n      <td>A Proposed Model-driven Approach to Manage Architectural Technical Debt Life Cycle \\n</td>\n      <td>The method performed a monitoring process for each release planning evaluated during the case study.</td>\n    </tr>\n    <tr>\n      <th>1</th>\n      <td>2</td>\n      <td>SP2</td>\n      <td>Martini et al 2017</td>\n      <td>A semi-automated framework for the identification and estimation of Architectural Technical Debt: A comparative case-study on the modularization of a software component</td>\n      <td>The framework performed a monitoring process for each release version evaluated during the case study.</td>\n    </tr>\n    <tr>\n      <th>2</th>\n      <td>3</td>\n      <td>SP3</td>\n      <td>Roveda et al. 2018</td>\n      <td>Towards an Architectural Debt Index</td>\n      <td>The method performed a monitoring for each version analysed during the study.</td>\n    </tr>\n    <tr>\n      <th>3</th>\n      <td>4</td>\n      <td>SP4</td>\n      <td>Snipes et al. 2018</td>\n      <td>A Case Study of the Effects of Architecture Debt on Software Evolution Effort</td>\n      <td>The case study performed a set of evaluations of revision history during the study.</td>\n    </tr>\n    <tr>\n      <th>4</th>\n      <td>5</td>\n      <td>SP5</td>\n      <td>Nayebi et al. 2019</td>\n      <td>A Longitudinal Study of Identifying and Paying Down architecture debt</td>\n      <td>Yes, during two years the releases were monitored to check the benefits of refactoring software architecture</td>\n    </tr>\n    <tr>\n      <th>5</th>\n      <td>7</td>\n      <td>SP6</td>\n      <td>Feng et al. 2019</td>\n      <td>Active Hotspot: An Issue-Oriented Model to Monitor Software Evolution and Degradation</td>\n      <td>The authors monitored the evolution of hostspot during the period of study comparing the revision history and issue tracker to detect problematic files.</td>\n    </tr>\n    <tr>\n      <th>6</th>\n      <td>9</td>\n      <td>SP7</td>\n      <td>Li et al. 2014</td>\n      <td>An  Empirical Investigation of Modularity Metrics for Indicating architectural technical debt</td>\n      <td>The authors monitored the evolution of Indexes during the period of study comparing the revision history of the source code of each release of a selected OSS project.</td>\n    </tr>\n    <tr>\n      <th>7</th>\n      <td>10</td>\n      <td>SP8</td>\n      <td>Martini et al. 2016</td>\n      <td>An Empirically Developed Method to Aid Decisions on Architectural Technical Debt Refactoring: AnaConDebt</td>\n      <td>The Principal and Interest is analysed by Software Architects and Project Managers for each release.</td>\n    </tr>\n    <tr>\n      <th>8</th>\n      <td>13</td>\n      <td>SP9</td>\n      <td>Xiao et al. 2016</td>\n      <td>Identifying and Quantifying Architectural Debt</td>\n      <td>It was monitored the evolution of ArchDebts through releases that are evaluated.</td>\n    </tr>\n    <tr>\n      <th>10</th>\n      <td>15</td>\n      <td>SP11</td>\n      <td>Zitzweitz et al. 2019</td>\n      <td>Mitigating Technical and Architectural Debt with Sonargraph Using static analysis to enforce architectural constraints</td>\n      <td>issue management workflow</td>\n    </tr>\n    <tr>\n      <th>11</th>\n      <td>16</td>\n      <td>SP12</td>\n      <td>Martini and Bosch 2017</td>\n      <td>On the interest of architectural technical debt: Uncovering the contagious debt phenomenon</td>\n      <td>Yes, after each release using a proprietary method. The interest is monitored by analysing each ATD class defined in proprietary taxynomy.  These factors can be proactively monitored to strategically refactor the ATD, before it becomes too costly to b...</td>\n    </tr>\n    <tr>\n      <th>13</th>\n      <td>21</td>\n      <td>SP14</td>\n      <td>Li et al. 2015</td>\n      <td>Architectural Technical Debt Identification based on Architecture Decisions and Change Scenarios</td>\n      <td>The approach is performed for each release using expert evaluation (Software Architect from project evaluated)</td>\n    </tr>\n    <tr>\n      <th>14</th>\n      <td>22</td>\n      <td>SP15</td>\n      <td>Martini et al. 2014</td>\n      <td>Architecture Technical Debt: Understanding Causes and a Qualitative Model</td>\n      <td>The ATD items are monitored during releaase planing via expert evaluation that use the ATD taxonomy.</td>\n    </tr>\n    <tr>\n      <th>15</th>\n      <td>27</td>\n      <td>SP16</td>\n      <td>Martini et al. 2016</td>\n      <td>Estimating and Quantifying the Benefits of Refactoring to Improve a Component Modularity: a Case Study</td>\n      <td>It was applied the framework for each release evaluated. It is a manual process that there is no tool to support this.</td>\n    </tr>\n    <tr>\n      <th>16</th>\n      <td>30</td>\n      <td>SP17</td>\n      <td>Martini et al. 2018</td>\n      <td>Identifying and Prioritizing Architectural Debt Through Architectural Smells: A Case Study in a Large Software Company</td>\n      <td>Yes, after each release using a proprietary method.</td>\n    </tr>\n    <tr>\n      <th>17</th>\n      <td>38</td>\n      <td>SP18</td>\n      <td>Cai and Kazman 2016</td>\n      <td>Software Architecture Health Monitor</td>\n      <td>Tracking architecture roots, architecutre flaws and Decopling Level for each version analysed by Titan tool</td>\n    </tr>\n    <tr>\n      <th>18</th>\n      <td>48</td>\n      <td>SP19</td>\n      <td>Kazman et al. 2015</td>\n      <td>A Case Study in Locating the Architectural Roots of Technical Debt</td>\n      <td>The approach of DRSpace is performed for each release analysed by software architecture to verify and confirm the architecture debt and effort is calculated in person per month.</td>\n    </tr>\n    <tr>\n      <th>20</th>\n      <td>20</td>\n      <td>SP21</td>\n      <td>Tommasel 2019</td>\n      <td>Applying Social Network Analysis Techniques to Architectural Smell Prediction</td>\n      <td>Yes, after each release using a proprietary method.</td>\n    </tr>\n    <tr>\n      <th>21</th>\n      <td>33</td>\n      <td>SP22</td>\n      <td>Nord et al. 2012</td>\n      <td>In Search of a Metric for Managing Architectural Technical Debt \\n</td>\n      <td>Yes, after each release using a proprietary method.</td>\n    </tr>\n    <tr>\n      <th>24</th>\n      <td>31</td>\n      <td>SP25</td>\n      <td>Eliasson et al. 2015</td>\n      <td>Identifying and Visualizing Architectural Debt and Its Efficiency Interest in the Automotive Domain: A Case Study</td>\n      <td>For each architecture planning to create or maintain the LC (Logical Components)</td>\n    </tr>\n    <tr>\n      <th>27</th>\n      <td>51</td>\n      <td>SP28</td>\n      <td>Sas et al. 2019</td>\n      <td>Investigating Instability Architectural Smells Evolution: An Exploratory Case Study</td>\n      <td>For each release evaluated via ASTracker where tracks smell instances in the projects history.</td>\n    </tr>\n    <tr>\n      <th>29</th>\n      <td>63</td>\n      <td>SP30</td>\n      <td>Spinellis and Avgeriou 2019</td>\n      <td>Evolution of the Unix System Architecture: An Exploratory Case Study</td>\n      <td>Yes, after each release using a proprietary method.</td>\n    </tr>\n    <tr>\n      <th>35</th>\n      <td>35</td>\n      <td>SP36</td>\n      <td>Martini et al 2015</td>\n      <td>Investigating Architectural Technical Debt accumulation and refactoring over time: A multiple-case study</td>\n      <td>Yes</td>\n    </tr>\n    <tr>\n      <th>36</th>\n      <td>24</td>\n      <td>SP37</td>\n      <td>Cai el al 2018</td>\n      <td>Design Rule Spaces: A New Model for Representing and Analyzing Software Architecture</td>\n      <td>Yes, after each release using a proprietary method.</td>\n    </tr>\n    <tr>\n      <th>46</th>\n      <td>106</td>\n      <td>SP47</td>\n      <td>Verdechia, Kruchten and Lago 2020</td>\n      <td>Architectural Technical Debt: A Grounded Theory</td>\n      <td>Yes</td>\n    </tr>\n    <tr>\n      <th>47</th>\n      <td>107</td>\n      <td>SP48</td>\n      <td>Pujols, Josep Burgaya, et al. 2020</td>\n      <td>Skuld: a self-learning tool for impact-driven technical debt management</td>\n      <td>Yes</td>\n    </tr>\n    <tr>\n      <th>48</th>\n      <td>108</td>\n      <td>SP49</td>\n      <td>Molnar, Arthur-Jozsef, and Simona Motogna 2020</td>\n      <td>Long-Term Evaluation of Technical Debt in Open-Source Software</td>\n      <td>Yes</td>\n    </tr>\n    <tr>\n      <th>56</th>\n      <td>116</td>\n      <td>SP57</td>\n      <td>Tushar Sharma, Paramvir Singh and Diomidis Spinellis 2020</td>\n      <td>An empirical investigation on the relationship between design and architecture smells</td>\n      <td>Yes</td>\n    </tr>\n  </tbody>\n</table>\n</div>"
     },
     "metadata": {},
     "execution_count": 18
    }
   ],
   "source": [
    "query_list_of_papers_atd_monitored = 'sp in ' + str(papers_atd_monitored)\n",
    "df_distribution_papers_monitored = df_sms_extraction[['Paper Id', 'sp', 'Citation', 'Title', 'Q3(Monitoring)']].query(query_list_of_papers_atd_monitored)\n",
    "\n",
    "df_distribution_papers_monitored"
   ]
  },
  {
   "cell_type": "code",
   "execution_count": 19,
   "metadata": {},
   "outputs": [
    {
     "output_type": "execute_result",
     "data": {
      "text/plain": [
       "[(1,\n",
       "  'The method performed a monitoring process for each release planning evaluated during the case study.'),\n",
       " (2,\n",
       "  'The framework performed a monitoring process for each release version evaluated during the case study.'),\n",
       " (3,\n",
       "  'The method performed a monitoring for each version analysed during the study.'),\n",
       " (4,\n",
       "  'The case study performed a set of evaluations of revision history during the study.'),\n",
       " (5,\n",
       "  'Yes, during two years the releases were monitored to check the benefits of refactoring software architecture'),\n",
       " (7,\n",
       "  'The authors monitored the evolution of hostspot during the period of study comparing the revision history and issue tracker to detect problematic files. '),\n",
       " (9,\n",
       "  'The authors monitored the evolution of Indexes during the period of study comparing the revision history of the source code of each release of a selected OSS project.'),\n",
       " (10,\n",
       "  'The Principal and Interest is analysed by Software Architects and Project Managers for each release.'),\n",
       " (13,\n",
       "  'It was monitored the evolution of ArchDebts through releases that are evaluated.'),\n",
       " (15, 'issue management workflow '),\n",
       " (16,\n",
       "  'Yes, after each release using a proprietary method. The interest is monitored by analysing each ATD class defined in proprietary taxynomy.\\u2028\\u2028These factors can be proactively monitored to strategically refactor the ATD, before it becomes too costly to be repaid. '),\n",
       " (21,\n",
       "  'The approach is performed for each release using expert evaluation (Software Architect from project evaluated)'),\n",
       " (22,\n",
       "  'The ATD items are monitored during releaase planing via expert evaluation that use the ATD taxonomy.'),\n",
       " (27,\n",
       "  'It was applied the framework for each release evaluated. It is a manual process that there is no tool to support this. '),\n",
       " (30, 'Yes, after each release using a proprietary method. '),\n",
       " (38,\n",
       "  'Tracking architecture roots, architecutre flaws and Decopling Level for each version analysed by Titan tool'),\n",
       " (48,\n",
       "  'The approach of DRSpace is performed for each release analysed by software architecture to verify and confirm the architecture debt and effort is calculated in person per month.'),\n",
       " (20, 'Yes, after each release using a proprietary method. '),\n",
       " (33, 'Yes, after each release using a proprietary method. '),\n",
       " (31,\n",
       "  'For each architecture planning to create or maintain the LC (Logical Components)'),\n",
       " (51,\n",
       "  'For each release evaluated via ASTracker where tracks smell instances in the projects history.'),\n",
       " (63, 'Yes, after each release using a proprietary method. '),\n",
       " (35, 'Yes'),\n",
       " (24, 'Yes, after each release using a proprietary method. '),\n",
       " (106, 'Yes'),\n",
       " (107, 'Yes'),\n",
       " (108, 'Yes'),\n",
       " (116, 'Yes')]"
      ]
     },
     "metadata": {},
     "execution_count": 19
    }
   ],
   "source": [
    "## Papers grouped by Kind of Monitoring\n",
    "\n",
    "list_of_my_tuple_of_monitored_papers = []\n",
    "for each in df_distribution_papers_monitored[['Paper Id', 'sp', 'Q3(Monitoring)']].values: \n",
    "    list_of_my_tuple_of_monitored_papers.append((each[0], each[2]))\n",
    "\n",
    "list_of_my_tuple_of_monitored_papers"
   ]
  },
  {
   "cell_type": "code",
   "execution_count": 20,
   "metadata": {},
   "outputs": [],
   "source": [
    "temp_list_tuple_id_monitored = [(1, 'For each release plan'),\n",
    " (2, 'For each release plan'),\n",
    " (3, 'For each version analysed'),\n",
    " (4, 'For each revision history'),\n",
    " (5, 'For each release analysed'),\n",
    " (7, 'For each revision history and issues related to version'),\n",
    " (9, 'For each revision history'),\n",
    " (10, 'For each release analysed'),\n",
    " (13, 'For each release analysed'),\n",
    " (15, 'For each revision history and issues related to version'),\n",
    " (16, 'For each release analysed'),\n",
    " (21, 'For each release analysed'),\n",
    " (22, 'For each release plan'),\n",
    " (27, 'For each release analysed'),\n",
    " (30, 'For each release analysed'),\n",
    " (38, 'For each version analysed'),\n",
    " (48, 'For each release analysed'),\n",
    " (20, 'For each release analysed'),\n",
    " (33, 'For each release analysed'),\n",
    " (31, 'For each release plan'),\n",
    " (51, 'For each release analysed'),\n",
    " (63, 'For each release analysed'),\n",
    " (35, 'For each release analysed'),\n",
    " (24, 'For each release analysed'), \n",
    " (106, 'For each release analysed'), \n",
    " (107, 'For each release analysed'), \n",
    " (108, 'For each release analysed'), \n",
    " (116, 'For each release analysed')]"
   ]
  },
  {
   "cell_type": "code",
   "execution_count": 21,
   "metadata": {},
   "outputs": [
    {
     "output_type": "stream",
     "name": "stdout",
     "text": [
      "Arquivo ../../latex/mytable_q3_distribution_detailed.tex  gerado com sucesso!\nArquivo ../../md/mytable_q3_distribution_detailed.md  gerado com sucesso!\n"
     ]
    },
    {
     "output_type": "execute_result",
     "data": {
      "text/plain": [
       "                                                monitoring  count  \\\n",
       "0                                For each release analysed     18   \n",
       "1                                    For each release plan      4   \n",
       "2                                For each version analysed      2   \n",
       "3                                For each revision history      2   \n",
       "4  For each revision history and issues related to version      2   \n",
       "\n",
       "                                                                                                          sp  \n",
       "0  [SP5, SP8, SP9, SP12, SP14, SP16, SP17, SP19, SP21, SP22, SP28, SP30, SP36, SP37, SP47, SP48, SP49, SP57]  \n",
       "1                                                                                     [SP1, SP2, SP15, SP25]  \n",
       "2                                                                                                [SP3, SP18]  \n",
       "3                                                                                                 [SP4, SP7]  \n",
       "4                                                                                                [SP6, SP11]  "
      ],
      "text/html": "<div>\n<style scoped>\n    .dataframe tbody tr th:only-of-type {\n        vertical-align: middle;\n    }\n\n    .dataframe tbody tr th {\n        vertical-align: top;\n    }\n\n    .dataframe thead th {\n        text-align: right;\n    }\n</style>\n<table border=\"1\" class=\"dataframe\">\n  <thead>\n    <tr style=\"text-align: right;\">\n      <th></th>\n      <th>monitoring</th>\n      <th>count</th>\n      <th>sp</th>\n    </tr>\n  </thead>\n  <tbody>\n    <tr>\n      <th>0</th>\n      <td>For each release analysed</td>\n      <td>18</td>\n      <td>[SP5, SP8, SP9, SP12, SP14, SP16, SP17, SP19, SP21, SP22, SP28, SP30, SP36, SP37, SP47, SP48, SP49, SP57]</td>\n    </tr>\n    <tr>\n      <th>1</th>\n      <td>For each release plan</td>\n      <td>4</td>\n      <td>[SP1, SP2, SP15, SP25]</td>\n    </tr>\n    <tr>\n      <th>2</th>\n      <td>For each version analysed</td>\n      <td>2</td>\n      <td>[SP3, SP18]</td>\n    </tr>\n    <tr>\n      <th>3</th>\n      <td>For each revision history</td>\n      <td>2</td>\n      <td>[SP4, SP7]</td>\n    </tr>\n    <tr>\n      <th>4</th>\n      <td>For each revision history and issues related to version</td>\n      <td>2</td>\n      <td>[SP6, SP11]</td>\n    </tr>\n  </tbody>\n</table>\n</div>"
     },
     "metadata": {},
     "execution_count": 21
    }
   ],
   "source": [
    "# 1) Add new column grouped_by_monitoring\n",
    "df_sms_extraction['grouped_by_monitoring'] = None\n",
    "\n",
    "grouped_by_monitoring = temp_list_tuple_id_monitored\n",
    "# 2) Updating df_sms_extraction['grouped_by_monitoring']\n",
    "for each in grouped_by_monitoring:\n",
    "    j = 0\n",
    "    for item in df_sms_extraction['Paper Id']:\n",
    "        if each[0] == item: \n",
    "            df_sms_extraction['grouped_by_monitoring'].iloc[j] = each[1]\n",
    "        j = j + 1\n",
    "\n",
    "# 3) Creating list_by_monitoring using count \n",
    "list_by_monitoring = []\n",
    "for each in grouped_by_monitoring: \n",
    "    list_by_monitoring.append(each[1])\n",
    "\n",
    "list_by_monitoring = Counter(list_by_monitoring).most_common()\n",
    "\n",
    "# 5) Creating DataFrame df_my_monitoring\n",
    "monitoring = []\n",
    "count = []\n",
    "for each in list_by_monitoring: \n",
    "    monitoring.append(each[0])\n",
    "    count.append(each[1])\n",
    "my_monitoring = {'monitoring': monitoring, 'count':count}\n",
    "my_monitoring\n",
    "\n",
    "my_monitoring_id = list(range(1,len(list_by_monitoring)+1))\n",
    "my_monitoring_id\n",
    "\n",
    "df_my_monitoring = pd.DataFrame(data=my_monitoring, index=my_monitoring_id)\n",
    "df_my_monitoring.reset_index(drop=True, inplace=True)\n",
    "df_my_monitoring['sp'] = None\n",
    "\n",
    "# 5) Add new column with Selected Papers according grouped monitoring\n",
    "i = 0\n",
    "for each in df_my_monitoring['monitoring']:\n",
    "    list_sp_novo = []\n",
    "    j = 0\n",
    "    for item in df_sms_extraction['grouped_by_monitoring']:\n",
    "        if each == item: \n",
    "            list_sp_novo.append(df_sms_extraction['sp'].iloc[j])\n",
    "        j = j + 1\n",
    "    df_my_monitoring['sp'].iloc[i] = list_sp_novo\n",
    "    i = i + 1\n",
    "\n",
    "# 6) Save the latex table \n",
    "util.create_latex_table(my_df=df_my_monitoring, my_path='../../latex', my_file_name='mytable_q3_distribution_detailed.tex')\n",
    "util.create_markdown_table(my_df=df_my_monitoring, my_path='../../md', my_file_name='mytable_q3_distribution_detailed.md')\n",
    "df_my_monitoring"
   ]
  },
  {
   "cell_type": "code",
   "execution_count": 22,
   "metadata": {},
   "outputs": [
    {
     "output_type": "execute_result",
     "data": {
      "text/plain": [
       "                                                monitoring  count\n",
       "0                                For each release analysed     18\n",
       "1                                    For each release plan      4\n",
       "2                                For each version analysed      2\n",
       "3                                For each revision history      2\n",
       "4  For each revision history and issues related to version      2"
      ],
      "text/html": "<div>\n<style scoped>\n    .dataframe tbody tr th:only-of-type {\n        vertical-align: middle;\n    }\n\n    .dataframe tbody tr th {\n        vertical-align: top;\n    }\n\n    .dataframe thead th {\n        text-align: right;\n    }\n</style>\n<table border=\"1\" class=\"dataframe\">\n  <thead>\n    <tr style=\"text-align: right;\">\n      <th></th>\n      <th>monitoring</th>\n      <th>count</th>\n    </tr>\n  </thead>\n  <tbody>\n    <tr>\n      <th>0</th>\n      <td>For each release analysed</td>\n      <td>18</td>\n    </tr>\n    <tr>\n      <th>1</th>\n      <td>For each release plan</td>\n      <td>4</td>\n    </tr>\n    <tr>\n      <th>2</th>\n      <td>For each version analysed</td>\n      <td>2</td>\n    </tr>\n    <tr>\n      <th>3</th>\n      <td>For each revision history</td>\n      <td>2</td>\n    </tr>\n    <tr>\n      <th>4</th>\n      <td>For each revision history and issues related to version</td>\n      <td>2</td>\n    </tr>\n  </tbody>\n</table>\n</div>"
     },
     "metadata": {},
     "execution_count": 22
    }
   ],
   "source": [
    "df_temp = df_my_monitoring.query('count >= 1')[['monitoring', 'count']]\n",
    "df_temp"
   ]
  },
  {
   "cell_type": "code",
   "execution_count": 23,
   "metadata": {},
   "outputs": [
    {
     "output_type": "stream",
     "name": "stdout",
     "text": [
      "For each release analysed 31.58\\% (18 studies)\nFor each release plan 7.02\\% (4 studies)\nFor each version analysed 3.51\\% (2 studies)\nFor each revision history 3.51\\% (2 studies)\nFor each revision history and issues related to version 3.51\\% (2 studies)\n"
     ]
    }
   ],
   "source": [
    "my_total = 57\n",
    "for each in df_temp.values:\n",
    "    my_monitoring = each[0]\n",
    "    my_count = each[1]\n",
    "    print('{} {}\\% ({} studies)'.format(my_monitoring, round(my_count*100/my_total , 2), my_count ))"
   ]
  },
  {
   "cell_type": "code",
   "execution_count": 24,
   "metadata": {},
   "outputs": [
    {
     "output_type": "stream",
     "name": "stdout",
     "text": [
      "release analysed - The authors analyzed each release available and checked if the ATD items persist or not persist in the list that aids the monitored process. Generally used a proprietary formula to help the software architect evaluate the ATD items using automatic or semi-automatic tools to aid monitoring. \nrelease plan - The authors observed that the software architects check the ATD items, in the list of ATD, during the release plan and add or remove the ATD items manually for the subsequent releases.\nversion analysed - The authors used an open-source data set to analyze the versions available.\nrevision history - The authors used analysis of commits via revision history to identify the ATD items in the list of ATD. Generally using automatic tools to aid the monitoring process.\nrevision history and issues related - The authors used analysis of commits and issues to check the ATD items.\n"
     ]
    }
   ],
   "source": [
    "my_monitoring = ['release analysed', \n",
    "'release plan', \n",
    "'version analysed', \n",
    "'revision history', \n",
    "'revision history and issues related']\n",
    "\n",
    "my_definitions = ['The authors analyzed each release available and checked if the ATD items persist or not persist in the list that aids the monitored process. Generally used a proprietary formula to help the software architect evaluate the ATD items using automatic or semi-automatic tools to aid monitoring. ', \n",
    "'The authors observed that the software architects check the ATD items, in the list of ATD, during the release plan and add or remove the ATD items manually for the subsequent releases.', \n",
    "'The authors used an open-source data set to analyze the versions available.', \n",
    "'The authors used analysis of commits via revision history to identify the ATD items in the list of ATD. Generally using automatic tools to aid the monitoring process.', \n",
    "'The authors used analysis of commits and issues to check the ATD items.']\n",
    "\n",
    "my_monitoring_and_definitions = zip(my_monitoring, my_definitions)\n",
    "\n",
    "for each in my_monitoring_and_definitions: \n",
    "    print(f'{each[0]} - {each[1]}')"
   ]
  }
 ]
}