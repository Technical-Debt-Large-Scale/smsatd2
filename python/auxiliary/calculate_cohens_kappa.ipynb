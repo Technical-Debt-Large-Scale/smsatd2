{
 "cells": [
  {
   "cell_type": "code",
   "execution_count": 6,
   "metadata": {},
   "outputs": [],
   "source": [
    "import sklearn\n",
    "import numpy as np\n",
    "from sklearn import metrics"
   ]
  },
  {
   "cell_type": "code",
   "execution_count": 7,
   "metadata": {},
   "outputs": [],
   "source": [
    "def cohens_kappa(data_rater1, label_rater1, data_rater2, label_rater2):\n",
    "    try:\n",
    "        print(\"Cohen Kappa between\", label_rater1, label_rater2)\n",
    "        kappa = sklearn.metrics.cohen_kappa_score(data_rater1, data_rater2)\n",
    "        print(round(kappa,3))\n",
    "    except:\n",
    "        print(\"Indefined kappa\")\n",
    "    return"
   ]
  },
  {
   "cell_type": "markdown",
   "metadata": {},
   "source": [
    "# Round 1"
   ]
  },
  {
   "cell_type": "code",
   "execution_count": 8,
   "metadata": {},
   "outputs": [
    {
     "name": "stdout",
     "output_type": "stream",
     "text": [
      "Cohen Kappa between Armando Ricardo\n",
      "0.615\n",
      "Cohen Kappa between Armando Lincoln\n",
      "nan\n"
     ]
    }
   ],
   "source": [
    "y_armando_sample1 = [1, 1, 1, 1, 1, 1, 0, 1, 1, 1]\n",
    "y_ricardo = [1, 1, 1, 0, 1, 1, 0, 1, 1, 1]\n",
    "\n",
    "y_armando_sample2 = [1, 1, 1, 1, 1, 1, 1, 1, 1, 1]\n",
    "y_lincoln = [1, 1, 1, 1, 1, 1, 1, 1, 1, 1]\n",
    "\n",
    "cohens_kappa(y_armando_sample1,\"Armando\",  y_ricardo, \"Ricardo\")\n",
    "cohens_kappa(y_armando_sample2,\"Armando\",  y_lincoln, \"Lincoln\")"
   ]
  },
  {
   "cell_type": "markdown",
   "metadata": {},
   "source": [
    "# Round 2"
   ]
  },
  {
   "cell_type": "code",
   "execution_count": 9,
   "metadata": {},
   "outputs": [
    {
     "name": "stdout",
     "output_type": "stream",
     "text": [
      "Cohen Kappa between Armando Ricardo\n",
      "1.0\n",
      "Cohen Kappa between Armando Lincoln\n",
      "nan\n"
     ]
    }
   ],
   "source": [
    "paper_id_sample1 = [2, 3, 10, 13,14,15,32,33,34,65]\n",
    "y_armando_sample1 = [1, 1, 1, 1, 1, 1, 0, 1, 1, 1]\n",
    "y_ricardo_round2 = [1, 1, 1, 1, 1, 1, 0, 1, 1, 1]\n",
    "\n",
    "paper_id_sample2 = [78,85,88,103,104,129,133,145,182,199]\n",
    "y_armando_sample2 = [1, 1, 1, 1, 1, 1, 1, 1, 1, 1]\n",
    "y_lincoln = [1, 1, 1, 1, 1, 1, 1, 1, 1, 1]\n",
    "\n",
    "cohens_kappa(y_armando_sample1,\"Armando\",  y_ricardo_round2, \"Ricardo\")\n",
    "cohens_kappa(y_armando_sample2,\"Armando\",  y_lincoln, \"Lincoln\")"
   ]
  }
 ],
 "metadata": {
  "kernelspec": {
   "display_name": "Python 3",
   "language": "python",
   "name": "python3"
  },
  "language_info": {
   "codemirror_mode": {
    "name": "ipython",
    "version": 3
   },
   "file_extension": ".py",
   "mimetype": "text/x-python",
   "name": "python",
   "nbconvert_exporter": "python",
   "pygments_lexer": "ipython3",
   "version": "3.6.3"
  }
 },
 "nbformat": 4,
 "nbformat_minor": 2
}
