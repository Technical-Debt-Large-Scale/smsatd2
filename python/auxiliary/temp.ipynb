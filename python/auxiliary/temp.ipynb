{
 "metadata": {
  "language_info": {
   "codemirror_mode": {
    "name": "ipython",
    "version": 3
   },
   "file_extension": ".py",
   "mimetype": "text/x-python",
   "name": "python",
   "nbconvert_exporter": "python",
   "pygments_lexer": "ipython3",
   "version": "3.6.3-final"
  },
  "orig_nbformat": 2,
  "kernelspec": {
   "name": "python3",
   "display_name": "Python 3",
   "language": "python"
  }
 },
 "nbformat": 4,
 "nbformat_minor": 2,
 "cells": [
  {
   "cell_type": "code",
   "execution_count": 2,
   "metadata": {},
   "outputs": [],
   "source": [
    "import os\n",
    "import sys\n",
    "nb_dir = os.path.split(os.getcwd())[0]\n",
    "if nb_dir not in sys.path:\n",
    "    sys.path.append(nb_dir)\n",
    "\n",
    "import pandas as pd"
   ]
  },
  {
   "cell_type": "code",
   "execution_count": 3,
   "metadata": {},
   "outputs": [
    {
     "output_type": "stream",
     "name": "stdout",
     "text": [
      "<class 'pandas.core.frame.DataFrame'>\nRangeIndex: 47 entries, 0 to 46\nData columns (total 34 columns):\nPaper Id                                                                                            47 non-null int64\nCitation                                                                                            47 non-null object\nGoogle Scholar                                                                                      47 non-null object\nAuthors                                                                                             47 non-null object\nTitle                                                                                               47 non-null object\nPublication Year                                                                                    47 non-null int64\nAbstract                                                                                            47 non-null object\nVenue Type                                                                                          47 non-null object\nVenue                                                                                               47 non-null object\nName of Venue                                                                                       47 non-null object\nField                                                                                               47 non-null object\nKey words                                                                                           47 non-null object\nNumber of Pages                                                                                     47 non-null int64\nMain aim (Goal)                                                                                     47 non-null object\nTechniques, approach and methods (parsed)                                                           47 non-null object\nTechniques, approach, methods and tools                                                             46 non-null object\nResearch Type (Evaluation Research, Validation Research, Solution Proposal, Philosophycal paper)    0 non-null float64\nKind of research 2                                                                                  44 non-null object\nKind of reasearch                                                                                   45 non-null object\nQ1                                                                                                  43 non-null object\nQ2                                                                                                  42 non-null object\nQ3                                                                                                  42 non-null object\nQ4                                                                                                  42 non-null object\nExtra (Conclusion)                                                                                  47 non-null object\nExtra2 (Related work)                                                                               41 non-null object\nRelated work (original)                                                                             41 non-null object\nExtra 3 (Important work)                                                                            31 non-null object\nImportant work (original)                                                                           31 non-null object\nStrong Aspects                                                                                      38 non-null object\nWeak Aspects                                                                                        38 non-null object\nScientific Rigor                                                                                    39 non-null object\nPaper relevance                                                                                     39 non-null object\nLimitations                                                                                         38 non-null object\nFuture Works                                                                                        38 non-null object\ndtypes: float64(1), int64(3), object(30)\nmemory usage: 12.6+ KB\n"
     ]
    }
   ],
   "source": [
    "# Import papers spreadsheet to dataset\n",
    "df_sms_extraction = pd.read_excel('../../dataset/Extraction_form.xlsx')\n",
    "df_sms_extraction.info()"
   ]
  },
  {
   "source": [
    "## The papers below have to be revised:"
   ],
   "cell_type": "markdown",
   "metadata": {}
  },
  {
   "cell_type": "code",
   "execution_count": 8,
   "metadata": {},
   "outputs": [
    {
     "output_type": "execute_result",
     "data": {
      "text/plain": [
       "    Paper Id                Citation  \\\n",
       "36        24          Cai el al 2018   \n",
       "38        78  Ludwig and Webber 2017   \n",
       "\n",
       "                                                Title  \n",
       "36  Design Rule Spaces: A New Model for Representi...  \n",
       "38  Compiling Static Software Metrics for Reliabil...  "
      ],
      "text/html": "<div>\n<style scoped>\n    .dataframe tbody tr th:only-of-type {\n        vertical-align: middle;\n    }\n\n    .dataframe tbody tr th {\n        vertical-align: top;\n    }\n\n    .dataframe thead th {\n        text-align: right;\n    }\n</style>\n<table border=\"1\" class=\"dataframe\">\n  <thead>\n    <tr style=\"text-align: right;\">\n      <th></th>\n      <th>Paper Id</th>\n      <th>Citation</th>\n      <th>Title</th>\n    </tr>\n  </thead>\n  <tbody>\n    <tr>\n      <th>36</th>\n      <td>24</td>\n      <td>Cai el al 2018</td>\n      <td>Design Rule Spaces: A New Model for Representi...</td>\n    </tr>\n    <tr>\n      <th>38</th>\n      <td>78</td>\n      <td>Ludwig and Webber 2017</td>\n      <td>Compiling Static Software Metrics for Reliabil...</td>\n    </tr>\n  </tbody>\n</table>\n</div>"
     },
     "metadata": {},
     "execution_count": 8
    }
   ],
   "source": [
    "df_sms_extraction[df_sms_extraction[\"Kind of reasearch\"].isnull()][['Paper Id', 'Citation', 'Title']]"
   ]
  },
  {
   "cell_type": "code",
   "execution_count": 9,
   "metadata": {},
   "outputs": [
    {
     "output_type": "execute_result",
     "data": {
      "text/plain": [
       "    Paper Id                     Citation  \\\n",
       "17        38          Cai and Kazman 2016   \n",
       "41        85             Kumar et al 2018   \n",
       "16        30          Martini et al. 2018   \n",
       "35        35           Martini et al 2015   \n",
       "11        16       Martini and Bosch 2017   \n",
       "46        40      Damian A. Tamburri 2019   \n",
       "36        24               Cai el al 2018   \n",
       "29        63  Spinellis and Avgeriou 2019   \n",
       "\n",
       "                                                Title  Number of Pages  \n",
       "17               Software Architecture Health Monitor                4  \n",
       "41  Exploring multilateral cloud computing securit...               13  \n",
       "16  Identifying and Prioritizing Architectural Deb...               16  \n",
       "35  Investigating Architectural Technical Debt acc...               17  \n",
       "11  On the interest of architectural technical deb...               18  \n",
       "46  Software Architecture Social Debt: Managing th...               18  \n",
       "36  Design Rule Spaces: A New Model for Representi...               27  \n",
       "29  Evolution of the Unix System Architecture: An ...               31  "
      ],
      "text/html": "<div>\n<style scoped>\n    .dataframe tbody tr th:only-of-type {\n        vertical-align: middle;\n    }\n\n    .dataframe tbody tr th {\n        vertical-align: top;\n    }\n\n    .dataframe thead th {\n        text-align: right;\n    }\n</style>\n<table border=\"1\" class=\"dataframe\">\n  <thead>\n    <tr style=\"text-align: right;\">\n      <th></th>\n      <th>Paper Id</th>\n      <th>Citation</th>\n      <th>Title</th>\n      <th>Number of Pages</th>\n    </tr>\n  </thead>\n  <tbody>\n    <tr>\n      <th>17</th>\n      <td>38</td>\n      <td>Cai and Kazman 2016</td>\n      <td>Software Architecture Health Monitor</td>\n      <td>4</td>\n    </tr>\n    <tr>\n      <th>41</th>\n      <td>85</td>\n      <td>Kumar et al 2018</td>\n      <td>Exploring multilateral cloud computing securit...</td>\n      <td>13</td>\n    </tr>\n    <tr>\n      <th>16</th>\n      <td>30</td>\n      <td>Martini et al. 2018</td>\n      <td>Identifying and Prioritizing Architectural Deb...</td>\n      <td>16</td>\n    </tr>\n    <tr>\n      <th>35</th>\n      <td>35</td>\n      <td>Martini et al 2015</td>\n      <td>Investigating Architectural Technical Debt acc...</td>\n      <td>17</td>\n    </tr>\n    <tr>\n      <th>11</th>\n      <td>16</td>\n      <td>Martini and Bosch 2017</td>\n      <td>On the interest of architectural technical deb...</td>\n      <td>18</td>\n    </tr>\n    <tr>\n      <th>46</th>\n      <td>40</td>\n      <td>Damian A. Tamburri 2019</td>\n      <td>Software Architecture Social Debt: Managing th...</td>\n      <td>18</td>\n    </tr>\n    <tr>\n      <th>36</th>\n      <td>24</td>\n      <td>Cai el al 2018</td>\n      <td>Design Rule Spaces: A New Model for Representi...</td>\n      <td>27</td>\n    </tr>\n    <tr>\n      <th>29</th>\n      <td>63</td>\n      <td>Spinellis and Avgeriou 2019</td>\n      <td>Evolution of the Unix System Architecture: An ...</td>\n      <td>31</td>\n    </tr>\n  </tbody>\n</table>\n</div>"
     },
     "metadata": {},
     "execution_count": 9
    }
   ],
   "source": [
    "df_sms_extraction[df_sms_extraction[\"Scientific Rigor\"].isnull()][['Paper Id','Citation', 'Title', 'Number of Pages']].sort_values(by=['Number of Pages'])"
   ]
  },
  {
   "cell_type": "code",
   "execution_count": 10,
   "metadata": {},
   "outputs": [],
   "source": [
    "dados_incompletos = ['Q1 (Measure) yes - what?', 'Q2 (Monitoring) yes - how?', 'Q3 (Techniques and Tools) yes - what?', 'Q4 (Calculate the cost) yes - how?', 'Strong Aspects', 'Weak Aspects', 'Scientific Rigor', 'Paper relevance', 'Limitations', 'Future Works']"
   ]
  },
  {
   "source": [
    "## Papers group by Size of pages"
   ],
   "cell_type": "markdown",
   "metadata": {}
  },
  {
   "cell_type": "code",
   "execution_count": 13,
   "metadata": {},
   "outputs": [],
   "source": [
    "list_of_columns_using_pages = ['Paper Id', 'Citation', 'Number of Pages', 'Title']\n",
    "mask1 = df_sms_extraction['Number of Pages'] <= 5\n",
    "df_papers_until_5_pages = df_sms_extraction[mask1][list_of_columns_using_pages]\n",
    "df_papers_until_5_pages = df_papers_until_5_pages.sort_values(by=['Number of Pages'])\n",
    "mask2 = (df_sms_extraction['Number of Pages'] > 5) & (df_sms_extraction['Number of Pages'] <= 15)\n",
    "df_papers_from_6_to_15_pages = df_sms_extraction[mask2][list_of_columns_using_pages]\n",
    "df_papers_from_6_to_15_pages = df_papers_from_6_to_15_pages.sort_values(by=['Number of Pages'])\n",
    "mask3 = (df_sms_extraction['Number of Pages'] > 15) & (df_sms_extraction['Number of Pages'] <= 20)\n",
    "df_papers_from_16_to_20_pages = df_sms_extraction[mask3][list_of_columns_using_pages]\n",
    "df_papers_from_16_to_20_pages = df_papers_from_16_to_20_pages.sort_values(by=['Number of Pages'])\n",
    "mask4 = df_sms_extraction['Number of Pages'] > 20\n",
    "df_papers_over_20_pages = df_sms_extraction[mask4][list_of_columns_using_pages]\n",
    "df_papers_over_20_pages = df_papers_over_20_pages.sort_values(by=['Number of Pages'])"
   ]
  },
  {
   "cell_type": "code",
   "execution_count": 14,
   "metadata": {},
   "outputs": [
    {
     "output_type": "stream",
     "name": "stdout",
     "text": [
      "Papers size of pages from 6 to 9 pages: 11\n"
     ]
    },
    {
     "output_type": "execute_result",
     "data": {
      "text/plain": [
       "    Paper Id                        Citation  Number of Pages  \\\n",
       "33        66  Martini, Besker and Bosch 2016                8   \n",
       "32        67          Ampatzoglou et al 2016                8   \n",
       "28        52             Fontana et al. 2019                8   \n",
       "24        31            Eliasson et al. 2015                8   \n",
       "20        20                   Tommasel 2019                8   \n",
       "14        22             Martini et al. 2014                8   \n",
       "15        27             Martini et al. 2016                8   \n",
       "19        47          Martini and Bosch 2015                8   \n",
       "2          3              Roveda et al. 2018                9   \n",
       "39        81               Curtis et al 2012                9   \n",
       "44        91               Bogner et al 2018                9   \n",
       "\n",
       "                                                Title  \n",
       "33  The Introduction of Technical Debt Tracking in...  \n",
       "32  The Perception of Technical Debt in the Embedd...  \n",
       "28   PageRank and criticality of architectural smells  \n",
       "24  Identifying and Visualizing Architectural Debt...  \n",
       "20  Applying Social Network Analysis Techniques to...  \n",
       "14  Architecture Technical Debt: Understanding Cau...  \n",
       "15  Estimating and Quantifying the Benefits of Ref...  \n",
       "19  Towards Prioritizing Architecture Technical De...  \n",
       "2                 Towards an Architectural Debt Index  \n",
       "39  Estimating the principal of an applications te...  \n",
       "44  Limiting technical debt with maintainability a...  "
      ],
      "text/html": "<div>\n<style scoped>\n    .dataframe tbody tr th:only-of-type {\n        vertical-align: middle;\n    }\n\n    .dataframe tbody tr th {\n        vertical-align: top;\n    }\n\n    .dataframe thead th {\n        text-align: right;\n    }\n</style>\n<table border=\"1\" class=\"dataframe\">\n  <thead>\n    <tr style=\"text-align: right;\">\n      <th></th>\n      <th>Paper Id</th>\n      <th>Citation</th>\n      <th>Number of Pages</th>\n      <th>Title</th>\n    </tr>\n  </thead>\n  <tbody>\n    <tr>\n      <th>33</th>\n      <td>66</td>\n      <td>Martini, Besker and Bosch 2016</td>\n      <td>8</td>\n      <td>The Introduction of Technical Debt Tracking in...</td>\n    </tr>\n    <tr>\n      <th>32</th>\n      <td>67</td>\n      <td>Ampatzoglou et al 2016</td>\n      <td>8</td>\n      <td>The Perception of Technical Debt in the Embedd...</td>\n    </tr>\n    <tr>\n      <th>28</th>\n      <td>52</td>\n      <td>Fontana et al. 2019</td>\n      <td>8</td>\n      <td>PageRank and criticality of architectural smells</td>\n    </tr>\n    <tr>\n      <th>24</th>\n      <td>31</td>\n      <td>Eliasson et al. 2015</td>\n      <td>8</td>\n      <td>Identifying and Visualizing Architectural Debt...</td>\n    </tr>\n    <tr>\n      <th>20</th>\n      <td>20</td>\n      <td>Tommasel 2019</td>\n      <td>8</td>\n      <td>Applying Social Network Analysis Techniques to...</td>\n    </tr>\n    <tr>\n      <th>14</th>\n      <td>22</td>\n      <td>Martini et al. 2014</td>\n      <td>8</td>\n      <td>Architecture Technical Debt: Understanding Cau...</td>\n    </tr>\n    <tr>\n      <th>15</th>\n      <td>27</td>\n      <td>Martini et al. 2016</td>\n      <td>8</td>\n      <td>Estimating and Quantifying the Benefits of Ref...</td>\n    </tr>\n    <tr>\n      <th>19</th>\n      <td>47</td>\n      <td>Martini and Bosch 2015</td>\n      <td>8</td>\n      <td>Towards Prioritizing Architecture Technical De...</td>\n    </tr>\n    <tr>\n      <th>2</th>\n      <td>3</td>\n      <td>Roveda et al. 2018</td>\n      <td>9</td>\n      <td>Towards an Architectural Debt Index</td>\n    </tr>\n    <tr>\n      <th>39</th>\n      <td>81</td>\n      <td>Curtis et al 2012</td>\n      <td>9</td>\n      <td>Estimating the principal of an applications te...</td>\n    </tr>\n    <tr>\n      <th>44</th>\n      <td>91</td>\n      <td>Bogner et al 2018</td>\n      <td>9</td>\n      <td>Limiting technical debt with maintainability a...</td>\n    </tr>\n  </tbody>\n</table>\n</div>"
     },
     "metadata": {},
     "execution_count": 14
    }
   ],
   "source": [
    "mask_aux = df_papers_from_6_to_15_pages['Number of Pages'] <= 9 \n",
    "print('Papers size of pages from 6 to 9 pages: {}'.format( len(df_papers_from_6_to_15_pages[mask_aux].sort_values(by=['Number of Pages'])) ))\n",
    "df_papers_from_6_to_15_pages[mask_aux].sort_values(by=['Number of Pages'])"
   ]
  },
  {
   "cell_type": "code",
   "execution_count": 15,
   "metadata": {},
   "outputs": [
    {
     "output_type": "stream",
     "name": "stdout",
     "text": [
      "Papers size of pages until 5 pages: 14\n"
     ]
    },
    {
     "output_type": "execute_result",
     "data": {
      "text/plain": [
       "    Paper Id                Citation  Number of Pages  \\\n",
       "9         14         Verdecchia 2018                2   \n",
       "10        15   Zitzweitz et al. 2019                2   \n",
       "22        26     Cai and Kazman 2019                2   \n",
       "12        17     Fontana et al. 2016                3   \n",
       "3          4      Snipes et al. 2018                4   \n",
       "17        38     Cai and Kazman 2016                4   \n",
       "23        28      Skiada et al. 2018                4   \n",
       "25        44     Fontana et al. 2016                4   \n",
       "45        97   Andrzej Zalewski 2017                4   \n",
       "0          1       Perez et al. 2019                5   \n",
       "30        73    Izurieta et al. 2018                5   \n",
       "38        78  Ludwig and Webber 2017                5   \n",
       "40        82       Curtis et al 2012                5   \n",
       "42        88      Hanssen et al 2019                5   \n",
       "\n",
       "                                                Title  \n",
       "9   Identifying Architectural Technical Debt in An...  \n",
       "10  Mitigating Technical and Architectural Debt wi...  \n",
       "22  DV8: Automated Architecture Analysis Tool Suites   \n",
       "12  Tool support for evaluating architectural debt...  \n",
       "3   A Case Study of the Effects of Architecture De...  \n",
       "17               Software Architecture Health Monitor  \n",
       "23  Exploring the Relationship between Software Mo...  \n",
       "25  Technical Debt Indexes provided by tools: a pr...  \n",
       "45     Risk Appetite in Architectural Decision-Making  \n",
       "0   A Proposed Model-driven Approach to Manage Arc...  \n",
       "30  A position study to investigate technical debt...  \n",
       "38  Compiling Static Software Metrics for Reliabil...  \n",
       "40  Estimating the Size, Cost, and Types of Techni...  \n",
       "42       Identifying Scalability Debt in Open Systems  "
      ],
      "text/html": "<div>\n<style scoped>\n    .dataframe tbody tr th:only-of-type {\n        vertical-align: middle;\n    }\n\n    .dataframe tbody tr th {\n        vertical-align: top;\n    }\n\n    .dataframe thead th {\n        text-align: right;\n    }\n</style>\n<table border=\"1\" class=\"dataframe\">\n  <thead>\n    <tr style=\"text-align: right;\">\n      <th></th>\n      <th>Paper Id</th>\n      <th>Citation</th>\n      <th>Number of Pages</th>\n      <th>Title</th>\n    </tr>\n  </thead>\n  <tbody>\n    <tr>\n      <th>9</th>\n      <td>14</td>\n      <td>Verdecchia 2018</td>\n      <td>2</td>\n      <td>Identifying Architectural Technical Debt in An...</td>\n    </tr>\n    <tr>\n      <th>10</th>\n      <td>15</td>\n      <td>Zitzweitz et al. 2019</td>\n      <td>2</td>\n      <td>Mitigating Technical and Architectural Debt wi...</td>\n    </tr>\n    <tr>\n      <th>22</th>\n      <td>26</td>\n      <td>Cai and Kazman 2019</td>\n      <td>2</td>\n      <td>DV8: Automated Architecture Analysis Tool Suites</td>\n    </tr>\n    <tr>\n      <th>12</th>\n      <td>17</td>\n      <td>Fontana et al. 2016</td>\n      <td>3</td>\n      <td>Tool support for evaluating architectural debt...</td>\n    </tr>\n    <tr>\n      <th>3</th>\n      <td>4</td>\n      <td>Snipes et al. 2018</td>\n      <td>4</td>\n      <td>A Case Study of the Effects of Architecture De...</td>\n    </tr>\n    <tr>\n      <th>17</th>\n      <td>38</td>\n      <td>Cai and Kazman 2016</td>\n      <td>4</td>\n      <td>Software Architecture Health Monitor</td>\n    </tr>\n    <tr>\n      <th>23</th>\n      <td>28</td>\n      <td>Skiada et al. 2018</td>\n      <td>4</td>\n      <td>Exploring the Relationship between Software Mo...</td>\n    </tr>\n    <tr>\n      <th>25</th>\n      <td>44</td>\n      <td>Fontana et al. 2016</td>\n      <td>4</td>\n      <td>Technical Debt Indexes provided by tools: a pr...</td>\n    </tr>\n    <tr>\n      <th>45</th>\n      <td>97</td>\n      <td>Andrzej Zalewski 2017</td>\n      <td>4</td>\n      <td>Risk Appetite in Architectural Decision-Making</td>\n    </tr>\n    <tr>\n      <th>0</th>\n      <td>1</td>\n      <td>Perez et al. 2019</td>\n      <td>5</td>\n      <td>A Proposed Model-driven Approach to Manage Arc...</td>\n    </tr>\n    <tr>\n      <th>30</th>\n      <td>73</td>\n      <td>Izurieta et al. 2018</td>\n      <td>5</td>\n      <td>A position study to investigate technical debt...</td>\n    </tr>\n    <tr>\n      <th>38</th>\n      <td>78</td>\n      <td>Ludwig and Webber 2017</td>\n      <td>5</td>\n      <td>Compiling Static Software Metrics for Reliabil...</td>\n    </tr>\n    <tr>\n      <th>40</th>\n      <td>82</td>\n      <td>Curtis et al 2012</td>\n      <td>5</td>\n      <td>Estimating the Size, Cost, and Types of Techni...</td>\n    </tr>\n    <tr>\n      <th>42</th>\n      <td>88</td>\n      <td>Hanssen et al 2019</td>\n      <td>5</td>\n      <td>Identifying Scalability Debt in Open Systems</td>\n    </tr>\n  </tbody>\n</table>\n</div>"
     },
     "metadata": {},
     "execution_count": 15
    }
   ],
   "source": [
    "print('Papers size of pages until 5 pages: {}'.format( len(df_papers_until_5_pages.sort_values(by=['Number of Pages'])) ))\n",
    "df_papers_until_5_pages.sort_values(by=['Number of Pages'])"
   ]
  },
  {
   "cell_type": "code",
   "execution_count": 16,
   "metadata": {},
   "outputs": [
    {
     "output_type": "stream",
     "name": "stdout",
     "text": [
      "Papers size of pages > 9 and < 15: 15\n"
     ]
    },
    {
     "output_type": "execute_result",
     "data": {
      "text/plain": [
       "    Paper Id                        Citation  Number of Pages  \\\n",
       "13        21                  Li et al. 2015               10   \n",
       "43        90               Sierra et al 2019               10   \n",
       "7         10             Martini et al. 2016               10   \n",
       "6          9                  Li et al. 2014               10   \n",
       "34        96              Aaramaa et al 2017               10   \n",
       "4          5              Nayebi et al. 2019               10   \n",
       "18        48              Kazman et al. 2015               10   \n",
       "21        33                Nord et al. 2012               10   \n",
       "8         13                Xiao et al. 2016               11   \n",
       "27        51                 Sas et al. 2019               11   \n",
       "31        69  Besker, Martini and Bosch 2017               11   \n",
       "37        77               Bogner et al 2019               11   \n",
       "5          7                Feng et al. 2019               12   \n",
       "26        43    MacComark and Sturteant 2016               13   \n",
       "41        85                Kumar et al 2018               13   \n",
       "\n",
       "                                                Title  \n",
       "13  Architectural Technical Debt Identification ba...  \n",
       "43  Is Self-Admitted Technical Debt a Good Indicat...  \n",
       "7   An Empirically Developed Method to Aid Decisio...  \n",
       "6   An  Empirical Investigation of Modularity Metr...  \n",
       "34  Requirements volatility in software architectu...  \n",
       "4   A Longitudinal Study of Identifying and Paying...  \n",
       "18  A Case Study in Locating the Architectural Roo...  \n",
       "21  In Search of a Metric for Managing Architectur...  \n",
       "8     Identifying and Quantifying Architectural Debt   \n",
       "27  Investigating Instability Architectural Smells...  \n",
       "31  The pricey bill of technical debt: When and by...  \n",
       "37  Assuring the Evolvability of Microservices: In...  \n",
       "5   Active Hotspot: An Issue-Oriented Model to Mon...  \n",
       "26  Technical debt and system architecture: The im...  \n",
       "41  Exploring multilateral cloud computing securit...  "
      ],
      "text/html": "<div>\n<style scoped>\n    .dataframe tbody tr th:only-of-type {\n        vertical-align: middle;\n    }\n\n    .dataframe tbody tr th {\n        vertical-align: top;\n    }\n\n    .dataframe thead th {\n        text-align: right;\n    }\n</style>\n<table border=\"1\" class=\"dataframe\">\n  <thead>\n    <tr style=\"text-align: right;\">\n      <th></th>\n      <th>Paper Id</th>\n      <th>Citation</th>\n      <th>Number of Pages</th>\n      <th>Title</th>\n    </tr>\n  </thead>\n  <tbody>\n    <tr>\n      <th>13</th>\n      <td>21</td>\n      <td>Li et al. 2015</td>\n      <td>10</td>\n      <td>Architectural Technical Debt Identification ba...</td>\n    </tr>\n    <tr>\n      <th>43</th>\n      <td>90</td>\n      <td>Sierra et al 2019</td>\n      <td>10</td>\n      <td>Is Self-Admitted Technical Debt a Good Indicat...</td>\n    </tr>\n    <tr>\n      <th>7</th>\n      <td>10</td>\n      <td>Martini et al. 2016</td>\n      <td>10</td>\n      <td>An Empirically Developed Method to Aid Decisio...</td>\n    </tr>\n    <tr>\n      <th>6</th>\n      <td>9</td>\n      <td>Li et al. 2014</td>\n      <td>10</td>\n      <td>An  Empirical Investigation of Modularity Metr...</td>\n    </tr>\n    <tr>\n      <th>34</th>\n      <td>96</td>\n      <td>Aaramaa et al 2017</td>\n      <td>10</td>\n      <td>Requirements volatility in software architectu...</td>\n    </tr>\n    <tr>\n      <th>4</th>\n      <td>5</td>\n      <td>Nayebi et al. 2019</td>\n      <td>10</td>\n      <td>A Longitudinal Study of Identifying and Paying...</td>\n    </tr>\n    <tr>\n      <th>18</th>\n      <td>48</td>\n      <td>Kazman et al. 2015</td>\n      <td>10</td>\n      <td>A Case Study in Locating the Architectural Roo...</td>\n    </tr>\n    <tr>\n      <th>21</th>\n      <td>33</td>\n      <td>Nord et al. 2012</td>\n      <td>10</td>\n      <td>In Search of a Metric for Managing Architectur...</td>\n    </tr>\n    <tr>\n      <th>8</th>\n      <td>13</td>\n      <td>Xiao et al. 2016</td>\n      <td>11</td>\n      <td>Identifying and Quantifying Architectural Debt</td>\n    </tr>\n    <tr>\n      <th>27</th>\n      <td>51</td>\n      <td>Sas et al. 2019</td>\n      <td>11</td>\n      <td>Investigating Instability Architectural Smells...</td>\n    </tr>\n    <tr>\n      <th>31</th>\n      <td>69</td>\n      <td>Besker, Martini and Bosch 2017</td>\n      <td>11</td>\n      <td>The pricey bill of technical debt: When and by...</td>\n    </tr>\n    <tr>\n      <th>37</th>\n      <td>77</td>\n      <td>Bogner et al 2019</td>\n      <td>11</td>\n      <td>Assuring the Evolvability of Microservices: In...</td>\n    </tr>\n    <tr>\n      <th>5</th>\n      <td>7</td>\n      <td>Feng et al. 2019</td>\n      <td>12</td>\n      <td>Active Hotspot: An Issue-Oriented Model to Mon...</td>\n    </tr>\n    <tr>\n      <th>26</th>\n      <td>43</td>\n      <td>MacComark and Sturteant 2016</td>\n      <td>13</td>\n      <td>Technical debt and system architecture: The im...</td>\n    </tr>\n    <tr>\n      <th>41</th>\n      <td>85</td>\n      <td>Kumar et al 2018</td>\n      <td>13</td>\n      <td>Exploring multilateral cloud computing securit...</td>\n    </tr>\n  </tbody>\n</table>\n</div>"
     },
     "metadata": {},
     "execution_count": 16
    }
   ],
   "source": [
    "mask_aux2 = df_papers_from_6_to_15_pages['Number of Pages'] > 9\n",
    "print('Papers size of pages > 9 and < 15: {}'.format( len(df_papers_from_6_to_15_pages[mask_aux2].sort_values(by=['Number of Pages'])) ))\n",
    "df_papers_from_6_to_15_pages[mask_aux2].sort_values(by=['Number of Pages'])"
   ]
  },
  {
   "cell_type": "code",
   "execution_count": 17,
   "metadata": {},
   "outputs": [
    {
     "output_type": "stream",
     "name": "stdout",
     "text": [
      "Papers size of pages from 16 to 20 pages: 5\n"
     ]
    },
    {
     "output_type": "execute_result",
     "data": {
      "text/plain": [
       "    Paper Id                 Citation  Number of Pages  \\\n",
       "1          2       Martini et al 2017               16   \n",
       "16        30      Martini et al. 2018               16   \n",
       "35        35       Martini et al 2015               17   \n",
       "11        16   Martini and Bosch 2017               18   \n",
       "46        40  Damian A. Tamburri 2019               18   \n",
       "\n",
       "                                                Title  \n",
       "1   A semi-automated framework for the identificat...  \n",
       "16  Identifying and Prioritizing Architectural Deb...  \n",
       "35  Investigating Architectural Technical Debt acc...  \n",
       "11  On the interest of architectural technical deb...  \n",
       "46  Software Architecture Social Debt: Managing th...  "
      ],
      "text/html": "<div>\n<style scoped>\n    .dataframe tbody tr th:only-of-type {\n        vertical-align: middle;\n    }\n\n    .dataframe tbody tr th {\n        vertical-align: top;\n    }\n\n    .dataframe thead th {\n        text-align: right;\n    }\n</style>\n<table border=\"1\" class=\"dataframe\">\n  <thead>\n    <tr style=\"text-align: right;\">\n      <th></th>\n      <th>Paper Id</th>\n      <th>Citation</th>\n      <th>Number of Pages</th>\n      <th>Title</th>\n    </tr>\n  </thead>\n  <tbody>\n    <tr>\n      <th>1</th>\n      <td>2</td>\n      <td>Martini et al 2017</td>\n      <td>16</td>\n      <td>A semi-automated framework for the identificat...</td>\n    </tr>\n    <tr>\n      <th>16</th>\n      <td>30</td>\n      <td>Martini et al. 2018</td>\n      <td>16</td>\n      <td>Identifying and Prioritizing Architectural Deb...</td>\n    </tr>\n    <tr>\n      <th>35</th>\n      <td>35</td>\n      <td>Martini et al 2015</td>\n      <td>17</td>\n      <td>Investigating Architectural Technical Debt acc...</td>\n    </tr>\n    <tr>\n      <th>11</th>\n      <td>16</td>\n      <td>Martini and Bosch 2017</td>\n      <td>18</td>\n      <td>On the interest of architectural technical deb...</td>\n    </tr>\n    <tr>\n      <th>46</th>\n      <td>40</td>\n      <td>Damian A. Tamburri 2019</td>\n      <td>18</td>\n      <td>Software Architecture Social Debt: Managing th...</td>\n    </tr>\n  </tbody>\n</table>\n</div>"
     },
     "metadata": {},
     "execution_count": 17
    }
   ],
   "source": [
    "print('Papers size of pages from 16 to 20 pages: {}'.format( len(df_papers_from_16_to_20_pages)) )\n",
    "df_papers_from_16_to_20_pages"
   ]
  },
  {
   "cell_type": "code",
   "execution_count": 18,
   "metadata": {},
   "outputs": [
    {
     "output_type": "stream",
     "name": "stdout",
     "text": [
      "Papers size of pages from 15 to 20 pages: 2\n"
     ]
    },
    {
     "output_type": "execute_result",
     "data": {
      "text/plain": [
       "    Paper Id                     Citation  Number of Pages  \\\n",
       "36        24               Cai el al 2018               27   \n",
       "29        63  Spinellis and Avgeriou 2019               31   \n",
       "\n",
       "                                                Title  \n",
       "36  Design Rule Spaces: A New Model for Representi...  \n",
       "29  Evolution of the Unix System Architecture: An ...  "
      ],
      "text/html": "<div>\n<style scoped>\n    .dataframe tbody tr th:only-of-type {\n        vertical-align: middle;\n    }\n\n    .dataframe tbody tr th {\n        vertical-align: top;\n    }\n\n    .dataframe thead th {\n        text-align: right;\n    }\n</style>\n<table border=\"1\" class=\"dataframe\">\n  <thead>\n    <tr style=\"text-align: right;\">\n      <th></th>\n      <th>Paper Id</th>\n      <th>Citation</th>\n      <th>Number of Pages</th>\n      <th>Title</th>\n    </tr>\n  </thead>\n  <tbody>\n    <tr>\n      <th>36</th>\n      <td>24</td>\n      <td>Cai el al 2018</td>\n      <td>27</td>\n      <td>Design Rule Spaces: A New Model for Representi...</td>\n    </tr>\n    <tr>\n      <th>29</th>\n      <td>63</td>\n      <td>Spinellis and Avgeriou 2019</td>\n      <td>31</td>\n      <td>Evolution of the Unix System Architecture: An ...</td>\n    </tr>\n  </tbody>\n</table>\n</div>"
     },
     "metadata": {},
     "execution_count": 18
    }
   ],
   "source": [
    "print('Papers size of pages from 15 to 20 pages: {}'.format( len(df_papers_over_20_pages.sort_values(by=['Number of Pages'])) ))\n",
    "df_papers_over_20_pages.sort_values(by=['Number of Pages'])"
   ]
  },
  {
   "cell_type": "code",
   "execution_count": 5,
   "metadata": {},
   "outputs": [],
   "source": [
    "def my_dict_from_column(df_data, my_column):\n",
    "    my_dict = {}\n",
    "    for item in zip( list(df_data['Paper Id']), list(df_data[my_column]) ):\n",
    "        id = item[0]\n",
    "        if (item[1] != ''):\n",
    "            column = str(item[1])\n",
    "            column = ' '.join(column.split())\n",
    "            my_dict[id] = column.lower()\n",
    "    return my_dict"
   ]
  },
  {
   "cell_type": "code",
   "execution_count": 8,
   "metadata": {},
   "outputs": [
    {
     "output_type": "stream",
     "name": "stdout",
     "text": [
      "Size of dic_citation 47\n"
     ]
    },
    {
     "output_type": "execute_result",
     "data": {
      "text/plain": [
       "{1: 'perez et al. 2019',\n",
       " 2: 'martini et al 2017',\n",
       " 3: 'roveda et al. 2018',\n",
       " 4: 'snipes et al. 2018',\n",
       " 5: 'nayebi et al. 2019',\n",
       " 7: 'feng et al. 2019',\n",
       " 9: 'li et al. 2014',\n",
       " 10: 'martini et al. 2016',\n",
       " 13: 'xiao et al. 2016',\n",
       " 14: 'verdecchia 2018',\n",
       " 15: 'zitzweitz et al. 2019',\n",
       " 16: 'martini and bosch 2017',\n",
       " 17: 'fontana et al. 2016',\n",
       " 21: 'li et al. 2015',\n",
       " 22: 'martini et al. 2014',\n",
       " 27: 'martini et al. 2016',\n",
       " 30: 'martini et al. 2018',\n",
       " 38: 'cai and kazman 2016',\n",
       " 48: 'kazman et al. 2015',\n",
       " 47: 'martini and bosch 2015',\n",
       " 20: 'tommasel 2019',\n",
       " 33: 'nord et al. 2012',\n",
       " 26: 'cai and kazman 2019',\n",
       " 28: 'skiada et al. 2018',\n",
       " 31: 'eliasson et al. 2015',\n",
       " 44: 'fontana et al. 2016',\n",
       " 43: 'maccomark and sturteant 2016',\n",
       " 51: 'sas et al. 2019',\n",
       " 52: 'fontana et al. 2019',\n",
       " 63: 'spinellis and avgeriou 2019',\n",
       " 73: 'izurieta et al. 2018',\n",
       " 69: 'besker, martini and bosch 2017',\n",
       " 67: 'ampatzoglou et al 2016',\n",
       " 66: 'martini, besker and bosch 2016',\n",
       " 96: 'aaramaa et al 2017',\n",
       " 35: 'martini et al 2015',\n",
       " 24: 'cai el al 2018',\n",
       " 77: 'bogner et al 2019',\n",
       " 78: 'ludwig and webber 2017',\n",
       " 81: 'curtis et al 2012',\n",
       " 82: 'curtis et al 2012',\n",
       " 85: 'kumar et al 2018',\n",
       " 88: 'hanssen et al 2019',\n",
       " 90: 'sierra et al 2019',\n",
       " 91: 'bogner et al 2018',\n",
       " 97: 'andrzej zalewski 2017',\n",
       " 40: 'damian a. tamburri 2019'}"
      ]
     },
     "metadata": {},
     "execution_count": 8
    }
   ],
   "source": [
    "dict_citation = my_dict_from_column(df_sms_extraction, 'Citation')\n",
    "print(f'Size of dic_citation {len(dict_citation)}')\n",
    "dict_citation"
   ]
  },
  {
   "cell_type": "code",
   "execution_count": 9,
   "metadata": {},
   "outputs": [
    {
     "output_type": "stream",
     "name": "stdout",
     "text": [
      "Size of dict_google_scholar 47\n"
     ]
    },
    {
     "output_type": "execute_result",
     "data": {
      "text/plain": [
       "{1: '4',\n",
       " 2: '13',\n",
       " 3: '13',\n",
       " 4: '1',\n",
       " 5: '8',\n",
       " 7: '-',\n",
       " 9: '58',\n",
       " 10: '34',\n",
       " 13: '73',\n",
       " 14: '7',\n",
       " 15: '3',\n",
       " 16: '14',\n",
       " 17: '16',\n",
       " 21: '36',\n",
       " 22: '86',\n",
       " 27: '9',\n",
       " 30: '13',\n",
       " 38: '3',\n",
       " 48: '118',\n",
       " 47: '25',\n",
       " 20: '2',\n",
       " 33: '154',\n",
       " 26: '2',\n",
       " 28: '5',\n",
       " 31: '20',\n",
       " 44: '23',\n",
       " 43: '35',\n",
       " 51: '6',\n",
       " 52: '4',\n",
       " 63: '4',\n",
       " 73: '8',\n",
       " 69: '25',\n",
       " 67: '33',\n",
       " 66: '14',\n",
       " 96: '0',\n",
       " 35: '65',\n",
       " 24: '15',\n",
       " 77: '10',\n",
       " 78: '12',\n",
       " 81: '109',\n",
       " 82: '106',\n",
       " 85: '1',\n",
       " 88: '2',\n",
       " 90: '6',\n",
       " 91: '10',\n",
       " 97: '0',\n",
       " 40: '3'}"
      ]
     },
     "metadata": {},
     "execution_count": 9
    }
   ],
   "source": [
    "dict_google_scholar = my_dict_from_column(df_sms_extraction, 'Google Scholar')\n",
    "print(f'Size of dict_google_scholar {len(dict_google_scholar)}')\n",
    "dict_google_scholar"
   ]
  },
  {
   "cell_type": "code",
   "execution_count": 10,
   "metadata": {},
   "outputs": [
    {
     "output_type": "stream",
     "name": "stdout",
     "text": [
      "Size of dict_authors 47\n"
     ]
    },
    {
     "output_type": "execute_result",
     "data": {
      "text/plain": [
       "{1: 'boris perez, dario correal, hernan astudillo',\n",
       " 2: 'antonio martini, erik sikander, niel madlani',\n",
       " 3: 'riccardo roveda, francesca arcelli fontana, ilaria pigazzini, marco zanoni',\n",
       " 4: 'will snipes, sunil l karlekar, ran mo',\n",
       " 5: 'maleknaz nayebi, yuanfang cai,rick kazman, guenther ruhe, qiong feng, chris carlson, francis chew',\n",
       " 7: 'qiong feng, yuanfang cai, rick kazman, di cui, ting liu, hongzhou fang',\n",
       " 9: 'zengyang li ,peng liang, paris avgeriou, nicolas guelfi, apostolos ampatzoglou',\n",
       " 10: 'antonio martini, jan bosch',\n",
       " 13: 'lu xiao, yuanfang cai, rick kazman, ran mo, qiong feng',\n",
       " 14: 'roberto verdecchia',\n",
       " 15: 'alexander von zitzewitz',\n",
       " 16: 'antonio martini, jan bosch',\n",
       " 17: 'francesca arcelli fontana, riccardo roveda, marco zanoni',\n",
       " 21: 'zengyang li, peng liang, paris avgeriou',\n",
       " 22: 'antonio martini, jan bosch, michel chaudron',\n",
       " 27: 'antonio martini, erik sikander, niel madlani',\n",
       " 30: 'antonio martini, francesca arcelli fontana, andrea biaggi, riccardo roveda,',\n",
       " 38: 'yuanfang cai, rick kazman',\n",
       " 48: 'rick kazman, yuanfang cai, ran mo, qiong feng, lu xiao, serge haziyev, volodymyr fedak, andriy shapochka',\n",
       " 47: 'antonio martini, jan bosch',\n",
       " 20: 'antonela tommasel',\n",
       " 33: 'robert l. nord, ipek ozkaya, philippe kruchten, marco gonzalez-rojas',\n",
       " 26: 'yuanfang cai, rick kazman',\n",
       " 28: 'peggy skiada, apostolos ampatzoglou, elvira-maria arvanitou, alexander chatzigeorgiou, ioannis stamelos',\n",
       " 31: 'ulf eliasson, antonio martini, robert kaufmann, sam odeh',\n",
       " 44: 'francesca arcelli fontana, riccardo roveda, marco zanoni',\n",
       " 43: 'alan maccormack, daniel j. sturtevant',\n",
       " 51: 'darius sas, paris avgeriou, francesca arcelli fontana',\n",
       " 52: 'francesca arcelli fontana, ilaria pigazzini,claudia raibulet,stefano basciano',\n",
       " 63: 'diomidis spinellis, paris avgeriou',\n",
       " 73: 'clemente izurieta , kali kimball , david rice , tessa valentien',\n",
       " 69: 'terese besker, antonio martini, jan bosch',\n",
       " 67: 'areti ampatzoglou, apostolos ampatzoglou, alexander chatzigeorgiou, paris avgeriou, pekka abrahamsson, antonio martini, uwe zdun, kari systa',\n",
       " 66: 'antonio martini, terese besker, jan bosch',\n",
       " 96: 'sanja aaramaa, sandun dasanayake, markku oivo, jouni markkula, samuli saukkonen',\n",
       " 35: 'antonio martini, jan bosch, michel chaudron',\n",
       " 24: 'yuanfang cai, lu xiao, rick kazman, ran mo, qiong feng',\n",
       " 77: 'justus bogner, jonas fritzsch, stefan wagner, alfred zimmermann',\n",
       " 78: 'jeremy ludwig, steven xu, frederick webber',\n",
       " 81: 'bill curtis, jay sappidi, alexandra szynkarski,',\n",
       " 82: 'bill curtis, jay sappidi, alexandra szynkarski',\n",
       " 85: 'm. manoj kumar, a. nandakumar',\n",
       " 88: 'geir kjetil hanssen, gunnar brataas, antonio martini',\n",
       " 90: 'g sierra, a tahmid, e shihab, n tsantalis.',\n",
       " 91: 'justus bogner,jonas fritzsch,stefan wagner,alfred zimmermann',\n",
       " 97: 'andrzej zalewski',\n",
       " 40: 'damian a. tamburri'}"
      ]
     },
     "metadata": {},
     "execution_count": 10
    }
   ],
   "source": [
    "dict_authors = my_dict_from_column(df_sms_extraction, 'Authors')\n",
    "print(f'Size of dict_authors {len(dict_authors)}')\n",
    "dict_authors"
   ]
  },
  {
   "cell_type": "code",
   "execution_count": 11,
   "metadata": {},
   "outputs": [
    {
     "output_type": "stream",
     "name": "stdout",
     "text": [
      "Size of dict_title 47\n"
     ]
    },
    {
     "output_type": "execute_result",
     "data": {
      "text/plain": [
       "{1: 'a proposed model-driven approach to manage architectural technical debt life cycle',\n",
       " 2: 'a semi-automated framework for the identification and estimation of architectural technical debt: a comparative case-study on the modularization of a software component',\n",
       " 3: 'towards an architectural debt index',\n",
       " 4: 'a case study of the effects of architecture debt on software evolution effort',\n",
       " 5: 'a longitudinal study of identifying and paying down architecture debt',\n",
       " 7: 'active hotspot: an issue-oriented model to monitor software evolution and degradation',\n",
       " 9: 'an empirical investigation of modularity metrics for indicating architectural technical debt',\n",
       " 10: 'an empirically developed method to aid decisions on architectural technical debt refactoring: anacondebt',\n",
       " 13: 'identifying and quantifying architectural debt',\n",
       " 14: 'identifying architectural technical debt in android applications through automated compliance checking',\n",
       " 15: 'mitigating technical and architectural debt with sonargraph using static analysis to enforce architectural constraints',\n",
       " 16: 'on the interest of architectural technical debt: uncovering the contagious debt phenomenon',\n",
       " 17: 'tool support for evaluating architectural debt of an existing system: an experience report',\n",
       " 21: 'architectural technical debt identification based on architecture decisions and change scenarios',\n",
       " 22: 'architecture technical debt: understanding causes and a qualitative model',\n",
       " 27: 'estimating and quantifying the benefits of refactoring to improve a component modularity: a case study',\n",
       " 30: 'identifying and prioritizing architectural debt through architectural smells: a case study in a large software company',\n",
       " 38: 'software architecture health monitor',\n",
       " 48: 'a case study in locating the architectural roots of technical debt',\n",
       " 47: 'towards prioritizing architecture technical debt: information needs of architects and product owners',\n",
       " 20: 'applying social network analysis techniques to architectural smell prediction',\n",
       " 33: 'in search of a metric for managing architectural technical debt',\n",
       " 26: 'dv8: automated architecture analysis tool suites',\n",
       " 28: 'exploring the relationship between software modularity and technical debt',\n",
       " 31: 'identifying and visualizing architectural debt and its efficiency interest in the automotive domain: a case study',\n",
       " 44: 'technical debt indexes provided by tools: a preliminary discussion',\n",
       " 43: 'technical debt and system architecture: the impact of coupling on defect-related activity',\n",
       " 51: 'investigating instability architectural smells evolution: an exploratory case study',\n",
       " 52: 'pagerank and criticality of architectural smells',\n",
       " 63: 'evolution of the unix system architecture: an exploratory case study',\n",
       " 73: 'a position study to investigate technical debt associated with security weaknesses',\n",
       " 69: 'the pricey bill of technical debt: when and by whom will it be paid?',\n",
       " 67: 'the perception of technical debt in the embedded systems domain: an industrial case study',\n",
       " 66: 'the introduction of technical debt tracking in large companies',\n",
       " 96: 'requirements volatility in software architecture design: an exploratory case study',\n",
       " 35: 'investigating architectural technical debt accumulation and refactoring over time: a multiple-case study',\n",
       " 24: 'design rule spaces: a new model for representing and analyzing software architecture',\n",
       " 77: 'assuring the evolvability of microservices: insights into industry practices and challenges',\n",
       " 78: 'compiling static software metrics for reliability and maintainability from github repositories',\n",
       " 81: 'estimating the principal of an applications technical debt',\n",
       " 82: 'estimating the size, cost, and types of technical debt',\n",
       " 85: 'exploring multilateral cloud computing security architectural design debt in terms of technical debt',\n",
       " 88: 'identifying scalability debt in open systems',\n",
       " 90: 'is self-admitted technical debt a good indicator of architectural divergences?',\n",
       " 91: 'limiting technical debt with maintainability assurance: an industry survey on used techniques and differences with service- and microservice-based systems',\n",
       " 97: 'risk appetite in architectural decision-making',\n",
       " 40: 'software architecture social debt: managing the incommunicability factor'}"
      ]
     },
     "metadata": {},
     "execution_count": 11
    }
   ],
   "source": [
    "dict_title = my_dict_from_column(df_sms_extraction, 'Title')\n",
    "print(f'Size of dict_title {len(dict_title)}')\n",
    "dict_title"
   ]
  },
  {
   "cell_type": "code",
   "execution_count": 12,
   "metadata": {},
   "outputs": [
    {
     "output_type": "stream",
     "name": "stdout",
     "text": [
      "Size of dict_puclication_year 47\n"
     ]
    },
    {
     "output_type": "execute_result",
     "data": {
      "text/plain": [
       "{1: '2019',\n",
       " 2: '2017',\n",
       " 3: '2018',\n",
       " 4: '2018',\n",
       " 5: '2019',\n",
       " 7: '2019',\n",
       " 9: '2014',\n",
       " 10: '2016',\n",
       " 13: '2016',\n",
       " 14: '2018',\n",
       " 15: '2019',\n",
       " 16: '2017',\n",
       " 17: '2016',\n",
       " 21: '2015',\n",
       " 22: '2014',\n",
       " 27: '2016',\n",
       " 30: '2018',\n",
       " 38: '2016',\n",
       " 48: '2015',\n",
       " 47: '2015',\n",
       " 20: '2019',\n",
       " 33: '2012',\n",
       " 26: '2019',\n",
       " 28: '2018',\n",
       " 31: '2015',\n",
       " 44: '2016',\n",
       " 43: '2016',\n",
       " 51: '2019',\n",
       " 52: '2019',\n",
       " 63: '2019',\n",
       " 73: '2018',\n",
       " 69: '2017',\n",
       " 67: '2016',\n",
       " 66: '2016',\n",
       " 96: '2017',\n",
       " 35: '2015',\n",
       " 24: '2018',\n",
       " 77: '2019',\n",
       " 78: '2017',\n",
       " 81: '2012',\n",
       " 82: '2012',\n",
       " 85: '2018',\n",
       " 88: '2019',\n",
       " 90: '2019',\n",
       " 91: '2018',\n",
       " 97: '2017',\n",
       " 40: '2019'}"
      ]
     },
     "metadata": {},
     "execution_count": 12
    }
   ],
   "source": [
    "dict_puclication_year = my_dict_from_column(df_sms_extraction, 'Publication Year')\n",
    "print(f'Size of dict_puclication_year {len(dict_puclication_year)}')\n",
    "dict_puclication_year"
   ]
  },
  {
   "cell_type": "code",
   "execution_count": 13,
   "metadata": {},
   "outputs": [
    {
     "output_type": "stream",
     "name": "stdout",
     "text": [
      "Size of dict_abstract 47\n"
     ]
    },
    {
     "output_type": "execute_result",
     "data": {
      "text/plain": [
       "t theoretical work has been undertaken to describe the negative effects of technical debt, these studies tend to have a weak empirical basis and often lack quantitative data. the aim of this study is to estimate wasted time, caused by the technical debt interest during the software life-cycle. this study also investigates how practitioners perceive and estimate the impact of the negative consequences due to technical debt during the software development process. this paper reports the results of both an online web-survey provided quantitative data from 258 participants and follow- up interviews with 32 industrial software practitioners. the importance and originality of this study contributes and provides novel insights into the research on technical debt by quantifying the perceived interest and the negative effects it has on the software development life-cycle. the findings show that on average, 36 % of all development time is estimated to be wasted due to technical debt; complex architectural design and requirement technical debt generates most negative effect; and that most time is wasted on understanding and/or measuring the technical debt. moreover, the analysis of the professional roles and the age of the software system in the survey revealed that different roles are affected differently and that the consequences of technical debt are also influenced by the age of the software system.',\n",
       " 67: 'technical debt management (tdm) has drawn the attention of software industries during the last years, including embedded systems. however, we currently lack an overview of how practitioners from this application domain perceive tech- nical debt. to this end, we conducted a multiple case study in the embedded systems industry, to investigate: (a) the expected life- time of components that have td, (b) the most frequently occur- ring types of td in them, and (c) the significance of td against run-time quality attributes. the case study was performed on seven embedded systems industries (telecommunications, print- ing, smart manufacturing, sensors, etc.) from five countries (greece, netherlands, sweden, austria, and finland). the results of the case study suggest that: (a) maintainability is more serious- ly considered when the expected lifetime of components is larger than ten years; (b) the most frequent types of debt are test, archi- tectural, and code debt; and (c) in embedded systems the run- time qualities are prioritized compared to design-time qualities that are usually associated with td. the obtained results can be useful for both researchers and practitioners: the former can focus their research on the most industrially-relevant aspects of td, whereas the latter can be informed about the most common types of td and how to focus their tdm processes.',\n",
       " 66: 'large software companies need to support continuous and fast delivery of customer value both in the short and long term. however, this can be hindered if both evolution and maintenance of existing systems are hampered by technical debt. although a lot of theoretical work on technical debt has been recently produced, its practical management lacks empirical studies. in this paper we investigate the state of practice in several companies in order to understand how they start tracking technical debt. we combined different methodologies: we conducted a survey, involving 226 respondents from 15 organizations and a more in-depth multiple case-study in three organizations, where technical debt was tracked: we involved 13 interviews and 79 technical debt issues analysis. we found that the development time dedicated to manage technical debt is substantial (around 25% of the overall development) but not systematic: only a few participants methodically track technical debt. by studying the approaches in the companies participating in the case-study, we understood how companies start tracking technical debt and what are the initial benefits and challenges. finally, we propose a s trategic adoption model based to define and adopt a dedicated process for tracking technical debt.',\n",
       " 96: 'requirements volatility is a major issue in software (sw) development, causing problems such as project delays and cost overruns. even though there is a considerable amount of research related to requirement volatility, the majority of it is inclined toward project management aspects. the relationship between sw architecture design and requirements volatility has not been researched widely, even though changing requirements may for example lead to higher defect density during testing. an exploratory case study was conducted to study how requirements volatility affects sw architecture design. fifteen semi-structured, thematic interviews were conducted in the case company, which provides the selection of software products for business customers and consumers. the research revealed the factors, such as requirements uncertainty and dynamic business environment, causing requirements volatility in the case company. the study identified the challenges that requirements volatility posed to sw architecture design, including scheduling and architectural technical debt. in addition, this study discusses means of mitigating the factors that cause requirements volatility and addressing the challenges posed by requirements volatility. sw architects are strongly influenced by requirement volatility. thus understanding the factors causing requirements volatility as well as means to mitigate the challenges has high industrial relevance.',\n",
       " 35: 'context: a known problem in large software companies is to balance the prioritization of short-term with long-term feature delivery speed. specifically, architecture technical debt is regarded as sub-optimal architectural solutions taken to deliver fast that might hinder future feature development, which, in turn, would hinder agility. objective: this paper aims at improving software management by shedding light on the current factors responsible for the accumulation of architectural technical debt and to understand how it evolves over time. method: we conducted an exploratory multiple-case embedded case study in 7 sites at 5 large compa- nies. we evaluated the results with additional cross-company interviews and an in-depth, company-specific case study in which we initially evaluate factors and models. results: we compiled a taxonomy of the factors and their influence in the accumulation of architectural technical debt, and we provide two qualitative models of how the debt is accumulated and refactored over time in the studied companies. we also list a set of exploratory propositions on possible refactoring strategies that can be useful as insights for practitioners and as hypotheses for further research. conclusion: several factors cause constant and unavoidable accumulation of architecture technical debt, which leads to development crises. refactorings are often overlooked in prioritization and they are often triggered by development crises, in a reactive fashion. some of the factors are manageable, while others are external to the companies. atd needs to be made visible, in order to postpone the crises according to the strategic goals of the companies. there is a need for practices and automated tools to proactively manage atd',\n",
       " 24: 'in this paper, we propose an architecture model called design rule space (drspace). we model the architecture of a software system as multiple overlapping drspaces, reflecting the fact that any complex software system must contain multiple aspects, features, patterns, etc. we show that this model provides new ways to analyze software quality. in particular, we introduce an architecture root detection algorithm that captures drspaces containing large numbers of a project’s bug-prone files, which are called architecture roots (archroots). after investigating archroots calculated from 15 open source projects, the following observations become clear: from 35% to 91% of a project’s most bug-prone files can be captured by just 5 archroots, meaning that bug-prone files are likely to be architecturally connected. furthermore, these archroots tend to live in the system for significant periods of time, serving as the major source of bug-proneness and high maintainability costs. moreover, each archroot reveals multiple architectural flaws that propagate bugs among files and this will incur high maintenance costs over time. the implication of our study is that the quality, in terms of bug-proneness, of a large, complex software project cannot be fundamentally improved without first fixing its architectural flaws.',\n",
       " 77: 'while microservices promise several beneficial char- acteristics for sustainable long-term software evolution, little empirical research covers what concrete activities industry ap- plies for the evolvability assurance of microservices and how technical debt is handled in such systems. since insights into the current state of practice are very important for researchers, we performed a qualitative interview study to explore applied evolvability assurance processes, the usage of tools, metrics, and patterns, as well as participants’ reflections on the topic. in 17 semi-structured interviews, we discussed 14 different microservice-based systems with software professionals from 10 companies and how the sustainable evolution of these systems was ensured. interview transcripts were analyzed with a detailed coding system and the constant comparison method. we found that especially systems for external customers relied on central governance for the assurance. participants saw guidelines like architectural principles as important to ensure a base consistency for evolvability. interviewees also valued manual activities like code review, even though automation and tool support was described as very important. source code quality was the primary target for the usage of tools and metrics. despite most reported issues being related to architectural technical debt (atd), our participants did not apply any architectural or service-oriented tools and metrics. while participants generally saw their microservices as evolvable, service cutting and finding an appropriate service granularity with low coupling and high cohesion were reported as challenging. future microservices research in the areas of evolution and technical debt should take these findings and industry sentiments into account. index terms—microservices, interviews, industry, evolvability, assurance',\n",
       " 78: 'this paper identifies a small, essential set of static software code metrics linked to the software product quality characteristics of reliability and maintainability and to the most commonly identified sources of technical debt. a plug-in is created for the understand code visualization and static analysis tool that calculates and aggregates the metrics. the plug-in produces a high-level interactive html report as well as developer-level information needed to address quality issues using understand. a script makes use of git, understand, and the plug-in to compile results for a list of github repositories into a single file. the primary contribution of this work is to describe an open-source plug-in to measure and visualize architectural complexity based on the propagation cost and core size metrics, which are not currently found in other tools. the plug-in should be useful to researchers and practitioners interested in these two metrics and as an expedient starting point to experimentation with metric collection and aggregation for groups of github repositories. the plug-in was developed as a first step in an ongoing project aimed at applying case-based reasoning to the issue of software product quality.',\n",
       " 81: 'for the technical debt metaphor to be useful, its constructs must be measurable or at least estimable from measurable elements of software. fortunately, we can estimate the violations underlying td-principal via tech- niques such as static analysis of the software’s nonfunctional, structural characteristics.3 violations of struc- tural quality are often difficult to de- tect through standard testing but are frequent causes of severe operational problems.',\n",
       " 82: 'this study summarizes results of a study of technical debt across 745 business applications comprising 365 million lines of code collected from 160 companies in 10 industry segments. these applications were submitted to a static analysis that evaluates quality within and across application layers that may be coded in different languages. the analysis consists of evaluating the application against a repository of over 1200 rules of good architectural and coding practice. a formula for estimating technical debt with adjustable parameters is presented. results are presented for technical debt across the entire sample as well as for different programming languages and quality factors.',\n",
       " 85: 'this work identifies various design debt causes in a cloud computing system from various dimensions of design debt. even though immature, un-ripen coded service accessible over the internet using the cloud computing paradigm may work fine and be wholly tolerable to the patron; but excess quantities will make a service progression that may lead to extreme specialist of software developers and finally an inflexible product. delivery of the earliest primary beginning coded service without ripeness or maturity is like going into debts or arrears or due to obligation. a petite tiny debt rates progress so protracted as it is paid or rewarded back punctually with a rewrite/redraft/revising/reworking. the risk arises when the debt is not repaid and settled. every miniature infinitesimal effort spent on imprecise code reckons as interest on that arrears/debt. intact engineering business can be brought to be idle under the balance load of an unconsolidated, non-solicit implementation, execution, and performance discharging object-oriented, func- tional or procedural or otherwise. this work uses refactoring as a solution for the identified debt in the multilateral cloud security architecture to secure the cloud services.',\n",
       " 88: 'architectural technical debt can be generated by changes in the business and the environment of an organization. in this paper, we emphasize the change in scalability requirements due to new regulations. scalability is the ability of a system to handle an increased workload. for complex systems that are abruptly exposed via open interfaces and hence a greater workload, the scalability requirements may quickly increase, leading to technical debt. we term this scalability debt. this paper describes scalability triage, a light-weight, novel technique for identifying scalability threats as a form of technical debt. we illustrate this technique with an open banking case from a large software organization. open banking is partly caused by the new european psd2 regulative that enforce banks to open interfaces to unknown third-party actors. banking systems are well-established, mature systems. however, with the advent of open banking and psd2, the workload may quickly rocket. this leads to tougher scalability requirements and accumulated architectural debt, despite previously sound architectural decisions. using scalability triage, such risks may be identified fast. it will then be possible to prevent this form of technical debt with timely reengineering.',\n",
       " 90: 'large software systems tend to be highly complex and often contain unaddressed issues that evolve from bad design practices or architectural implementations that drift from definition. these design flaws can originate from quick fixes, hacks or shortcuts to a solution, hence they can be seen as technical debt. recently, new work has focused on studying source code comments that indicate technical debt, i.e., self-admitted technical debt (satd). however, it is not known if addressing information left by developers in the form source code comments can give insight about the design flaws in a system and have the potential to provide fixes for bad architectural implementations. this paper investigates the possibility of using satd comments to resolve architectural divergences. we leverage a data set of previously classified satd comments to trace them to the architectural divergences of a large open source system, namely argouml. we extract its conceptual and concrete architectures based on available design documentation and source code, and contrast both to expose divergences, trace them to satd comments, and investigate their resolution. we found 7 high-level divergences in argouml and 22 others among its subsystems, observing that merely 4 out of 29 (14%) divergences can be directly traced to satd. although using satd as an indicator of architectural divergences is viable, the effort of doing so is time-intensive, and in general, will not lend to a significant reduction of architectural flaws in a software system.',\n",
       " 91: 'maintainability assurance techniques are used to control this qual- ity attribute and limit the accumulation of potentially unknown technical debt. since the industry state of practice and especially the handling of service- and microservice-based systems in this regard are not well covered in scientific literature, we created a sur- vey to gather evidence for a) used processes, tools, and metrics in the industry, b) maintainability-related treatment of systems based on service-orientation, and c) influences on developer satisfaction w.r.t. maintainability. 60 software professionals responded to our online questionnaire. the results indicate that using explicit and systematic techniques has benefits for maintainability. the more sophisticated the applied methods the more satisfied participants were with the maintainability of their software while no link to a hindrance in productivity could be established. other important findings were the absence of architecture-level evolvability control mechanisms as well as a significant neglect of service-oriented par- ticularities for quality assurance. the results suggest that industry has to improve its quality control in these regards to avoid problems with long-living service-based software systems.',\n",
       " 97: \"this paper is an exploratory study on architects' attitudes towards risk and its influences on the architectural decision-making process. a classification of architects' attitude to risk-taking has been developed on the basis of fowler's technical debt quadrants. the core proposition of the paper is that the well-established concept of `risk appetite' can be equally well applied to characterise and classify architects' attitudes towards risk. this enables the aspects of the decision-making process that are influenced by architects' attitudes towards risks to be identified, and reveals what these influences are. it has been shown that the proposed classifications reflect many real-world situations.\",\n",
       " 40: 'architectural technical debt is the additional project cost connected to technical issues nested in software architectures. similarly, many practitioners have already experienced that there exists within software architectures a form of social debt, that is, the additional project cost connected to sociotechnical and orga- nizational issues evident in or related to software architectures. this paper illustrates four recurrent antipatterns or community smells connected to such architectural social debt and outlines a means to measure the additional project cost connected to their underlying cause: decision incommunicability. evaluating the results in multiple focus groups, this paper concludes that studying social debt and community smells at the architecture level may prove vital to rid software development communities of critical organizational flaws incurring considerable additional cost. index terms—social debt, social debt cost estimation, social debt in software architecting, technical debt.'}"
      ]
     },
     "metadata": {},
     "execution_count": 13
    }
   ],
   "source": [
    "dict_abstract = my_dict_from_column(df_sms_extraction, 'Abstract')\n",
    "print(f'Size of dict_abstract {len(dict_abstract)}')\n",
    "dict_abstract"
   ]
  },
  {
   "cell_type": "code",
   "execution_count": 14,
   "metadata": {},
   "outputs": [
    {
     "output_type": "stream",
     "name": "stdout",
     "text": [
      "Size of dict_venue_type 47\n"
     ]
    },
    {
     "output_type": "execute_result",
     "data": {
      "text/plain": [
       "{1: 'conference',\n",
       " 2: 'journal',\n",
       " 3: 'conference',\n",
       " 4: 'conference',\n",
       " 5: 'conference',\n",
       " 7: 'conference',\n",
       " 9: 'conference',\n",
       " 10: 'conference',\n",
       " 13: 'conference',\n",
       " 14: 'conference',\n",
       " 15: 'conference',\n",
       " 16: 'journal',\n",
       " 17: 'symposium',\n",
       " 21: 'conference',\n",
       " 22: 'conference',\n",
       " 27: 'conference',\n",
       " 30: 'conference',\n",
       " 38: 'workshop',\n",
       " 48: 'conference',\n",
       " 47: 'conference',\n",
       " 20: 'conference',\n",
       " 33: 'conference',\n",
       " 26: 'conference',\n",
       " 28: 'conference',\n",
       " 31: 'workshop',\n",
       " 44: 'workshop',\n",
       " 43: 'journal',\n",
       " 51: 'conference',\n",
       " 52: 'conference',\n",
       " 63: 'journal',\n",
       " 73: 'conference',\n",
       " 69: 'conference',\n",
       " 67: 'workshop',\n",
       " 66: 'conference',\n",
       " 96: 'conference',\n",
       " 35: 'journal',\n",
       " 24: 'conference',\n",
       " 77: 'conference',\n",
       " 78: 'conference',\n",
       " 81: 'journal',\n",
       " 82: 'workshop',\n",
       " 85: 'book series',\n",
       " 88: 'conference',\n",
       " 90: 'conference',\n",
       " 91: 'conference',\n",
       " 97: 'conference',\n",
       " 40: 'journal'}"
      ]
     },
     "metadata": {},
     "execution_count": 14
    }
   ],
   "source": [
    "dict_venue_type = my_dict_from_column(df_sms_extraction, 'Venue Type')\n",
    "print(f'Size of dict_venue_type {len(dict_venue_type)}')\n",
    "dict_venue_type"
   ]
  },
  {
   "cell_type": "code",
   "execution_count": 15,
   "metadata": {},
   "outputs": [
    {
     "output_type": "stream",
     "name": "stdout",
     "text": [
      "Size of dict_venue 47\n"
     ]
    },
    {
     "output_type": "execute_result",
     "data": {
      "text/plain": [
       "{1: '2019 ieee/acm international conference on technical debt (techdebt)',\n",
       " 2: 'jornal information and software technology',\n",
       " 3: 'euromicro conference on software engineering and advanced applications',\n",
       " 4: 'euromicro conference on software engineering and advanced applications',\n",
       " 5: '41st international conference on software engineering: software engineering in practice.',\n",
       " 7: '34 ieee/acm international conference on automated software engineering (ase)',\n",
       " 9: \"qosa '14: proceedings of the 10th international acm sigsoft conference on quality of software architectures comparch'14: federated events on component-based software engineering and software architecture\",\n",
       " 10: 'ieee/acm 38th ieee international conference on software engineering companion',\n",
       " 13: 'ieee/acm 38th ieee international conference on software engineering',\n",
       " 14: '5th international conference on mobile software engineering and systems',\n",
       " 15: 'international conference on technical debt (techdebt)',\n",
       " 16: 'journal of software: evolution and process',\n",
       " 17: \"sac 2016, april 04-08, 2016, pisa, italy sac '16: proceedings of the 31st annual acm symposium on applied computing\",\n",
       " 21: 'ieee/ifip conference on software achitecture',\n",
       " 22: '40th euromicro conference on software engineering and advanced applications',\n",
       " 27: 'euromicro conference on software engineering and advanced applications',\n",
       " 30: 'european conference on software architecture ecsa 2018: software architecture pp 320-335',\n",
       " 38: \"proceedings of the 1st international workshop on bringing architectural design thinking into developers' daily activities\",\n",
       " 48: '2015 ieee/acm 37th ieee international conference on software engineering icse 2015, florence, italy software engineering in practice',\n",
       " 47: '2015 41st euromicro conference on software engineering and advanced applications',\n",
       " 20: '2019 ieee international conference on software architecture companion (icsa-c)',\n",
       " 33: '2012 joint working ieee/ifip conference on software architecture and european conference on software architecture',\n",
       " 26: '2019 ieee/acm international conference on technical debt (techdebt)',\n",
       " 28: '2018 44th euromicro conference on software engineering and advanced applications',\n",
       " 31: '2015 ieee 7th international workshop on managing technical debt (mtd)',\n",
       " 44: '2016 ieee 8th international workshop on managing technical debt (mtd)',\n",
       " 43: 'the journal of systems and software',\n",
       " 51: '2019 ieee international conference on software maintenance and evolution (icsme',\n",
       " 52: 'ecsa 19: proceedings of the 13th european conference on software architecture',\n",
       " 63: 'ee transactions on software engineering',\n",
       " 73: '2018 acm/ieee international conference on technical debt',\n",
       " 69: 'international conference on software maintenance and evolution',\n",
       " 67: 'ieee 8th international workshop on managing technical debt',\n",
       " 66: 'asia pacific software engineering conference',\n",
       " 96: 'icssp 2017 proceedings of the 2017 international conference on software and system process',\n",
       " 35: 'information and software technology journal',\n",
       " 24: 'international conference on software engineering in 2014',\n",
       " 77: 'ieee international conference on software maintenance and evolution (icsme)',\n",
       " 78: 'ieee international conference on systems, man, and cybernetics (smc)',\n",
       " 81: 'ieee software',\n",
       " 82: 'mtd 2012, zurich, switzerland',\n",
       " 85: 'springer nature singapore pte ltd. 2018',\n",
       " 88: '2019 ieee/acm international conference on technical debt (techdebt)',\n",
       " 90: 'saner 2019',\n",
       " 91: '2018 acm/ieee international conference on technical debt',\n",
       " 97: 'ieee international conference on software architecture workshops (icsaw)',\n",
       " 40: 'ieee transactions on computational social systems'}"
      ]
     },
     "metadata": {},
     "execution_count": 15
    }
   ],
   "source": [
    "dict_venue = my_dict_from_column(df_sms_extraction, 'Venue')\n",
    "print(f'Size of dict_venue {len(dict_venue)}')\n",
    "dict_venue"
   ]
  },
  {
   "cell_type": "code",
   "execution_count": 16,
   "metadata": {},
   "outputs": [
    {
     "output_type": "stream",
     "name": "stdout",
     "text": [
      "Size of dict_name_of_venue 47\n"
     ]
    },
    {
     "output_type": "execute_result",
     "data": {
      "text/plain": [
       "{1: 'international conference on technical debt (techdebt)',\n",
       " 2: 'jornal information and software technology',\n",
       " 3: 'euromicro conference on software engineering and advanced applications',\n",
       " 4: 'euromicro conference on software engineering and advanced applications',\n",
       " 5: 'international conference on software engineering: software engineering in practice',\n",
       " 7: 'international conference on automated software engineering (ase)',\n",
       " 9: 'international acm sigsoft conference on quality of software architectures',\n",
       " 10: 'international conference on software engineering companion',\n",
       " 13: 'international conference on software engineering',\n",
       " 14: 'international conference on mobile software engineering and systems',\n",
       " 15: 'international conference on technical debt (techdebt)',\n",
       " 16: 'journal of software: evolution and process',\n",
       " 17: 'symposium on applied computing',\n",
       " 21: 'conference on software achitecture',\n",
       " 22: 'euromicro conference on software engineering and advanced applications',\n",
       " 27: 'euromicro conference on software engineering and advanced applications',\n",
       " 30: 'european conference on software architecture',\n",
       " 38: 'international workshop on bringing architectural design thinking',\n",
       " 48: 'international conference on software engineering',\n",
       " 47: 'euromicro conference on software engineering and advanced applications',\n",
       " 20: 'international conference on software architecture companion (icsa-c)',\n",
       " 33: 'conference on software architecture and european conference on software architecture',\n",
       " 26: 'international conference on technical debt (techdebt)',\n",
       " 28: 'euromicro conference on software engineering and advanced applications',\n",
       " 31: 'international workshop on managing technical debt (mtd)',\n",
       " 44: 'international workshop on managing technical debt (mtd)',\n",
       " 43: 'journal of systems and software',\n",
       " 51: 'international conference on software maintenance and evolution (icsme)',\n",
       " 52: 'european conference on software architecture',\n",
       " 63: 'ee transactions on software engineering',\n",
       " 73: 'international conference on technical debt (techdebt)',\n",
       " 69: 'international conference on software maintenance and evolution',\n",
       " 67: 'international workshop on managing technical debt (mtd)',\n",
       " 66: 'asia pacific software engineering conference',\n",
       " 96: 'international conference on software and system process',\n",
       " 35: 'information and software technology journal',\n",
       " 24: 'international conference on software engineering',\n",
       " 77: 'international conference on software maintenance and evolution (icsme)',\n",
       " 78: 'international conference on systems, man, and cybernetics (smc)',\n",
       " 81: 'ieee software',\n",
       " 82: 'international workshop on managing technical debt (mtd)',\n",
       " 85: 'springer nature singapore',\n",
       " 88: 'international conference on technical debt (techdebt)',\n",
       " 90: 'international conference on software analysis, evolution and reengineering',\n",
       " 91: 'international conference on technical debt (techdebt)',\n",
       " 97: 'international conference on software architecture workshops (icsaw)',\n",
       " 40: 'transactions on computational social systems'}"
      ]
     },
     "metadata": {},
     "execution_count": 16
    }
   ],
   "source": [
    "dict_name_of_venue = my_dict_from_column(df_sms_extraction, 'Name of Venue')\n",
    "print(f'Size of dict_name_of_venue {len(dict_name_of_venue)}')\n",
    "dict_name_of_venue"
   ]
  },
  {
   "cell_type": "code",
   "execution_count": 17,
   "metadata": {},
   "outputs": [
    {
     "output_type": "stream",
     "name": "stdout",
     "text": [
      "Size of dict_field 47\n"
     ]
    },
    {
     "output_type": "execute_result",
     "data": {
      "text/plain": [
       "{1: 'technical debt',\n",
       " 2: 'software technology',\n",
       " 3: 'software engineering and advanced applications',\n",
       " 4: 'software engineering',\n",
       " 5: 'software engineering and advanced applications',\n",
       " 7: 'automated software engineering',\n",
       " 9: 'quality of software architecture',\n",
       " 10: 'software engineering',\n",
       " 13: 'software engineering',\n",
       " 14: 'mobile software',\n",
       " 15: 'technical debt',\n",
       " 16: 'software evolution',\n",
       " 17: 'applied computing',\n",
       " 21: 'software architecture',\n",
       " 22: 'software engineering and advanced application',\n",
       " 27: 'software engineering',\n",
       " 30: 'software architecture',\n",
       " 38: 'architecture design thinking',\n",
       " 48: 'software engineering',\n",
       " 47: 'software engineering and advanced applications',\n",
       " 20: 'software architecture',\n",
       " 33: 'software architecture',\n",
       " 26: 'technical debt',\n",
       " 28: 'software engineering',\n",
       " 31: 'technical debt',\n",
       " 44: 'technical debt',\n",
       " 43: 'system architecture',\n",
       " 51: 'software maintenance and evolution',\n",
       " 52: 'software architecture',\n",
       " 63: 'software engineering',\n",
       " 73: 'technical debt',\n",
       " 69: 'software maintenance and evolution',\n",
       " 67: 'technical debt',\n",
       " 66: 'software engineering',\n",
       " 96: 'software and system process',\n",
       " 35: 'software and system process',\n",
       " 24: 'software engineering',\n",
       " 77: 'software maintenance and evolution',\n",
       " 78: 'software engineering',\n",
       " 81: 'technical debt',\n",
       " 82: 'technical debt',\n",
       " 85: 'cloud computing',\n",
       " 88: 'technical debt',\n",
       " 90: 'software engineering',\n",
       " 91: 'technical debt',\n",
       " 97: 'software architecture',\n",
       " 40: 'computation social systems'}"
      ]
     },
     "metadata": {},
     "execution_count": 17
    }
   ],
   "source": [
    "dict_field = my_dict_from_column(df_sms_extraction, 'Field')\n",
    "print(f'Size of dict_field {len(dict_field)}')\n",
    "dict_field"
   ]
  },
  {
   "cell_type": "code",
   "execution_count": 18,
   "metadata": {},
   "outputs": [
    {
     "output_type": "stream",
     "name": "stdout",
     "text": [
      "Size of dict_field 47\n"
     ]
    },
    {
     "output_type": "execute_result",
     "data": {
      "text/plain": [
       "{1: 'architectural technical debt, software architecture, architectural technical debt management, model-driven architecture',\n",
       " 2: 'measurement system, software management, refactoring , estimation, technical debt, modularization, software architecture',\n",
       " 3: 'architectural smells, architectural debt index, severity index, technical debt',\n",
       " 4: 'software architecture, software maintenance, technical debt',\n",
       " 5: 'architecture debt, cost-benefit analysis, longitudinal study, refactoring',\n",
       " 7: 'software evolution, architecture debt',\n",
       " 9: 'architectural technical debt, modularity metric, commit, software architecture',\n",
       " 10: 'management, measurement, design, economics',\n",
       " 13: 'software architecture, software quality, technical debt',\n",
       " 14: 'software architecture, technical debt, android, compliance checking',\n",
       " 15: 'software artchitecture, software metrics, architectural debt',\n",
       " 16: 'agile software development, architectural technical debt, effort, multiple case study, qualitative model, sociotechnical phenomena',\n",
       " 17: 'architectural deb, tool experimentation, architecture assessment',\n",
       " 21: 'architectural technical debt, architectural technical debt identification, architecture decision, change scenario',\n",
       " 22: 'architectural technical debt, agile software development, development speed, software life-cycle, influencing factors, qualitative model, grounded theory',\n",
       " 27: 'software management, refactoring, estimation, technical debt, modularization, software architecture',\n",
       " 30: 'not available',\n",
       " 38: 'software architecture health monitor',\n",
       " 48: 'computer architecture,software engineering,business,history,sonar detection,microprocessors',\n",
       " 47: 'architecture technical debt,prioritization aspects,feature prioritization,refactoring prioritization,information need',\n",
       " 20: 'measurement,social networking online,computer architecture,software architecture,software systems,software design',\n",
       " 33: 'technical debt,software architecture,software economics,cost of rework,total cost of ownership',\n",
       " 26: 'software architecture, software quality, software maintenance',\n",
       " 28: 'coupling, cohesion, modularity, technical debt',\n",
       " 31: 'software visualization, computer architecture, stakeholders, context, automotive engineering, complex systems',\n",
       " 44: 'technical debt indexes, architectural debt, software quality analysis tools',\n",
       " 43: 'technical debt, software architeture',\n",
       " 51: 'architectural smells, technical debt, architectural technical debt, cyclic dependencies, architectural smells evolution',\n",
       " 52: 'architectural smells, pagerank, criticality, architectural debt, architecture erosion, prioritization',\n",
       " 63: 'unix, software architecture, software evolution, architecture design decisions, operating systems.',\n",
       " 73: 'quality assurance, software quality, technical debt',\n",
       " 69: 'technical debt, wasted time, development cost, software development, empirical study, survey, qualitative data, quantitative data',\n",
       " 67: 'technical debt, embedded systems, industry case study',\n",
       " 66: 'technical debt,change management,software process improvement,survey,multiple case-study',\n",
       " 96: 'requirement management, software architecture',\n",
       " 35: 'architectural technical debt, software management, software architecture, agile software development, software life-cycle, qualitative model',\n",
       " 24: 'software architecture, reverse-engineering, defect prediction, technical debt, code smells, bug localization',\n",
       " 77: 'microservices, interviews, industry, evolvability, assurance',\n",
       " 78: 'software product quality,technical debt,reliability, maintainability, architecture, metrics, static code analysis',\n",
       " 81: 'ieee newspaper',\n",
       " 82: 'software metrics, software structural quality, technical debt, static analysis, benchmarking',\n",
       " 85: 'multilateral cloud security, architecture design smells,technical debt, design debt, cloud computing security, design refactoring',\n",
       " 88: 'agile development, scalability requirements, scalability triage, open banking',\n",
       " 90: 'self-admitted technical debt, software re-engineering, software architecture, architecture recovery',\n",
       " 91: 'maintainability, software quality control, survey, industry, service-based systems, micro service-based systems',\n",
       " 97: 'risk, risk appetite, architecture decision-making',\n",
       " 40: 'social debt, social debt cost estimation, social debt in software architecting, technical debt.'}"
      ]
     },
     "metadata": {},
     "execution_count": 18
    }
   ],
   "source": [
    "dict_key_words = my_dict_from_column(df_sms_extraction, 'Key words')\n",
    "print(f'Size of dict_field {len(dict_key_words)}')\n",
    "dict_key_words"
   ]
  },
  {
   "cell_type": "code",
   "execution_count": 19,
   "metadata": {},
   "outputs": [
    {
     "output_type": "stream",
     "name": "stdout",
     "text": [
      "Size of dict_number_of_pages 47\n"
     ]
    },
    {
     "output_type": "execute_result",
     "data": {
      "text/plain": [
       "{1: '5',\n",
       " 2: '16',\n",
       " 3: '9',\n",
       " 4: '4',\n",
       " 5: '10',\n",
       " 7: '12',\n",
       " 9: '10',\n",
       " 10: '10',\n",
       " 13: '11',\n",
       " 14: '2',\n",
       " 15: '2',\n",
       " 16: '18',\n",
       " 17: '3',\n",
       " 21: '10',\n",
       " 22: '8',\n",
       " 27: '8',\n",
       " 30: '16',\n",
       " 38: '4',\n",
       " 48: '10',\n",
       " 47: '8',\n",
       " 20: '8',\n",
       " 33: '10',\n",
       " 26: '2',\n",
       " 28: '4',\n",
       " 31: '8',\n",
       " 44: '4',\n",
       " 43: '13',\n",
       " 51: '11',\n",
       " 52: '8',\n",
       " 63: '31',\n",
       " 73: '5',\n",
       " 69: '11',\n",
       " 67: '8',\n",
       " 66: '8',\n",
       " 96: '10',\n",
       " 35: '17',\n",
       " 24: '27',\n",
       " 77: '11',\n",
       " 78: '5',\n",
       " 81: '9',\n",
       " 82: '5',\n",
       " 85: '13',\n",
       " 88: '5',\n",
       " 90: '10',\n",
       " 91: '9',\n",
       " 97: '4',\n",
       " 40: '18'}"
      ]
     },
     "metadata": {},
     "execution_count": 19
    }
   ],
   "source": [
    "dict_number_of_pages = my_dict_from_column(df_sms_extraction, 'Number of Pages')\n",
    "print(f'Size of dict_number_of_pages {len(dict_number_of_pages)}')\n",
    "dict_number_of_pages"
   ]
  },
  {
   "cell_type": "code",
   "execution_count": 20,
   "metadata": {},
   "outputs": [
    {
     "output_type": "stream",
     "name": "stdout",
     "text": [
      "Size of dict_main_aim 47\n"
     ]
    },
    {
     "output_type": "execute_result",
     "data": {
      "text/plain": [
       "it is based on the metrics used to detect each smell (described in section 3.2.2). the second one is called pagerank, evaluated according to each architectural smell instance found in a project. through the pagerank it is possible to quantify the relevance of the part of the project affected by the smell (see section 3.2.3). in this way, it is possible to identify the architectural smells which are more central in a project (if many parts depend on the part where the architectural smell is involved) and with a higher impact on the project with respect to those that can be considered more peripheral [16]. in this paper, we exploit the arcan tool [1] to detect three archi- tectural smells (unstable dependency, cyclic dependency, hub- like dependency) and the gephi tool1 to evaluate the pagerank of the smells in six projects. we can find cases where the criticality of an architectural smell is evaluated as high, but the pagerank is low, or vice versa. we can find that the pagerank value is significant for a kind of smell, for example for cyclic dependency smell, and less for others. hence, through the investigation described in this paper we aim to provide preliminary answers to the following research questions (rq): (rq1) if we consider the pagerank and criticality measures of as, can we observe the same trends between the values of the two measures for each as? (rq2) how does the pagerank measure behave in the case a component is affected by different types of as simultaneously? to answer the above questions we analyze and compute in six open source java projects (ant, haddop, poi, tomcat, firebugs and juniti): • the architectural smells and their criticality (section 4.1); • the pagerank of the architectural smells (section 4.2); • the possible relations existing between architectural smell criticality and pagerank for rq1 (section 4.3.1.); • the pagerank of the components affected by multiple archi- tectural smells for rq2 (section 4.3.2)',\n",
       " 63: 'in this paper we study the evolution of unix along the freebsd lineage from a software architecture perspective. while there have been studies on how unix evolved (see section 2), these have mostly focused at the source code level and were limited to the kernel. on the contrary, we turn our attention to the system architecture and study a) the core architectural design decisions across the main releases, and b) the evolution in the number of the system’s features (obtained from the unix reference documentation) and in the code’s complexity. the former entails qualita- tive analysis, while the latter quantitative. these analyses subsequently lead to forming an initial theory on the archi- tecture evolution of large and complex operating systems, regarding their form, pace, driving forces, as well as the accumulation of architectural technical debt. the goal of this study, stated here using the goal-question- metric (gqm) approach [68], is to “analyze the unix oper- ating system for the purpose of evaluation and characteri- zation of its architecture evolution with respect to its main architecture design decisions, size and complexity from the point of view of software developers in the context of the unix ecosystem”. the aforementioned goal can be achieved by answering the following research questions: rq1 what are the main architectural design decisions along the major releases of the system? rq2 how did complexity and the number of features evolve along the main releases of the system?',\n",
       " 73: 'our study explores the usage of agreed upon weaknesses (cwes) as a basis for quantifying td associated with security issues. our motivation stems from the fact that a large community effort has already generated a lot of data informed by experts from both industry and academia. specifically, the common weakness scoring system (cwss) [17, 22] already provides a mechanism for prioritizing weaknesses according to relevant importance and context. cwss follows the steps of the common vulnerability scoring system (cvss), with the former focusing on weaknesses rather than vulnerabilities. this is an important distinction because a weakness is “a shortcoming or imperfection in the software code, design, architecture, or deployment that, could, at some point become a vulnerability”[2] and vulnerabilitie are manifestations of weaknesses at runtime. thus, since td is a phenomenon that is best observed during design (i.e. tradeoffs), then cwss is the appropriate scoring mechanism that should be leveraged. cwss offers different approaches to calculate a weakness score, of which the aggregated and generalized methods offer a one-to-one mapping with our implementation [9] of the quamoco hierarchical quality model. further, since td is more relevant to design issues, as opposed to code level (non- design) issues [18], we only focus on those rules (i.e., cwes) associated with design at the architectural level [21]. thus, our goal in this position study is to explore an approach that uses cwss scores relevant to architectural decisions to help rank td issues associated with security weaknesses',\n",
       " 69: 'there are many different types of td (such as architectural td, requirement td, test td, code td), which differ in the degree of their negative impact and consequently cause various levels of wasted time during the software development process. several professional roles participate in the software development process, and could possibly be affected by td in diverse ways. furthermore, as the software ages, different types of td could have varying negative effects and could possibly generate a dissimilar distribution of extra time spent on different activities. however, little knowledge and few supporting tools are available to measure the extent of td within a system and, in addition, the time spent on td related issues is not made explicitly visible and measurable. without such knowledge, software development organizations do not know the interest that they are paying on the debt, and therefore they might not give td management the necessary attention. we will answer the research questions by using survey data based on software professionals’ perceptions. all survey respondents were experienced in software development, and therefore, their estimates were likely to be formed by what they have heard, observed, and experienced at their workplaces. to the best of our knowledge, there are no studies quantifying the interest in terms of how much time (observed, measured or estimated) is wasted due to td and how this wasted time varies in relation to the system age and its impact on a range of professional software roles. to do a survey and interviews to check the following questions: rq1. how much of the overall development time is wasted because of technical debt? rq2. what kind of technical debt challenges generates the most negative impact? rq3. what are the various activities on which extra-time is spent as a result of technical debt? rq4. in what way does the age of the software system affect the questions stated in rq1-3? rq5. in what way are the different professional software roles affected by the questions stated in rq1-3?',\n",
       " 67: 'to check how practitioners percept technical debt in embedded systems about quality attributes. rq1: what is the relationship between the expected lifetime of components and technical debt? rq2: what types of technical debt (e.g., code, architectural, etc.) are more frequently occurring in embedded systems? rq3: what is the significance of building maintainable software systems (with low td) compared to satisfying other quality attributes? case study in seven technology companies: telecomunication automotive mobile sensors priting smart manufacturing media devices',\n",
       " 66: 'the main goal of the paper is to check how is the process of technical debt tracking in large software companies. the authors made a survey with practitioners in large software companies, and multiple case study in 3 large software companies in scandinavia area. the questions: rq1 how much of the software development time is estimated to be employed in managing td? it is also important to understand how a td tracking process is introduced and implemented in large software companies.we therefore aim at answering the following rqs: rq2 to what extent do software organizations track td? rq3 how do software organizations introduce a td tracking process? rq4 what are the initial benefits and challenges when large organizations start tracking td?',\n",
       " 96: 'to provide empirical insights into requirements volatility from sw architects’ point of view, an industrial case study was conducted to explore requirements volatility in the context of sw architecture design. fifteen sw architects involved in architecture design were interviewed for the case, the objective of which was to identify challenges that sw architects face due to requirements volatility and to propose means to address those challenges. the following research questions were derived from the objectives of the case. rq1: what are the factors that cause requirement volatility? rq2: what challenges does requirements volatility pose to sw architecture design? rq3: what are means to address the identified challenges in sw development?',\n",
       " 35: 'this paper aims at improving software management by shedding light on the current factors responsible for the accumulation of architectural technical debt and to understand how it evolves over time. in this paper we aim at filling such current gaps by investigating, in several companies, the overall phenomenon of accumulation and refactoring of atd. the study of such subject would also contribute to asd frameworks, by highlighting activities for enhancing agility in the task of developing and maintaining software architecture in large projects [5]. in the context of large-scale asd, our research questions are: rq1: what factors cause the accumulation of atd? rq2: how is atd accumulated and refactored over time? rq3: what possible refactoring strategies can be employed for managing atd?',\n",
       " 24: 'in this paper, we report on our investigation of using drspaces to reveal the architectural impact of bug-prone files. in this paper, we show, using drspaces, that we can automatically identify architectural flaws that contribute to bug-proneness in a software project. this is achieved by automatically identifying a minimal set of drspaces that connect the top bug-prone files in the system. we call these drspaces architecture roots (archroots). we hypothesize that the archroots have deep-seated and enduring impacts on the bug-proneness of a project. they propagate bugs among files, making bugs hard to eradicate, and conse- quently causing maintenance costs to increase over time. as we will show, developers can not systematically reduce the bug rate of a project without fixing these archroots first',\n",
       " 77: 'we formulated three research questions to set a direction and scope for our study: rq1: how do software professionals structure the general evolvability assurance activities for microservices and for what reasons? rq2: what tools, metrics, and patterns do software profes- sionals use for assuring the evolvability of microservices and with what rationales? rq3: how do software professionals perceive the quality of their microservices and assurance processes and what parts are seen as challenging?',\n",
       " 78: 'there are several practical software quality models and tools that have been recently developed and that generally include an automated measurement of technical debt [7]. however, by default, the measured technical debt may not be an accurate measure of product quality issues [8]. while some technical debt is unavoidable [9], a large survey of software engineers and architects across multiple organizations provides a practical view of the causes and sources of avoidable technical debt [5]. their results indicate that architectural decisions, overly complex code, and lack of code documentation are the top three avoidable sources of technical debt in practice.',\n",
       " 81: 'analyse a set of application from cast database system twe analyzed these applications us- ing cast’s application intelligence platform (aip),7 which analyzes an en- tire application using more than 1,200 rules to detect violations of good ar- chitectural and coding practice. we drew these rules from software engi- neering literature, repositories such as the common weakness enumeration (cwe; cwe.mitre.org), online discus- sion groups of structural quality prob- lems, and customer experience as re- ported from defect logs and application architects. as an example, security- related violations would include sql injection, cross-site scripting, buffer overflows, and other violations from the cwe.',\n",
       " 82: 'the purpose of this study is to explore a method for quantifying an estimate of the technical debt within a business application. such studies are needed to help it organizations make visible the costs and risks hidden within their application portfolio, as well as establish a benchmark for making decisions about investments in application quality, and especially structural quality.',\n",
       " 85: 'two insights that we come out of our work practice with designing/architecting/coding in real production world cloud computing services or applications/resources are: security risk, threat/problem. context milieu circumstance, perspective framework stages participates with a big role in cloud service or resource security design and architecture. security risk, threat, attack, issues, problem patterns are anticipated excellent elucidation, but purely on whence we relate the situation and apply them in fitting right security design context and the problem/risk with measure.',\n",
       " 88: 'our goals in this paper are: (1) to advocate for the necessity to study novel and lightweight approaches to manage scalability debt in open systems. and, (2) to provide a first preliminary study of a lightweight analysis method that can support managing scalability debt in open systems. the subsequent rq is: how can we identify, estimate and prioritize scalability debt in open systems?',\n",
       " 90: 'as preliminary work for our investigation, we identify the architectural divergences that have occurred over time in argouml. we achieve this by obtaining and contrasting the concrete and conceptual architectures of the system based on available documentation and the source code of the project. we replicate techniques from previous work [3], [15], [7]; where alongside the goals and findings of each study, their authors were able to expose many unexpected and missing dependencies between subsystems in an architecture (archi- tectural divergences). bowman and brewster [3] pointed out that many of the unexpected dependencies they found in linux could not be explained by rationale and their occurrence is due to developers bad practices or expediency. since identifying satd exposes problems acknowledged by developers, we investigate if satd can be a good indicator of said unwanted links between subsystems. we examine the following research questions for our study: rq1 - how many architectural divergences can be traced to satd comments? rq2 - how many architectural divergences can be fixed by addressing satd?',\n",
       " 91: 'service-based systems (sbss) promised to bring a number of structural benefits to software maintainability, which has been sup- ported by several studies (e.g. [16, 18]). in recent years, an agile, light-weight, and devops-focused service-oriented variant called microservice-based systems (μsbss) gained popularity and is now trying to renew this promise for a second time. while service orien- tation can bring several benefits, the different levels of abstraction make it also important to revise and adapt design, development, and quality control mechanisms, as for example reported by voelz and goeb [23]. especially in the context of microservices, technological heterogeneity and decentralization of control can have negative impacts on the maintainability of a composed application, if not treated appropriately. we therefore created a survey for software professionals to gain insights into their notion of maintainability assurance, more specif- ically a) their used processes, tools, and metrics, b) potentially different treatment of sbss and μsbss w.r.t. maintainability control, and c) influences on their satisfaction w.r.t. their maintainability- related actions. note that while we are aware of existing differences between service-oriented architecture (soa) and microservices [5], we focused on their similarities in this paper and explicitly chose the term “service-based systems”, which is not as connected to enterprise-wide governance, standardization, and centralization as soa. this leads to the following research questions for our survey: rq1: what processes, tools, and metrics are used in the industry to measure and control maintainability? rq2: is the usage of maintainability control different for service- or microservice-based systems? rq3: what correlations exist between applied maintainability controls and participants’ overall view of maintainability in their project?',\n",
       " 97: 'architectural decisions shape the properties of software systems and may put quality [7] and buildability [8] at risk. architects may represent a varied attitude towards such architectural risks. for example, some may take risks eagerly, in an attempt to exploit opportunities to improve some of the software quality attributes, while others may be reluctant to take any risk. the general research question is how architects’ attitude towards risk influences the decision-making process. this translates into following research questions: rq.1. how are architectural risks taken? rq.2. which aspects of the architectural decision- making process are influenced by architects’ attitude towards risk? rq.3. how should architects’ attitudes towards architectural risks be classified? rq.4. does the proposed classification reflect real world cases?',\n",
       " 40: 'to flesh out the above-mentioned objective, three main rqs were formulated. rq1: are there any community smells emerging in the process of software architecting? rq2: provided that architectural community smells do exist, can the extent of the impact for reported community smells be measured? rq3: can social debt be addressed and mitigated? the results, in this paper, stem from a longitudinal, real-life industrial case study and were confirmed using industrial focus groups. more specifically, to confirm the validity of the architec- tural social debt community smells and their measurement framework reported in this paper, the connected notions were stressed in two industry–academy mixed focus groups as part of a dagstuhl seminar on technical debt.1 the focus groups counted a total of nine senior members from several top industrial players, including google, cast software, hp inc., and vnomic. as part of the results of the focus groups, the validity of the architectural social debt community smells reported in this paper along with the dahlia framework to manage them was confirmed. furthermore, the involved prac- titioners allowed a deeper exploration of previously unknown dimensions over the social debt phenomenon. for example, the definition and ramifications of social debt as a metaphor were refined with an even deeper relation to technical debt—a form of sociotechnical debt, wherefore the social causes always lead to nasty technical phenomena as well (e.g., code churn, unwanted changes, replicated code, and more). this latter form of sociotechnical debt reflects additional project cost which is caused by suboptimal sociotechnical decisions but manifests as negative and invisible characteristics in source code or connected software artifacts (e.g., requirements, software architecture, documentation, and so on) rather than delays or communication friction across the organizational structure.'}"
      ]
     },
     "metadata": {},
     "execution_count": 20
    }
   ],
   "source": [
    "dict_main_aim = my_dict_from_column(df_sms_extraction, 'Main aim (Goal)')\n",
    "print(f'Size of dict_main_aim {len(dict_main_aim)}')\n",
    "dict_main_aim"
   ]
  },
  {
   "cell_type": "code",
   "execution_count": 21,
   "metadata": {},
   "outputs": [
    {
     "output_type": "stream",
     "name": "stdout",
     "text": [
      "Size of dict_tapmp 47\n"
     ]
    },
    {
     "output_type": "execute_result",
     "data": {
      "text/plain": [
       "{1: 'general:\"model-driven architecture approach, natural language processing, machine learning, heterogeneous artefacts\" # approuch:\"rebel focuses on finding atd items at architecture level only, measuring the impact of its repayment strategy based on architecture decisions and allowing the debt to be anticipated or corrected before the implementation process begins # tools:\"rebel\"',\n",
       " 2: 'general:\"specialist technical evaluation, modularity, measurement system, complexity, cohesion, coupling, code churn, source code, revision history\" # approuch:\"own technique to identify, measure and calculate the atd\" # tools:\"own\"',\n",
       " 3: 'general:\"architecture smells, modularity\" # approuch:\"unstable dependency, hub-like dependency, cyclic dependency, implicit cross package dependency, \" # tools:\"arcan, sonarqube, apache commons bcel, hellow2morrow\"',\n",
       " 4: 'general:\"architectural root, source code, revision history, design structure matrix, code churn, change frequency, architectural smells, modularity\" # approuch:\"unstable interface, implicit cross-module dependency, unhealthy inheritance hierarchy, clique, package cicle\" # tools:\"archdia\"',\n",
       " 5: 'general:\"maintainability, architecture flaws, architecture roots, decoupling level, propagation cost, architectural smells, design structure matrix, drspace\" # approuch:\"clique, package cicle, modularity violation, crossing, unstable interface\" # tools:\"dv8\"',\n",
       " 7: 'general:\"source code, revision history, hotspot, propagation patterns, issue tracking\" # approuch:\"change-prone, bug-prone, early detection architectural problems\" # tools:\" understand , simian, dv8 \"',\n",
       " 9: 'general:\"modularity, average number of modified components per commit, anmcc, index of package changing impact, ipci, index of package goal focus, ipgf, source code, revistion history, \" # approuch:\"modularity metrics, spearman’s correlation tests\" # tools:\"no\"',\n",
       " 10: 'general:\"source code, software architecture documentation, business documentation, revision history, release plan\" # approuch:\"framework anacondebt, catalog, taxonomy\" # tools:\"owner formulas\"',\n",
       " 13: 'general:\"design rules spaces, design structure matrix, architecture issues, architectural smells, hotsport pattern, unstable interface, modularity violation, unhealthy inheritance, cyclic dependency, drspace, source code, revision history, bug track, modularity violation, code churn, debt churn\" # approuch:\"archdebt framework, history coupling probability (hcp) matrix, ranking: identify high-maintenance archdebt, architechtural debt evolution\" # tools:\"titan, understand\"',\n",
       " 14: 'general:\"architecture description language, adl, objet constraint language, atd hotsports\" # approuch:\"android architecture guideline extraction, android reference architecture establishment, reverse engineering of implemented architecture, compliance checking, quantitative assessment of compliance violations\" # tools:\"acme-generator tool\"',\n",
       " 15: 'general:\"architecture dsl, architecture violation, package analysis, source code\" # approuch:\"architecture violation\" # tools:\"sonargraph\"',\n",
       " 16: 'general:\"taxonomy of atd, modularity, non-funtional requirements, temporal properties, socio‐technical anti‐patterns, catalog of atd, socio-technical, propagation, revision history\" # approuch:\"atd contagious debt, architecture risk management, architecture drifting, architecture violation, atd generation, atd propagation\" # tools:\"owner formulas\"',\n",
       " 17: 'general:\"tool evaluation, package evaluation, architectural smells, code smells, technical debt index, architectural violation, cyclic packages, technical debt ratio, cycles, cyclic dependencies, unstable dependencies\" # approuch:\"analys of open source project\" # tools:\"sonargraph, sonarqube,fusion\"',\n",
       " 21: 'general:\"software architectural documentation, architecture decision, quality attributes, atd item, atd list, change scenario, architecture decision template, architecture diagram, specialist analysis, revision history, release plan\" # approuch:\"atd identification based on change scenarios\" # tools:\"no\"',\n",
       " 22: 'general:\"agile software development, taxonomy of atd, refactoring, source code, business factory, architecture documentation, human factor, \" # approuch:\"taxonomy of atd, framework to identify atd, specialist analysis\" # tools:\"no\"',\n",
       " 27: 'general:\"modularization, code churn, source code, revision history, complexity, refactoring, specialist analysis, files, components\" # approuch:\"method to select critcial files to refactoring\" # tools:\"owner formula\"',\n",
       " 30: 'general:\"architectural smells, refactoring, number of package, number of class, unstable dependency, hub-like dependency, cyclic dependency, package, specialist evaluation, source code, revision history, architectural smells impact, priorization, bugs\" # approuch:\"survey, case study\" # tools:\"arcan\"',\n",
       " 38: 'general:\"source code, revision history, issue list, dependency structure matrix, drspace, decopling level, \" # approuch:\"hotspot, architecture degradation\" # tools:\"understand, titan\"',\n",
       " 48: 'general:\"hotspot, refactoring, source code, revision history, architectural issue, issue tracker, issue list, file dependencies, specialist evaluation, business cases, unstable interface, implicit cross-module dependency, modularity violations, unhealthy inheritance hierarchy\" # approuch:\"drspace, design ruel hierarchy, design structure matrix, architecture roots\" # tools:\"titan, sonarqube, understand, jira, git\"',\n",
       " 47: 'general:\"rank of priorization, refactoring, catalog of atd effects, taxonomy of atd, contagious atd, code change, code churn, complexity, issue tracker, \" # approuch:\"multiple case study\" # tools:\"questionaries\"',\n",
       " 20: 'general:\"architectural smells, social network, maintainability,social network analysis, link prediction, source code, revision history, dependency prediction, time series, cycle, hub-like, unstable dependency, ranking-based link prediction, machine learning prediction\" # approuch:\"machine learning, prediction of architectural smells, dependency graph representation, predictive approach\" # tools:\"dependency-analyser, owner tool, weka\"',\n",
       " 33: 'general:\"specialist evaluation, package, release plan, dependency analysis, dsm, implementation cost, propagation cost, rework cost, use cases, refactoring, re-architecting, person effort, modularity metrics, change propagation metric\" # approuch:\"owner formulas, design structure matrix\" # tools:\"owner tool\"',\n",
       " 26: 'general:\"maintainability, decoupling level, propagation cost, architecture anti-patterns detection, unstable interface, modularity violation groups, unhealthy inheritance hierarchy, crossing, clique, cycle dependencies, package cycle\" # approuch:\"tool evaluation\" # tools:\"dv8, archdia\"',\n",
       " 28: 'general:\"modularity, package dependencies, design flaws, package cohesion, package coupling, source code, revision history, average coupling afferent, total coupling intensity between packages, cohesion among package classes\" # approuch:\"correlation analysis\" # tools:\"sonarqube\"',\n",
       " 31: 'general:\"maintainability, performance, visualization of atd, logical view, design view, deployment, efficiency, component communication, component dependencies, eletronic control unit, automotive domain\" # approuch:\"semi-structured interview, cost of component communcation, owner formulas, treemap\" # tools:\"owner tool to visualize dependency among components\"',\n",
       " 44: 'general:\"architecture smells, design metrics, code metrics, architecture violations, resolution cost, keeping cost, unity measure (money, time, rank, loc)\" # approuch:\"tools evaluation\" # tools:\"cast , infusion, sonargraph, sonarqube structure101\"',\n",
       " 43: 'general:\"complexity, modularity, maintanance cost, refactoring, coupling, cohesion, dependencies between components, dsm, source code, issue track, bug tracking, defect-related activity, file changes, specialist evaluation, refactoring, design decisions, code churn, cicly dependencies\" # approuch:\"design structure matrices\" # tools:\"owner tool\"',\n",
       " 51: 'general:\"architectural smells, refactoring, hublike dependency, cyclic dependency, complexity, unstable dependency, source code, revision history, package analysis, jaccard similarity index\" # approuch:\"refactoring prioritisation, goal-question-metric, analysis using qualitas corpus, trend evolution classification templates, correlation analysis\" # tools:\"arcan, astracker, graphml\"',\n",
       " 52: 'general:\"pagerank, criticality, architectural smells, architecture erosion, priorization, unstable dependency , hub-like dependency, cyclic dependency, criticality reference, packages dependencies, source code, revision history\" # approuch:\"architecture smells detection\" # tools:\"arcan, gephi tool\"',\n",
       " 63: 'general:\"\" # approuch:\"\" # tools:\"no\"',\n",
       " 73: 'general:\"quality assurance, security, common weakness scoring system, common vulerability scoring system, quamoco, iso 25010, source code, catalog of flaws, specialist evaluation\" # approuch:\"pilot study, priorization securty framework, common architectural weakness enumeration\" # tools:\"owner score formula, fxcorp\"',\n",
       " 69: 'general:\"complex architectural design, time wasted to pay td, requirement td, testing td, source code td, understanding issues, measuring issues, refactoring issues\" # approuch:\"survey, interview\" # tools:\"no\"',\n",
       " 67: 'general:\"lifetime components, embeded systems, quality attributes, maintainability, reliability, source code, revision history, specialist evaluation, performance, functionality, compatibility, portability, software-intensive domains, long lifetime, test td, code td, architecture td, documentation td\" # approuch:\"gqm, questionaries, interview\" # tools:\"no\"',\n",
       " 66: 'general:\"dependency violations, complex architectural design, social interactions, evolution model, diferent patterns, dependency to external resource, lack of reuse of components, specialist evaluation\" # approuch:\"survey, questionaries, case study, strategic adoption model for tracking technical debt\" # tools:\"no\"',\n",
       " 96: 'general:\"requirements volatility, software architecture documentation, software architecture design, business enviroment, communications issues\" # approuch:\"case study, interview\" # tools:\"no\"',\n",
       " 35: 'general:\"refactoring, agile software development, taxonomy of atd, quality model to atd, refactoring strategies, dependency violations, patterns and policies, code duplication, non-functional requirements, atd priorization, specialist evaluation, revision history, source code, business factors, architectural documentation, third party use, open source use, technology evolution, lack of domain knowledge, priorization, refactoring maximization, refactoring minimization, parcial refactoring, component dependencies, social-technical factors\" # approuch:\"quality model to refactoring atd, interviews\" # tools:\"qda tool\"',\n",
       " 24: 'general:\"\" # approuch:\"\" # tools:\"no\"',\n",
       " 77: 'general:\"evolvability, microservices, maintainability, complexity, ciclomatic complexity, technology heterogeneric, lask of test, integrated legacy code, distributed code repositories, maintainability metrics, architectural conformace checking, code smells, cyclomatic complexity, rule violations, event-driven, messaging, api gateway, guidelines, software architecture documentation, service documentation, technical complexity, microservices integration\" # approuch:\"interviews\" # tools:\"sonarqube, findbugs, checkstyle, pmd, ide linting, cobertura, custom tool, structure 101, codevoc, codacy\"',\n",
       " 78: 'general:\"architectural complexity, propagation cost, complexity metrics, design structure matrix, treemap, source code, coupling, coupling between objects, reliability, maintainability, static code analysis, architectural metrics, core size, dsm\" # approuch:\"plugin to collect information\" # tools:\"owner plugin, understand\"',\n",
       " 81: 'general:\"language parse, meta-model, catalogs of rules, application analysis, detected violations, quality attributes, performance, robustness, security, changeability, transferability, source code, revion history, business risk, \" # approuch:\"detected violation, owner formula\" # tools:\"cast, owner formula\"',\n",
       " 82: '\" general:\"\"language parse, meta-model, catalogs of rules, application analysis, detected violations, quality attributes, performance, robustness, security, changeability, transferability, source code, revion history, business risk, \"\" # approuch:\"\"detected violation, owner formula\"\" # tools:\"no\"cast, owner formula\"\" \"',\n",
       " 85: 'general:\"\" # approuch:\"\" # tools:\"no\"',\n",
       " 88: 'general:\"scalability, quality metrics, scalability triage, affected subsystems, estimating impact, specialist evaluation, performance, software architecture documentation, open systems\" # approuch:\"lightweight approuch to identify scalability debt\" # tools:\"no\"',\n",
       " 90: 'general:\"self-admitted technical debt, architecture recovery, component dependencies, software architecture documentation, source code, architecture violation, reverse engineering, architectural divergences, depencencies per component\" # approuch:\"framework to recover the architecture\" # tools:\"owner tool\"',\n",
       " 91: 'general:\"maintainability, microservices,test coverage, cyclomatic complexity, clone coverage, coupling metrics, architectural violation, outated documentation, inadequate testing, architectural erosion, problematic dependencies, complex components, large components, duplicate code, outdated libraries, quality atributes\" # approuch:\"survey\" # tools:\"sonarqube, findbugs, self-made tool, checkstyle, pmd, jmetrics, lattix, cast, codecov, error prone\"',\n",
       " 97: 'general:\"architectural risk\" # approuch:\"classification of architectural risk\" # tools:\"no\"',\n",
       " 40: 'general:\"\" # approuch:\"\" # tools:\"no\"'}"
      ]
     },
     "metadata": {},
     "execution_count": 21
    }
   ],
   "source": [
    "dict_tapmp = my_dict_from_column(df_sms_extraction, 'Techniques, approach and methods (parsed)')\n",
    "print(f'Size of dict_tapmp {len(dict_tapmp)}')\n",
    "dict_tapmp"
   ]
  },
  {
   "cell_type": "code",
   "execution_count": 22,
   "metadata": {},
   "outputs": [
    {
     "output_type": "stream",
     "name": "stdout",
     "text": [
      "Size of dict_tam 47\n"
     ]
    },
    {
     "output_type": "execute_result",
     "data": {
      "text/plain": [
       "fic customer value, volatility. - architecture technical debt effects — double effort — big delivies — contagius atd — developers idling — many code changes — number/complexity of test cases — probable hidden td — quality issues — wrong estimation of effort it was performed a multiple case study in 4 companies using workshops, questionaries with feature business team and technical team about features and atd. it was analysed the questionaries quantitatively to compare answers between business team and technical team about priorization aspects and atd effects to aid an index (in a scale defined by authors) of priority for each evaluated aspect.',\n",
       " 20: 'architectural smells sna (social network analys) using a graph of files in a version. machine learning to predict the architecture smell the analysis was performed in a group of apache software (camel, ant, derby and cxf). it was used a dependency graph representation using cda (check dependency analysis) tool to discover the relationship java files it was used dependency and smel prediction based on the dependence graph to each version analysed. it was used a ranking-based link prediction. it was used a machine learning link prediction technique. it was used a time series forecasting to compare feature and component evolution over time. tools: class dependency analyzer (cda) available on http://www.dependency-analyzer.org weak tools to data analsys and prediction forecast',\n",
       " 33: 'the cost of each architectural element, the number of dependencies impacted by each architectural change, and the overall change propagation metric of the system may all be seen as proxies for complexity, which is assumed to affect the cost of change. change propagation metric (pc) defined by maccormack [10] dsm (design structure matrix)',\n",
       " 26: 'a. maintainability measurement b. architecture anti-pattern detection - ustable interface - modulatrity violation groups - unhealthy inheritance hierarchy - crossing - clique - package cycle c. architectural debt analysis . architecture root.',\n",
       " 28: 'as subjects for this study, we used 20 java oss projects, which have been selected based on the following criteria—for more details see arvanitou et al. [6]: pearson, correlations (correlation), spearman correlation (consistency) and linear regression (predict power), tool: sonarqube − the software is a popular oss project in sourceforge.net. this criterion ensures that the investigated projects are rec- ognized as important by the oss community. − the software has more than 20 versions (official releases). we have included this criterion for similar reasons to c1. − the software contains more than 300 classes. this criteri- on ensures that we will not include “toy examples” in our dataset. the software is written in java. we include this criterion because the employed metric calculation tools analyse java bytecode. coupling and cohesion at the package level have been quantified using three metrics: − aca – average coupling afferent this metric represents the average afferent coupling of packages. afferent cou- pling is the number of outgoing dependencies of a package to other packages [14]. − tcip – total coupling intensity between packages: this metric represents the count of class dependencies that span among different packages. this metric is inspired by the traditional coupling between objects metrics [8], which is calculated at the class level. the idea of employing two coupling metrics is that one (aca) captures the number of dependencies at the architecture level, whereas the other (tcip) the intensity of the dependency [4]. − capc - cohesion among package classes: this metric assesses how closely two classes that belong to the same package collaborate with each other. the metric is inspired by reversing the calculation of lack of cohesion of meth- ods [8]. to calculate this metrics we compute the total number of pairs of classes that belong to one package, and then we investigate the percentage of these pairs that are coherent (i.e., they are coupled to each other). data collection and analysis. each package of our dataset (i.e., row) is characterized by five variables: name, td princi- pal, aca, tcip, and capc. to answer the aforementioned research questions we perform: (a) spearman and pearson cor- relation between aca, tcip and td, and capc and td prin- cipal, (b) univariate regression analysis with dependent vari- ables: aca, tcip and capc, and (c) hypothesis testing to check the discriminative power of td to identify classes with low cohesion and high coupling. the main tool to perform the analysis was the sonarqube.',\n",
       " 31: 'architectural technical debt (atd) visualization of atd and its interest electrical architecture at volvo car group it was defined three levels: - logical view - design view - deployment and efficiency in general, it was defined as a set of car components domain where there is a set of ecu for each specific domain, and for each ecu, there is a set of lc (logical component). the author defined a weight scale (0,1,2). 0 is the weight between lcs in the same ecu, 1 is the weight between lcs in deferent ecus but in the same domain, and weight 2 means that the communication between lcs is between different ecus deferents domain. after defined the architecture of the components, the architect check the deployment and compare with the original architecture. the cost of interest is calculate according the formula proposed by the authors. it was created a specific graphic dependency tool to show the “misplaced lc interest”',\n",
       " 44: 'cast infusion sonargraph sonarqube structure101 input: architecture smells, architecture violation output: resolution cost (principal), keeping cost,(interest) unity measure (money, time, rank, loc)',\n",
       " 43: 'design structural matrix - direct dsm - visubility dsm modularity - measure component coupling - measure fan-in/fan- costs measure defect-related activity according the bug occurrence and file related to bug. financial analysis using code of line as a parameter. according the number of loc modify. the authors proposed a spent effort of loc changed in file. olr to do regression. refactoring.',\n",
       " 51: 'architecture smells: - unstable dependency - hub-like dependency - cyclic dependency criticality - reference packages - dependencies - cycle sharing pagerank it was used the arcan tool to detect the three architecture smells. criticitality of architec. the authors studied 14 open source java projects (from qualitas corpus). data mining, evolution smells through the versions, correlation among architectural smells. astracker to track architectural smells evoluation. use jaccard similarity index to compare set of files between analysed consecutive versions.',\n",
       " 52: 'architecture smells: - unstable dependency - hub-like dependency - cyclic dependency criticality - reference packages - dependencies - cycle sharing pagerank it was used the arcan tool to detect the three architecture smells. criticitality of architecture smells pagerank of architecture smells',\n",
       " 63: 'it was compared the evolution of architecture and features from unix release (research pdp7 - 1970) to freebsd 11.0.0 - 2016 using source code and documentation (unix reference manual page). it was analysed about 30 releases. it was analysed two point of views in unix evolution: feature growth and cyclomatic complexity. feature growth: -kernel interfaces - system commands - file formats - devices - c livrar functions - system calls - user commands 6. evaluation of system architecture evolution: - the constructs in our case include the main concepts from the research questions, i.e., architecture decisions, evolution, system lifetime, features, size and complexity. they also extend to technical debt, conventions, portability, software ecosystems and third-party systems. - the derived propositions and explanations are elabo- rated in the following sub-sections, grouped into those concerning: a) the form and pace of architectural evolution, b) the accumulation of architectural technical debt, and c) forces for architectural evolution. each proposition is for- mulated as one sentence (in italics) and briefly elaborated, followed by a paragraph with the explanation. - 6.1 form and pace of architectural evolution — proposition 1: many core architecture decisions are taken at the beginning of the system’s lifetime — proposition 2: most important architecture decisions survive over the system lifetim — proposition 3: new architecture decisions are continuously made, further fueling architecture evolution — proposition 4: the rate of architecture decisions declines over the system’s lifetime - 6.2 accumulation of architectural technical debt — proposition 5: a major source of architecture technical debt is architecture decisions offering features that are either similar to existing ones or remain under-used — proposition 6: the architecture technical debt is systematically paid back despite increasing system size and complexity 6.3 forces of architectural evolution — proposition 7: the preference for conventions instead of enforce- ment facilitates evolution by reducing effort and offering flexibility — proposition 8: portability, due to its inherent complexity, is a key driver of evolution — proposition 9: a sophisticated ecosystem of other operating sys- tems and third parties constantly shapes the architecture evolution — proposition 10: the adoption of third-party subsystems facili- tates evolution through reusability but incurs technical debt — proposition 11: large subsystems form their own architecture, independently of the architecture of the encompassing system',\n",
       " 73: 'quamoco common weakness scoring system it was proposed a framework that identify security td using cawe/cwe architecture hierarchy. the source code is analysed. it was generated a technical impact score card. it was generated a quamoco hierarchy of security td quality aspect. it was performed a cwss score to create a td priorization. the principal is calculate using the following formula: principaltd-security = cost of the maintenance and refactoring associated with fixing architectural cwes',\n",
       " 69: 'it was created a survey and interviews to verify the effort about td in whole software cycle development.',\n",
       " 67: 'use gqm (go question metric) to analyse the perception of td with respect to lifetime components, types of td, quality attributes. data collections: projects demographics - description of project - release date - number of releases technical debt item data points - estimated lifespan - types of td identified - importance of quality attributes, maintanability is the main quality attributed related to td. functionality, reliability and performance were the other quality attributes so importante to embed systems.',\n",
       " 66: 'survey with questionaries , multiple case study in 3 companies throng interviews with the practitioners from each company. chi square statistic method que compare and analysis the answers the authors created a list of kinds of technical debts from [3], [10] -lack or lowquality of testing test debt [3] low code quality source code debt [3] lack or low quality of requirement requirement debt [3] lack or low quality of documentation documentation debt [3] dependency violations architecture debt [3], [10] complex architectural design architecture debt [3], [10] too many different patterns and policies architecture debt [3], [10] dependencies to external resources/software architecture debt [3], [10] lack of reusablity in design architecture debt [3], [10] uneasy/tensed social interactions between different stakeholders social debt [3], [11] lack of adequate environment and infrastructure during development infrastructure debt [3] the authors proposed a model called ;strategic adoption model for tracking technical debt (samttd); to suggest phases to td tracking evolution model. the following phases were proposed; - unaware - no tracking - ad-hoc - manual - measured - institutionalized - fully automated',\n",
       " 96: 'case study , interviews , capture software process, requeriments and software architecture',\n",
       " 35: 'taxonomy of the causes for atd qualitative crisis model qualitgative phases model factors influencing atd accumulation (rq1) - uncertainty of use-case in early stages - business evolution - time pressure - priority of features over product - split of budget - design and architecture documentation - reuse of legacy/third party/open source components - parallel development -uncertainty of impacts - non-completed refactoring - technology evolution - lack of knowledge models of atd accumulation and refactoring (rq2) - crisis-based atd management -phases of atd accumulation refactoring strategies (rq3) - partial refactoring is the best option for the maximization of refactoring. complete is refactoring not realistic. - drastic minimization of refactorings (no refactoring) leads to in scandinavia. in different geographical areas the results might be different. we therefore encourage further investigation of the results in other contexts in order to make another step towards further generalizing the results (as explained in the external valid- ity section). answering the rqs contributes to the body of knowledge, according to the gaps identified in a recent systematic mapping study [4], by providing a reliable industrial study based on the experiences of several atd stakeholders: architects, developers and product owners. in particular: rq1: we have studied the socio-technical factors related to phe- nomena of accumulation and refactoring of atd. these factors might be studied and treated separately. such factors offer a better understanding of the overall phenomenon of atd accu- mulation and refactoring, which is a prerequisite for its management. rq2: we have developed and evaluated two qualitative models of the trends in accumulation and refactoring of atd over time based on its prioritization: the crisis model and the phase model. rq3: we have provided constraints and recommendations about different refactoring strategies and their effects on devel- opment crises. such recommendations should be tested with further case studies.',\n",
       " 24: 'to evaluate the usefulness of drspaces and archroots, we have studied the following research questions: 1) if an architecturally influential file (design rule) is bug-prone, are the files within its design space also likely to be bug-prone, and more bug-prone than other random design spaces? the answer to this question will help us understand the architectural impact of design rules. 2) to what extent are bug-prone files architecturally connected? if a large portion of error-prone files are captured in a few archroots, it implies significant impact of architecture on software quality. 3) are these archroots long-lasting and persistent during projects evolution? the answer to this ques- tion will help us understand if the architecture impact is persistent. 4) do these archroots contain architectural flaws that may contribute to their bug-proneness? fi- nally, we would like to understand what kinds of design rule theory design structure matrix design rule hierarchy evolutionary coupling (violaçao de modularidade) architectural root - drspace - bug space',\n",
       " 77: 'interview about maturity of control of evolvability interviews told about sonarqube integrated into the ci/cd pipeline ciclomatic complexity was most used by interviews as code smell. most important challenges in evolvability of microservices: - service cutting - no system centric view - mastering technologies - technological heterogeneric - missing docs - architectural complexity - integrated legacy code - distributed coordniation team - inadaquete testing - microservices intgration - breaking apis changes - distributed code repositories',\n",
       " 78: 'architectural metrics - propagation cost - core size. complexity metrics - loc (lines of code) - wmc unweighted (weighted method count - unweighted) - wmc-mccabe (weighted method count – mccabe) - rfc (response for class): -cbo (coupling between objects) design structure matrix treemap of source code with mccable complexity.',\n",
       " 81: 'analysis of systems using language parse, meta-model, catalogs of rules, detect violations and quality attributes like performance, robustness, security, changeabliity',\n",
       " 82: 'the five health factors reported in this study are as follows robustness—the stability of an application and the ease of recovery from failures. performance efficiency—the responsiveness of the application. security—an application’s ability to prevent unwanted intrusions. transferability—the ease with which a new team can understand the application and quickly become productive working on it. changeability—an applications’ ability to become quickly and easily modified. these business applications were analyzed using cast’s application intelligence platform (aip) which performs a static analysis of an entire application using over 1200 rules. once the code is parsed, aip looks for violations of its architectural and coding rules and identifies the number of violations versus the number of opportunities for violations for each rule.',\n",
       " 85: 'refactoring for cloud computing security',\n",
       " 88: 'scalability planning horizon. decide how long into the future you want to explore the scalability of your system, e.g., 2 or 5 years from now on? system boundaries. specify the services and corresponding resources within the system boundaries, which should be included when measuring the quality of the system. operations. identify unique ways of interacting with the system, e.g., functions, calls, transactions, queries, and jobs, such as a payments or balance transaction. quality metrics. define precisely how to measure a certain performance quality. a typical metric in our domain is the 90th percentile of response times. quality thresholds. describe the boundary between acceptable and non-acceptable quality for each operation, using a quality metric, e.g., 1 second for the 90th percentile of response times. work. characterize what is done each time we invoke an operation and eventually determine resource demands for this operation. work is related to the amount of data to be processed, stored, or communicated. we are interested in the highest values for the work parameters, which typically occur towards the end of the planning horizon. burstiness. estimate the fraction of peak load to average load during a given period. for example, a burstiness of 3 for the hours of a day, means that in the busy hour, the load is three times the average load during a day. load. describe how often an operation is invoked. for an open system, load is determined by an arrival rate, e.g., transactions per second. in a closed system, load is captured in terms of the number of end-users and their average think time. we are interested in the highest load values, i.e., load in the busiest hour, in the busiest day, in the busiest week, and in the busiest year in our planning horizon. workload. the product of work and load. critical operations. operations where the product of work and load has a risk of not fulfilling the quality thresholds. resources. specify cloud and/or hardware resources: cpus, disks, and networks. software license costs are also part of the resources. data consistency. describe how up-to-date different replicas should be. since replication is the key pattern for achieving scalability, strict consistency requirements will make it much harder to achieve a given level of scalability.',\n",
       " 90: 'recover architecture of components using dependences , satd identification architecture violoation',\n",
       " 91: 'survey with 60 participants that develop micro-services to check the perception of maitainability of service based systems.',\n",
       " 97: 'there is no tool do atd, but the author propose a classification of architect risk classification: conservative (averse, minimalist, cautious) and progressive (open and hungry)',\n",
       " 40: 'nan'}"
      ]
     },
     "metadata": {},
     "execution_count": 22
    }
   ],
   "source": [
    "dict_tam = my_dict_from_column(df_sms_extraction, 'Techniques, approach, methods and tools')\n",
    "print(f'Size of dict_tam {len(dict_tam)}')\n",
    "dict_tam\n"
   ]
  },
  {
   "cell_type": "code",
   "execution_count": 23,
   "metadata": {},
   "outputs": [
    {
     "output_type": "stream",
     "name": "stdout",
     "text": [
      "Size of dict_kind_of_research 47\n"
     ]
    },
    {
     "output_type": "execute_result",
     "data": {
      "text/plain": [
       "{1: 'case study in project center of excellence and appropriation in big data and data analytics (caoba) in a joint collaboration among several universities in colombia and the tax office in bogota.',\n",
       " 2: 'embedded case study in a large company',\n",
       " 3: 'it was computed 109 open source projects from qualitas corpus we evaluated the adi also according to these categories and the size of the projects in terms of number of packages.',\n",
       " 4: 'we present a case study on a large-scale project (in c#), which has evolved for 9 months through a series of change requests since the last release. in this case study, we used the definition and techniques in [8], [16] to identify file groups where the files are architecturally connected and flawed by architecture issues .',\n",
       " 5: 'this paper reports on a longitudinal study of a healthcare communications product created by brightsquid secure communications corp. real-world empirical study of architecture debt over a long period of time with the goal of demonstrating the benefit of improving a product’s software architecture by paying down architecture debt (through refactoring)',\n",
       " 7: 'empirical study of the evolution of 21 large-scale open source projects',\n",
       " 9: 'empirical investigation this study is a holistic multiple case study, in the sense that we investigate multiple oss projects, i.e., cases, and from each case we extract a single unit of analysis. in this study, as unit of analysis we use the pair of two selected releases of an oss project.',\n",
       " 10: 'this research process can be seen as a longitudinal case study, in which a method is created and evaluated. the difference is that, instead of developing the method offline and evaluating it once, we continuously refined the method with multiple and iterative evaluations of the artifact involving several stakeholders in several organizations.',\n",
       " 13: 'we chose 7 apache open source projects as our evalua- tion subjects. these projects di↵er in scale, application do- main, length of history, and many other project character- istics. they are: camel—a integration framework based on enterprise integration patterns; cassandra—a distributed dbms; cxf—a web services framework; hadoop—a frame- work for reliable, scalable, distributed computing; hbase— the hadoop distributed, scalable, big data store; pdfbox— a library for working with pdf documents; and wicket—a component-based web application framework.',\n",
       " 14: 'in this research we present an approach to automatically identify architectural technical debt in android applications',\n",
       " 15: 'it is a presentation of the features and characteristics of a tool.',\n",
       " 16: 'we conducted a 2‐year long, multiple‐case, embedded case study involving 9 scandinavian sites in 6 large international software development companies.',\n",
       " 17: 'we provide our experience report in using three known tools to capture in- formation that can be useful to identify and evaluate the architectural debt of an application.',\n",
       " 21: 'case study this is an embedded single case study, since multiple units of analysis (i.e., the participants) are studied for one case: an information system in a large telecommunications company in china.',\n",
       " 22: 'in this paper we have employed a 1-year multiple-case embedded case-study involving 7 different sites in 5 large scandinavian companies in order to shed light on the phenomenon of accumulation and recovery of atd.',\n",
       " 27: 'it was conducted a holistic case-study in a large software company.',\n",
       " 30: 'in summary, with this case-study, we make a first step towards understanding how practitioners can semi-automatically detect and prioritize atd we conducted a multiple case-study in a large, international company located in sweden. in particular, we automatically analyzed four projects and we assessed the output with the practitioners responsible for the development and mainte- nance of such projects.',\n",
       " 38: 'pesquisa aplicada que visa desenvolver uma abordagem para medir débito arquitetural usando o método drspace a validação dessa abordagem foi feita através da validação em um projeto open source, no caso o hadoop hdfs',\n",
       " 48: 'in this paper we present a case study of a software development organization–softserve inc.—that did just that: facing high and mounting problems with technical debt in a project, they were able to analyze their software architecture, pinpoint the hotspots within that architecture that were the principle causes of technical debt, propose refactoring solutions to fix the hotspots, and (perhaps most important) make a business case for the refactoring. in this paper, we will describe the architectural analysis that we did for one of the projects, and how we helped them build their business case.',\n",
       " 47: 'we have employed a multiple case study involving 6 cases in 4 large companies. we have interviewed four kinds of roles, software, system architects, product owners responsible for single products and for portfolios. in order to shed light on what is the important information needed to prioritize atd, we have collected different kinds of data, by qualitatively observing the prioritization activity and by collecting quantitative data from the participants with a questionnaire.',\n",
       " 20: 'conceptual approach based on apache java open-source project',\n",
       " 33: 'case study of the disaster response network-enabled platform (drnep) is a system that integrates a set of independently developed infrastructure and disaster simulators. to compare architecture debt analysis between two paths: path #1: deliver soon path #2: reduce rework and enable compatibility',\n",
       " 26: 'apresenta;cão de ferramenta, características e levantamento de locais que já usaram a ferramenta.',\n",
       " 28: 'to achieve this goal we have performed a large-scale empirical study on more than 1,000 packages written in java and ex- plored the aforementioned relationship.',\n",
       " 31: 'to answer the research questions presented in section i, we conducted an exploratory case-study [12] at the electrical development department at vcg. the study was divided into the following four steps.',\n",
       " 44: 'evaluation of tools and methods applied by tools about tdi.',\n",
       " 43: 'empirical study of two different systems created in c/c++ with two different architecturee. the first in a hierarchical architecture and the second as a core-perifphery architeture.',\n",
       " 51: 'an exploratory case study in 14 different java projects through 524 versions that were analysed detecting architectural smells (unstable dependency, hub like dependency and cyclic dependency). it was developed a toolchain that allows to mine architectural smells from pre-complied java systems.',\n",
       " 52: 'case study in 6 open project java',\n",
       " 63: 'exploratory study',\n",
       " 73: 'an approach to identify security td based on cwss (common weakness scoring system) a pilot study.',\n",
       " 69: 'survey',\n",
       " 67: 'multiple case study.',\n",
       " 66: 'survey and multiple case study',\n",
       " 96: 'case study',\n",
       " 35: 'a multiple-case study. interviews in 5 different companies.',\n",
       " 24: 'nan',\n",
       " 77: 'survey',\n",
       " 78: 'nan',\n",
       " 81: 'case study',\n",
       " 82: 'case study',\n",
       " 85: 'case study',\n",
       " 88: 'case study',\n",
       " 90: 'case study',\n",
       " 91: 'survey',\n",
       " 97: 'theorical',\n",
       " 40: 'case study'}"
      ]
     },
     "metadata": {},
     "execution_count": 23
    }
   ],
   "source": [
    "dict_kind_of_research = my_dict_from_column(df_sms_extraction, 'Kind of reasearch')\n",
    "print(f'Size of dict_kind_of_research {len(dict_kind_of_research)}')\n",
    "dict_kind_of_research"
   ]
  },
  {
   "cell_type": "code",
   "execution_count": 24,
   "metadata": {},
   "outputs": [
    {
     "output_type": "stream",
     "name": "stdout",
     "text": [
      "Size of dict_q1 47\n"
     ]
    },
    {
     "output_type": "execute_result",
     "data": {
      "text/plain": [
       "{1: 'rebel focuses on finding atd items at architecture level only, measuring the impact of its repayment strategy based on architecture decisions and allowing the debt to be anticipated or corrected before the implementation process begins. atd item impact measurement is based on granularity, severity and amount of architectural decisions impacted by the atd item and its repayment strategy. in this case study, granularity had 3 for architectural design. for severity, we can conjecture that change to a non-relational db would affect at least 5 components in the detailed design. finally, the amount of architectural decisions impacted by the atd item is 3. this way, impact = 3 * 5 * (3*3) = 135. if our atd repayment strategy would not affect other decisions, the impact would be i = 3 * 1 * (1*3) = 9. from these results, software architect understand the impact of a repayment strategy.',\n",
       " 2: 'measuring atd. atd was considered the presence of complex foi (files of interest) files dependent both from the functionality and the component, which were often changed. a complexity measure that calculates the complexity with regards to this is mc- cabe cyclomatic complexity (mcc) . different thresholds are suggested in literature (such as 10), but we used 15, which is also widely recommended and was chosen by antinyan et al.[18] we complemented mcc with halstead’s delivered bugs metric. measuring the interest of atd. the extra-effort paid as in- terest of the atd is, as explained, related to the complexity: as mentioned by the stakeholders (and supported by various refer- ences), it takes more effort to change more complex code. it was created a base measure and derived measures according attributes chosen in project. see columns about técnicas.',\n",
       " 3: 'it was defined a formula to calculate atd index and architectural smell impact score. n: number of as instances in a project p; as : k-instance of an architectural smell; k w : the total number of dependencies involved in at least one as for all the as in the project; as i s (ask ): the architectural smell impact score (defined below in iv-a); w(ask): the architectural smell weight, i.e., the number of dependencies associated to the ask; • history(ask): the score associated to the trend evolu- tion of the ask (defined below in iv-b). pagerank: the p agerank(ask ) estimates whether the as is located in an important part of the project, where the importance is defined by the value of the pagerank algorithm executed on the dependency graph of the project (to evaluate if many parts (subsystems) depend on the part where the as is involved) the vertex v is a node of the dependency graph associated to a project; pr(v) is the value of pagerank of the vertex v; n is the total number of as in the project; pk is a vertex with at least a link directed to v; n is the number of the pk vertexes; c (pk ) is the number of links of vertex pk ; d (damping factor) is a custom factor fixed at 0.85, a default value defined by brin and page [23]. it can be changed according to the pagerank value needed for every vertex and its minimum associated level of p agerank.',\n",
       " 4: 'architecture root identification architecture issue identification - each architecture root is an architecture hotspot, which captures a group of files that are architecturally connected and these connections exhibit architecture issues — unstable interface: a file with a large number of dependents that changes frequently with many of them — implicit cross-module dependency: files in structurally independent modules of the drh that are changed together frequently. this is also called modularity violation [14]. — unhealthy inheritance hierarchy: a parent class depends on one of its subclasses, or a client of the inheritance hierarchy depends on both the parent class and its subclasses. — clique: a clique is a group of files which are tightly coupled by dependency cycles to form a strongly connected component. — package cycle: usually, the package structure of a software system should form a hierarchical structure. a cycle among packages is typically considered to be harmful',\n",
       " 5: 'maintainability metrics and architecture flaws',\n",
       " 7: 'calculate a hotspot to detect problematic files and architecture debts, in terms of timelines and efficiency. in addition, hotspots also incorporate a small architecture unit which shows changes propagate among multiple files in a real system.',\n",
       " 9: 'index of package changing impact (ipci) is the percentage of the number of the non-dependency package pairs against the total number of all possible package pairs. this metric measures the strength of the independency of packages [1]. index of package goal focus (ipgf) is the average extent of the overlap between the different service sets provided by the same component to other different components in a software system [1]. ipgf indicates the average extent that the services of a specific package serve for the same goal. v7. average number of modified components per commit (anmcc) is the average number of components that are modified during each commit (i.e., revision) in the studied period. consequently, ipci and ipgf can be considered as atd indicators. a higher ipci or ipgf indicate less atd.',\n",
       " 10: 'principal and interest of atd. there is a set of pre-defined atd based on a set of previously analyzed cases. these set of atd is used the identify atd based on software architect.',\n",
       " 13: 'it was created a specific concept about archdebt that derives a set of formulas. the authors created a specific approach framework (crawl, index, model and rank) to identify archdebt.',\n",
       " 14: 'android atd hotspots',\n",
       " 15: 'compliance checking metrics like cyclomatic complexity, propagation cost, cyclicity and more. among them are also some metrics that we specifically developed to measure maintainability, like “maintainability level” [2] and “structural debt index” decloupling level',\n",
       " 16: 'atd contagius debt the paper reports patterns of sociotechnical events that lead to a novel phenomenon, call contagious debt; this is based on vicious cycles of events that cause atd to propagate in the system and generate a continuous increment of interest.',\n",
       " 17: 'the main extracted measures related to architectural evaluation. sonargraph: structural debt index cyclic elements cyclic packages biggest pkg cycle group logical pkg cycle groups layer cycle groups layer group cycle groups architectural violations sonarqube: sqale rating technical debt ratio debt dependencies to cut (dirs) dependencies to cut (files) directory tangle index cycles infusion: cyclic dependencies sap breakers unstable dependencies qdi',\n",
       " 21: 'atd itens based on templated suggested by authors for each atd item is calculated principal and interest using person-days as unit to measurement.',\n",
       " 22: 'it was created a taxonomy of the causes of atd based on business factors, design and architecture documentation , reuse of legacy / third party / open source, parallel development , effects uncertainty , non-completed refactoring , technology evolution ,and human factor using a qualitative model to check the atd over the time according team project analysis for each release.',\n",
       " 27: 'it is calculated the effort of modularization in files that was not modularized.',\n",
       " 30: 'the following metrics was used: nop (number of package) and noc (number of class) architectural smells: ud (unstable dependency), hl (hub-like dependency), class cd (cyclic dependency) and package cd (cyclic dependency) after atd identified the developers estimated each atdi in terms of hours to interest and principal.',\n",
       " 38: 'it was measured the architecture degration. for each artefact analysed is created a dsm through successive version of project. this dsm has a propagation cost (pc; an architecture-level measure of coupling [11]) of x%, and a dl (decloupling level) of y%. it is identified refactoring artifacts in drspace. these two measures indicate that the refactoring was successful or not and that the project has restored health or not to this portion of the architecture.',\n",
       " 48: 'architecture issues via drspace',\n",
       " 47: 'it was identified atd using taxonomy proposed by authors, but it was not clarified the measure of atd in this study.',\n",
       " 20: 'it was defined a sna (socia network analysis) metric to identify the architectural smells.',\n",
       " 33: 'atd based in software architecture estimation in hours',\n",
       " 26: 'arquitectual roots via drspace',\n",
       " 28: 'package modularity via sonaqube using td index from cohesion and coupling.',\n",
       " 31: 'misplaced lc interest based on scale of weight proposed by the authors.',\n",
       " 44: 'no',\n",
       " 43: 'complexity, coupling and cyclical dependencies using dsm (dependent structure matrix). the time spends on maintenance.',\n",
       " 51: 'architecture smells (unstable dependency, hub like dependency and cyclic dependency).',\n",
       " 52: 'architecture smells (unstable dependency, hub like dependency and cyclic dependency).',\n",
       " 63: 'accumulation of atd',\n",
       " 73: 'security td using a catalog of security issues provided by cwe (common weakness enumeration)',\n",
       " 69: 'check the stakeholder perception of measure td effort in whole software cycle development.',\n",
       " 67: 'no',\n",
       " 66: 'no',\n",
       " 96: 'no',\n",
       " 35: 'nan',\n",
       " 24: 'nan',\n",
       " 77: 'no',\n",
       " 78: 'architectural complexity, complexity and coupling, code commenting. archtectural metric: propagation cost. this is a system-wide metric that describes the proportion of software files that are directly or indirectly linked to each other., architectural metric: core size. this metric involves classifying every component (class or file) into one of five architecture groups based on the number of direct and indirect links of the components complexity metrics: loc, wmc- unweighted/wmc-mccabe, rfc, and cbo; comment metrics; metric aggregation model: other metrics created from basic metrics according necessity of the author.',\n",
       " 81: 'yes, it was meausre a number of detected violations based on qualite attributes (performance, robustness, security transferabililty, changeability)',\n",
       " 82: 'it was measurte td based on health factors, but there is no specific atd measure in this paper',\n",
       " 85: 'nan',\n",
       " 88: 'scalability using capacity of the open bank system stage 1: scalability triage stage 2: addressing affected subsystems stage 3: estimating impact',\n",
       " 90: 'no',\n",
       " 91: 'the perception of: maintainability test coverage cyclomatic complexity clone coverage coupling metrics architectural violation',\n",
       " 97: 'no',\n",
       " 40: 'nan'}"
      ]
     },
     "metadata": {},
     "execution_count": 24
    }
   ],
   "source": [
    "dict_q1 = my_dict_from_column(df_sms_extraction, 'Q1')\n",
    "print(f'Size of dict_q1 {len(dict_q1)}')\n",
    "dict_q1"
   ]
  },
  {
   "cell_type": "code",
   "execution_count": 25,
   "metadata": {},
   "outputs": [
    {
     "output_type": "stream",
     "name": "stdout",
     "text": [
      "Size of dict_q2 47\n"
     ]
    },
    {
     "output_type": "execute_result",
     "data": {
      "text/plain": [
       "{1: 'the objective of this approach is to facilitate the architecture design process by managing and controlling atd, and in doing so, supporting software architects in making well-founded decisions. atd item impact measurement is based on granularity, severity and amount of architectural decisions impacted by the atd item and its repayment strategy.',\n",
       " 2: 'for each realised version it is evaluated with the measurement system and the indicators are generate to evaluate the scale (green, yellow, red) to point the places to be refactored according cost benefit evaluation of the components from atdi.',\n",
       " 3: 'via evaluation history of version analysis. hence, the factor of the adi index related to the history of a project, history(ask), is defined as the weight assigned to the trend of each type of smell. decreate trend: when the number of classes, files or packages involved in an as is decreasing. increasing trend: when the number of classes, files or packages involved in an as is increasing. stable trend. when the number of classes, files or pack- ages involved in an as is stable.',\n",
       " 4: 'we track the changes on the files and calculate the maintenance effort spent on files involved in architecture roots during this period of time we use the change frequency (cf) for each file to assess how many times a file has been changed in the revision history for bug fixes and new features. we quantify the maintenance effort spent on each file, then analyze the effort spent on identified file groups and assess the additional effort associated with these files. for this it is necessary an evaluation of developer or software architect.',\n",
       " 5: 'yes, during two years the releases were monitored to check the benefits of refactoring software architecture',\n",
       " 7: 'hotspots can capture error-prone and change-prone files more effectively, and thus have the potential to be used for bug/change prediction and localization. since dominating hotspots—a big directed graph with propagation relations— are the majority of hotspot files, it means that these files contributed significantly to error and change-proneness, which we propose is through their propagation patterns. by closely monitoring software evolution through issues, it is possible to identify architectural problems earlier in the lifecycle. architecture unit: active hotspot our approach is the first attempt to monitoring software evolution by tracking how issues interact.',\n",
       " 9: 'yes, due to the evaluated is done between sequence of releases.',\n",
       " 10: 'the principal and interest is analysed by software architects and project managers for each release.',\n",
       " 13: 'it was monitored the evolution of archdebts. although this model can only be obtained after the costs and penalty have accumulated, one could use our approach to detect architecture flaw patterns at any point (as described in [21]), monitor how file groups grow, monitor the formation of debts, and prevent significant costs by investing in proper refactorings [15].',\n",
       " 14: 'no',\n",
       " 15: 'issue management workflow',\n",
       " 16: 'yes, after each release using a proprietary method. the interest is monitored by analysing each atd class defined in proprietary taxynomy. these factors can be proactively monitored to strategically refactor the atd, before it becomes too costly to be repaid.',\n",
       " 17: 'no',\n",
       " 21: 'the approach is performed for each release.',\n",
       " 22: 'it is analysed during release planing to calculate the atd accumulation based on suggested taxonomy by the authors.',\n",
       " 27: 'it was applied the framework for each release evaluated. it is a manual process that there is no tool to support this.',\n",
       " 30: 'for each release',\n",
       " 38: 'by running the titan tool chain on a regular basis, as part of the nightly build of a project, an architect or project manager can quickly assess the health of the software architecture. this health measurement can be applied to a single drspace or to the entire project. we have three distinct ways to assess project health: 1. by calculating and tracking a project’s “architecture roots” [17][16]. architecture roots are drspaces that, collectively, cover the majority of a project’s buggy files. 2. by calculating and tracking a project’s architecture flaws. the flaws that we detect include: (a) unstable interface, (b) modularity violation, (c) improper inheritance, (d) cross- module cycle, (e) and cross-package cycle [13]. the first four hotspot patterns capture flawed relations among files while the last one captures cycles among packages. 3. by calculating a project’s decoupling level (dl) [12]. dl is a new metric for measuring the maintainability of a software architecture. it measures the degree to which an architecture is decoupled into (small, independent) modules that can be independently modified by developers. higher values of dl are better, indicating a more modular architecture.',\n",
       " 48: 'the approach of drspace is performed for each release analysed by software architecture to verify and confirm the architecture debt and effort is calculated in person per month.',\n",
       " 47: 'no',\n",
       " 20: 'yes, after each release using a proprietary method.',\n",
       " 33: 'yes, after each release using a proprietary method.',\n",
       " 26: 'evaluation of architectural root for each release evaluated.',\n",
       " 28: 'no',\n",
       " 31: 'for each architecture planning to create or maintain the lc (logical components)',\n",
       " 44: 'no',\n",
       " 43: 'no',\n",
       " 51: 'for each release evaluated via astracker where tracks smell instances in the projects history.',\n",
       " 52: 'no',\n",
       " 63: 'nan',\n",
       " 73: 'no',\n",
       " 69: 'no',\n",
       " 67: 'yes, it was evaluated each version about a lot of types of td, including atd. however, the atd was identified manually via interviews.',\n",
       " 66: 'no',\n",
       " 96: 'no, even using light-weight documentation it can contribute to requirements volatility and increase the risk of creating architectural technical debt.',\n",
       " 35: 'nan',\n",
       " 24: 'nan',\n",
       " 77: 'no',\n",
       " 78: 'no',\n",
       " 81: 'no',\n",
       " 82: 'no',\n",
       " 85: 'nan',\n",
       " 88: 'no',\n",
       " 90: 'no',\n",
       " 91: 'no',\n",
       " 97: 'no',\n",
       " 40: 'nan'}"
      ]
     },
     "metadata": {},
     "execution_count": 25
    }
   ],
   "source": [
    "dict_q2 = my_dict_from_column(df_sms_extraction, 'Q2')\n",
    "print(f'Size of dict_q2 {len(dict_q2)}')\n",
    "dict_q2\n"
   ]
  },
  {
   "cell_type": "code",
   "execution_count": 26,
   "metadata": {},
   "outputs": [
    {
     "output_type": "stream",
     "name": "stdout",
     "text": [
      "Size of dict_q3 47\n"
     ]
    },
    {
     "output_type": "execute_result",
     "data": {
      "text/plain": [
       "{1: '(i) extraction: focused on extracting all relevant information coming from heterogeneous artifacts and the explicit knowledge of the software architects on how to identify and measure atd. (ii) synthesis: focused on putting all this information together and analyzing it to identify and measure atd items. and (iii) feedback: focused on take the atd identified and present it to the software architecture team for monitoring, updating and learning. tools: lucidchart, xmi (xml interchange) use a component-and-connector meta model to represents the architecturalelement. use a dsl to register architectural decisions. use a supervised learning model via sentiment analysis to qualify polite or negative architecture decision. tool: senti4sd [9] named-entity recognizer (ner) to identify mentions to architectural decisions and their possible links with other architectural decisions.',\n",
       " 2: 'the following items generated by framework applied: - measurement system identified atd and its interest - effort estimation results - evaluation of modularization and of the measurement system - semi-automated modularization decision framework generalization of the results - measurement system to identify atd - effort calculation formula - semi-automated framework to refactor atd: - quantitative benefit of refactoring',\n",
       " 3: 'arcan calculate the architecture smells via formula proposed by authors. architectural smell impact score',\n",
       " 4: 'see column techniques and tools',\n",
       " 5: 'you can see the prior column with these contents.',\n",
       " 7: 'you can see in prior column about techniques and approachs.',\n",
       " 9: 'you can see in the techniques and approach previous columns',\n",
       " 10: 'it was described on aforementioned column',\n",
       " 13: 'it was described on aforementioned column',\n",
       " 14: 'it was described on aforementioned column',\n",
       " 15: 'it was described on aforementioned column',\n",
       " 16: 'it was created a taxonomy about atd itens to identify atd contagius debt',\n",
       " 17: 'it was described on aforementioned column',\n",
       " 21: 'it was described on aforementioned column',\n",
       " 22: 'the authors created a taxonomy to calculate (using a qualitative model) the atd accumulation over the time.',\n",
       " 27: 'it is available on the prior column about that.',\n",
       " 30: 'it was discussed in prior column about this.',\n",
       " 38: 'it was published in prior column about that.',\n",
       " 48: 'you can see in previous column about that.',\n",
       " 47: 'it was described in prior column about that.',\n",
       " 20: 'architectural smells sna (social network analys) using a graph of files in a version. machine learning to predict the architecture smell the analysis was performed in a group of apache software (camel, ant, derby and cxf). it was used a dependency graph representation using cda (check dependency analysis) tool to discover the relationship java files it was used dependency and smel prediction based on the dependence graph to each version analysed. it was used a ranking-based link prediction. it was used a machine learning link prediction technique. it was used a time series forecasting to compare feature and component evolution over time.',\n",
       " 33: 'dsm to identify the dependences among files change propagation cost',\n",
       " 26: 'it is available on the prior column about that.',\n",
       " 28: 'it was described in previous column about that',\n",
       " 31: 'it was described on the prior column about that',\n",
       " 44: 'cast infusion sonargraph sonarqube structure101 input: architecture smells, architecture violation output: resolution cost (principal), keeping cost,(interest) unity measure (money, time, rank, loc)',\n",
       " 43: 'it was described in previous column about that',\n",
       " 51: 'arcan and astracker',\n",
       " 52: 'it was described in previous column about that',\n",
       " 63: 'nan',\n",
       " 73: 'it is available on the prior column about that.',\n",
       " 69: 'survey and interviews with practionners from skandinavia software industry area.',\n",
       " 67: 'it was used interviews for each company',\n",
       " 66: 'via survey that show the kind of issue in a pre-defined list of td issues. dependency violations architecture debt [3], [10] complex architectural design architecture debt [3], [10] too many different patterns and policies architecture debt [3], [10] dependencies to external resources/software architecture debt [3], [10] lack of reusablity in design architecture debt [3], [10]',\n",
       " 96: 'no',\n",
       " 35: 'nan',\n",
       " 24: 'nan',\n",
       " 77: 'see column techniques and tools',\n",
       " 78: 'the authros created its tool as a plugin to intelij to analyse the metrics grouped by the authors. called as understand',\n",
       " 81: 'it was used a private it company catalog to detected violations based on qualite attributes. tool: aip by cast',\n",
       " 82: 'these business applications were analyzed using cast’s application intelligence platform (aip) which performs a static analysis of an entire application using over 1200 rules to detect violations of good architectural and coding practice. based on varius studies, best pratices and cwe (common weakness enumeration)',\n",
       " 85: 'nan',\n",
       " 88: 'in this paper, we report a method related to scalability triage, a lightweight technique assisting primarily on identification, estimation and prioritization of atd in the form of scalability debt. other aspects of atd are relevant, although not covered in this paper, and should be addressed in future studies: measurement: to gather additional evidence related to the scalability debt, we are about to compare expected scalability requirements with actual capabilities. monitoring: the approach described here can be done in an iterative fashion, following agile principles. we are working with the integration of this method with agile practices [4]. prioritization: the scalability triage described here highlights, which parts of the system have the most risk of impact due to scalability debt, which helps prioritizing the parts of the systems to be analyzed and refactored. however, technical debt prioritization should also involve the comparison and ranking of scalability debt with respect to the development of other features or other types of atd. repayment: the cost of refactoring scalability debt is also an important parameter to be studied to understand if scalability debt should be fixed or not. communication and documentation: in this approach, the main scalability debt documentation was a spreadsheet. however, the documentation may be improved with the design of a better tool which would make the triage and its iteration more efficient.',\n",
       " 90: 'architecture violations: divergences: dependencies between subsystem compo- nents that do not exist in the conceptual architecture, but appear in the concrete architecture of the system. • convergences: dependencies between subsystem com- ponents that exist in both, the conceptual and concrete architectures of the system. • absences: dependencies between subsystems compo- nents that exist in the conceptual architecture, but not in the concrete architecture of the system.',\n",
       " 91: 'the following techniques was cited by participants of the survey: sonarqube, findbugs, self-made tool, checkstyle, pmd, jmetrics, lattix, cast, codecov, error prone the follwingo symptoms of low maintainability: outated documentation, inadequate testing, architectural erosion, problematic dependencies, complex components, large components, duplicate code, outdated libraries',\n",
       " 97: 'no',\n",
       " 40: 'nan'}"
      ]
     },
     "metadata": {},
     "execution_count": 26
    }
   ],
   "source": [
    "dict_q3 = my_dict_from_column(df_sms_extraction, 'Q3')\n",
    "print(f'Size of dict_q3 {len(dict_q3)}')\n",
    "dict_q3"
   ]
  },
  {
   "cell_type": "code",
   "execution_count": 27,
   "metadata": {},
   "outputs": [
    {
     "output_type": "stream",
     "name": "stdout",
     "text": [
      "Size of dict_q1 47\n"
     ]
    },
    {
     "output_type": "execute_result",
     "data": {
      "text/plain": [
       "{1: 'no',\n",
       " 2: 'according measurement system and formula proposed by authors. keep in mind that is necessary to get information from developers that worked in files. developer work months (dwm). dwm is defined in this study as the amount of effort one developer generates each month. man-hours',\n",
       " 3: 'no',\n",
       " 4: 'we calculate the expected maintenance effort spent on a root to be the principle and calculate the penalty from each root as the interest, which is the difference between the actual maintenance effort and the expected maintenance effort. the cost is calculate in staff days based on maintenance effort.',\n",
       " 5: 'the refactoring activities were recorded as 106 change requests, which consumed 563.8 person hours of effort. we linked these refactoring issues to the commits that were related to 7 cliques, 23 crossings, and 4 unstable interfaces that we detected from architecture debt analysis before refactoring. we found that about 34% of the commits, 28% of the time, and 37% of lines of code during the refactoring period were related to the removal of architecture debt.',\n",
       " 7: 'no',\n",
       " 9: 'no',\n",
       " 10: 'using particular formulas created by anacondebt framework related to principal and interest.',\n",
       " 13: 'it was calculated the cost of interest for identifying archdebt. given an archdebt, we quantify the maintenance costs (approximated by bug-fixing churn) spent on the files in- volved in the debt. from the costs incurred in each release, we can model the growth trend using linear, logarithmic, exponential or polynomial regression models. these models represent coherent scenarios of stable, reducing, increasing, and fluctuating maintenance interest rates respectively. the maintenance costs spent on this debt fit a linear regression model: debtmodel(rt) where the unit is x line of code to fix errors.',\n",
       " 14: 'no',\n",
       " 15: 'no',\n",
       " 16: \"it is provided by a formula that is a sum of cost atdi estimated by developer's participation.\",\n",
       " 17: 'the cost was calculated using resolution cost. only tools cast and sonargraph has a atd index',\n",
       " 21: 'for each atd item is calculated principal and interest using person-days as unit to measurement.',\n",
       " 22: 'the authors have been defined a crisis point. that it is means the point that you have to pay atd. crisis model: a point of non-sustainable development, where the atd accumulated is high, is constantly reached by the companies, which confirms the monotonicity of the trend. it is means the atd accumulation until the reach of a crisis point when a big refactoring is need.',\n",
       " 27: 'it was used the following over all formula: e = (e1 - e4)*t + (e2 - e5)*t - e3 the first result was the key effort factors for modeling the calculation. the first two are related to the effort spent in the development and maintenance before the refactoring: the old development effort (e1) the old maintenance effort (e2). similarly, it was important to estimate the development and maintenance after the refactoring: the new development effort (e4) and the new maintenance effort (e5). finally, we need to take in consideration the refactoring effort (e3) which includes the effort spent on refactoring. it was performed a set of interviews to collect effort estimations. the effort use the unit dwm/mounth that means man-hours each month.',\n",
       " 30: 'after atd identified the developers estimated each atdi in terms of hours to interest and principal.',\n",
       " 38: 'after create all drspace is given that the flaws in a drspace are explicitly identified by titan, we can create—and create a cost estimate for—a refactoring plan based on removing those flaws.',\n",
       " 48: 'the architectural debt was quantified using technical debt calculation framework proposed by authors. the effort about atd is calculated based on number of defects and number of lines of changes. the effort of refactoring and roi (return of investiment is calculate based on pm (person per month) via software architecture and project management of the studied project. thus, it is necessary a specialist analysis to calculate the principal of architectural technical debt.',\n",
       " 47: 'no',\n",
       " 20: 'no',\n",
       " 33: 'the cost to pay atdi is estimated in hours according a formula proposed by authros. it is the sum of effort the existing component with new effort to support the existing component. the total cost t of release n is a function of the implementation and rework costs, ci and cr : t f(ci,cr) in this paper, we assume that it is simply the sum. however, the estimation depends on the people directly involved in each release.',\n",
       " 26: 'given the history record of a project, dv8 can also quantify the maintenance costs incurred by each anti-pattern instance, in terms of the number of bugs, changes, bug churn and change churn incurred by the files involved in each anti-pattern instance. using dv8, the user can also estimate the return-on-investment of refactoring each root, which can be used as a basis to make refactoring decisions.',\n",
       " 28: 'no',\n",
       " 31: 'misplaced lc interest based on scale of weight proposed by the authors.',\n",
       " 44: 'no',\n",
       " 43: 'the cust was based on the time spends on maintanance record in issue tracker. the authors defined a standard cost of u$ 100 per hour to calculate the cust of activity.',\n",
       " 51: 'no',\n",
       " 52: 'no',\n",
       " 63: 'nan',\n",
       " 73: 'principaltd-security = cost of the maintenance and refactoring associated with fixing architectural cwes',\n",
       " 69: '36% of effort in software development cycle is effort about whole td.',\n",
       " 67: 'no',\n",
       " 66: 'there is no specific calculus to ati, but the whole cost of td management is about 25% of cost of alocation team activities.',\n",
       " 96: 'no',\n",
       " 35: 'nan',\n",
       " 24: 'nan',\n",
       " 77: 'no',\n",
       " 78: 'no',\n",
       " 81: 'td-principal = (σ high severity violations) x .5) 1 hr.) x 75$) + (σ medium severity violations) x .25) 1 hr.) x 75$) + (σ low severity violations) x .1) 1 hr.) x 75$)',\n",
       " 82: 'technical debt td-principal = (σ high severity violations) x .5) 1 hr.) x 75$) + (σ medium severity violations) x .25) 1 hr.) x 75$) + (σ low severity violations) x .1) 1 hr.) x 75$) however, there is specific formula to calculate the atd cost',\n",
       " 85: 'nan',\n",
       " 88: 'no, even the authors proposing an manual strategy to estimate the cost os scalabity, the cost is calculated based on colors or labels (green, yellow, red) regarding to impact of each scalability issue found.',\n",
       " 90: 'no',\n",
       " 91: 'no',\n",
       " 97: 'no',\n",
       " 40: 'nan'}"
      ]
     },
     "metadata": {},
     "execution_count": 27
    }
   ],
   "source": [
    "dict_q4 = my_dict_from_column(df_sms_extraction, 'Q4')\n",
    "print(f'Size of dict_q4 {len(dict_q4)}')\n",
    "dict_q4"
   ]
  },
  {
   "cell_type": "code",
   "execution_count": 28,
   "metadata": {},
   "outputs": [
    {
     "output_type": "stream",
     "name": "stdout",
     "text": [
      "Size of dict_conclusions 47\n"
     ]
    },
    {
     "output_type": "execute_result",
     "data": {
      "text/plain": [
       "irst exploration of using drspace to reveal the architectural impact on software quality, we proposed the concept of archroots—the drspaces that attract and prop- agate errors to multiple files, and their detection algorithm. our research is unique in that it explicitly ties software quality—in terms of bug-proneness—to the modular struc- ture of software architecture and architecture flaws. from the 15 projects that we selected, with varying sizes, domains, and ages, we observed that 1) an bug-prone design rule can make a large number of files within it drspace also error-prone; 2) the impacts of architecture connections among bug-prone files are significant and persistent over time. in each project, a substantial percentage of bug-prone files, with different bug-proneness levels and in different time-spans, are constantly concentrated in the top five arch- roots. our study also indicates that the impacts of archi- tecture connections among bug-prone files are persistent: there are long-lived architecture roots appearing in multiple releases of a project, connecting bug-prone files fixed in different time intervals. this suggests that, when fixing errors in a file, changes may propagate to other files that architecturally connect to it, and this impact can be persistent, lasting from months to years. the quantitative analysis of the architecture con- nections among bug-prone files shows that the architecture problems contained in the archroots are likely to be the root causes of bug-proneness. the take-away message of our study is this: to increase the quality and reduce the number of bugs within a software system, practitioners should pay attention to high-impact bug-prone design rules, as well as the architecture roots aggregating bug-prone files. our study also justified the value of further investigation of concrete architecture prob- lems: how they contribute to file bug-proneness, and their potential solutions, that is, the possible ways of refactoring.',\n",
       " 77: 'we conducted 17 interviews with software professionals from 10 companies and talked with them about the evolva- bility assurance for 14 different microservice-based systems. we found that systems developed for an external customer in a project-like manner generally relied more on central governance for the assurance. continuous product develop- ment of internal systems exhibited more decentralization and team autonomy for the assurance process. guidelines like architectural principles or rules for service communication were seen as important to provide a consistent basis for evolvability and to frame an otherwise diverse technology usage. while participants saw automation and tool support as important for evolvability assurance, they still relied a lot on manual activities like code review or boy scouting. tool and metric usage was very focused on source code quality. no architectural tools and metrics were applied, even though most reported challenges and issues like service cutting were related to software architecture. this may indicate the im- portance of architectural technical debt (atd) management for microservices. likewise, no tools or metrics specifically designed for service orientation were used, even though most participants stated the significance of their underlying design principles. participants generally perceived their fairly new microservices as decently evolvable, even though things like distributed code repositories and difficult macroarchitectural assessment would make the assurance process more complex. future work that covers the areas of maintenance, evolution, and technical debt in the context of microservices should take these findings and industry sentiments into account. in partic- ular, academia can support industry with methods, metrics, or tools that aid macroarchitectural assessment of microservices or provide a more system-centric view. we perceived tool support for service cutting activities and metrics to evaluate service granularity, coupling, or cohesion as concrete gaps that could save industry a lot of refactoring efforts. finally, issues in the area of human evolvability factors with microservices like the handling of hyped technologies as well as coordinating and exchanging knowledge between decentralized teams were described as important by participants.',\n",
       " 78: 'software code quality and technical debt have significant impact on a software product’s reliability and maintainability. this paper identifies a small, essential, set of static software code metrics linked to reliability and maintainability and to the most commonly identified sources of technical debt. a plug-in is created for the understand code visualization and static analysis tool that calculates and aggregates the metrics and produces a high-level interactive html report as well as developer-level information needed to address quality issues. a script makes use of git, understand, and the plug-in to compile results for lists of github repositories into a single file. while the plug-in is useful as-is, it was developed as a first step in an ongoing project aimed at applying case-based reasoning to the issue of software product quality. the next step in this project aims to use the described plug-in as part of a research effort to define and validate the aggregation of these metrics as part of a software quality model.',\n",
       " 81: 'business applications is formidable. for instance, even when applying the con- servative parameters in estimate 1, the average application is estimated to have $361,000 of td-principal for each 100 kloc. when the more realistic parameters of estimate 3 are applied, executives will likely dismiss the esti- mated size of td-principal as exces- sive. however, when large estimates result from accurate parameters for an organization’s hours to fix and cost per hour, then the percent of violations to be fixed can be varied to determine how many violations can be remediated within existing budgets and which vio- lations to prioritize. we urge caution in interpreting the estimates we present in this article as industry benchmarks. this explo- ration of estimates for td-principal demonstrates that these estimates are extremely sensitive both to the as- sumptions made in parameterizing the equation and the different types of languages to which they are applied. these estimates could also shift with changes in the mix of application char- acteristics in each language category as the number of applications grows in the appmarq repository. neverthe- less, these results provide a good start- ing point for exploring td-principal, and one that can be adjusted based on different assumptions about the pa- rameters used. when developed with professional discipline, estimates of td-principal can be a powerful tool to aid management in understanding and controlling it costs and risks.',\n",
       " 82: 'although td-principal can be measured as violations of good structural quality, these violations consist of different types of threats to the business or costs to it. in order to use td-principal effectively in making decisions about how much resource to allocate to eliminating these violations, management needs to distinguish among its quality priorities and then prioritize the importance of eliminating td- principal in each area. our data allow us to measure the td- principal associated with each of the five health factors since they represent different types of costs to it or risks to the business. the amount of td-principal in an application associated with each of these health factors differs. seventy percent of the td-principal measured in this sample was contained in the it cost related health factors of changeability (30%) and transferability (40%). thirty percent of the td- principal was associated with the business risk health factors of robustness (18%), security (7%), and performance efficiency (5%). we cannot determine from the data whether it organizations are spending more time eliminating td-principal related to business risk or whether td-principal is disproportionately created in it cost-related factors. nevertheless, a single high severity violation related to business risk can be devastating if it eventually causes an operational problem.',\n",
       " 85: 'since high-level principles such as abstraction, encapsulation, modularization, and hierarchy are quite generic, it is usually difficult to understand how to apply them in practice. to solve this problem, we can break down the fundamental principles to more granular “enabling techniques”, which helps us to understand the fundamental principles to a greater depth, but also ease the task of applying the principle in real-world situations. increasingly complex and demanding business environment evolves with integration strategy and architecture. the security architecture design and technology stakeholders chosen should facilitate user to deliver a modular approach to integration that supports new security requirements such as micro-services-based security development. the key solution should include open standards and open source software, both in provisos of technology and permit the model to distribute the profit of open source while extenuating, mitigating the risks. in this work an attempt is made to identify various architectural design debts causing factors in a present day computing system with special reference to mul- tilateral security architectural design. to overcome the architectural design, debt refactoring is the existing solution to repay the debt which also helps in reducing the vulnerabilities in the present day computing system.',\n",
       " 88: 'in this paper, we have studied architectural technical debt specifically related to scalability, which we call scalability debt. we presented a case related to open systems (open banking), where uncertainty causes scalability debt to be acquired continuously. we argue that, in such systems, a continuous and lightweight approach to manage scalability debt is required. we report a lightweight method used in an open banking organization to identify, estimate and prioritize scalability debt. such method consists of three phases, an initial triage to prioritize the areas with more likely impact due to scalability debt, a second phase where the debt is assessed in different affected subsystems and a third phase where the impact (interest) of the debt is calculated according to three scenarios. different thresholds and colors were used to document and communicate the scalability debt and its impact to stakeholders. a feature of the approach is the way it involved experts in the organization, starting with a few core experts, attracting more attention and more experts and key roles as the analysis grows and the risks are being identified. the results can be taken into consideration by practitioners when dealing with scalability debt and may be used as starting point to develop the method presented here further or to research novel lightweight approaches to manage technical debt related to other key business qualities.',\n",
       " 90: 'in this paper, we investigated the possibility of using satd comments to resolve architectural divergences. we leveraged a data set of classified satd comments and traced them to bad architectural implementations that we surfaced by contrasting the conceptual and concrete architectures of argouml, using its available design documentation and source code. our study revealed 29 architectural divergences, 7 in high-level layers, and 22 among subsystems. our preliminary results show that merely 4 out of 29 divergences (14%) can be directly traced to satd, and that looking at satd comments can provide enough information to fix them. to validate this, we manually implemented the changes as suggested by debt comments in each of the 4 traced divergences and confirmed that address- ing the comments directly leads to resolve the divergences. although satd can be used as an indicator for architectural divergences, it requires considerable time and effort, and will not result in a significant architectural improvement. to generalize our findings, we plan on replicating this study on a broader scale. looking at satd comments that can be traced to architectural divergences resulted effective in resolving them, thus, we plan to further investigate this with better architectural recovery and more advanced satd detection approaches, potentially in an automated manner.',\n",
       " 91: 'because there is little scientific research on the industry state of practice w.r.t. maintainability control in general and for sbss and μsbss specifically, we created a survey to find out about a) applied processes, tools, and metrics, b) satisfaction with this quality at- tribute, and c) potentially different treatment of systems based on service orientation. when analyzing the answers of 60 software professionals, we discovered that a combined 60% of our sample do not address maintainability at all or only implicitly at a very basic level. a combined 40% reported explicit handling, but only 10 participants reported using a systematic process. furthermore, 40% of participants were not satisfied with the state of maintain- ability of their software. 35% were somewhat satisfied and only 25% reported to be pleased with the maintainability of their system. lastly, ∼67% reported to not treat sbss and μsbss with special maintainability controls. ∼26% applied somewhat different controls and only ∼7% mentioned significantly different treatment. since the sample population is limited in size however, further research in this area is necessary to confirm similar distribution in other parts of the population, probably also exclusively with companies that specialize in the development of sbss and μsbss. regardless of the sample size though, some interesting points with potential impact for future research can be highlighted. first, there was extremely little reported usage of methods, tools, and met- rics that focused specifically on evolvability. while issues related to architecture-level evolvability were very present amongst the reported symptoms (e.g. architectural erosion or complexity or more time needed to add new functionality), very few participants reported actually addressing them. to avoid technical debt in a long-living software system, industry needs to improve their qual- ity control: they need to go beyond source code level metrics and also include an architecture-centric view on software evolution, potentially with scenario-based methods. a second take-away from this work is the suggested useful- ness of using a systematic process for maintainability control. while very few reported using such an approach, the vast major- ity of these 10 participants believed that this increased software quality and even wanted to invest more time for maintainability. people that used tools were also more likely to invest more time. to strengthen this, there was an overall correlation between the level of sophistication w.r.t. maintainability control and the reported sat- isfaction with this quality attribute: participants that used explicit and systematic approaches were more likely to be satisfied with the state of maintainability of their software. moreover, no direct link between a hindrance in productivity and the level of sophistication of applied actions could be found. lastly, the neglect of service-oriented particularities for quality control – especially on the metrics side – combined with the reported trust in the base level maintainability of service ori- entation could pose a threat for the quality of a long-living sbs. aspects like service granularity, service cohesion, or service cou- pling can easily become problematic when not tended to and can significantly hinder the maintenance and evolution of such a system. luckily, there was a correlation between treating service-oriented systems differently and the level of sophistication of applied ac- tions (on top of using tool support). so there is hope that with a rise in the general proficiency of maintainability control, under- standing for a different treatment of sbss and μsbss will grow as well. when looking specifically at the differences with treating mi- croservices however, there is an even wider gap. of the participants that reported different treatment, no one mentioned how poten- tial maintainability-related problems with increased technological heterogeneity, decentralization of control, or appropriate service granularity could be addressed. while these topics do not neces- sarily have to negatively impact maintainability, they still hold the potential to do so, if not executed with some care. since this is a rather young topic, qualitative interviews with experts in the field of microservices would most likely be a more effective approach.',\n",
       " 97: 'the main contribution of this paper is the introduction of the risk appetite concept into the architecture decision-making genre. this enabled the influence of the architects’ attitude towards risk on the architecture decision-making process to be classified and explored. although the results seem to be sound and logical, it would be valuable to perform a broader industry survey to provide further insights into how architects approach risks, including how they assess the risks, what kind of reward they expect, and how they valuate these. this would validate the results of this paper to a greater extent, or possibly provide additional insights into the matter.',\n",
       " 40: 'this paper reports on patterns in the process of architecting and ways in which the connected debt can be measured and managed. the patterns in question were observed in an industrial case study and found that they result in what is called social debt, i.e., a picture of the current state of things burdened by suboptimal sociotechnical decisions. in the case of the patterns reported in this paper, a considerable part of architectural decisions or the very process of archi- tecting in a certain way had a negative and (previously) invisible sociotechnical connotation. this paper also reports on a practice observed in the case study to mitigate some of the nasty consequences connected to emerging social debt. finally, the manuscript outlined dahlia, a sample metric for architectures to make (some) social debt explicit by measuring architectural (in)communicability, i.e., the likelihood that the developers’ network is (un)aware of architecture decisions. this paper contributions and discussions lead to the con- clusion that social debt and software architectures are tightly knit together and with technical debt as well and deserve further attention in the future. further studies are planned to elaborate on the findings, expanding the understanding of the relations between social debt, its technical counterpart, and software architectures possibly with an immersive study in industry. also, further studies are planned to understand the differences between social debt in closed-source industries (as reported in this paper) and open source, to possibly find successful architecting patterns elicited from open source, if any. in addition, several points highlighted in this paper remain open, for example: 1) what is the full mapping between software engineering economics concepts and the notion of social debt? 2) what is the role of interest repayment strategies as well as economic formulations around debt contraction and repayment as mapped to social debt? 3) what is the relation between effort-estimation techniques, the consequent organizational structure decisions, and the emergence of social debt? finally, further studies are being planned to elaborate further on the proposed metric for software architecture communi- cability, demonstrating its representation condition [12] and applying it in industrial practice in the operational form, with the goal of providing more solid and quantitative validation for it.'}"
      ]
     },
     "metadata": {},
     "execution_count": 28
    }
   ],
   "source": [
    "dict_conclusions = my_dict_from_column(df_sms_extraction, 'Extra (Conclusion)')\n",
    "print(f'Size of dict_conclusions {len(dict_conclusions)}')\n",
    "dict_conclusions"
   ]
  },
  {
   "cell_type": "code",
   "execution_count": 29,
   "metadata": {},
   "outputs": [
    {
     "output_type": "stream",
     "name": "stdout",
     "text": [
      "Size of dict_related_work 47\n"
     ]
    },
    {
     "output_type": "execute_result",
     "data": {
      "text/plain": [
       "nan',\n",
       " 43: ';technical debt in software systems;# ;the design of complex technological systems;# ;software design, modularity and maintenance costs;',\n",
       " 51: 'h. a. al-mutawa, j. dietrich, s. marsland, and c. mccartin, ;on the shape of circular dependencies in java programs; in proceedings of the australian software engineering conference, aswec, pp. 48–57, ieee, apr 2014. # e.tempero,c.anslow,j.dietrich,t.han,j.li,m.lumpe,h.melton, and j. noble, ;qualitas corpus: a curated collection of java code for empirical studies; in 2010 asia pacific software engineering conference (apsec2010), pp. 336–345, dec. 2010. # r. roveda, f. a. fontana, i. pigazzini, and m. zanoni, ;towards an architectural debt index; in 2018 44th euromicro conference on software engineering and advanced applications (seaa), pp. 408–416, ieee, 2018. # s.vaucher,f.khomh,n.moha,andy.g.gue ́he ́neuc,;trackingdesign smells: lessons from a study of god classes; in proceedings - working conference on reverse engineering, wcre, pp. 145–154, ieee, 2009. # a.chatzigeorgiouanda.manakos,;investigating the evolution o fcode smells in object-oriented systems,; innovations in systems and software engineering, vol. 10, pp. 3–18, mar 2014. # r. peters and a. zaidman, ;evaluating the lifespan of code smells using software repository mining,; in 2012 16th european conference on software maintenance and reengineering, pp. 411–416, ieee, mar 2012. #',\n",
       " 52: 'martin fowler. 1999. ;refactoring: improving the design of existing code.; addison- wesley, boston, usa.# s.g. ganesh, tushar sharma, and girish suryanarayana. 2013. ;towards a principle-based classification of structural design smells.; journal of object technology 12, 2 (june 2013), 1:1–29. https://doi.org/10.5381/jot.2013.12.2.a1# joshua garcia, daniel popescu, george edwards, and nenad medvidovic. 2009. ;identifying architectural bad smells.; in 3th european conference on software maintenance and reengineering, csmr 2009, architecture-centric maintenance of large-scale software systems, kaiserslautern, germany, 24-27 march 2009. germany, 255–258. https://doi.org/10.1109/csmr.2009.59# r. kazman, yuanfang cai, ran mo, qiong feng, lu xiao, s. haziyev, v. fedak, and a. shapochka. 2015.; a case study in locating the architectural roots of technical debt.; in software engineering (icse), 2015 ieee/acm 37th ieee international conference on, vol. 2. 179–188. https://doi.org/10.1109/icse.2015.146# d. m. le, p. behnamghader, j. garcia, d. link, a. shahbazian, and n. medvidovic. 2015.; an empirical study of architectural change in open-source software systems.; in 2015 ieee/acm 12th working conf. on mining software repositories. https://doi.org/10.1109/msr.2015.29# martin lippert and stephen roock. 2006; refactoring in large software projects: performing complex restructurings successfully. ;wiley. 286 pages.# isela macía bertrán. 2013.; on the detection of architecturally-relevant code anomalies in software systems.; ph.d. dissertation. puc-rio, departamento de informática, rio de janeiro.# ran mo, yuanfang cai, rick kazman, and lu xiao. 2015. ;hotspot patterns: the formal definition and automatic detection of architecture smells.; in proceedings# r. mo, y. cai, r. kazman, and l. xiao. 2015.; hotspot patterns: the formal definition and automatic detection of architecture smells.; in 2015 12th working ieee/ifip conference on software architecture. 51–60. https://doi.org/10.1109/ wicsa.2015.12# luca rizzi, francesca arcelli fontana, and riccardo roveda. 2018. ;support for architectural smell refactoring.; in proceedings of the 2nd international workshop on refactoring, iwor@ase 2018, montpellier, france, september 4, 2018. 7–10. https://doi.org/10.1145/3242163.3242165# ganesh samarthyam, girish suryanarayana, and tushar sharma. 2016.; refactoring for software architecture smells.; in proceedings of the 1st international workshop on software refactoring, iwor@ase 2016, singapore, singapore, sep- tember 4, 2016. https://doi.org/10.1145/2975945.2975946# santiago a. vidal, everton t. guimarães, willian nalepa oizumi, alessandro f. garcia, jorge andrés díaz pace, and claudia marcos. 2016. ;on the criteria for prioritizing code anomalies to identify architectural problems.; in proc. of the 31st annual acm symp. on applied computing,. 1812–1814. https://doi.org/10.1145/ 2851613.2851941',\n",
       " 63: ';software evolution work on the design and evolution of unix;#',\n",
       " 73: \"; managing technical debt in software engineering, dagstuhl reports,;vol. 6, issue 4, april 17-22, 2016. [online] available: dagstuhl.de/16162 # d. tamburri, philippe kruchten, p. lago, and h. van vliet. ;what is social debt in software engineering;chase 2013, san francisco us. https://978-1- 4673-6290-0/13 # nugroho, a.; visser, j.; kuipers, t., “an empirical model of technical debt and interest,; in proceedings of the 2nd workshop on managing technical debt (mtd '11). acm, new york, ny, usa, 1-8. doi:10.1145/1985362.1985364 # j.l. letouzey and m. ilkiewicz, ;managing technical debt with the sqale method; ieee software vol. 29, issue 6, nov-dec 2012, ieee doi:10.1109/ms.2012.129 # b. curtis, j. sappidi, and a. szynkarski. ;estimating the principal of an application’s technical debt; ieee software software vol. 29, issue 6, nov- dec 2012, ieee doi:10.1109/ms.2012.156\",\n",
       " 69: 'n. a. ernst, s. bellomo, i. ozkaya, r. l. nord, and i. gorton, ;measure it? manage it? ignore it? software practitioners and technical debt,; presented at the proceedings of the 2015 10th joint meeting on foundations of software engineering, bergamo, italy, 2015. # j. holvitie, v. leppanen, and s. hyrynsalmi, ;technical debt and the effect of agile software development practices on it - an industry practitioner survey,; in managing technical debt (mtd), 2014 sixth international workshop on, 2014, pp. 35-42. # t. besker, a. martini, and j. bosch, ;the pricey bill of technical debt - when and by whom will it be paid? ,; in ieee international conference on software maintenance and evolution (icsme), shanghai, china, 2017. # t. besker, a. martini, and j. bosch, ;a systematic literature review and a unified model of architectural technical debt,; in euromicro conference series on software engineering and advanced applications (seaa), 2016. # t. besker, a. martini, and j. bosch, ;time to pay up: technical debt from a software quality perspective,; in cibse, buenos aires, argentina, 2017. # r.kazman,c.yuanfang,m.ran,f.qiong,x.lu,s.haziyev,etal., ;a case study in locating the architectural roots of technical debt,; in software engineering (icse), 2015 ieee/acm 37th ieee international conference on, 2015, pp. 179-188. # d. falessi, m. a. shaw, f. shull, k. mullen, and m. s. keymind, ;practical considerations, challenges, and requirements of tool- support for managing technical debt,; in managing technical debt (mtd), 2013 4th international workshop, 2013, pp. 16-19. # a. nugroho, j. visser, and t. kuipers, ;an empirical model of technical debt and interest,; presented at the proceedings of the 2nd workshop on managing technical debt, waikiki, honolulu, hi, usa, 2011.',\n",
       " 67: \"n. a. ernst, s. bellomo, i. ozkaya, r. l. nord, and i. gorton, ;measure it? manage it? ignore it? software practitioners and technical debt; 10th joint meeting on foundations of software engineering, new york, ny, usa, 2015, pp. 50–60, 2015. # e. lim, n. taksande, and c. seaman, ;a balancing act: what software practitioners have to say about technical debt; software, ieee computer society, vol. 29, no. 6, pp. 22–27, nov. 2012. # a. martini, j. bosch, and m. chaudron, ;investigating architectural technical debt accumulation and refactoring over time: a multiple-case study; information and software technology, july 2015. # a. martini and j. bosch, ;towards prioritizing architecture technical debt: information needs of architects and product owner; 41st euromicro seaa conference, funchal, madeira, august 2015. # c. del rosso, ;software performance tuning of software product family architectures: two case studies in the real-time embedded systems domain; journal of systems and software, elsevier, vol. 81(1) pp. 1– 19, jan. 2008. # m.f.s. oliveira, r.m. redin, l. carro, l. lamb and f. wagner, ;software quality metrics and their impact on embedded software;5th international workshop on model-based methodologies for pervasive and embedded software, (mompes'08), pp. 68–77, 2008. # d. feitosa, a. ampatzoglou, p . avgeriou, and e. y . nakagawa, ;investigating quality trade-offs in open source critical embedded systems;, quality of software architectures (qosa’ 15), 2015.\",\n",
       " 66: 'y. guo, c. seaman, r. gomes, a. cavalcanti, g. t onin, f. q. da silva,a.l.m.santos,andc.siebra,;tracking technical debt — an exploratorycase study;in software maintenance# n. a. ernst, s. bellomo, i. ozkaya,r. l. nord, andi. gorton, ;measure it?manage it?ignore it? software practitioners and t echnical debt; in proceedings of the 2015 10th joint meeting on foundationsofsoftwareengineering,newyork,ny,usa,2015.# j. holvitie, v. leppänen, and s. hyrynsalmi, ;technical debt and the effect of agile software development practices on it - an industry practitioner survey; in 2014 sixth international workshop on managing technical debt (mtd), 2014, pp. 35–42.# z.codabuxandb. williams,;managing technical debt: an industrial case study; in 2013 4th international workshop on managing technical debt(mtd),2013, pp. 8–15.# n. zazworka, r. o. spínola, a. vetro’, f. shull, andc. seaman, ;a case study on effectively identifying technical debt;in proceedings of the 17th international conference on evaluation and assessment in software engineering,newyork,ny, usa, 2013.# y.guo, r.o.spínola,andc.seaman,;exploring the costs of technical debt management – a case study;empir.softw.eng., vol. 21, no. 1, pp. 159–182, nov.2014.# j. yli-huumo, a. maglyas, andk. smolander, ;howdo software d e v e l o p m e n t t ea m s m an ag e t e c h n i c a l d e b t ? – a n e m p i r i ca l s t u d y; j . syst. softw., vol. 120, pp. 195–218, oct.2016.',\n",
       " 96: 'lauesen, s.; software requirmenents - styles and techniques.; addison-wesley, london, 2002.# leffingwell, d. and widrig, d. ;managing software requirements: a use case approach.; pearson education, inc., boston, 2003.# maciaszek, l.; requirements analysis and system design.; pearson education, harlow, 2005.# stephenson, z., attwood, k., and mcdermid, j. ;product-line models to address requirements uncertainty, volatility and risk. in relating relating software requirements and architectures. ;springer berlin heidelberg, 2011.# nurmuliani, n., zowghi, d., and williams, s. p.; requirements volatility and its impact on change effort: evidence-based research in software development projects. ;( 2006).# jansen, anton and bosch, jan. ;software architecture as a set of architectural design decisions.; in proceedings of 5th working ieee/ifip conference on software architecture ( 2005), ieee.# van heesch, u. and avgeriou, p. ;mature architecting - a survey about the reasoning process of professional architects.; in 9th working ieee/ifip conference on software architecture ( 2011), 260–269.# tang, a., babar, m. a., gorton, i., and han, j. ;a survey of architecture design rationale.;journal of systems and software, 79, 12 (2006), 1792-1804.# miller, james a., ferrari, remo, and madhavji, nazim h. ;an exploratory study of architectural effects on requirements decisions.; journal of systems and software, 83, 12 (2010), 2441–2455.# cleland-huang, j., hanmer, r. s., supakkul, s., and mirakhorli, m. ;the twin peaks of requirements and architecture.; ieee software, 30, 2 (march-april 2013), 24-29.# bass, l., clements, p., and kazman, r.; software architecture in practice.; addison-wesley professional, new jersey, 2012.# runeson, p., höst, m., rainer, a., and regnell, b.; case study research in software engineering: guidelines and examples. ;wiley, 2012.',\n",
       " 35: 'nan',\n",
       " 24: 'nan',\n",
       " 77: 's.baskarada,v.nguyen,anda.koronios,;architecting microservices: practical opportunities and challenges; journal of computer information systems, vol. 00, no. 00, pp. 1–9, sep 2018.# j.ghofraniandd.lu ̈bke,;challenges of microservices architecture:a survey on the state of the practice; in 10th central european workshop on services and their composition (zeus), vol. 10th. dresden, germany: ceur-ws.org, 2018.# s. haselbock, r. weinreich, and g. buchgeher, “;an expert interview study on areas of microservice design; in 2018 ieee 11th conference on service-oriented computing and applications (soca). ieee, nov 2018, pp. 137–144.# a. carrasco, b. van bladel, and s. demeyer, “;migrating towards microservices: migration and architecture smells; in proceedings of the 2nd international workshop on refactoring - iwor 2018. new york, new york, usa: acm press, 2018, pp. 1–6.# d. taibi and v. lenarduzzi, “;on the definition of microservice bad smells; ieee software, vol. 35, no. 3, pp. 56–62, may 2018.# v. lenarduzzi and d. taibi, “;microservices, continuous architecture, and technical debt interest: an empirical study; in euromicro seaa, no. june, prague, czech republic, 2018.# j. bogner, j. fritzsch, s. wagner, and a. zimmermann, “;limiting technical debt with maintainability assurance – an industry survey on used techniques and differences with service- and microservice-based systems; in proceedings of the 2018 international conference on technical debt - techdebt ’18. new york, new york, usa: acm press, 2018, pp. 125–133.',\n",
       " 78: 'r. ferenc, p. hegedűs, and t. gyimóthy, ;software product quality models; in evolving software systems, t. mens, a. serebrenik, and a. cleve, eds. springer berlin heidelberg, 2014, pp. 65–100.# j.-l. letouzey, ;the sqale method for managing technical debt definition document; 31-mar-2016. [online]. available: http://www.sqale.org/wp-content/uploads/2016/08/sqale-method- en-v1-1.pdf. [accessed: 04-feb-2017].',\n",
       " 81: \"s. mcconnell, ;technical debt;, blog, nov. 2007, [online] available: http://blogs.construx.com/blogs/stevemcc/archive/2007/11/01/technical-debt-2.aspx.# w. cunningham, ;the wycash portfolio management system;, acm sigplan oops messenger, vol. 4, no. 2, pp. 29-30, 1993.# b. curtis, j. sappidi and a. szynkarski, ;estimating the size cost and types of technical debt;, proc. 3rd int'l workshop managing technical debt ieee cs, pp. 49-53, 2012.# d. spinellis,;code quality: the open source perspective;, addison-wesley, 2006.# m.t. nygard, release it!, ;pragmatic book-shelf;, 2007.# j. sappidi, b. curtis and a. szynkarski, ;cast report on application software health;, tech. report, 2011.# ;cast application intelligence platform;, tech. report, 2008.# ;software engineering-product quality int'l org. for standardization;, 2001.# ;systems and software engineering-systems and software quality requirements and evaluation (square)-system and software quality models;, 2011.# j. de groot, ;what is the value of your software?;, proc. 3rd int'l workshop managing technical debt ieee cs, pp. 37-44, 2012.# c. sterling, ;managing software debt: building for inevitable change;, addison-wesley, 2011.\",\n",
       " 82: 'lehman, m. m. (1980). ;programs, life cycles, and laws of software evolution. ;proceedings of the ieee, 68 (9), 1060–1076.# sappidi, j., curtis, b., & szynkarski, a. (2010). ;crash report: cast report on application software health—2011/2012.; new york: cast software.',\n",
       " 85: 'nan',\n",
       " 88: '\\x00\\x00\\x00 \\x00\\x00\\x00\\x00\\x00\\x00\\x00\\x00\\x00\\x00\\x00\\x00\\x00\\x00\\x00\\x00\\x00\\x00\\x00\\x00\\x00\\x00\\x00\\x00\\x00\\x00\\x00\\x00\\x00\\x00\\x00\\x00\\x00\\x00\\x00\\x00\\x00\\x00\\x00\\x00\\x00\\x00\\x00\\x00\\x00\\x00\\x00\\x00\\x00\\x00\\x00\\x00\\x00 \\x00\\x00\\x00\\x00\\x00\\x00\\x00\\x00\\x00 \\x00\\x00\\x00\\x00 \\x00\\x00\\x00 \\x00\\x00\\x00 \\x00\\x00\\x00\\x00\\x00\\x00\\x00\\x00\\x00\\x00\\x00\\x00 \\x00\\x00\\x00\\x00\\x00\\x00\\x00 \\x00\\x00 \\x00\\x00\\x00\\x00\\x00\\x00\\x00 \\x00\\x00\\x00 \\x00\\x00\\x00\\x00\\x00\\x00\\x00\\x00\\x00 \\x00\\x00\\x00\\x00 \\x00 \\x00\\x00z. li, p. avgeriou and p. liang, ;a systematic mapping study on technical debt and its management;, journal of systems and software, vol. 101, pp. 193-220, 2015.# u. eliasson, a. martini, r. kaufmann and s. odeh, ;identifying and visualizing architectural debt and its efficiency interest in the automotive domain: a case study;, 2015 ieee 7th international workshop on managing technical debt (mtd), pp. 33-40, 2015.# t. besker, a. martini and j. bosch, ;time to pay up: technical debt from a software quality perspective;, cibse, pp. 235-248, 2017.',\n",
       " 90: 'i. t. bowman, r. c. holt, and n. v. brewster. ;linux as a case study: its extracted software architecture.; in proceedings of the 21st international conference on software engineering, icse ’99, pages 555–563. acm, 1999.# a. e. hassan and r. c. holt.; using development history sticky notes to understand software architecture.; in proceedings of the 12th international workshop on program comprehension, icpc ’04, pages 183–192. ieee, 2004.# g. c. murphy, d. notkin, and k. sullivan. ;software reflexion models: bridging the gap between source and high-level models.; software engineering notes, 20(4):18–28, 1995.',\n",
       " 91: 'narasimhaiah gorla and shang-che lin. 2010.; determinants of software quality: a survey of information systems project managers.; information and software technology 52, 6 (jun 2010), 602–610. https://doi.org/10.1016/j.infsof.2009.11.012# aiko yamashita and leon moonen. 2013.; do developers care about code smells? an exploratory survey.; in 2013 20th working conference on reverse engineering (wcre). ieee, 242–251. https://doi.org/10.1109/wcre.2013.6671299# andrea caracciolo, mircea filip lungu, and oscar nierstrasz. 2014. ;how do software architects specify and validate quality requirements?; lecture notes in computer science (including subseries lecture notes in artificial intelligence and lecture notes in bioinformatics) 8627 lncs (2014), 374–389. https://doi.org/10. 1007/978- 3- 319- 09970- 5_32# markoleppanen,simomakinen,samuellahtinen,outisievi-korte,antti-pekka tuovinen, and tomi mannisto. 2015. ;refactoring-a shot in the dark? ieee software 32, 6 (nov 2015), 62–70. https://doi.org/10.1109/ms.2015.132# dirk voelz and andreas goeb. 2010.;what is different in quality management for soa?;. in 2010 14th ieee international enterprise distributed object computing conference. ieee, 47–56. https://doi.org/10.1109/edoc.2010.27# david ameller, matthias galster, paris avgeriou, and xavier franch. 2016. ;a survey on quality attributes in service-based systems. software quality journal 24, 2 (jun 2016), 271–299. https://doi.org/10.1007/s11219-015-9268-4',\n",
       " 97: \"l. bass l., r. nord, w. wood, d. zubrow, i. ozkaya: ;analysis of architecture evaluation data. ;journal of systems and software, sep. 2008, vol. 81, issue 9, pp. 1443-1455; elsevier, 2008.# zalewski a., kijas s.: ;beyond atam: early architecture evaluation method for large-scale distributed systems. ;journal of systems and software. journal of systems and software, vol. 86, issue 3, march 2013, pp. 683–697. elsevier, 2013.# j. tyree, a. akerman: ;architecture decisions: demystifying architecture. ;ieee software, mar.-apr. 2005, pp. 19–27.# a. jansen and j. bosch, ;software architecture as a set of architectural design decisions.; proceedings of the 5th working ieee/ifip conference on software architecture (wicsa'05), pp. 109-120. ieee 2005.# d. falessi, r. capilla, and g. cantone,; a value-based approach for documenting design decisions rationale: a replicated experiment;. in proceedings of the 3rd international workshop on sharing and reusing architectural knowledge (shark '08). acm, new york, ny, usa, pp. 63-70.# d. falessi, m. becker, and g. cantone. ;design decision rationale: experiences and steps ahead towards systematic use.; sigsoft softw. eng. notes 31, 5, article 2 (september 2006).# l. bass l., r. nord, w. wood, d. zubrow, ;risk themes discovered through architecture evaluations.; technical report cmu/sei- 2006-tr-012 esc-tr-2006-012. carnegie mellon university, 2006.\",\n",
       " 40: 'nan'}"
      ]
     },
     "metadata": {},
     "execution_count": 29
    }
   ],
   "source": [
    "dict_related_work = my_dict_from_column(df_sms_extraction, 'Extra2 (Related work)')\n",
    "print(f'Size of dict_related_work {len(dict_related_work)}')\n",
    "dict_related_work"
   ]
  },
  {
   "cell_type": "code",
   "execution_count": 30,
   "metadata": {},
   "outputs": [
    {
     "output_type": "stream",
     "name": "stdout",
     "text": [
      "Size of dict_related_work 47\n"
     ]
    },
    {
     "output_type": "execute_result",
     "data": {
      "text/plain": [
       "l definition and automatic detection of architecture smells. in 2015 12th working ieee/ifip conference on software architecture. 51–60. https://doi.org/10.1109/ wicsa.2015.12 [22] luca rizzi, francesca arcelli fontana, and riccardo roveda. 2018. support for architectural smell refactoring. in proceedings of the 2nd international workshop on refactoring, iwor@ase 2018, montpellier, france, september 4, 2018. 7–10. https://doi.org/10.1145/3242163.3242165 [24] ganesh samarthyam, girish suryanarayana, and tushar sharma. 2016. refac- toring for software architecture smells. in proceedings of the 1st international workshop on software refactoring, iwor@ase 2016, singapore, singapore, sep- tember 4, 2016. https://doi.org/10.1145/2975945.2975946 [27] santiago a. vidal, everton t. guimarães, willian nalepa oizumi, alessandro f. garcia, jorge andrés díaz pace, and claudia marcos. 2016. on the criteria for prioritizing code anomalies to identify architectural problems. in proc. of the 31st annual acm symp. on applied computing,. 1812–1814. https://doi.org/10.1145/ 2851613.2851941',\n",
       " 63: 'software evolution work on the design and evolution of unix',\n",
       " 73: \"a dagstuhl [10] where a new definition for td was crafted. the definition was repurposed to be more focused. [10] managing technical debt in software engineering, dagstuhl reports, vol. 6, issue 4, april 17-22, 2016. [online] available: dagstuhl.de/16162 further, additional attempts were made to include socio-technical aspects of organizations as a form of td. the work of tamburri et al. [12] serves as an example [12] d. tamburri, philippe kruchten, p. lago, and h. van vliet. “what is social debt in software engineering,” chase 2013, san francisco us. https://978-1- 4673-6290-0/13 sonarqube [16] implemented a widget into their framework that calculates td and reports it in terms of days or dollars (i.e. cost) necessary to repay the debt. [16] [online]available:sonarqube.org nugroho et al. [13] describe td as occurrences where problems with the quality in software are able to exacerbate and lead to bigger problems if they are not fixed in a timely manner [13] nugroho, a.; visser, j.; kuipers, t., “an empirical model of technical debt and interest,” in proceedings of the 2nd workshop on managing technical debt (mtd '11). acm, new york, ny, usa, 1-8. doi:10.1145/1985362.1985364 letouzey and ilkiewicz [14] used the sqale method, which estimates the amount of td based on a quality model. [14] j.l. letouzey and m. ilkiewicz, “managing technical debt with the sqale method,” ieee software vol. 29, issue 6, nov-dec 2012, ieee doi:10.1109/ms.2012.129 curtis et al. [15] introduce a way to measure td that focuses on converting the amount of td in code to a quantity in monetary terms [15] b. curtis, j. sappidi, and a. szynkarski. “estimating the principal of an application’s technical debt,” ieee software software vol. 29, issue 6, nov- dec 2012, ieee doi:10.1109/ms.2012.156\",\n",
       " 69: 'empirical survey-based studies on td - ernst et al. [10] conducted a survey within three large organizations, with 536 respondents and seven follow-up interviews [10] n. a. ernst, s. bellomo, i. ozkaya, r. l. nord, and i. gorton, ;measure it? manage it? ignore it? software practitioners and technical debt,; presented at the proceedings of the 2015 10th joint meeting on foundations of software engineering, bergamo, italy, 2015. - holvitie, leppanen and hyrynsalmi [14] conducted a survey of 54 finnish software practitioners investigating the level of td knowledge, how td occurs in projects and which of the applied agile components of the development was sensitive to td [14] j. holvitie, v. leppanen, and s. hyrynsalmi, ;technical debt and the effect of agile software development practices on it - an industry practitioner survey,; in managing technical debt (mtd), 2014 sixth international workshop on, 2014, pp. 35-42. - this paper is somewhat also related to our previous papers [3],[5], where we specifically study the architectural type of td and address how td negatively affects different software quality attributes. [3] t. besker, a. martini, and j. bosch, ;the pricey bill of technical debt - when and by whom will it be paid? ,; in ieee international conference on software maintenance and evolution (icsme), shanghai, china, 2017. [4] t. besker, a. martini, and j. bosch, ;a systematic literature review and a unified model of architectural technical debt,; in euromicro conference series on software engineering and advanced applications (seaa), 2016. [5] t. besker, a. martini, and j. bosch, ;time to pay up: technical debt from a software quality perspective,; in cibse, buenos aires, argentina, 2017. prior research on td related issues - kazman et al. [15] present a case study of identifying and quantifying architectural debts in an industrial software project, using code changes as a proxy for calculating the interest. [15] r.kazman,c.yuanfang,m.ran,f.qiong,x.lu,s.haziyev,etal., ;a case study in locating the architectural roots of technical debt,; in software engineering (icse), 2015 ieee/acm 37th ieee international conference on, 2015, pp. 179-188. - falessi et al. [11] argue that the interest is non-linear and has a probability to grow exponentially rather than linearly. by analyzing source code [11] d. falessi, m. a. shaw, f. shull, k. mullen, and m. s. keymind, ;practical considerations, challenges, and requirements of tool- support for managing technical debt,; in managing technical debt (mtd), 2013 4th international workshop, 2013, pp. 16-19. - nugroho et al. [28] describe that the interest grows differently on a 10-years horizon, depending on a star rating system of the software. [28] a. nugroho, j. visser, and t. kuipers, ;an empirical model of technical debt and interest,; presented at the proceedings of the 2nd workshop on managing technical debt, waikiki, honolulu, hi, usa, 2011.',\n",
       " 67: \"ernst et al. [11] conducted a survey to understand which tech- nical debt type is more frequent among practitioners. [11] n. a. ernst, s. bellomo, i. ozkaya, r. l. nord, and i. gorton, “measure it? manage it? ignore it? software practitioners and technical debt,” 10th joint meeting on foundations of software engineering, new york, ny, usa, 2015, pp. 50–60, 2015. another major issue is the difficulty of increasing the awareness of td for stakeholders without software engineering expertise; the latter is also recognized by both lim et al. [17] and martini et al. [20]. [17] e. lim, n. taksande, and c. seaman, “a balancing act: what software practitioners have to say about technical debt,” software, ieee computer society, vol. 29, no. 6, pp. 22–27, nov. 2012. [20] a. martini, j. bosch, and m. chaudron, “investigating architectural technical debt accumulation and refactoring over time: a multiple- case study,” information and software technology, july 2015. martini and bosch [19] highlight how td repayment can be prioritized in an industrial context, by discussing with practi- tioners [19] a. martini and j. bosch, “towards prioritizing architecture technical debt: information needs of architects and product owners,” 41st euromicro seaa conference, funchal, madeira, august 2015. del rosso presents an architectural approach for improving the performance of software products, derived from a product family for real-time embedded systems, and its possible implications to maintainability [9] [9] c. del rosso, “software performance tuning of software product family architectures: two case studies in the real-time embedded systems domain,” journal of systems and software, elsevier, vol. 81(1) pp. 1– 19, jan. 2008. oliveira et al. investigate the relationship between non-critical quality attributes, measured by metrics obtained from source code, and performance, measured by physical metrics (i.e., memory, time, and energy) obtained from run-time monitoring [21]. [21] m.f.s. oliveira, r.m. redin, l. carro, l. lamb and f. wagner, “software quality metrics and their impact on embedded software,” 5th international workshop on model-based methodologies for pervasive and embedded software, (mompes'08), pp. 68–77, 2008. feitosa et al. [12] analyze the difference in the trade-offs among quality attributes in critical and non-critical embedded software. [12] d. feitosa, a. ampatzoglou, p . avgeriou, and e. y . nakagawa, “investigating quality trade-offs in open source critical embedded systems”, quality of software architectures (qosa’ 15), 2015.\",\n",
       " 66: '[7] y. guo, c. seaman, r. gomes, a. cavalcanti, g. t onin, f. q. da silva,a.l.m.santos,andc.siebra,“trackingtechnicaldebt—an exploratorycase study,”in software maintenance(ic [15] n. a. ernst, s. bellomo, i. ozkaya,r. l. nord, andi. gorton, “measure it?manage it?ignore it? software practitioners and t echnical debt,” in proceedings of the 2015 10th joint meeting on foundationsofsoftwareengineering,newyork,ny,usa,2015. [16] j. holvitie, v. leppänen, and s. hyrynsalmi, “technical debt and the effect of agile software development practices on it - an industry practitioner survey,” in 2014 sixth international workshop on managing technical debt (mtd), 2014, pp. 35–42. [17] z.codabuxandb. williams,“managingtechnicaldebt:anindustrial case study,” in 2013 4th international workshop on managing technical debt(mtd),2013, pp. 8–15. [18] n. zazworka, r. o. spínola, a. vetro’, f. shull, andc. seaman, “a case study oneffectivelyidentifyingtechnicaldebt,”in proceedings of the 17th international conference on evaluation and assessment in software engineering,newyork,ny, usa, 2013. [19] y.guo, r.o.spínola,andc.seaman,“exploringthecostsof technical debt management – a case study,”empir.softw.eng., vol. 21, no. 1, pp. 159–182, nov.2014. [20] j. yli-huumo, a. maglyas, andk. smolander,“howdo software d e v e l o p m e n t t ea m s m an ag e t e c h n i c a l d e b t ? – a n e m p i r i ca l s t u d y , ” j . syst. softw., vol. 120, pp. 195–218, oct.2016.',\n",
       " 96: '[31] lauesen, s. software requirmenents - styles and techniques. addison-wesley, london, 2002. [32] leffingwell, d. and widrig, d. managing software requirements: a use case approach. pearson education, inc., boston, 2003. [35] maciaszek, l. requirements analysis and system design. pearson education, harlow, 2005. [53] stephenson, z., attwood, k., and mcdermid, j. product-line models to address requirements uncertainty, volatility and risk. in relating relating software requirements and architectures. springer berlin heidelberg, 2011. [43] nurmuliani, n., zowghi, d., and williams, s. p. requirements volatility and its impact on change effort: evidence-based research in software development projects. ( 2006). [24] jansen, anton and bosch, jan. software architecture as a set of architectural design decisions. in proceedings of 5th working ieee/ifip conference on software architecture ( 2005), ieee. [57] van heesch, u. and avgeriou, p. mature architecting - a survey about the reasoning process of professional architects. in 9th working ieee/ifip conference on software architecture ( 2011), 260–269. [56] tang, a., babar, m. a., gorton, i., and han, j. a survey of architecture design rationale. journal of systems and software, 79, 12 (2006), 1792-1804. [37] miller, james a., ferrari, remo, and madhavji, nazim h. an exploratory study of architectural effects on requirements decisions. journal of systems and software, 83, 12 (2010), 2441–2455. [11] cleland-huang, j., hanmer, r. s., supakkul, s., and mirakhorli, m. the twin peaks of requirements and architecture. ieee software, 30, 2 (march-april 2013), 24-29. [7] bass, l., clements, p., and kazman, r. software architecture in practice. addison-wesley professional, new jersey, 2012. [47] runeson, p., höst, m., rainer, a., and regnell, b. case study research in software engineering: guidelines and examples. wiley, 2012.',\n",
       " 35: 'nan',\n",
       " 24: 'nan',\n",
       " 77: '[14] s.basˇkarada,v.nguyen,anda.koronios,“architectingmicroservices: practical opportunities and challenges,” journal of computer informa- tion systems, vol. 00, no. 00, pp. 1–9, sep 2018. [15] j.ghofraniandd.lu ̈bke,“challengesofmicroservicesarchitecture:a survey on the state of the practice,” in 10th central european workshop on services and their composition (zeus), vol. 10th. dresden, germany: ceur-ws.org, 2018. [16] s. haselbock, r. weinreich, and g. buchgeher, “an expert interview study on areas of microservice design,” in 2018 ieee 11th conference on service-oriented computing and applications (soca). ieee, nov 2018, pp. 137–144. [17] a. carrasco, b. van bladel, and s. demeyer, “migrating towards microservices: migration and architecture smells,” in proceedings of the 2nd international workshop on refactoring - iwor 2018. new york, new york, usa: acm press, 2018, pp. 1–6. [18] d. taibi and v. lenarduzzi, “on the definition of microservice bad smells,” ieee software, vol. 35, no. 3, pp. 56–62, may 2018. [19] v. lenarduzzi and d. taibi, “microservices, continuous architecture, and technical debt interest: an empirical study,” in euromicro seaa, no. june, prague, czech republic, 2018. [20] j. bogner, j. fritzsch, s. wagner, and a. zimmermann, “limiting technical debt with maintainability assurance – an industry survey on used techniques and differences with service- and microservice- based systems,” in proceedings of the 2018 international conference on technical debt - techdebt ’18. new york, new york, usa: acm press, 2018, pp. 125–133.',\n",
       " 78: '[10] r. ferenc, p. hegedűs, and t. gyimóthy, “software product quality models,” in evolving software systems, t. mens, a. serebrenik, and a. cleve, eds. springer berlin heidelberg, 2014, pp. 65–100. [11] j.-l. letouzey, “the sqale method for managing technical debt definition document,” 31-mar-2016. [online]. available: http://www.sqale.org/wp-content/uploads/2016/08/sqale-method- en-v1-1.pdf. [accessed: 04-feb-2017].',\n",
       " 81: \"s. mcconnell, ;technical debt;, blog, nov. 2007, [online] available: http://blogs.construx.com/blogs/stevemcc/archive/2007/11/01/technical-debt-2.aspx. w. cunningham, ;the wycash portfolio management system;, acm sigplan oops messenger, vol. 4, no. 2, pp. 29-30, 1993. b. curtis, j. sappidi and a. szynkarski, ;estimating the size cost and types of technical debt;, proc. 3rd int'l workshop managing technical debt ieee cs, pp. 49-53, 2012. d. spinellis, code quality: the open source perspective, addison-wesley, 2006. m.t. nygard, release it!, pragmatic book-shelf, 2007. j. sappidi, b. curtis and a. szynkarski, ;cast report on application software health;, tech. report, 2011. ;cast application intelligence platform;, tech. report, 2008. ;software engineering-product quality int'l org. for standardization;, 2001. ;systems and software engineering-systems and software quality requirements and evaluation (square)-system and software quality models;, 2011. j. de groot, ;what is the value of your software?;, proc. 3rd int'l workshop managing technical debt ieee cs, pp. 37-44, 2012. c. sterling, managing software debt: building for inevitable change, addison-wesley, 2011.\",\n",
       " 82: '[8] lehman, m. m. (1980). programs, life cycles, and laws of software evolution. proceedings of the ieee, 68 (9), 1060–1076. [10] sappidi, j., curtis, b., & szynkarski, a. (2010). crash report: cast report on application software health—2011/2012. new york: cast software.',\n",
       " 85: 'nan',\n",
       " 88: '\\x00\\x00\\x00 \\x00\\x00\\x00\\x00\\x00\\x00\\x00\\x00\\x00\\x00\\x00\\x00\\x00\\x00\\x00\\x00\\x00\\x00\\x00\\x00\\x00\\x00\\x00\\x00\\x00\\x00\\x00\\x00\\x00\\x00\\x00\\x00\\x00\\x00\\x00\\x00\\x00\\x00\\x00\\x00\\x00\\x00\\x00\\x00\\x00\\x00\\x00\\x00\\x00\\x00\\x00\\x00\\x00 \\x00\\x00\\x00\\x00\\x00\\x00\\x00\\x00\\x00 \\x00\\x00\\x00\\x00 \\x00\\x00\\x00 \\x00\\x00\\x00 \\x00\\x00\\x00\\x00\\x00\\x00\\x00\\x00\\x00\\x00\\x00\\x00 \\x00\\x00\\x00\\x00\\x00\\x00\\x00 \\x00\\x00 \\x00\\x00\\x00\\x00\\x00\\x00\\x00 \\x00\\x00\\x00 \\x00\\x00\\x00\\x00\\x00\\x00\\x00\\x00\\x00 \\x00\\x00\\x00\\x00 \\x00\\x00\\x00\\x00 \\x00\\x00\\x00z. li, p. avgeriou and p. liang, ;a systematic mapping study on technical debt and its management;, journal of systems and software, vol. 101, pp. 193-220, 2015. u. eliasson, a. martini, r. kaufmann and s. odeh, ;identifying and visualizing architectural debt and its efficiency interest in the automotive domain: a case study;, 2015 ieee 7th international workshop on managing technical debt (mtd), pp. 33-40, 2015. t. besker, a. martini and j. bosch, ;time to pay up: technical debt from a software quality perspective;, cibse, pp. 235-248, 2017.',\n",
       " 90: '[3] i. t. bowman, r. c. holt, and n. v. brewster. linux as a case study: its extracted software architecture. in proceedings of the 21st international conference on software engineering, icse ’99, pages 555–563. acm, 1999. [7] a. e. hassan and r. c. holt. using development history sticky notes to understand software architecture. in proceedings of the 12th international workshop on program comprehension, icpc ’04, pages 183–192. ieee, 2004. [15] g. c. murphy, d. notkin, and k. sullivan. software reflexion models: bridging the gap between source and high-level models. software engineering notes, 20(4):18–28, 1995.',\n",
       " 91: '[8] narasimhaiah gorla and shang-che lin. 2010. determinants of software quality: a survey of information systems project managers. information and software technology 52, 6 (jun 2010), 602–610. https://doi.org/10.1016/j.infsof.2009.11.012 [24] aiko yamashita and leon moonen. 2013. do developers care about code smells? an exploratory survey. in 2013 20th working conference on reverse engineering (wcre). ieee, 242–251. https://doi.org/10.1109/wcre.2013.6671299 [7] andrea caracciolo, mircea filip lungu, and oscar nierstrasz. 2014. how do software architects specify and validate quality requirements? lecture notes in computer science (including subseries lecture notes in artificial intelligence and lecture notes in bioinformatics) 8627 lncs (2014), 374–389. https://doi.org/10. 1007/978- 3- 319- 09970- 5_32 [14] markoleppanen,simomakinen,samuellahtinen,outisievi-korte,antti-pekka tuovinen, and tomi mannisto. 2015. refactoring-a shot in the dark? ieee software 32, 6 (nov 2015), 62–70. https://doi.org/10.1109/ms.2015.132 [23] dirk voelz and andreas goeb. 2010. what is different in quality management for soa?. in 2010 14th ieee international enterprise distributed object computing conference. ieee, 47–56. https://doi.org/10.1109/edoc.2010.27 [1] david ameller, matthias galster, paris avgeriou, and xavier franch. 2016. a survey on quality attributes in service-based systems. software quality journal 24, 2 (jun 2016), 271–299. https://doi.org/10.1007/s11219-015-9268-4',\n",
       " 97: \"7] l. bass l., r. nord, w. wood, d. zubrow, i. ozkaya: analysis of architecture evaluation data. journal of systems and software, sep. 2008, vol. 81, issue 9, pp. 1443-1455; elsevier, 2008. [8] zalewski a., kijas s.: beyond atam: early architecture evaluation method for large-scale distributed systems. journal of systems and software. journal of systems and software, vol. 86, issue 3, march 2013, pp. 683–697. elsevier, 2013. [9] j. tyree, a. akerman: architecture decisions: demystifying architecture. ieee software, mar.-apr. 2005, pp. 19–27. [10] a. jansen and j. bosch, software architecture as a set of architectural design decisions. proceedings of the 5th working ieee/ifip conference on software architecture (wicsa'05), pp. 109-120. ieee 2005. [11] d. falessi, r. capilla, and g. cantone, a value-based approach for documenting design decisions rationale: a replicated experiment. in proceedings of the 3rd international workshop on sharing and reusing architectural knowledge (shark '08). acm, new york, ny, usa, pp. 63-70. [12] d. falessi, m. becker, and g. cantone. design decision rationale: experiences and steps ahead towards systematic use. sigsoft softw. eng. notes 31, 5, article 2 (september 2006). [13] l. bass l., r. nord, w. wood, d. zubrow, risk themes discovered through architecture evaluations. technical report cmu/sei- 2006-tr-012 esc-tr-2006-012. carnegie mellon university, 2006.\",\n",
       " 40: 'nan'}"
      ]
     },
     "metadata": {},
     "execution_count": 30
    }
   ],
   "source": [
    "dict_related_work_original = my_dict_from_column(df_sms_extraction, 'Related work (original)')\n",
    "print(f'Size of dict_related_work {len(dict_related_work_original)}')\n",
    "dict_related_work_original"
   ]
  },
  {
   "cell_type": "code",
   "execution_count": 31,
   "metadata": {},
   "outputs": [
    {
     "output_type": "stream",
     "name": "stdout",
     "text": [
      "Size of dict_important_work 47\n"
     ]
    },
    {
     "output_type": "execute_result",
     "data": {
      "text/plain": [
       "ying risky areas of software code in agile/lean software development: an industrial experience report; in 2014 software evolution week - ieee conference on software maintenance, reengineering and reverse engineering (csmr-wcre), 2014, pp. 154–163.',\n",
       " 30: 'nan',\n",
       " 38: 'nan',\n",
       " 48: '[30] l. xiao, y. cai, and r. kazman. ;design rule spaces: a new form of architecture insight.; in proc. 36th international conference on software engineering, 2014.# [31] l. xiao, y. cai, and r. kazman.; titan: a toolset that connects software architecture with quality analysis.; in 22nd acm sigsoft international symposium on the foundations of software engineering, 2014.# [32] l. xiao, y. cai, r. kazman, and r. mo.; investigating the evolutionary consequences of architecture roots of error-proneness. ;in submission, 2014.# [3] y. cai and k. j. sullivan.; modularity analysis of logical design models.; in proc. 21st ieee/acm international conference on automated software engineering, pages 91–102, sept. 2006.# [29] s. wong, y. cai, g. valetto, g. simeonov, and k. sethi. ;design rule hierarchies and parallelism in software development tasks.; in proc. 24th ieee/acm international conference on automated software engineering, pages 197–208, nov. 2009.# [21] r. mo, y. cai, r. kazman, and l. xiao. ;hotspot patterns: the formal definition and automatic detection of recurring high-maintenance architecture issues.; in submission, 2014.',\n",
       " 47: 'c. seaman, y. guo, n. zazworka, f. shull, c. izurieta, y. cai, and a. vetro, ;using technical debt data in decision making: potential decision approaches; in 2012 third international workshop on managing technical debt (mtd), 2012, pp. 45–48.# ;the danger of architectural technical debt: contagious debt and vicious circles,;in accepted for publication at wicsa 2015, montreal, canada. iso - international organization for standardization, “system and software quality models.” [online]. available: http://www.iso.org/iso/catalogue_detail.htm?csnumber=5 2075. [accessed: 08-mar-2015].',\n",
       " 20: '[16] d. liben-nowell and j. kleinberg. ;the link-prediction problem for social networks. j. am. soc. inf. sci. technol., 58(7):1019–1031, 2007. issn 1532-2882. # [15] d.m. le, d. link, a. shahbazian, and n. medvidovic. ;an empirical study of architectural decay in open-source software. ;in ieee icsa, 2018, pages 176–185. # [18] c. maffort, m. t. valente, r. terra, m. bigonha, n. anquetil, and a. hora. ;mining architectural violations from version history.; empir soft eng, 21(3):854–895, 2016. issn 1573-7616. # [26] g. salton and m. j. mcgill. ;introduction to modern information retrieval.; mcgraw-hill, inc., new york, ny, usa, 1986. # [28] r. terra, j. brunet, l. miranda, m.t. valente, d. serey, d. castilho, and r. bigonha.; measuring the structural similarity between source code entities.; in 25th international seke, pages 753–758, 2013. # [29] y. yang, r.n. lichtenwalter, and n.v. chawla. ;evaluating link prediction methods;. knowl. inf. syst., 45(3):751–782, 2015. issn 0219-1377.',\n",
       " 33: \"[24] k. sethi, y. cai, s. wong, a. garcia, and c. sant'anna, ;from retrospect to prospect: assessing modularity and stability from software architecture; proc. joint 8th working ieee/ifip conf. software architecture and 3rd eur. conf. software architecture (wicsa/ecsa), ieee press, sep. 2009, pp. 269–272, doi: 10.1109/wicsa.2009.5290817. # [25] j. schumacher, n. zazworka, f. shull, c. seaman, and m. shaw, ;building empirical support for automated code smell detection; proc. 2010 acm-ieee int. symp. empirical software engineering and measurement, acm press, sep. 2010, pp. 8:1–8:10, doi: 10.1145/1852786.1852797.\",\n",
       " 26: 'nan',\n",
       " 28: '[4] e. m. arvanitou, a. ampatzoglou, k. tzouvalidis, a. chatzigeorgiou, p. avgeriou, and i. deligiannis, ;assessing change proneness at the architecture level: an empirical validation;, international workshop on emerging trends in software design and architecture (wetsoda 2017), ieee, 2017. # [5] e. m. arvanitou, a. ampatzoglou, a. chatzigeorgiou, and p. avgeriou, ;“introducing a ripple effect measure: a theoretical and empirical validation;, 9th int. symposium on empirical software engineering and measurement (esem ‘15), ieee, 22–23 october 2015, china. # [6] e. m. arvanitou, a. ampatzoglou, a. chatzigeorgiou, and p. avgeriou. ;“software metrics fluctuation: a property for assisting the metric selection process;, information and software technology, 72 (4), 2016. # [7] e. m. arvanitou, a. ampatzoglou, a. chatzigeorgiou, and p. avgeriou, ;a method for assessing class change proneness;, 21st international conference on evaluation and assessment in software engineering (ease’ 17), acm, 15-16 june 2017, sweden.',\n",
       " 31: '[3] d.durisic,m.nilsson,m.staron,andj.hansson.;measuringtheimpact of changes to the complexity and coupling properties of automotive software systems.; 86(5):1275–1293. [7] z. li, p. avgeriou, and p. liang. a systematic mapping study on technical debt and its management. journal of systems and software, 101(0):193 – 220, 2015. # [8] a. martini, j. bosch, and m. chaudron. ;architecture technical debt: understanding causes and a qualitative model. ;in software engineering and advanced applications (seaa), 2014 40th euromicro confer- ence on, pages 85–92, aug 2014. # [9] r. nord, i. ozkaya, p. kruchten, and m. gonzalez-rojas.; in search of a metric for managing architectural technical debt. ;in 2012 joint working ieee/ifip conference on software architecture (wicsa) and european conference on software architecture (ecsa), pages 91–100.',\n",
       " 44: '[12] letouzey, j.l.: ;the sqale method for evaluating technical debt.; in: proc. 3rd int. work. on managing technical debt (june 2012) # [9] garcia, j., popescu, d., edwards, g., medvidovic, n.: ;identifying architectural bad smells.; in: proc. csmr 2009. ieee, germany (2009);',\n",
       " 43: 'brooks, frederickp., 1975. the mythical man-month.; kruchten, p, nord, r.l., ozkaya, m., 2012a. ;technical debt: from metaphor to theory to practice.; ieee softw 29 (6), 18–21. # kruchten, p., gonzalez, m., ozkaya, i., nord, r.l., kruchten, n., 2012b. ;change propagation as a measure of structural technical debt.; wicsa/ecsa. # li, z., avgeriou, p., liang, p., 2015. ;a systematic mapping on technical debt and its management;. j. syst. softw 101, 193–220. # guo, y., seaman, c.a, 2011. ;portfolio approach to technical debt management.; 2nd workshop on managing technical debt. acm. # baldwin, c., maccormack, a., rusnak, j., 2014. ;hidden structure: using network methods to map system architecture.; res. policy 43 (8), 1381–1397. # maccormack, a., baldwin, c., rusnak, j., 2012.; exploring the duality between product and organizational architectures: a test of the ’mirroring’ hypothesis.; res. policy 41 (8), 1309–1324. # maccormack, a., rusnak, j., baldwin, c., 2006.;exploring the structure of complex software designs: an empirical study of open source and proprietary code;. man- age. sci. 52 (7), 1015–1030. # sosa, manuel, eppinger, steven, rowles, craig, 2007.; a network approach to define modularity of components in complex products. ;trans.asme 129, 1118–1129.',\n",
       " 51: '[6] f. a. fontana, i. pigazzini, r. roveda, and m. zanoni, ;automatic detection of instability architectural smells;proceedings - 2016 ieee international conference on software maintenance and evolution, ic- sme 2016, pp. 433–437, 2017. #[9] r. roveda, f. a. fontana, i. pigazzini, and m. zanoni, ;towards an architectural debt index; in 2018 44th euromicro conference on software engineering and advanced applications (seaa), pp. 408–416, ieee, 2018.',\n",
       " 52: '[8] neila.ernst,stephanybellomo,ipekozkaya,robertl.nord,andiangorton. 2015. ;measure it? manage it? ignore it?; software practitioners and technical debt. in proceedings of the 2015 10th joint meeting on foundations of software engineering, esec/fse 2015, bergamo, italy, august 30 - september 4, 2015. 50–60. https://doi.org/10.1145/2786805.2786848 # [12] joshua garcia, daniel popescu, george edwards, and nenad medvidovic. 2009.; identifying architectural bad smells.; in 3th european conference on software maintenance and reengineering, csmr 2009, architecture-centric maintenance of large-scale software systems, kaiserslautern, germany, 24-27 march 2009. germany, 255–258. https://doi.org/10.1109/csmr.2009.59 # [13] r. kazman, yuanfang cai, ran mo, qiong feng, lu xiao, s. haziyev, v. fedak, and a. shapochka. 2015.; a case study in locating the architectural roots of technical debt.; in software engineering (icse), 2015 ieee/acm 37th ieee international conference on, vol. 2. 179–188. https://doi.org/10.1109/icse.2015.146 # [16] alan maccormack and daniel j. sturtevant. 2016. ;technical debt and system architecture: the impact of coupling on defect-related activity. ;journal of systems and software 120 (2016), 170–182. https://doi.org/10.1016/j.jss.2016.06.007 # [17] isela macía bertrán. 2013.; on the detection of architecturally-relevant code anomalies in software systems.; ph.d. dissertation. puc-rio, departamento de informática, rio de janeiro. # [19] antonio martini, francesca arcelli fontana, andrea biaggi, and riccardo roveda. 2018.; identifying and prioritizing architectural debt through architectural smells: a case study in a large software company.; in proc. of the european conference on software architecture (ecsa). madrid, spain, 320–335. https: //doi.org/10.1007/978- 3- 030- 00761- 4_21 # [21] r. mo, y. cai, r. kazman, and l. xiao. 2015. hotspot patterns:; the formal definition and automatic detection of architecture smells.; in 2015 12th working ieee/ifip conference on software architecture. 51–60. https://doi.org/10.1109/ wicsa.2015.12 # [24] ganesh samarthyam, girish suryanarayana, and tushar sharma. 2016. ;refactoring for software architecture smells.; in proceedings of the 1st international workshop on software refactoring, iwor@ase 2016, singapore, singapore, sep- tember 4, 2016. https://doi.org/10.1145/2975945.2975946 # [27] santiago a. vidal, everton t. guimarães, willian nalepa oizumi, alessandro f. garcia, jorge andrés díaz pace, and claudia marcos. 2016. ;on the criteria for prioritizing code anomalies to identify architectural problems.; in proc. of the 31st annual acm symp. on applied computing,. 1812–1814. https://doi.org/10.1145/ 2851613.2851941 # [28] lu xiao, yuanfang cai, and rick kazman. 2014.; titan: a toolset that connects software architecture with quality analysis.; in proceedings of the 22nd acm sig- soft international symposium on foundations of software engineering (fse 2014). acm, hong kong, china, 763–766. https://doi.org/10.1145/2635868.2661677',\n",
       " 63: 'nan',\n",
       " 73: '[5] ;iso/iec 25010:2011 systems and software engineering – systems and software quality requirements and evaluation (square) – system and software quality models; mar. 2011. # [6] ;sqale software quality assessment based on lifecycle expectations;feb.2017. [online]. available: www.sqale.org # [7] s. wagner, k. lochmann, l. heinemann, m. klas, a. trendowicz, r. plosch, a. seidi, a. goeb, and j. streit, ;the quamoco product quality modelling and assessment approach.; ieee, jun. 2012, pp. 1133–1142. # [2] [online] available: cwe.mitre.org common weakness enumeration [22] recommendation itu-t x.1525.; common weakness scoring system (cwss;). [online] available: www.itu.int/rec/t-rec-x.1525/en;[10] managing technical debt in software engineering, dagstuhl reports, vol. 6, issue 4, april 17-22, 2016. [online] available: dagstuhl.de/16162; [21] santos, j. c. s., tarrit, k., and mirakhorli, m. “a catalog of security architecture weaknesses,” 2017 ieee international conference on software architecture (icsa). 2017 # [24] [online]available:design.se.rit.edu/catalog/index.html',\n",
       " 69: 'nan',\n",
       " 67: '[15] p. kruchten, r. l. nord, i. ozkaya, ;technical debt: from metaphor to theory and practice;, software, ieee computer society, vol. 29, no. 6, pp. 18-21, november-december 2012 # [19] a. martini and j. bosch, ;towards prioritizing architecture technical debt: information needs of architects and product owners;41st euromicro seaa conference, funchal, madeira, august 2015. # [20] a. martini, j. bosch, and m. chaudron, ;investigating architectural technical debt accumulation and refactoring over time: a multiple- case study; information and software technology, july 2015.',\n",
       " 66: '[33] e. tom, a. aurum, and r. vidgen, ;an exploration of technical debt;journal of systems and software, vol. 86, no. 6, 2013, pp. 1498-1516. [1] a. ampatzoglou, a. ampatzoglou, a. chatzigeorgiou, and p. avgeriou, ;the financial aspect of managing technical debt: a systematic literature review; information and software technology, vol. 64, 2015, pp. 52. # [7] y. guo, c. seaman, r. gomes, a. cavalcanti, g. t onin, f. q. da silva,a.l.m.santos,andc.siebra,;tracking technical debt—an exploratorycase study;in software maintenance(icsm), 2011 27th ieee international conference on, 2011, pp. 528–531. # [10] a.martiniandj.bosch, ;the danger of architectural technical debt: contagious debt and vicious circles; in accepted for publication at wicsa 2015,montreal, canada',\n",
       " 96: '[43] nurmuliani, n., zowghi, d., and williams, s. p. ;requirements volatility and its impact on change effort: evidence-based research in software development projects.; ( 2006). # [57] van heesch, u. and avgeriou, p. ;mature architecting - a survey about the reasoning process of professional architects.; in 9th working ieee/ifip conference on software architecture ( 2011), 260–269.',\n",
       " 35: 'nan',\n",
       " 24: 'nan',\n",
       " 77: 'nan',\n",
       " 78: '[12] c. baldwin, a. maccormack, and j. rusnak, ;hidden structure: using network methods to map system architecture; 2014. ; [13] r. kazman et al., “a case study in locating the architectural roots of technical debt,” in proceedings of the 37th international conference on software engineering - volume 2, piscataway, nj, usa, 2015, pp. 179–188. ; [14] s. stevanetic and u. zdun, “software metrics for measuring the understandability of architectural structures: a systematic mapping study,” in proceedings of the 19th international conference on evaluation and assessment in software engineering, new york, ny, usa, 2015, p. 21:1–21:14. # [15] l. xiao, y. cai, r. kazman, r. mo, and q. feng, ;identifying and quantifying architectural debt; in proceedings of the 38th international conference on software engineering, new york, ny, usa, 2016, pp. 488–498. # [16] a. maccormack, j. rusnak, and c. y. baldwin, ;exploring the structure of complex software designs: an empirical study of open source and proprietary code; manag. sci., vol. 52, no. 7, pp. 1015– 1030, jul. 2006. # [17] a. maccormack and d. j. sturtevant, ;technical debt and system architecture: the impact of coupling on defect-related activity,;j. syst. softw., vol. 120, pp. 170–182, oct. 2016. # [19] r. jabangwe, j. börstler, d. šmite, and c. wohlin, ;empirical evidence on the link between object-oriented measures and external quality attributes: a systematic literature review; empir. softw. eng., vol. 20, no. 3, pp. 640–693, mar. 2014. # [20] m. riaz, e. mendes, and e. tempero, ;a systematic review of software maintainability prediction and metrics;in proceedings of the 2009 3rd international symposium on empirical software engineering and measurement, washington, dc, usa, 2009, pp. 367–377.',\n",
       " 81: 'nan',\n",
       " 82: 'nan',\n",
       " 85: 'nan',\n",
       " 88: 'a. martini, j. bosch and m. chaudron, ;investigating architectural technical debt accumulation and refactoring over time: a multiple-case study;, information and software technology, vol. 67, pp. 237-253, 2015. # a. martini and j. bosch, ;an empirically developed method to aid decisions on architectural technical debt refactoring: anacondebt;, 2016 ieee/acm 38th international conference on software engineering companion (icse-c), pp. 31-40, 2016. # p. avgeriou, p. kruchten, i. ozkaya and c. seaman, ;managing technical debt in software engineering (dagstuhl seminar 16162);, dagstuhl reports, vol. 6, no. 4, 2016. # r. kazman et al., ;a case study in locating the architectural roots of technical debt;, 2015 ieee/acm 37th ieee international conference on software engineering, vol. 2, pp. 179-188, 2015. # u. eliasson, a. martini, r. kaufmann and s. odeh, ;identifying and visualizing architectural debt and its efficiency interest in the automotive domain: a case study;, 2015 ieee 7th international workshop on managing technical debt (mtd), pp. 33-40, 2015. # t. besker, a. martini and j. bosch, ;time to pay up: technical debt from a software quality perspective;, cibse, pp. 235-248, 2017. # e. tom, a. aurum and r. vidgen, ;an exploration of technical debt;, journal of systems and software, vol. 86, no. 6, pp. 1498-1516, 2013. # e. alzaghoul and r. bahsoon, ;evaluating technical debt in cloud-based architectures using real options;, 2014 23rd australian software engineering conference, pp. 1-10, 2014.',\n",
       " 90: '[18] a.potdarande.shihab.; an exploratory study on self-admitted technical debt.; in proceedings of the 30th ieee international conference on software maintenance and evolution, icsme, pages 91–100. ieee, 2014. # [8] q.huang,e.shihab,x.xia,d.lo,ands.li.;identifying self-admitted technical debt in open source projects using text mining;. empirical software engineering, 23(1):418–451, 2018. # [12] e. maldonado and e. shihab. ;detecting and quantifying different types of self-admitted technical debt.; in proceedings of the 7th international workshop on managing technical debt, mtd ’15, pages 9–15. ieee, oct 2015. # [13] e. maldonado, e. shihab, and n. tsantalis. ;using natural language processing to automatically detect self-admitted technical debt. ;ieee transactions on software engineering, 43(11):1044–1062, nov 2017. # [19] sci tools. quickly comprehend legacy code — scitools.com. https: //scitools.com/legacy- code- tool/, 2018. (accessed on 10/17/2018).',\n",
       " 91: 'stephanbode.2009. ;on the role of evolvability for architectural design;.science (2009), 3256–3263. http://www.theoinf.tu-ilmenau.de/$\\\\sim$sbode/publications/ bode_ontheroleofevolvability.pdf # international organization for standardization. 2011. ;iso/iec 25010 - systems and software engineering - systems and software quality requirements and evaluation (square) ;- system and software quality models. technical report. 1–25 pages. http://www.iso.org/iso/iso_catalogue/catalogue_tc/catalogue_detail.htm? csnumber=35733 # davidrowe,johnleaney,anddavidlowe.1998. ;defining systems architecture evolvability - a taxonomy of change. ;international conference and workshop: engineering of computer-based systems december (1998), 45–52. https://doi.org/ 10.1109/ecbs.1998.10027 # [16] yaser i. mansour and suleiman h. mustafa. 2011.; assessing internal software quality attributes of the object-oriented and service-oriented software devel- opment paradigms: a comparative study. ;journal of software engineering and applications 04, 04 (2011), 244–252. https://doi.org/10.4236/jsea.2011.44027 # [18] mikhail perepletchikov, caspar ryan, and keith frampton. 2005.; comparing the impact of service-oriented and object-oriented paradigms on the structural properties of software.; lecture notes in computer science (including subseries lecture notes in artificial intelligence and lecture notes in bioinformatics) 3762 lncs (2005), 431–441. https://doi.org/10.1007/11575863_63 # [23] dirk voelz and andreas goeb. 2010. ;what is different in quality management for soa?.; in 2010 14th ieee international enterprise distributed object computing conference. ieee, 47–56. https://doi.org/10.1109/edoc.2010.27',\n",
       " 97: '[14] i. ozkaya, r. l. nord, p. kruchten, ;technical debt: from metaphor to theory and practice,; ieee software vol. 29, pp. 18-21, 2012. # [15] zalewski a.:; beyond atam: architecture analysis in the development of large scale software systems. ;software architecture, first european conference, ecsa 2007 aranjuez, spain, 24-26 september 2007 proceedings. lncs, vol. 4758, pp. 92 – 105. springer-verlag 2007.',\n",
       " 40: 'nan'}"
      ]
     },
     "metadata": {},
     "execution_count": 31
    }
   ],
   "source": [
    "dict_important_work = my_dict_from_column(df_sms_extraction, 'Extra 3 (Important work)')\n",
    "print(f'Size of dict_important_work {len(dict_important_work)}')\n",
    "dict_important_work"
   ]
  },
  {
   "cell_type": "code",
   "execution_count": 32,
   "metadata": {},
   "outputs": [
    {
     "output_type": "stream",
     "name": "stdout",
     "text": [
      "Size of dict_important_works_original 47\n"
     ]
    },
    {
     "output_type": "execute_result",
     "data": {
      "text/plain": [
       "ce on software engineering - volume 2, piscataway, nj, usa, 2015, pp. 179–188. v . antinyan, m. staron, w . meding, p . osterstrom, e. wikstrom, j. wranker, a. henriksson, and j. hansson, “identifying risky areas of software code in agile/lean software development: an industrial experience report,” in 2014 software evolution week - ieee conference on software maintenance, reengineering and reverse engineering (csmr-wcre), 2014, pp. 154–163.',\n",
       " 30: 'nan',\n",
       " 38: 'nan',\n",
       " 48: '[30] l. xiao, y. cai, and r. kazman. design rule spaces: a new form of architecture insight. in proc. 36th international conference on software engineering, 2014. [31] l. xiao, y. cai, and r. kazman. titan: a toolset that connects software architecture with quality analysis. in 22nd acm sigsoft international symposium on the foundations of software engineering, 2014. [32] l. xiao, y. cai, r. kazman, and r. mo. investigating the evolutionary consequences of architecture roots of error-proneness. in submission, 2014. [3] y. cai and k. j. sullivan. modularity analysis of logical design mod- els. in proc. 21st ieee/acm international conference on automated software engineering, pages 91–102, sept. 2006. [29] s. wong, y. cai, g. valetto, g. simeonov, and k. sethi. design rule hierarchies and parallelism in software development tasks. in proc. 24th ieee/acm international conference on automated software engineering, pages 197–208, nov. 2009. [21] r. mo, y. cai, r. kazman, and l. xiao. hotspot patterns: the formal definition and automatic detection of recurring high-maintenance architecture issues. in submission, 2014.',\n",
       " 47: 'c. seaman, y. guo, n. zazworka, f. shull, c. izurieta, y. cai, and a. vetro, “using technical debt data in decision making: potential decision approaches,” in 2012 third international workshop on managing technical debt (mtd), 2012, pp. 45–48. “the danger of architectural technical debt: contagious debt and vicious circles,” in accepted for publication at wicsa 2015, montreal, canada. iso - international organization for standardization, “system and software quality models.” [online]. available: http://www.iso.org/iso/catalogue_detail.htm?csnumber=5 2075. [accessed: 08-mar-2015].',\n",
       " 20: '[16] d. liben-nowell and j. kleinberg. the link-prediction problem for social networks. j. am. soc. inf. sci. technol., 58(7):1019–1031, 2007. issn 1532-2882. [15] d.m. le, d. link, a. shahbazian, and n. medvidovic. an empirical study of architectural decay in open-source software. in ieee icsa, 2018, pages 176–185. [18] c. maffort, m. t. valente, r. terra, m. bigonha, n. anquetil, and a. hora. mining architectural violations from version history. empir soft eng, 21(3):854–895, 2016. issn 1573-7616. [26] g. salton and m. j. mcgill. introduction to modern information retrieval. mcgraw-hill, inc., new york, ny, usa, 1986. [28] r. terra, j. brunet, l. miranda, m.t. valente, d. serey, d. castilho, and r. bigonha. measuring the structural similarity between source code entities. in 25th international seke, pages 753–758, 2013. [29] y. yang, r.n. lichtenwalter, and n.v. chawla. evaluating link predic- tion methods. knowl. inf. syst., 45(3):751–782, 2015. issn 0219-1377.',\n",
       " 33: \"[24] k. sethi, y. cai, s. wong, a. garcia, and c. sant'anna, “from retrospect to prospect: assessing modularity and stability from software architecture,” proc. joint 8th working ieee/ifip conf. software architecture and 3rd eur. conf. software architecture (wicsa/ecsa), ieee press, sep. 2009, pp. 269–272, doi: 10.1109/wicsa.2009.5290817. [25] j. schumacher, n. zazworka, f. shull, c. seaman, and m. shaw, “building empirical support for automated code smell detection,” proc. 2010 acm-ieee int. symp. empirical software engineering and measurement, acm press, sep. 2010, pp. 8:1–8:10, doi: 10.1145/1852786.1852797.\",\n",
       " 26: 'nan',\n",
       " 28: '[4] e. m. arvanitou, a. ampatzoglou, k. tzouvalidis, a. chatzigeorgiou, p. avgeriou, and i. deligiannis, “assessing change proneness at the architecture level: an empirical validation”, international workshop on emerging trends in software design and architecture (wetsoda 2017), ieee, 2017. [5] e. m. arvanitou, a. ampatzoglou, a. chatzigeorgiou, and p. avgeriou, “introducing a ripple effect measure: a theoretical and empirical validation”, 9th int. symposium on empirical software engineering and measurement (esem ‘15), ieee, 22–23 october 2015, china. [6] e. m. arvanitou, a. ampatzoglou, a. chatzigeorgiou, and p. avgeriou. “software metrics fluctuation: a property for assisting the metric selection process”, information and software technology, 72 (4), 2016. [7] e. m. arvanitou, a. ampatzoglou, a. chatzigeorgiou, and p. avgeriou, “a method for assessing class change proneness”, 21st international conference on evaluation and assessment in software engineering (ease’ 17), acm, 15-16 june 2017, sweden.',\n",
       " 31: '[3] d.durisic,m.nilsson,m.staron,andj.hansson.measuringtheimpact of changes to the complexity and coupling properties of automotive software systems. 86(5):1275–1293. [7] z. li, p. avgeriou, and p. liang. a systematic mapping study on technical debt and its management. journal of systems and software, 101(0):193 – 220, 2015. [8] a. martini, j. bosch, and m. chaudron. architecture technical debt: understanding causes and a qualitative model. in software engineering and advanced applications (seaa), 2014 40th euromicro confer- ence on, pages 85–92, aug 2014. [9] r. nord, i. ozkaya, p. kruchten, and m. gonzalez-rojas. in search of a metric for managing architectural technical debt. in 2012 joint working ieee/ifip conference on software architecture (wicsa) and european conference on software architecture (ecsa), pages 91–100.',\n",
       " 44: '[12] letouzey, j.l.: the sqale method for evaluating technical debt. in: proc. 3rd int. work. on managing technical debt (june 2012); [9] garcia, j., popescu, d., edwards, g., medvidovic, n.: identifying architectural bad smells. in: proc. csmr 2009. ieee, germany (2009);',\n",
       " 43: 'brooks, frederickp., 1975. the mythical man-month.; kruchten, p, nord, r.l., ozkaya, m., 2012a. technical debt: from metaphor to theory to practice. ieee softw 29 (6), 18–21. kruchten, p., gonzalez, m., ozkaya, i., nord, r.l., kruchten, n., 2012b. change prop- agation as a measure of structural technical debt. wicsa/ecsa. li, z., avgeriou, p., liang, p., 2015. a systematic mapping on technical debt and its management. j. syst. softw 101, 193–220. ; guo, y., seaman, c.a, 2011. portfolio approach to technical debt management. 2nd workshop on managing technical debt. acm.; baldwin, c., maccormack, a., rusnak, j., 2014. hidden structure: using network methods to map system architecture. res. policy 43 (8), 1381–1397.; maccormack, a., baldwin, c., rusnak, j., 2012. exploring the duality between prod- uct and organizational architectures: a test of the ’mirroring’ hypothesis. res. policy 41 (8), 1309–1324.; maccormack, a., rusnak, j., baldwin, c., 2006. exploring the structure of complex software designs: an empirical study of open source and proprietary code. man- age. sci. 52 (7), 1015–1030. ; sosa, manuel, eppinger, steven, rowles, craig, 2007. a network approach to define modularity of components in complex products. trans.asme 129, 1118–1129.',\n",
       " 51: '[6] f. a. fontana, i. pigazzini, r. roveda, and m. zanoni, “automatic detection of instability architectural smells,” proceedings - 2016 ieee international conference on software maintenance and evolution, ic- sme 2016, pp. 433–437, 2017.; [9] r. roveda, f. a. fontana, i. pigazzini, and m. zanoni, “towards an architectural debt index,” in 2018 44th euromicro conference on software engineering and advanced applications (seaa), pp. 408–416, ieee, 2018.',\n",
       " 52: '[8] neila.ernst,stephanybellomo,ipekozkaya,robertl.nord,andiangorton. 2015. measure it? manage it? ignore it? software practitioners and technical debt. in proceedings of the 2015 10th joint meeting on foundations of software engineering, esec/fse 2015, bergamo, italy, august 30 - september 4, 2015. 50–60. https://doi.org/10.1145/2786805.2786848 [12] joshua garcia, daniel popescu, george edwards, and nenad medvidovic. 2009. identifying architectural bad smells. in 3th european conference on software maintenance and reengineering, csmr 2009, architecture-centric maintenance of large-scale software systems, kaiserslautern, germany, 24-27 march 2009. germany, 255–258. https://doi.org/10.1109/csmr.2009.59 [13] r. kazman, yuanfang cai, ran mo, qiong feng, lu xiao, s. haziyev, v. fedak, and a. shapochka. 2015. a case study in locating the architectural roots of technical debt. in software engineering (icse), 2015 ieee/acm 37th ieee international conference on, vol. 2. 179–188. https://doi.org/10.1109/icse.2015.146 [16] alan maccormack and daniel j. sturtevant. 2016. technical debt and system architecture: the impact of coupling on defect-related activity. journal of systems and software 120 (2016), 170–182. https://doi.org/10.1016/j.jss.2016.06.007 [17] isela macía bertrán. 2013. on the detection of architecturally-relevant code anomalies in software systems. ph.d. dissertation. puc-rio, departamento de informática, rio de janeiro. [19] antonio martini, francesca arcelli fontana, andrea biaggi, and riccardo roveda. 2018. identifying and prioritizing architectural debt through architectural smells: a case study in a large software company. in proc. of the european conference on software architecture (ecsa). madrid, spain, 320–335. https: //doi.org/10.1007/978- 3- 030- 00761- 4_21 [21] r. mo, y. cai, r. kazman, and l. xiao. 2015. hotspot patterns: the formal definition and automatic detection of architecture smells. in 2015 12th working ieee/ifip conference on software architecture. 51–60. https://doi.org/10.1109/ wicsa.2015.12 [24] ganesh samarthyam, girish suryanarayana, and tushar sharma. 2016. refac- toring for software architecture smells. in proceedings of the 1st international workshop on software refactoring, iwor@ase 2016, singapore, singapore, sep- tember 4, 2016. https://doi.org/10.1145/2975945.2975946 [27] santiago a. vidal, everton t. guimarães, willian nalepa oizumi, alessandro f. garcia, jorge andrés díaz pace, and claudia marcos. 2016. on the criteria for prioritizing code anomalies to identify architectural problems. in proc. of the 31st annual acm symp. on applied computing,. 1812–1814. https://doi.org/10.1145/ 2851613.2851941 [28] lu xiao, yuanfang cai, and rick kazman. 2014. titan: a toolset that connects software architecture with quality analysis. in proceedings of the 22nd acm sig- soft international symposium on foundations of software engineering (fse 2014). acm, hong kong, china, 763–766. https://doi.org/10.1145/2635868.2661677',\n",
       " 63: 'nan',\n",
       " 73: '[5] “iso/iec 25010:2011 systems and software engineering – systems and software quality requirements and evaluation (square) – systm and software quality models,” mar. 2011.; [6] “sqale software quality assessment based on lifecycle expectations,” feb. 2017. [online]. available: www.sqale.org [7] s. wagner, k. lochmann, l. heinemann, m. klas, a. trendowicz, r. plosch, a. seidi, a. goeb, and j. streit, “the quamoco product quality modelling and assessment approach.” ieee, jun. 2012, pp. 1133–1142.; [2] [online] available: cwe.mitre.org common weakness enumeration; [22] recommendation itu-t x.1525. common weakness scoring system (cwss). [online] available: www.itu.int/rec/t-rec-x.1525/en;[10] managing technical debt in software engineering, dagstuhl reports, vol. 6, issue 4, april 17-22, 2016. [online] available: dagstuhl.de/16162; [21] santos, j. c. s., tarrit, k., and mirakhorli, m. “a catalog of security architecture weaknesses,” 2017 ieee international conference on software architecture (icsa). 2017.; [24] [online]available:design.se.rit.edu/catalog/index.html',\n",
       " 69: 'nan',\n",
       " 67: '[15] p. kruchten, r. l. nord, i. ozkaya, ;technical debt: from metaphor to theory and practice;, software, ieee computer society, vol. 29, no. 6, pp. 18-21, november-december 2012 [19] a. martini and j. bosch, “towards prioritizing architecture technical debt: information needs of architects and product owners,” 41st euromicro seaa conference, funchal, madeira, august 2015. [20] a. martini, j. bosch, and m. chaudron, “investigating architectural technical debt accumulation and refactoring over time: a multiple- case study,” information and software technology, july 2015.',\n",
       " 66: '[33] e. tom, a. aurum, and r. vidgen, “an exploration of technical debt,” journal of systems and software, vol. 86, no. 6, 2013, pp. 1498-1516.; [1] a. ampatzoglou, a. ampatzoglou, a. chatzigeorgiou, and p. avgeriou, “the financial aspect of managing technical debt: a systematic literature review,” information and software technology, vol. 64, 2015, pp. 52. [7] y. guo, c. seaman, r. gomes, a. cavalcanti, g. t onin, f. q. da silva,a.l.m.santos,andc.siebra,“trackingtechnicaldebt—an exploratorycase study,”in software maintenance(icsm), 2011 27th ieee international conference on, 2011, pp. 528–531. [10] a.martiniandj.bosch,“thedangerofarchitecturaltechnical debt: contagious debt and vicious circles,” in accepted for publication at wicsa 2015,montreal, canada',\n",
       " 96: '[43] nurmuliani, n., zowghi, d., and williams, s. p. requirements volatility and its impact on change effort: evidence-based research in software development projects. ( 2006). [57] van heesch, u. and avgeriou, p. mature architecting - a survey about the reasoning process of professional architects. in 9th working ieee/ifip conference on software architecture ( 2011), 260–269.',\n",
       " 35: 'nan',\n",
       " 24: 'nan',\n",
       " 77: 'nan',\n",
       " 78: '[12] c. baldwin, a. maccormack, and j. rusnak, “hidden structure: using network methods to map system architecture,” 2014. ; [13] r. kazman et al., “a case study in locating the architectural roots of technical debt,” in proceedings of the 37th international conference on software engineering - volume 2, piscataway, nj, usa, 2015, pp. 179–188. ; [14] s. stevanetic and u. zdun, “software metrics for measuring the understandability of architectural structures: a systematic mapping study,” in proceedings of the 19th international conference on evaluation and assessment in software engineering, new york, ny, usa, 2015, p. 21:1–21:14. [15] l. xiao, y. cai, r. kazman, r. mo, and q. feng, “identifying and quantifying architectural debt,” in proceedings of the 38th international conference on software engineering, new york, ny, usa, 2016, pp. 488–498. [16] a. maccormack, j. rusnak, and c. y. baldwin, “exploring the structure of complex software designs: an empirical study of open source and proprietary code,” manag. sci., vol. 52, no. 7, pp. 1015– 1030, jul. 2006. [17] a. maccormack and d. j. sturtevant, “technical debt and system architecture: the impact of coupling on defect-related activity,” j. syst. softw., vol. 120, pp. 170–182, oct. 2016. [19] r. jabangwe, j. börstler, d. šmite, and c. wohlin, “empirical evidence on the link between object-oriented measures and external quality attributes: a systematic literature review,” empir. softw. eng., vol. 20, no. 3, pp. 640–693, mar. 2014. [20] m. riaz, e. mendes, and e. tempero, “a systematic review of software maintainability prediction and metrics,” in proceedings of the 2009 3rd international symposium on empirical software engineering and measurement, washington, dc, usa, 2009, pp. 367–377.',\n",
       " 81: 'nan',\n",
       " 82: 'nan',\n",
       " 85: 'nan',\n",
       " 88: 'a. martini, j. bosch and m. chaudron, ;investigating architectural technical debt accumulation and refactoring over time: a multiple-case study;, information and software technology, vol. 67, pp. 237-253, 2015. a. martini and j. bosch, ;an empirically developed method to aid decisions on architectural technical debt refactoring: anacondebt;, 2016 ieee/acm 38th international conference on software engineering companion (icse-c), pp. 31-40, 2016. p. avgeriou, p. kruchten, i. ozkaya and c. seaman, ;managing technical debt in software engineering (dagstuhl seminar 16162);, dagstuhl reports, vol. 6, no. 4, 2016. r. kazman et al., ;a case study in locating the architectural roots of technical debt;, 2015 ieee/acm 37th ieee international conference on software engineering, vol. 2, pp. 179-188, 2015. u. eliasson, a. martini, r. kaufmann and s. odeh, ;identifying and visualizing architectural debt and its efficiency interest in the automotive domain: a case study;, 2015 ieee 7th international workshop on managing technical debt (mtd), pp. 33-40, 2015. t. besker, a. martini and j. bosch, ;time to pay up: technical debt from a software quality perspective;, cibse, pp. 235-248, 2017. e. tom, a. aurum and r. vidgen, ;an exploration of technical debt;, journal of systems and software, vol. 86, no. 6, pp. 1498-1516, 2013. e. alzaghoul and r. bahsoon, ;evaluating technical debt in cloud-based architectures using real options;, 2014 23rd australian software engineering conference, pp. 1-10, 2014.',\n",
       " 90: '[18] a.potdarande.shihab.anexploratorystudyonself-admittedtechnical debt. in proceedings of the 30th ieee international conference on software maintenance and evolution, icsme, pages 91–100. ieee, 2014. [8] q.huang,e.shihab,x.xia,d.lo,ands.li.identifyingself-admitted technical debt in open source projects using text mining. empirical software engineering, 23(1):418–451, 2018. [12] e. maldonado and e. shihab. detecting and quantifying different types of self-admitted technical debt. in proceedings of the 7th international workshop on managing technical debt, mtd ’15, pages 9–15. ieee, oct 2015. [13] e. maldonado, e. shihab, and n. tsantalis. using natural language processing to automatically detect self-admitted technical debt. ieee transactions on software engineering, 43(11):1044–1062, nov 2017. [19] sci tools. quickly comprehend legacy code — scitools.com. https: //scitools.com/legacy- code- tool/, 2018. (accessed on 10/17/2018).',\n",
       " 91: 'stephanbode.2009.ontheroleofevolvabilityforarchitecturaldesign.science (2009), 3256–3263. http://www.theoinf.tu-ilmenau.de/$\\\\sim$sbode/publications/ bode_ontheroleofevolvability.pdf international organization for standardization. 2011. iso/iec 25010 - systems and software engineering - systems and software quality requirements and eval- uation (square) - system and software quality models. technical report. 1–25 pages. http://www.iso.org/iso/iso_catalogue/catalogue_tc/catalogue_detail.htm? csnumber=35733 davidrowe,johnleaney,anddavidlowe.1998.definingsystemsarchitecture evolvability - a taxonomy of change. international conference and workshop: engineering of computer-based systems december (1998), 45–52. https://doi.org/ 10.1109/ecbs.1998.10027 [16] yaser i. mansour and suleiman h. mustafa. 2011. assessing internal software quality attributes of the object-oriented and service-oriented software devel- opment paradigms: a comparative study. journal of software engineering and applications 04, 04 (2011), 244–252. https://doi.org/10.4236/jsea.2011.44027 [18] mikhail perepletchikov, caspar ryan, and keith frampton. 2005. comparing the impact of service-oriented and object-oriented paradigms on the structural properties of software. lecture notes in computer science (including subseries lecture notes in artificial intelligence and lecture notes in bioinformatics) 3762 lncs (2005), 431–441. https://doi.org/10.1007/11575863_63 [23] dirk voelz and andreas goeb. 2010. what is different in quality management for soa?. in 2010 14th ieee international enterprise distributed object computing conference. ieee, 47–56. https://doi.org/10.1109/edoc.2010.27',\n",
       " 97: '[14] i. ozkaya, r. l. nord, p. kruchten, technical debt: from metaphor to theory and practice, ieee software vol. 29, pp. 18-21, 2012.; [15] zalewski a.: beyond atam: architecture analysis in the development of large scale software systems. software architecture, first european conference, ecsa 2007 aranjuez, spain, 24-26 september 2007 proceedings. lncs, vol. 4758, pp. 92 – 105. springer-verlag 2007.',\n",
       " 40: 'nan'}"
      ]
     },
     "metadata": {},
     "execution_count": 32
    }
   ],
   "source": [
    "dict_important_works_original = my_dict_from_column(df_sms_extraction, 'Important work (original)')\n",
    "print(f'Size of dict_important_works_original {len(dict_important_works_original)}')\n",
    "dict_important_works_original"
   ]
  },
  {
   "cell_type": "code",
   "execution_count": 33,
   "metadata": {},
   "outputs": [
    {
     "output_type": "stream",
     "name": "stdout",
     "text": [
      "Size of dict_strong_aspects 47\n"
     ]
    },
    {
     "output_type": "execute_result",
     "data": {
      "text/plain": [
       "{1: 'the authors propose an approuch to identify atd using documents and models without to get access to source code of the software.',\n",
       " 2: 'nan',\n",
       " 3: 'the authors defined a set of formulas to represent architectural debt index using java open source projects to validate the atdi proposed comparing with other tdi like sonarqube.',\n",
       " 4: 'the paper shows 5 (five) types of architecture issued detected in the case study: unstable interface, implicit cross-module dependency, unhealth inheritance hierarchy, clique and package cycle.',\n",
       " 5: 'the authors conducted a case study in a real it company to check the benefits of refactoring of software architecture before and after to check the quantitative and qualitative benefits of paydown atdi. so the study showed that reducing architecture debt has had a positive influence on productivity and quality measures for the company.',\n",
       " 7: 'the authors proposed a model to check how is behavior of software architecture during software evolution using hotspot to define the most important part the software that should be treated with more carefully. besides, there is an empirical study using apache ecosystem to validate the proposed model.',\n",
       " 9: 'the authors conducted an experimentation with opens source software witth real data. the findings showed that the modularity metrics ipci and ipgf can be used to indicate atd.',\n",
       " 10: 'the authors proposed a method to identify and calculate the principal and interest of atdi. the case study was conducted in 6 large it company with real data in real it projects.',\n",
       " 13: 'the authors proposed a method do identify and measure atd using the technique drsapce and architecture debt to generate a hpc matrix and identify a ranked list of archdebt incluind its cost fo fix them.',\n",
       " 14: 'the practical idea of the study about atdi approuch hotspot identification in android application is good.',\n",
       " 15: 'the idea of this technical paper is to show the main features from sonargraph, which is an important tool to check software architecture validation and important metrics such as cyclomatic complexity, propagation cost, and cyclicity.',\n",
       " 16: 'nan',\n",
       " 17: 'the study showed tools that analysis software architecture structure and some metrics about this.',\n",
       " 21: 'the authors proposed an approuch to identify and measure atd itens via architectural decisions during the redesing process. thus, the atd can be identified and calculate without to have access to source code of the project. the architects agreed that associating atd items to concrete impacted change scenarios is helpful to estimate the interest of atd items.the development team members considered that the scenario-based part of the approach is particularly useful and easy to conduct, since they are familiar with the change scenarios and are even under pressure from delayed change scenarios that are negatively impacted by certain atd items.',\n",
       " 22: 'the study shows factors that cause accumulation of atd using an approuch that monitoring a ;crisis point of atd accumulation;. beside, the study show a taxonomy of the causes for atd. in addition, the study employed a case study using real data from 5 large scandinavian software companies. the companies adopted agile software developement (asd) as a software life-cycle process',\n",
       " 27: 'the authors done a case study in a large it company using a large software product in long term with real data. the authors proposed a method to identify atd focus on files that should be refactored and the methods helps to calculate the estimation effort to fix this atd. a formula quantifying the refactoring benefits.',\n",
       " 30: 'nan',\n",
       " 38: 'nan',\n",
       " 48: 'the authors proposed an approuch to identify, measure, calculate the atdi via case study in a large it company analysing a sequence of versions via dspace method',\n",
       " 47: 'the authors showed a list of important aspects regarding to atd causes such as double effort, big delivers, code changes, complement tests, quality issues, hidden td, wrong estimation, contagius atd, developer idling',\n",
       " 20: 'the author proposed a approuch to discover parts the software that has arquitectural smells using code analysis and code smells detection throught the versions of the software. besides there is a replication kit available on github ( https://github.com/tommantonela/icsa- 2018) to reproduce the study.',\n",
       " 33: 'the authors conducted a case study in a real large anc complex system of natural disaster to evaluate each release regarding atd and calculate the effort to fix them.',\n",
       " 26: 'the objective of dv8 is to measure software modularity, detect architecture anti-patterns as technical debts, quantify the maintenance cost of each instance of an anti-pattern, and enable return on investment analyses of architectural debts. different from other tools, dv8 integrates data from both source code and revision history',\n",
       " 28: 'the study selected popular open projects that is available; the proposed metrics are simple to calculate; the proposed correlation is easy to understand',\n",
       " 31: 'the study was performed in a real case industry application',\n",
       " 44: 'it was collected five tools to check td index about atd. it was observed how to calculate de td index and the unit measure.',\n",
       " 43: 'the authors studied a real case for three years and collect data from two large systems about effort and spend the maintenance. the authors analyzed the svc repository, the bug tracker related to commits, the files changes, and refactoring propagation cust to maintain the systems.',\n",
       " 51: 'the authors studied an evolution process of identifying and tracking architectural smells in corpus qualitas.',\n",
       " 52: 'the authros proposed an index to check the criticality of architectural smell using pagerank. the study used a set of open source software projects to extract data about criticality of architectural smells',\n",
       " 63: 'nan',\n",
       " 73: 'there is a lack of study in security td. the approuch based in a security catalog widely used in community.',\n",
       " 69: 'this is the first study surveying the estimated magnitude of the interest paid on the accumulated td in terms of perceived wasted time and effort. the study has shown that software development practitioners estimate that 36 % of all development time is wasted due to td and that complex architectural design and requirement td generates the most negative impact on daily software development work.',\n",
       " 67: 'the study collected real data from a real industry of software embedded using questionaries and interviews about the effort spent on technical debt in the embedded system. thus, the study identified that test td, code td, and architectural td were highlighted as main kinds of td, and qualities attributes as functionality, reliability, and performance were the most important in this context.',\n",
       " 66: 'the authors proposed a maturity model (strategic adoption model (samttd)) to control and manage td. the following steps cover the model: unaware, no tracking, ad-hoc, manual, measured, institutionalized and fully automated. the study observed that the practioners that tracking td wast about 25% of effort on it.',\n",
       " 96: 'the paper showed a case study about the impact of requirements in software architecture.',\n",
       " 35: 'nan',\n",
       " 24: 'nan',\n",
       " 77: 'the authors conducted a study to check the perception of maintanance and evolution of microservices via survey in 10 it companies from germany.',\n",
       " 78: 'the authors collected important metrics regard to architectural metrics and complex metrics.the authors created a usefull plugin that take a way good information to manager and devolopers about architectural metrics and complex metrics directy from github repositories. the plugin is available on https://www.scitools.com/support/gui-plugins/ as called understand',\n",
       " 81: 'the authors performed a study in a real case using a real it company catalog of rules of architectural and code patterns with real systems. the authors proposed a was to calculate the principal of td in maney value.',\n",
       " 82: 'the study have access to a large repository from real cases (160) with varius types of technology. this repository was provided by cast company.',\n",
       " 85: 'nan',\n",
       " 88: 'describe a kind of atd, more spefically scalability atd and the authors proposed a lightweight approach to manage scalibity debt. the case study conducted a method to identify, estimate and prioritize scalability debt.',\n",
       " 90: 'the authors recovery the software architecture compoents from argouml analysing the documents and source code. so, it is can be shared with others papers',\n",
       " 91: 'the authors showed in the study that there is lack research in quality characteristics and technical debt in service and micro-service based systems. besides, the paper shows the perception of practioners about those topics.',\n",
       " 97: 'the author proporse a therorical important architect risk appetite classification',\n",
       " 40: 'nan'}"
      ]
     },
     "metadata": {},
     "execution_count": 33
    }
   ],
   "source": [
    "dict_strong_aspects = my_dict_from_column(df_sms_extraction, 'Strong Aspects')\n",
    "print(f'Size of dict_strong_aspects {len(dict_strong_aspects)}')\n",
    "dict_strong_aspects"
   ]
  },
  {
   "cell_type": "code",
   "execution_count": 34,
   "metadata": {},
   "outputs": [
    {
     "output_type": "stream",
     "name": "stdout",
     "text": [
      "Size of dict_weak_aspects 47\n"
     ]
    },
    {
     "output_type": "execute_result",
     "data": {
      "text/plain": [
       "{1: 'there is no calculation formula about cost of atd',\n",
       " 2: 'nan',\n",
       " 3: 'the data validation should be performed in a real industrial project.',\n",
       " 4: 'it was not shared the data collection',\n",
       " 5: 'the dataset was not available to reproduce the study.',\n",
       " 7: 'an external validity is that we only studied 21 open source projects, all of which were implemented in java and all of which are from the apache ecosystem. while we have no reason to assume that the effects that we have studied would be different with different programming languages, we can not currently claim that our results can be generalized to projects implemented using other languages. similarly we have no expectation that our results would differ in closed- source contexts, or projects from other oss ecosystems, but this remains a potential threat.',\n",
       " 9: 'the authors conducted a study using only c# oss project, so it not possible to generalize to other types programing languages and private it projects.',\n",
       " 10: 'the authors proposed an manual aprouch called anacondeb to identify atdi and calculate the principal and interest by stekholder for each release. so, it is possible that values changes depends on the company and the steakholders',\n",
       " 13: 'due to the study used only open source software from apache project, it was not possible to calculate the effort to tix the atd in terms of time or money. the calculation of cost proposed used the amount of lines necessary to fix the atd.',\n",
       " 14: 'the practical idea of the study about atdi approach hotspot identification in android application is good.',\n",
       " 15: 'weak. actually, this is a technical paper with only two pages, and there is no scientific rigor.',\n",
       " 16: 'nan',\n",
       " 17: 'there is no link to dataset of evaluation',\n",
       " 21: 'the process is manual and it is necessary a participation of the architect to plan and evaluate each release. so, the principal and the interest are estimated manually according interpretation of specialist about atdi',\n",
       " 22: 'there is no repliaction kit to reproduce the study',\n",
       " 27: 'the authors proposed a manual method to calculate the effort to fix the atd.',\n",
       " 30: 'nan',\n",
       " 38: 'nan',\n",
       " 48: 'the case study performed only one company in only one system.',\n",
       " 47: 'there is no identification of atd itens',\n",
       " 20: 'the authro used a tool that analysis only java source code. there is no method to calculate the atd cost.',\n",
       " 33: 'there is not list of atdi for each relase analysed in case study.',\n",
       " 26: 'weak. the paper is more technical and describe a tool called dv8 and its importance to check the software architecture. however, it is not a scientific study.',\n",
       " 28: 'the study shoud be provide a repliaction kit',\n",
       " 31: 'there is no repliaction kit to reproduce the study',\n",
       " 44: 'there is no data collected to compare the used tools. there is no design research and there is no an experiment to evaluate the tools using a set of data.',\n",
       " 43: 'the dataset was not available to reproduce the study.',\n",
       " 51: \"the architectural debt index using architectural smells and tracking the index's evolution throughout a system’s history was not precise; for example, the authors should be created a formula to represent the architectural debt index. they were even using a demonstration of evaluation of each architectural smell individually, but a general formula was not created.\",\n",
       " 52: 'the is no asses of effort waste to fix architectural smell',\n",
       " 63: 'nan',\n",
       " 73: 'there is no data to proof the approuch. for example: maybe the authors shoud be use a real system to validate the proposal.',\n",
       " 69: 'not applicable',\n",
       " 67: 'there are no details about how to identify the td, and there are no explicit future works.',\n",
       " 66: 'the is no atdi issues explicited on the study',\n",
       " 96: 'weak, due to the author did not study about how to identify, measure or calculate atd',\n",
       " 35: 'nan',\n",
       " 24: 'nan',\n",
       " 77: 'the study did not show details about identification, measure or calculate the cost of atdi.',\n",
       " 78: 'the dataset used in study was not available to reproduce the results',\n",
       " 81: 'the catalog of rules is private. so, only the cast company can use this catalog. besides, the value used to calculate the principal of td is regarding to context of cast company, thus, it not possible to generalize this value in other companies.',\n",
       " 82: 'the study did not share the dataset to evaluate. besides, even calculating the td cost, there is atd specif cost',\n",
       " 85: 'nan',\n",
       " 88: 'the approuch to identify, estimate and calculate the scabality architectural issue is manual.',\n",
       " 90: 'the dataset was not available to reproduce the study',\n",
       " 91: 'the dataaset of survey should be shared in a .repository or replication kit',\n",
       " 97: 'but the author did not work about architectural technical debt, only about behavior of software architect about risk',\n",
       " 40: 'nan'}"
      ]
     },
     "metadata": {},
     "execution_count": 34
    }
   ],
   "source": [
    "dict_weak_aspects = my_dict_from_column(df_sms_extraction, 'Weak Aspects')\n",
    "print(f'Size of dict_weak_aspects {len(dict_weak_aspects)}')\n",
    "dict_weak_aspects"
   ]
  },
  {
   "cell_type": "code",
   "execution_count": 35,
   "metadata": {},
   "outputs": [
    {
     "output_type": "stream",
     "name": "stdout",
     "text": [
      "Size of dict_scientific_rigor 47\n"
     ]
    },
    {
     "output_type": "execute_result",
     "data": {
      "text/plain": [
       "{1: 'problem characterization: yes, bibliographic review: yes, data collection: yes, hypothesis: no, experimentation: yes, results: yes, final: good',\n",
       " 2: 'problem characterization: yes, bibliographic review: yes, data collection: yes, hypothesis: no, experimentation: yes, results: yes, final: good,extra: this paper used quantitative and qualitative research to evaluate the proposed framework.',\n",
       " 3: 'problem characterization: yes, bibliographic review: yes, data collection: yes, hypothesis: no, experimentation: yes, results: yes, final: good,extra:the authors cited good references, tools, and important related works about technical debt index. a particular highlight to sonarqube. it was defined as a set of groups of architectural smell detection using arcan tool. the authors defined a set of formulas to represent architectural debt index. the authors shown a statistical analysis of the architectural debt index proposed comparing with qualitas corpos. the authors have detailed a good research design.',\n",
       " 4: 'problem characterization: yes, bibliographic review: yes, data collection: yes, hypothesis: no, experimentation: yes, results: yes, final: good,extra:the authors cited good references and important related works about technical debt analysis and effort. show the analysis process. show type of architecture issue identification. show evaluation of architectural roots using som e simple statistical analysis.',\n",
       " 5: 'problem characterization: yes, bibliographic review: yes, data collection: yes, hypothesis: no, experimentation: yes, results: yes, final: great',\n",
       " 7: 'problem characterization: yes, bibliographic review: yes, data collection: yes, hypothesis: yes, experimentation: yes, results: yes, final: great',\n",
       " 9: 'problem characterization: yes, bibliographic review: yes, data collection: yes, hypothesis: no, experimentation: yes, results: yes, final: great',\n",
       " 10: 'problem characterization: yes, bibliographic review: yes, data collection: yes, hypothesis: no, experimentation: yes, results: yes, final: great',\n",
       " 13: 'problem characterization: yes, bibliographic review: yes, data collection: yes, hypothesis: yes, experimentation: yes, results: yes, final: great',\n",
       " 14: 'problem characterization: yes, bibliographic review: no, data collection: yes, hypothesis: no, experimentation: no, results: no, final: weak',\n",
       " 15: 'problem characterization: no, bibliographic review: no, data collection: no, hypothesis: no, experimentation: no, results: no, final: poor',\n",
       " 16: 'nan',\n",
       " 17: 'problem characterization: yes, bibliographic review: no, data collection: yes, hypothesis: no, experimentation: yes, results: yes, final: regular',\n",
       " 21: 'problem characterization: yes, bibliographic review: yes, data collection: yes, hypothesis: no, experimentation: yes, results: yes, final: good',\n",
       " 22: 'problem characterization: yes, bibliographic review: yes, data collection: yes, hypothesis: yes, experimentation: yes, results: yes, final: good',\n",
       " 27: 'problem characterization: yes, bibliographic review: yes, data collection: yes, hypothesis: yes, experimentation: yes, results: yes, final: good',\n",
       " 30: 'nan',\n",
       " 38: 'nan',\n",
       " 48: 'problem characterization: yes, bibliographic review: yes, data collection: yes, hypothesis: yes, experimentation: yes, results: yes, final: great',\n",
       " 47: 'problem characterization: yes, bibliographic review: yes, data collection: yes, hypothesis: no, experimentation: no, results: yes, final: regular',\n",
       " 20: 'problem characterization: yes, bibliographic review: yes, data collection: yes, hypothesis: yes, experimentation: no, results: yes, final: good',\n",
       " 33: 'problem characterization: yes, bibliographic review: yes, data collection: yes, hypothesis: no, experimentation: no, results: yes, final: good',\n",
       " 26: 'problem characterization: yes, bibliographic review: no, data collection: no, hypothesis: no, experimentation: no, results: no, final: weak,extra:weak. actually, this is a technical paper with only two pages, and there is no scientific rigor.',\n",
       " 28: 'problem characterization: yes, bibliographic review: yes, data collection: yes, hypothesis: yes, experimentation: yes, results: yes, final: good',\n",
       " 31: 'problem characterization: yes, bibliographic review: yes, data collection: yes, hypothesis: yes, experimentation: yes, results: yes, final: good',\n",
       " 44: 'problem characterization: yes, bibliographic review: yes, data collection: yes, hypothesis: no, experimentation: no, results: yes, final: regular',\n",
       " 43: 'problem characterization: yes, bibliographic review: yes, data collection: yes, hypothesis: no, experimentation: yes, results: yes, final: good',\n",
       " 51: 'problem characterization: yes, bibliographic review: yes, data collection: yes, hypothesis: no, experimentation: yes, results: yes, final: good',\n",
       " 52: 'problem characterization: yes, bibliographic review: yes, data collection: yes, hypothesis: no, experimentation: yes, results: yes, final: good',\n",
       " 63: 'nan',\n",
       " 73: 'problem characterization: yes, bibliographic review: yes, data collection: no, hypothesis: no, experimentation: no, results: yes, final: weak',\n",
       " 69: 'problem characterization: yes, bibliographic review: yes, data collection: yes, hypothesis: no, experimentation: no, results: yes, final: good',\n",
       " 67: 'problem characterization: yes, bibliographic review: yes, data collection: yes, hypothesis: yes, experimentation: no, results: yes, final: good',\n",
       " 66: 'problem characterization: yes, bibliographic review: yes, data collection: yes, hypothesis: no, experimentation: no, results: yes, final: good',\n",
       " 96: 'problem characterization: yes, bibliographic review: yes, data collection: yes, hypothesis: no, experimentation: no, results: no, final: weak',\n",
       " 35: 'nan',\n",
       " 24: 'nan',\n",
       " 77: 'problem characterization: yes, bibliographic review: yes, data collection: yes, hypothesis: no, experimentation: no, results: yes, final: regular',\n",
       " 78: 'problem characterization: yes, bibliographic review: yes, data collection: yes, hypothesis: no, experimentation: no, results: yes, final: regular',\n",
       " 81: 'problem characterization: yes, bibliographic review: yes, data collection: yes, hypothesis: no, experimentation: no, results: yes, final: regular',\n",
       " 82: 'problem characterization: yes, bibliographic review: yes, data collection: yes, hypothesis: no, experimentation: no, results: yes, final: regular',\n",
       " 85: 'nan',\n",
       " 88: 'problem characterization: yes, bibliographic review: yes, data collection: yes, hypothesis: yes, experimentation: yes, results: yes, final: good',\n",
       " 90: 'problem characterization: yes, bibliographic review: yes, data collection: yes, hypothesis: no, experimentation: yes, results: yes, final: regular',\n",
       " 91: 'problem characterization: yes, bibliographic review: yes, data collection: yes, hypothesis: no, experimentation: no, results: yes, final: regular',\n",
       " 97: 'problem characterization: yes, bibliographic review: yes, data collection: no, hypothesis:no, experimentation: no, results: no, final: weak',\n",
       " 40: 'nan'}"
      ]
     },
     "metadata": {},
     "execution_count": 35
    }
   ],
   "source": [
    "dict_scientific_rigor = my_dict_from_column(df_sms_extraction, 'Scientific Rigor')\n",
    "print(f'Size of dict_scientific_rigor {len(dict_scientific_rigor)}')\n",
    "dict_scientific_rigor"
   ]
  },
  {
   "cell_type": "code",
   "execution_count": 36,
   "metadata": {},
   "outputs": [
    {
     "output_type": "stream",
     "name": "stdout",
     "text": [
      "Size of dict_q1 47\n"
     ]
    },
    {
     "output_type": "execute_result",
     "data": {
      "text/plain": [
       "{1: 'good; due to the authors propose an approuch to identify atd wihout static code analysis.',\n",
       " 2: 'great;the paper provides a way to identify and estimate atd effort in hours using the modularity of components',\n",
       " 3: 'good; the authors defined a set of formulas to represent architectural debt index.',\n",
       " 4: 'good; the paper shows the files in architecture root and calculate the effort spend to fix the architecture roots using interview of developers.',\n",
       " 5: 'good; due to this is the first real-world empirical study of architecture debt over a long period of time with the goal of demonstrating the benefit of improving a product’s software architecture by paying down architecture debt (through refactoring). besites, all of the architecture analyses presented in this paper are fully automated and so they can provide exactly the data needed for such measurement and benchmarking',\n",
       " 7: 'great; due to the authors propose a model - active hotspot - that can be used to detect and monitor the emergence and evolution of software degradation by tracking how files and their relations are changed with each issue, such as adding a new feature or fixing a bug.',\n",
       " 9: 'great; the authors proposed a new atd index called ipci (index of package changing impact) based on modularity metrics that is no necessary to get access to source code log commits. besides, we consider that the estimation of atd should be calculated on real data (i.e., source code), and the estimation makes more sense within a relative short term, e.g., between two releases. that is, the estimation of the next release is based on the real data of this implemented release.',\n",
       " 10: 'great; due to the authors proposed a method to identify and calculate the principal and interest of atdi. the case study was conducted in 6 large it company with real data in real it projects. besides, the research process was based on design science research.',\n",
       " 13: 'good; due to the authors showed a method do identify and measure of atd using a framework applied in a real case using a set of apache project using analsys of sequence of releases',\n",
       " 14: 'weak; the idea of the study about atdi approuch hotspot identification in android application is good, but there is no scientific rigor in the paper.',\n",
       " 15: 'weak; the paper is more technical and describe a tool called sonargraph and its importance to check the software architecture. however, it is not a scientific study.',\n",
       " 16: 'nan',\n",
       " 17: 'good; due to evaluate architectural debt with tools in a set of real java systems.',\n",
       " 21: 'great; the authors proposed an approuch to identify and measure (in man-days) atd itens via architectural decisions during the redesing process. thus, the atd can be identified and calculate without to have access to source code of the project.',\n",
       " 22: 'good;due to the authors proposed a taxonomy of atd accumatlion',\n",
       " 27: 'good; due to the study show an approuch to identify the atd, monitoring and calculate the effort to fix it.',\n",
       " 30: 'nan',\n",
       " 38: 'nan',\n",
       " 48: 'great; due to the authors proposed a methdo to identify, measure and calculate the atdi using drspace based on analysis of a sequency of version from a software in a real case study in a large it company.',\n",
       " 47: 'good; due to the authors showed a list of important aspects regarding to atd causes such as double effort, big delivers, code changes, complement tests, quality issues, hidden td, wrong estimation, contagius atd, developer idling',\n",
       " 20: 'good; due to show an approuch to identify atd via architecture smells using code analysis and it is possible to monitore the evolution of version regard to architecture smells',\n",
       " 33: 'great; due to the authors proposed a way to identify atd during software evolution and calculate the cost of atd according software architecture components created or edited.',\n",
       " 26: 'weak; but the tool is useful to check important problems from software architecture such as measure software modularity, detect architecture anti-patern and quantify the maintenance cost.',\n",
       " 28: 'good;',\n",
       " 31: 'good; in this paper, we present a novel approach for visualizing the debt and the interest together. such visualization helps the stakeholders identifying and prioritizing atd, by under- standing the impact of different atd items (specifically non- allowed dependencies) on efficiency. the validation interviews with the stakeholders at vcg confirmed that such tool would be valuable for architects and other stakeholders. it is important for calculate the performance communication between the components in a automotive domain, but can be used in a network distributed system such as a microservice system.',\n",
       " 44: 'good;',\n",
       " 43: 'good; due to the authors studied a real case for three years and collect data from two large systems about effort and spend the maintenance. the authors analyzed the svc repository, the bug tracker related to commits, the files changes, and refactoring propagation cust to maintain the systems.',\n",
       " 51: 'good;',\n",
       " 52: 'good; the authros proposed an index to check the criticality of architectural smell using pagerank.',\n",
       " 63: 'nan',\n",
       " 73: 'good;due to the applied approuch to identificy the security td and there is a formula to calculate the principal of security td',\n",
       " 69: 'good; due to demonstrate how important is the effort waste with td (36%) and the study showed that software architecture and requirements are the aspects most important because waste more time to fix td.',\n",
       " 67: \"good;due to architectural technical debt's findings as an essential kind of td that happens in the context of embedded systems.\",\n",
       " 66: 'good; because there is atd debt recognized in survey like: dependence violations, complex architecture desgin, different parterns and policies, dependence to external resource and lack of reusabililite in design',\n",
       " 96: 'weak; due to the author did not study about how to identify, measure or calculate atd',\n",
       " 35: 'nan',\n",
       " 24: 'nan',\n",
       " 77: 'good; due to the authors conducted a survey to check the perception of architectural technical debt in micro-services, despite most reported issues being related to architectural technical debt (atd), our participants did not apply any architectural or service-oriented tools and metrics. so, it is a good oportunite to study atd in microservices.',\n",
       " 78: 'good; due to the metrics grouped by the authros',\n",
       " 81: 'good; due to the authors proposed an effetive way to calculate the principal of td based on catalog of rules to detect the violations of qualities attributes like performance, securtiy, robustness, trasferability and changeabilite. so, those characteristics are so close to architectural technical debt.',\n",
       " 82: 'regular; due to even calculating the td cost, there is no atd specif cost',\n",
       " 85: 'nan',\n",
       " 88: 'good;due to the authors proposed a method to identify, estimate and prioritize a kind of atd, more specifically scalability debt.',\n",
       " 90: 'good;due te the paper show a approuch to identify architectural divergences using self admited technical debt using comments from source code.',\n",
       " 91: 'regular; due to the authors highlited that maintanability and evoluation are td topics with lack studies in services and micro-services based systems.',\n",
       " 97: 'weak; due to the author did not study about atd',\n",
       " 40: 'nan'}"
      ]
     },
     "metadata": {},
     "execution_count": 36
    }
   ],
   "source": [
    "dict_paper_relevance = my_dict_from_column(df_sms_extraction, 'Paper relevance')\n",
    "print(f'Size of dict_q1 {len(dict_paper_relevance)}')\n",
    "dict_paper_relevance"
   ]
  },
  {
   "cell_type": "code",
   "execution_count": 37,
   "metadata": {},
   "outputs": [
    {
     "output_type": "stream",
     "name": "stdout",
     "text": [
      "Size of dict_limitations 47\n"
     ]
    },
    {
     "output_type": "execute_result",
     "data": {
      "text/plain": [
       "{1: 'nan',\n",
       " 2: 'to estimate the effort to fix the atd is necessary, an evaluation of developers. so, it is necessary for a manual process to evaluate the efort.',\n",
       " 3: 'the data validation should be performed in a real industrial project.',\n",
       " 4: 'only one project in short time of 9 months.',\n",
       " 5: 'the calculus of cost of atdi depends on the participation of the developers from each feature and bug analysed on case study.',\n",
       " 7: 'first the accuracy of our study depends on the quality of project revision histories. second, our definition of active hotspot uses seed files and includes files with propagation relations with them. there may exist more effective ways to find more precise hotspot, e.g. at method-level instead of file-level. improving and further evaluating the hotspot detection algorithm is future work. finally, the activeness of a system will significantly influ- ence the detected hotspots.',\n",
       " 9: 'in this case study, only c# oss projects were selected and used to validate the correlation between modularity metrics and anmcc. consequently, the conclusion drawn is only valid for c# projects. there is a need of conducting more studies for the projects written in other object-oriented languages, such as java.',\n",
       " 10: 'there are some limitations in this study. most of the effort measures used for calculating the different components are based on the experiences of the experts involved. this might have injected some bias in the study. however, the overall framework and the components that can be used to estimate atd refactoring are quite generalizable, the indicators have been considered as useful and the decision making process proper. the different metrics that can be used as input needs to be further studied, however they usually depend on the different company. another limitation is the learning curve: it took a while before the architects would employ the method, but after the sessions, they recognized that the method was very logical and that the process would probably be much shorter as the method was repeated and the tasks of collecting information split among the architects.',\n",
       " 13: 'first, since we have only examined 7 projects and all of these are apache projects, we can not guarantee that our results will generalize to other projects with di↵erent cultures and organizational policies. second, our approach has the limitation that it relies on revision history to iden- tify architectural debt. for projects without enough history data, our approach can still identify groups of files with the potential to become architectural debt third, our approach relies on mining error-prone files from a project’s revision history and bug tracking data. we use the bug report id that developers enter into commits to locate error-prone files.',\n",
       " 14: 'the study is a short paper with only two pages.',\n",
       " 15: 'nan',\n",
       " 16: 'nan',\n",
       " 17: 'the study should be share the dataset used in evaluation of tools.',\n",
       " 21: 'the process should be automated or seme-autormated using a specific tool to aid the architect. some users (e.g., new developers) may not be familiar with ads and atd items, though the templates provided. the preparation of ads may take time when the ads are not documented, especially when the ads were made a long time ago as the knowledge about ads tends to vaporize.',\n",
       " 22: 'the graphs in this paper are not meant to represent precise data coming from a measurement system. therefore the steepness of the curves and the projections might vary in real context. the magnitude for the contribution of each factor is also to be further assessed. however, we offer the recognition of factors that are not necessarily possible to be measured and therefore discovered by quantitative analysis, such as urgency and uncertainty. the results are qualitatively developed through a thorough research process and using a wide amount of qualitative data coming from more than 30 informants from 7 sites and with different roles, which allowed as to compare and test statements among themselves. furthermore, architecture documentation has been evaluated as well as secondary data. this has allowed us to apply source triangulation [10].',\n",
       " 27: 'it was necessary to do many interviews with developers to get the estimation effort about atd fix. so, the process to calculate the effort of atd fix majority manual.',\n",
       " 30: 'nan',\n",
       " 38: 'nan',\n",
       " 48: 'the case study performed only one company in only one system.',\n",
       " 47: 'the most important limitation is the limited sample size of the respondents. however, we aimed at reporting the understanding from a case study, which included both qualitative and quantitative data, rather than surveying a large number of practitioners. furthermore, as previously explained, we offer a novel understanding of an important and overlooked research subject. the authors aim at collecting such evidence, using an investigation tool improved with the help of the exploratory results obtained from the study presented here.',\n",
       " 20: 'the authro used a tool that analysis only java source code. there is no method to calculate the atd cost.',\n",
       " 33: 'there is no the list of atdi for each release. the paper only show the cost estimated for atd in release, but there is details for each release.',\n",
       " 26: 'the paper has only two pages.',\n",
       " 28: 'there is no adtm process, there is no how to calculate atd cust',\n",
       " 31: 'since there is only one studied system, the resulting method- ology is entirely based on such studied case and could there- fore potentially be limited to similarly designed architectures, e.g. where an intended architecture is realized as logical components deployed to ecus.',\n",
       " 44: 'the study should be created an experimentation using real systems to compare each tool evaluated.',\n",
       " 43: 'the study did not explain the architectural debt used to refactoring in architectural system maintenance. we examine only two systems, albeit with very different designs and from two different firms. we cannot be sure that the findings would apply to other firms or sys- tems.',\n",
       " 51: 'the study evaluates only a few projects in java language from qualitas corpus. maybe it does not apply to the industry or other software languages.',\n",
       " 52: 'the is no asses of effort waste to fix architectural smell. besides, there is no monitoring of archicterual smell through the versions analysed',\n",
       " 63: 'nan',\n",
       " 73: 'the is no validation in a real software system to proof the proposed approuch',\n",
       " 69: 'the qualitative data derived from the survey are not based on measured or observed data but on estimations made by the respondents.',\n",
       " 67: 'the study did not show how to measure the td.',\n",
       " 66: 'there is no explanations or details about td issues used in survey.',\n",
       " 96: 'this study aimed to explore the challenges to sw architecture posed by requirements volatility, but it not concern to identify, measure or calculate the cost of atd.',\n",
       " 35: 'nan',\n",
       " 24: 'nan',\n",
       " 77: 'the amount of participantes were 17 stakeholders from 10 diferent companies from germany. maybe a small number to represent the perception for all companies.',\n",
       " 78: 'there is no atd index or specific metrics to architectural technical debt',\n",
       " 81: 'the catalog of rules is private. so, only the cast company can use this catalog. besides, the value used to calculate the principal of td is regarding to context of cast company, thus, it not possible to generalize this value in other companies.',\n",
       " 82: 'the main tool used is a commercial tool and there is no free licence to get the tool to replicate the study.',\n",
       " 85: 'nan',\n",
       " 88: 'the approuch to identify, estimate and calculate the scabality architectural issue is manual.',\n",
       " 90: 'the authors conducted only one study to only one product: argouml, so, it not possible to generalize the results to other products',\n",
       " 91: 'the survey desig did not show details about the kind of systems and there is no details about the companies that the participants work.',\n",
       " 97: 'there is no data or experimentation about the study. so, this is a theorical study.',\n",
       " 40: 'nan'}"
      ]
     },
     "metadata": {},
     "execution_count": 37
    }
   ],
   "source": [
    "dict_limitations = my_dict_from_column(df_sms_extraction, 'Limitations')\n",
    "print(f'Size of dict_limitations {len(dict_limitations)}')\n",
    "dict_limitations"
   ]
  },
  {
   "cell_type": "code",
   "execution_count": 38,
   "metadata": {},
   "outputs": [
    {
     "output_type": "stream",
     "name": "stdout",
     "text": [
      "Size of dict_future_works 47\n"
     ]
    },
    {
     "output_type": "execute_result",
     "data": {
      "text/plain": [
       "{1: 'future work will include convolutional neural networks to train a model to understand diagrams made in powerpoint or another tool and saved as an image, such as imeav [19]. we also plan to include a recommendation system to suggests repayment strategies under certain conditions. different meta- models for storing atd should be reviewed. finally, we will also look into including automatic text extraction methods for audio/video recordings to reduce human interaction.',\n",
       " 2: 'nan',\n",
       " 3: \"the authors would also like to detect different categories of as (architectural smells) that could impact different quality attributes, such as performance and security; in this direction, we could identify and compute different adi index profiles according to the as's impact on specific quality attributes. moreover, the authors aim to extend the index or define a new one to consider also the cost to remove the architectural smells ( cost- solving). this could allow developers/maintainers to make a business case (costs vs benefits) and help them to set the order in which they want to remove the as. towards the definition of this index oriented to the evaluation of the cost-solving, we are also interested to work on the development of some kind of automatic/semiautomatic refactoring support by studying the different refactoring opportunities of each as.\",\n",
       " 4: 'in future work, we plan to study the process of issue removal to determine which issues are the most costly to remove and generally extend this analysis to a wider range of project domains and sizes.',\n",
       " 5: 'no',\n",
       " 7: 'the amount of files choose, as the threshodld, to define the type of hotspot. similar, to the choice of amount of issues to define the unit of evolution window.',\n",
       " 9: 'based on the results and findings of this work, we plan to do further research in the following directions. first, we intend to validate the correlation between modularity metrics and anmcc with java projects. second, it will be interesting to define new system-wide modularity metrics or adapt existing modularity metrics defined in other perspectives (e.g., complex networks [14]), and investigate the correlation between the metrics and atd indicators. we expect that the new modularity metrics can improve the accuracy or take less effort of predicting anmcc. third, it is practically valuable to develop plugins to calculate the modularity metrics ipci and ipgf for ide tools (e.g., in vs2012 or eclipse).',\n",
       " 10: 'future work aims at increasing the precision of these estimations with more precise measures. we have to keep in mind that atd management is prevalently a risk assessment practice, and until better prediction models have been created to predict the cost of architecture anti-patterns (as confirmed in a recent systematic review [8]), the architects’ decisions are based on gut feeling and estimations based on their subjective experiences [20]. however, structuring such process of decision making by applying the method anacondebt, has been proven useful in order to make the decision around atd refactoring based to concrete factors that are causing the interest to be paid in the future, and therefore it would explicit and increase the architects’ knowledge for making informed decision on the atd refactoring cases.',\n",
       " 13: 'we plan to evaluate the eficiectiveness of our approach on projects without enough history in our future work. in our future work, we plan to explore more e↵ort proxies, and we are collaborating with an industry project that records actual e↵ort data, and we plan to compare this with our proxy measures of e↵ort.',\n",
       " 14: 'as future work, we plan to fully automate the process and empirically evaluate it via large-scale experiments',\n",
       " 15: 'no',\n",
       " 16: 'nan',\n",
       " 17: 'in future experiments, we aim to similarly consider other tools, e.g., the commercial tool cast, tools that provide dependency analysis and other tools developed in academia, e.g., hotspot detector, tamdera. moreover, we are interested in inspecting other dimensions of archi- tectural debt, as the history of projects, and in analyzing large-scale industrial systems.',\n",
       " 21: 'we plan to replicate the case study in more industrial projects with different sizes and from various domains. we also plan to customize the approach in order to make it suitable for an agile context, with appropriate tool support.',\n",
       " 22: 'some open issues that require further investigation are: • it remains unclear when is best to conduct a refactoring. the unknown effects of combining the refactoring with uncertainty and urgency suggest further investigation. • we have studied principally the delays that the atd have on long term development. what needs to be more investigated are the short-term benefits that are gained by the accumulated atd.',\n",
       " 27: 'also, the method can be supported by a tool: possible future work is related to the development of support to input the estimation data to be combined with the modularity tool in order to make the estimation more cost efficient.',\n",
       " 30: 'nan',\n",
       " 38: 'nan',\n",
       " 48: 'our future work consists of a longitudinal study wherein we do four things: first, we will track the architectural integrity of this system on a regular basis. that is, we plan to analyze periodic snapshots of softserve’s system, to see whether the refactoring is being done correctly, and whether it is eroding over time. second, we plan to continue to track the frequency of reported defects, and their connection to the files in ss1. third we plan to continue to track the frequency of changes to the files of ss1. finally, we plan to track the lines of code committed to fix defects and to make changes. this longitudinal data capture and analysis will allow us to validate the expectations and opinions collected in the present study, and to build better predictive models for softserve in the future. we are also in the process of conducting other industrial case studies, to show the repeatability of our methods in different industrial contexts.',\n",
       " 47: 'the next step, already in the authors’ plan, consists of conducting a version of this investigation involving a large sample of respondents from a large set of companies, in order to further strengthen the current case study-specific findings with a broad, quantitative investigation. another important next step is to analyze the customer-related information used during the prioritization activity in order to understand how they are compared to the atd effects in order to prioritize atd refactoring against feature development.',\n",
       " 20: 'once the prediction technique is fully evaluated, it will be incorporated into a tool to evaluate the capabilities of the approach in a study with subjects in the context of real software projects. finally, it is expected to include other types of architectural smells [15] in the work.',\n",
       " 33: 'feature and architectural element slicing. story slicing in agile development involves determining the simplest thing the user can do that is of value, and how that function cuts across the system. extensions to the economic model. we account for debt at the time it is paid in rework cost. for prudent and deliberate debt we plan to extend the economic model to account for the future cost of paying back debt managing debt. this paper’s contribution to the area of technical debt management is its discussion of analysis and visibility of dependencies and their implications for technical debt. next steps in our research will focus on moving from monitoring to more actively and strategically incorporating technical debt into the architectural design process',\n",
       " 26: 'no',\n",
       " 28: 'no',\n",
       " 31: 'in the future we plan to continue our research on what other atd items can be found and what other impact measures can be combined together for having the complete picture of atd and its interest, which would greatly help the decision making of the main stakeholders. we also plan to investigate the reasoning behind the architectural violations, whatever they are intentional or not, and whatever or which the architectural violations benefit the final product. finally, stakeholders that were part of the early evaluation of the tool said that it would be valuable to see the evolution of the debt. they wanted to see if the tendency is that the debt increases or decreases over time, as well as see what impact planned or potential future changes would have.',\n",
       " 44: 'we plan to investigate the role of code and architectural smells in td, since they are associated to known solutions, that can speed up their resolution process. we would like also to work on the definition of a new tdi, with a focus on code and architectural debt, and experiment it on a large dataset of projects. in the tdi computation we would like to consider: 1) code and architectural smells detection; 2) code and architecture/design metrics; 3) history of a system, including code changes and lifespan of smells; 4) identification of problems more critical than others, to weight the collected analysis elements (e.g., metrics, smells, issues) according to their relevance in existing (past) projects.',\n",
       " 43: 'our study generates a number of avenues for future work. first, it provides a benchmark for future studies that seek to examine the relationship between measures of architecture and the costs associated with maintenance and adaptation. second, it provides methods for evaluating the technical debt associated with software architecture, which could be verified via future empirical studies across a larger number of contexts and systems. finally, while we focus only on the costs associated with corrective maintenance, a significant amount of the value from refactoring is likely to come from an increase in developer productivity when responding to new requirements. it is our hope that the methods we describe can provide a springboard for undertaking such enquiries.',\n",
       " 51: 'as future work, we plan to extend our tooling to mine archi- tectural smells directly from git repositories, thus allowing us to link the current information to code churn and investigate the effects of smells on change rates.',\n",
       " 52: 'another future investigation is toward a cross validation of the rank- ing of the architectural smells with the data on the bugs reported in the affected components considering also the historic information of the maintenance activities on the smelly components.',\n",
       " 63: 'nan',\n",
       " 73: 'no',\n",
       " 69: 'the qualitative data derived from the survey are not based on measured or observed data but on estimations made by the respondents. in future studies, we plan to include physical measurements and observations, to create a stronger reliability of the data. the result of this research may be affected by some threats to validity.',\n",
       " 67: 'no',\n",
       " 66: 'in summary, managing td requires a few investments that are not well known by the practitioners and are difficult to be motivated by a precise cost/benefits ratio. consequently, without an investment on processes and tools to track td, it remains difficult to make td visible. and it is difficult to advocate for refactoring invisible td. this represents a vicious cycle: companies suffer the negative effects of td and try to contain it, but at the same time they do not find enough motivations to invest in a more systematic management process. by looking at the motivations for start tracking td, the results show that organizations do so when they experience the interest of td: slow feature development, quality issues and performance degradation. however, at such point the interest of the td is already high and, as explained in our recent papers [6], [10], it is hard to refactor, as the cost has also increased and become too expensive. in conclusion, the only way out the vicious cycle seems to be, for the practitioners, to proactively start tracking td. however, we do not have evidence yet that such improvement would bring the 25% effort down. this is a long-term study that should be set for future research to conduct',\n",
       " 96: 'in future research, another case study will be conducted in a company of different size and in a different domain to investigate whether the same challenges are present there. cross analysis between the case studies will provide new insights and help increasing the generalisability of the findings. based on the results of those case studies, it is planned to develop a framework that provides means for practitioners to identify the presence of challenges posed by requirement volatility and take necessary steps to mitigate the risks.',\n",
       " 35: 'nan',\n",
       " 24: 'nan',\n",
       " 77: 'no architectural tools and metrics were applied, even though most reported challenges and issues like service cutting were related to software architecture. this may indicate the im- portance of architectural technical debt (atd) management for microservices. future work that covers the areas of maintenance, evolution, and technical debt in the context of microservices should take these findings and industry sentiments into account. in particular, academia can support industry with methods, metrics, or tools that aid macroarchitectural assessment of microservices or provide a more system-centric view. we perceived tool support for service cutting activities and metrics to evaluate service granularity, coupling, or cohesion as concrete gaps that could save industry a lot of refactoring efforts. finally, issues in the area of human evolvability factors with microservices like the handling of hyped technologies as well as coordinating and exchanging knowledge between decentralized teams were described as important by participants.',\n",
       " 78: 'while the plug-in is useful as-is, it was developed as a first step in an ongoing project aimed at applying case-based reasoning to the issue of software product quality. the next step in this project aims to use the described plug-in as part of a research effort to define and validate the aggregation of these metrics as part of a software quality model.',\n",
       " 81: 'the next step in our exploration of td-principal is to provide individual ratings for the effort to fix each of the 1,200+ violations. these effort ratings will be further adjusted by the number of components involved in fixing the violation and the complexity of each component. this refinement will make the calculation of td-principal more granular and could provide better in- dicators of components most in need of refactoring',\n",
       " 82: 'no',\n",
       " 85: 'nan',\n",
       " 88: 'it is necessary to study other aspects of atd such as measurement, monitoring, priorization, repayment and communication and documentation. the results can be taken into consideration by practitioners when dealing with scalability debt and may be used as starting point to develop the method presented here furher or t resear novel lightweight approaches to manage technical debt related to other key business qualities',\n",
       " 90: 'to generalize our findings, we plan on replicating this study on a broader scale. looking at satd comments that can be traced to architectural divergences resulted effective in resolving them, thus, we plan to further investigate this with better architectural recovery and more advanced satd detection approaches, potentially in an automated manner.',\n",
       " 91: 'the is no a explicit future works, but the authors show that of the participants that reported different treatment, no one mentioned how potential maintainability-related problems with increased technological heterogeneity, decentralization of control, or appropriate service granularity could be addressed. while these topics do not necessarily have to negatively impact maintainability, they still hold the potential to do so, if not executed with some care. since this is a rather young topic, qualitative interviews with experts in the field of microservices would most likely be a more effective approach.',\n",
       " 97: 'the author want to do a survey in real world about risk architecture in software industry.',\n",
       " 40: 'nan'}"
      ]
     },
     "metadata": {},
     "execution_count": 38
    }
   ],
   "source": [
    "dict_future_works = my_dict_from_column(df_sms_extraction, 'Future Works')\n",
    "print(f'Size of dict_future_works {len(dict_future_works)}')\n",
    "dict_future_works"
   ]
  },
  {
   "cell_type": "code",
   "execution_count": null,
   "metadata": {},
   "outputs": [],
   "source": [
    "# Quais são os AUTORES mais citados?\n",
    "\n",
    "# Quais são os papers mais citados - segundo o google scholar\n",
    "\n",
    "# Como está a evolução de pulicações ao longo dos ANOS?\n",
    "\n",
    "# Quais são os LOCAIS que mais tem publicado sobre ATD?\n",
    "\n",
    "# Quais são os CAMPOS mais comuns dos locais de publicação?\n",
    "\n",
    "# Quais são as PALAVARAS CHAVES mais escolhidas para falar sobre os trabalhos de ATD?\n",
    "\n",
    "# Quais são as TÉCNICAS mais utilizadas nos trabalhos de ATD?\n",
    "\n",
    "# Quais são as ABORDAGENS mais utilizadas nos trabalhos de ATD?\n",
    "\n",
    "# Quais são os MÉTODOS mais utilizados nos trabalhos de ATD?\n",
    "\n",
    "# Quais são as FERRAMENTAS mais utilizadas nos trabalhos de ATD?\n",
    "\n",
    "# Quais são os TIPOS DE PESQUISAS (Kai Petersen) mais comuns nos trabalhos de ATD?\n",
    "\n",
    "# Quais são as MEDIDAS mais usadas para medir ATD?\n",
    "\n",
    "# Quais são os trabalhos que MONITORAM a ATD ao longo das versões lançadas?\n",
    "\n",
    "# Quais são as TÉCNICAS E FERRAMENTAS mais usadas para identificar, medir e monitorar ATD?\n",
    "\n",
    "# Quais são as FORMAS mais comuns de CALCULAR o CUSTO de ATD?\n",
    "\n",
    "# Quais são os TRABALHOS RELACIONADOS mais citados nos trabalhos de ATD?\n",
    "\n",
    "# Quais são os trabalhos que mais se destacam nos estudos sobre ATD?\n",
    "\n",
    "# Quais são os trabalhos analisados com maior RIGOR CIENTÍFICO E RELEVÂNCIA (Martim Ivarsson) sobre ATD?"
   ]
  },
  {
   "cell_type": "code",
   "execution_count": 1,
   "metadata": {},
   "outputs": [],
   "source": [
    "import hashlib"
   ]
  },
  {
   "cell_type": "code",
   "execution_count": 16,
   "metadata": {},
   "outputs": [
    {
     "output_type": "stream",
     "name": "stdout",
     "text": [
      "9e107d9d372bb6826bd81d3542a419d6\n9e107d9d372bb6826bd81d3542a419d6\n"
     ]
    }
   ],
   "source": [
    "s = \"The quick brown fox jumps over the lazy dog\"\n",
    "s_as_byte = str.encode(s)\n",
    "result1 = hashlib.md5(s_as_byte)\n",
    "print(result1.hexdigest())\n",
    "print(\"9e107d9d372bb6826bd81d3542a419d6\")"
   ]
  },
  {
   "cell_type": "code",
   "execution_count": 14,
   "metadata": {},
   "outputs": [
    {
     "output_type": "stream",
     "name": "stdout",
     "text": [
      "16\nb'h7\\xc8_\\xa7\\xbc\\xed\\xb9+M\\x8e\\xbe\\xd9\\x93a\\xcb'\n6837c85fa7bcedb92b4d8ebed99361cb\n"
     ]
    }
   ],
   "source": [
    "print(result1.digest_size) # 16 bytes (128 bits)\n",
    "print(result1.digest())    # bytes\n",
    "print(result1.hexdigest())"
   ]
  },
  {
   "cell_type": "code",
   "execution_count": 1,
   "metadata": {},
   "outputs": [
    {
     "output_type": "stream",
     "name": "stdout",
     "text": [
      "| weekday   |   temperature |   precipitation |\n|:----------|--------------:|----------------:|\n| monday    |            20 |             100 |\n| thursday  |            30 |             200 |\n| wednesday |            25 |             150 |\n"
     ]
    }
   ],
   "source": [
    "from pandas import DataFrame\n",
    "from tabulate import tabulate\n",
    "\n",
    "df = DataFrame({\n",
    "    \"weekday\": [\"monday\", \"thursday\", \"wednesday\"],\n",
    "    \"temperature\": [20, 30, 25],\n",
    "    \"precipitation\": [100, 200, 150],\n",
    "}).set_index(\"weekday\")\n",
    "\n",
    "print(tabulate(df, tablefmt=\"pipe\", headers=\"keys\"))"
   ]
  },
  {
   "cell_type": "code",
   "execution_count": 4,
   "metadata": {},
   "outputs": [],
   "source": [
    "mymd = tabulate(df_sms_extraction, tablefmt=\"pipe\", headers=\"keys\")\n",
    "md_text_file = open(\"extraction.md\", \"w\", encoding='utf-8')\n",
    "n = md_text_file.write(mymd)\n",
    "md_text_file.close()"
   ]
  },
  {
   "cell_type": "code",
   "execution_count": null,
   "metadata": {},
   "outputs": [],
   "source": []
  }
 ]
}