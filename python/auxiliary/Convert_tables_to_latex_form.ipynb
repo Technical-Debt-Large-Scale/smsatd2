{
 "metadata": {
  "language_info": {
   "codemirror_mode": {
    "name": "ipython",
    "version": 3
   },
   "file_extension": ".py",
   "mimetype": "text/x-python",
   "name": "python",
   "nbconvert_exporter": "python",
   "pygments_lexer": "ipython3",
   "version": "3.6.3"
  },
  "orig_nbformat": 2,
  "kernelspec": {
   "name": "python363jvsc74a57bd005ece30799c2dcdac4c13b3af20453da19de8df0d9a1de52cff7e0b6e1e82bdd",
   "display_name": "Python 3.6.3 64-bit"
  }
 },
 "nbformat": 4,
 "nbformat_minor": 2,
 "cells": [
  {
   "cell_type": "code",
   "execution_count": 1,
   "metadata": {},
   "outputs": [
    {
     "output_type": "stream",
     "name": "stdout",
     "text": [
      "Arquivo ../../latex/mytable_extract_data_eg.tex  gerado com sucesso!\nArquivo ../../md/mytable_extract_data_eg.md  gerado com sucesso!\n"
     ]
    },
    {
     "output_type": "execute_result",
     "data": {
      "text/plain": [
       "   Variable    Data collected  \\\n",
       "0   DC1      Paper id           \n",
       "1   DC2      Authors            \n",
       "2   DC3      Title              \n",
       "3   DC4      Publication Year   \n",
       "4   DC5      Abstract           \n",
       "5   DC6      Venue              \n",
       "6   DC7      Field of Venue     \n",
       "7   DC8      Key words          \n",
       "8   DC9      Paper main goal    \n",
       "9   DC10     Research Type      \n",
       "10  DC11     RQ1                \n",
       "11  DC12     RQ2                \n",
       "12  DC13     RQ3                \n",
       "13  DC14     RQ4                \n",
       "14  DC15     RQ5                \n",
       "\n",
       "                                                                                    Goal  \n",
       "0   Unique id paper                                                                       \n",
       "1   Main author and colegues                                                              \n",
       "2   Title of paper                                                                        \n",
       "3   Year of Paper Publication                                                             \n",
       "4   Paper Abstract                                                                        \n",
       "5   Venue the the paper was presented or publishide                                       \n",
       "6   Main field of paper                                                                   \n",
       "7   Paper key words                                                                       \n",
       "8   Summary of main idea of the paper                                                     \n",
       "9   Research type: Evaluation, Validation, Solution proposal, philosophical paper, other  \n",
       "10  What is the type of ATD?                                                              \n",
       "11  How to measure the ATD?                                                               \n",
       "12  How to monitor ATD in Software projects?                                              \n",
       "13  What are the techniques and tools are used to identify ATD in software projects?      \n",
       "14  How to calculate ATD?                                                                 "
      ],
      "text/html": "<div>\n<style scoped>\n    .dataframe tbody tr th:only-of-type {\n        vertical-align: middle;\n    }\n\n    .dataframe tbody tr th {\n        vertical-align: top;\n    }\n\n    .dataframe thead th {\n        text-align: right;\n    }\n</style>\n<table border=\"1\" class=\"dataframe\">\n  <thead>\n    <tr style=\"text-align: right;\">\n      <th></th>\n      <th>Variable</th>\n      <th>Data collected</th>\n      <th>Goal</th>\n    </tr>\n  </thead>\n  <tbody>\n    <tr>\n      <th>0</th>\n      <td>DC1</td>\n      <td>Paper id</td>\n      <td>Unique id paper</td>\n    </tr>\n    <tr>\n      <th>1</th>\n      <td>DC2</td>\n      <td>Authors</td>\n      <td>Main author and colegues</td>\n    </tr>\n    <tr>\n      <th>2</th>\n      <td>DC3</td>\n      <td>Title</td>\n      <td>Title of paper</td>\n    </tr>\n    <tr>\n      <th>3</th>\n      <td>DC4</td>\n      <td>Publication Year</td>\n      <td>Year of Paper Publication</td>\n    </tr>\n    <tr>\n      <th>4</th>\n      <td>DC5</td>\n      <td>Abstract</td>\n      <td>Paper Abstract</td>\n    </tr>\n    <tr>\n      <th>5</th>\n      <td>DC6</td>\n      <td>Venue</td>\n      <td>Venue the the paper was presented or publishide</td>\n    </tr>\n    <tr>\n      <th>6</th>\n      <td>DC7</td>\n      <td>Field of Venue</td>\n      <td>Main field of paper</td>\n    </tr>\n    <tr>\n      <th>7</th>\n      <td>DC8</td>\n      <td>Key words</td>\n      <td>Paper key words</td>\n    </tr>\n    <tr>\n      <th>8</th>\n      <td>DC9</td>\n      <td>Paper main goal</td>\n      <td>Summary of main idea of the paper</td>\n    </tr>\n    <tr>\n      <th>9</th>\n      <td>DC10</td>\n      <td>Research Type</td>\n      <td>Research type: Evaluation, Validation, Solution proposal, philosophical paper, other</td>\n    </tr>\n    <tr>\n      <th>10</th>\n      <td>DC11</td>\n      <td>RQ1</td>\n      <td>What is the type of ATD?</td>\n    </tr>\n    <tr>\n      <th>11</th>\n      <td>DC12</td>\n      <td>RQ2</td>\n      <td>How to measure the ATD?</td>\n    </tr>\n    <tr>\n      <th>12</th>\n      <td>DC13</td>\n      <td>RQ3</td>\n      <td>How to monitor ATD in Software projects?</td>\n    </tr>\n    <tr>\n      <th>13</th>\n      <td>DC14</td>\n      <td>RQ4</td>\n      <td>What are the techniques and tools are used to identify ATD in software projects?</td>\n    </tr>\n    <tr>\n      <th>14</th>\n      <td>DC15</td>\n      <td>RQ5</td>\n      <td>How to calculate ATD?</td>\n    </tr>\n  </tbody>\n</table>\n</div>"
     },
     "metadata": {},
     "execution_count": 1
    }
   ],
   "source": [
    "import os\n",
    "import sys\n",
    "nb_dir = os.path.split(os.getcwd())[0]\n",
    "if nb_dir not in sys.path:\n",
    "    sys.path.append(nb_dir)\n",
    "\n",
    "import pandas as pd\n",
    "import util.utilities as util\n",
    "\n",
    "# 3) Extraction form\n",
    "\n",
    "my_data_extraction_form_eg = {'Variable' : ['DC1', 'DC2', 'DC3', 'DC4', 'DC5', 'DC6', 'DC7', 'DC8', 'DC9', 'DC10', 'DC11', 'DC12', 'DC13', 'DC14', 'DC15'],\n",
    "  'Data collected' : ['Paper id' , 'Authors', 'Title', 'Publication Year', 'Abstract','Venue', 'Field of Venue', 'Key words', 'Paper main goal', 'Research Type', 'RQ1', 'RQ2', 'RQ3', 'RQ4', 'RQ5'],\n",
    "    'Goal' : ['Unique id paper' , 'Main author and colegues', 'Title of paper', 'Year of Paper Publication',\n",
    "                   'Paper Abstract', 'Venue the the paper was presented or publishide', 'Main field of paper', 'Paper key words','Summary of main idea of the paper', 'Research type: Evaluation, Validation, Solution proposal, philosophical paper, other', 'What is the type of ATD?', 'How to measure the ATD?', 'How to monitor ATD in Software projects?', 'What are the techniques and tools are used to identify ATD in software projects?', 'How to calculate ATD?']\n",
    "}\n",
    "my_data_extraction_form_eg_id = list(range(1,len(my_data_extraction_form_eg['Variable'])+1))\n",
    "\n",
    "pd.set_option('display.max_colwidth', -1)\n",
    "df_my_data_extraction_form_eg = pd.DataFrame(data=my_data_extraction_form_eg, index=my_data_extraction_form_eg_id)\n",
    "df_my_data_extraction_form_eg.reset_index(drop=True, inplace=True)\n",
    "\n",
    "util.create_latex_table(my_df=df_my_data_extraction_form_eg, my_path='../../latex', my_file_name='mytable_extract_data_eg.tex')\n",
    "util.create_markdown_table(my_df=df_my_data_extraction_form_eg, my_path='../../md', my_file_name='mytable_extract_data_eg.md')\n",
    "\n",
    "df_my_data_extraction_form_eg"
   ]
  },
  {
   "cell_type": "code",
   "execution_count": null,
   "metadata": {},
   "outputs": [],
   "source": []
  }
 ]
}